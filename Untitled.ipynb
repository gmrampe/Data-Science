{
 "cells": [
  {
   "cell_type": "markdown",
   "id": "6c3fcdb6-2a64-464f-a56f-f913b6a0b1bf",
   "metadata": {},
   "source": [
    " # Q1. Explain Class and Object with respect to Object-Oriented Programming. Give a suitable example."
   ]
  },
  {
   "cell_type": "markdown",
   "id": "1482c287-b2be-4e0c-8ac6-3969223cbaf4",
   "metadata": {},
   "source": [
    "Class is a blueprint or a template for creating objects. It defines a set of attributes and methods that are common to all objects of the same type.\n",
    "\n",
    "Object is an instance of a class, which contains its own data and behavior. Objects interact with each other through methods, and an object's behavior is defined by its class.\n",
    "\n",
    "For example, consider a class named \"Car\". A Car class can have attributes such as make, model, year, and color. It can also have methods such as start, drive, and stop, which describe the behavior of a car. Each car object created from the Car class would have its own unique values for make, model, year, and color, but it would still be able to use the methods defined in the class, such as start, drive, and stop."
   ]
  },
  {
   "cell_type": "markdown",
   "id": "fbb94c96-0598-42a1-94b2-2b82801fdc0c",
   "metadata": {},
   "source": [
    "#Q2. Name the four pillars of OOPs."
   ]
  },
  {
   "cell_type": "markdown",
   "id": "f60587e1-4796-47a1-8896-061e5e93357d",
   "metadata": {},
   "source": [
    "The four pillars of Object-Oriented Programming (OOP) are:\n",
    "\n",
    "Encapsulation: Hiding the implementation details of a class from the outside world and exposing only the necessary information through a well-defined interface.\n",
    "\n",
    "Inheritance: The ability of a new class to inherit the attributes and behavior of an existing class, allowing for code reuse and a clear hierarchy among classes.\n",
    "\n",
    "Polymorphism: The ability of objects of different classes to respond to the same method call in different ways, based on the actual class of the object.\n",
    "\n",
    "Abstraction: The process of hiding the complexity of a system and presenting the user with only the essential features, making it easier to understand and use."
   ]
  },
  {
   "cell_type": "code",
   "execution_count": 1,
   "id": "fdfd9b5b-ad09-43ca-8459-ccb60bbcf03d",
   "metadata": {},
   "outputs": [],
   "source": [
    "#Q3. Explain why the __init__() function is used. Give a suitable example."
   ]
  },
  {
   "cell_type": "code",
   "execution_count": 2,
   "id": "44d43b4a-b47f-47a0-b41f-f614810366a8",
   "metadata": {},
   "outputs": [],
   "source": [
    "#The __init__ function, also known as the constructor, is used to initialize an object when it is created. It is called automatically when an object of the class is created and is used to set the initial values of the object's attributes.\n",
    "\n",
    "#For example, consider the following class definition for a Car:\n",
    "\n",
    "\n",
    "class Car:\n",
    "    def __init__(self, make, model, year, color):\n",
    "        self.make = make\n",
    "        self.model = model\n",
    "        self.year = year\n",
    "        self.color = color\n",
    "#When a new Car object is created, the __init__ function is called with the make, model, year, and color arguments, which are then used to set the initial values of the corresponding attributes of the object.\n"
   ]
  },
  {
   "cell_type": "code",
   "execution_count": 3,
   "id": "bf5b5b58-560e-4d2a-9ba8-4304e7a84e48",
   "metadata": {},
   "outputs": [],
   "source": [
    "my_car = Car(\"Toyota\", \"Camry\", 2020, \"White\")"
   ]
  },
  {
   "cell_type": "markdown",
   "id": "d8e8fb85-4bea-4d1b-b10b-d597e40be08e",
   "metadata": {},
   "source": [
    "#In this example, the __init__ function sets the initial values of the make, model, year, and color attributes of the my_car object."
   ]
  },
  {
   "cell_type": "code",
   "execution_count": 4,
   "id": "3434ee88-f392-46ad-a95b-8261a194797e",
   "metadata": {},
   "outputs": [],
   "source": [
    "#Q4. Why self is used in OOPs?"
   ]
  },
  {
   "cell_type": "markdown",
   "id": "8453cd5a-d6e4-4a40-9584-df06797e17d1",
   "metadata": {},
   "source": [
    "In object-oriented programming (OOP), self is used as a reference to the instance of the object being operated on within a class method. It is used to access the object's attributes and other methods within the class.\n",
    "\n",
    "The self parameter is automatically passed to the method when it is called on an object, and it allows the method to access and modify the attributes of the specific object it is operating on, rather than affecting all instances of the class.\n",
    "\n",
    "For example, consider the following class definition for a Car:"
   ]
  },
  {
   "cell_type": "code",
   "execution_count": 5,
   "id": "a4a38689-c1b7-4e6a-ba84-749965af4a08",
   "metadata": {},
   "outputs": [],
   "source": [
    "class Car:\n",
    "    def __init__(self, make, model, year, color):\n",
    "        self.make = make\n",
    "        self.model = model\n",
    "        self.year = year\n",
    "        self.color = color\n",
    "    \n",
    "    def change_color(self, new_color):\n",
    "        self.color = new_color"
   ]
  },
  {
   "cell_type": "code",
   "execution_count": 6,
   "id": "15fe0fa3-ffc8-4694-ba5b-b6e7e97ef63e",
   "metadata": {},
   "outputs": [],
   "source": [
    "my_car = Car(\"Toyota\", \"Camry\", 2020, \"White\")\n",
    "my_car.change_color(\"Red\")\n"
   ]
  },
  {
   "cell_type": "markdown",
   "id": "d74adff9-6f54-4867-a6dc-0b9ba8a8fac4",
   "metadata": {},
   "source": [
    "#Q5. What is inheritance? Give an example for each type of inheritance."
   ]
  },
  {
   "cell_type": "markdown",
   "id": "33413af8-9e9c-455e-8643-7d66be933acb",
   "metadata": {},
   "source": [
    "Inheritance is a feature of Object Oriented Programming that allows a new class to inherit the properties and methods of an existing class, without having to rewrite the entire code in the new class. This makes it easier to reuse code, and reduces the amount of duplication in the code. There are several types of inheritance in Python, including:\n",
    "\n",
    "Single inheritance: A single subclass inherits from a single superclass. For example:"
   ]
  },
  {
   "cell_type": "code",
   "execution_count": 8,
   "id": "07db131e-bbf8-49bb-bc1a-58b50ac7e1df",
   "metadata": {},
   "outputs": [],
   "source": [
    "class Animal:\n",
    "  def __init__(self, species):\n",
    "    self.species = species\n",
    "  \n",
    "  def get_species(self):\n",
    "    return self.species\n",
    "\n",
    "class Dog(Animal):\n",
    "  def __init__(self, breed):\n",
    "    Animal.__init__(self, \"dog\")\n",
    "    self.breed = breed\n",
    "  \n",
    "  def get_breed(self):\n",
    "    return self.breed\n"
   ]
  },
  {
   "cell_type": "markdown",
   "id": "a04a5616-d3de-44ba-9f84-8312caab9cbe",
   "metadata": {},
   "source": [
    "#Multiple inheritance: A single subclass inherits from multiple superclasses. For example:"
   ]
  },
  {
   "cell_type": "code",
   "execution_count": 9,
   "id": "88325d8e-6f97-4444-aeb1-cfd2f9dad12e",
   "metadata": {},
   "outputs": [],
   "source": [
    "class Engine:\n",
    "  def __init__(self, power):\n",
    "    self.power = power\n",
    "  \n",
    "  def get_power(self):\n",
    "    return self.power\n",
    "\n",
    "class Wheel:\n",
    "  def __init__(self, diameter):\n",
    "    self.diameter = diameter\n",
    "  \n",
    "  def get_diameter(self):\n",
    "    return self.diameter\n",
    "\n",
    "class Car(Engine, Wheel):\n",
    "  def __init__(self, power, diameter):\n",
    "    Engine.__init__(self, power)\n",
    "    Wheel.__init__(self, diameter)\n"
   ]
  },
  {
   "cell_type": "code",
   "execution_count": 10,
   "id": "e9cd9c59-6d4b-4d64-8604-b787eb670580",
   "metadata": {},
   "outputs": [],
   "source": [
    "#Multi-level inheritance: A subclass inherits from a superclass, which in turn inherits from another superclass. For example:\n",
    "class Shape:\n",
    "  def __init__(self, sides):\n",
    "    self.sides = sides\n",
    "  \n",
    "  def get_sides(self):\n",
    "    return self.sides\n",
    "\n",
    "class Polygon(Shape):\n",
    "  def __init__(self, sides, vertices):\n",
    "    Shape.__init__(self, sides)\n",
    "    self.vertices = vertices\n",
    "  \n",
    "  def get_vertices(self):\n",
    "    return self.vertices\n",
    "\n",
    "class Triangle(Polygon):\n",
    "  def __init__(self, vertices):\n",
    "    Polygon.__init__(self, 3, vertices)\n"
   ]
  },
  {
   "cell_type": "code",
   "execution_count": 11,
   "id": "0b22e47b-e5d4-4594-b6b9-92f00b41c142",
   "metadata": {},
   "outputs": [],
   "source": [
    "#Hierarchical inheritance: A single superclass has multiple subclasses. For example:\n",
    "class Employee:\n",
    "  def __init__(self, name, salary):\n",
    "    self.name = name\n",
    "    self.salary = salary\n",
    "  \n",
    "  def get_name(self):\n",
    "    return self.name\n",
    "  \n",
    "  def get_salary(self):\n",
    "    return self.salary\n",
    "\n",
    "class Manager(Employee):\n",
    "  def __init__(self, name, salary, department):\n",
    "    Employee.__init__(self, name, salary)\n",
    "    self.department = department\n",
    "  \n",
    "  def get_department(self):\n",
    "    return self.department\n",
    "\n",
    "class Engineer(Employee):\n",
    "  def __init__(self, name, salary, skills):\n",
    "    Employee.__init__(self, name, salary)\n",
    "    self.skills = skills\n",
    "  \n",
    "  def get_skills(self):\n",
    "    return self.skills\n"
   ]
  },
  {
   "cell_type": "code",
   "execution_count": null,
   "id": "550d0af0-c89e-4a84-9492-763fde8cc5fb",
   "metadata": {},
   "outputs": [],
   "source": []
  },
  {
   "cell_type": "code",
   "execution_count": null,
   "id": "faaf7340-76cb-4aad-8dfb-26db51f4d9e2",
   "metadata": {},
   "outputs": [],
   "source": []
  },
  {
   "cell_type": "code",
   "execution_count": null,
   "id": "4817e1e3-dd9b-4846-9045-99a238a5f3a8",
   "metadata": {},
   "outputs": [],
   "source": []
  },
  {
   "cell_type": "code",
   "execution_count": null,
   "id": "61407443-6baf-4946-b363-e74666b8d438",
   "metadata": {},
   "outputs": [],
   "source": []
  }
 ],
 "metadata": {
  "kernelspec": {
   "display_name": "Python 3 (ipykernel)",
   "language": "python",
   "name": "python3"
  },
  "language_info": {
   "codemirror_mode": {
    "name": "ipython",
    "version": 3
   },
   "file_extension": ".py",
   "mimetype": "text/x-python",
   "name": "python",
   "nbconvert_exporter": "python",
   "pygments_lexer": "ipython3",
   "version": "3.10.8"
  }
 },
 "nbformat": 4,
 "nbformat_minor": 5
}
