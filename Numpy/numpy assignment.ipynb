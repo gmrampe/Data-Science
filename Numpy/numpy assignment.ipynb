{
 "cells": [
  {
   "cell_type": "raw",
   "id": "35e3a2a8-2fdd-44f4-9964-8d07a663ccf4",
   "metadata": {},
   "source": [
    "import numpy as np\n",
    "list_ = [ ‘1’ , ’2’ , ‘3’ , ‘4’ , ‘5’ ]\n",
    "array_list = np.array(object = list_)\n",
    "Q1. Is there any difference in the data type of variables list_ and array_list? If there is then write a code\n",
    "to print the data types of both the variables."
   ]
  },
  {
   "cell_type": "code",
   "execution_count": 1,
   "id": "6f2d2b3c-dd49-4b7c-af1e-bbdd0a3a2661",
   "metadata": {},
   "outputs": [
    {
     "name": "stdout",
     "output_type": "stream",
     "text": [
      "<class 'list'>\n",
      "<class 'numpy.ndarray'>\n"
     ]
    }
   ],
   "source": [
    "#Yes, there is a difference in the data type of the variables list_ and array_list.\n",
    "#list_ is a Python list, while array_list is a NumPy array.\n",
    "import numpy as np\n",
    "list_ = ['1', '2', '3', '4', '5']\n",
    "array_list = np.array(object=list_)\n",
    "print(type(list_))\n",
    "print(type(array_list))\n"
   ]
  },
  {
   "cell_type": "raw",
   "id": "70ff80e7-4ded-4ff3-b5bf-a6e96a0fccab",
   "metadata": {},
   "source": [
    "Q2. Write a code to print the data type of each and every element of both the variables list_ and\n",
    "arra_list."
   ]
  },
  {
   "cell_type": "code",
   "execution_count": 5,
   "id": "781af853-064d-4be0-83df-c54960e0d306",
   "metadata": {},
   "outputs": [
    {
     "name": "stdout",
     "output_type": "stream",
     "text": [
      "<class 'str'>\n",
      "<class 'str'>\n",
      "<class 'str'>\n",
      "<class 'str'>\n",
      "<class 'str'>\n",
      "<class 'str'>\n"
     ]
    }
   ],
   "source": [
    "#To print the data type of each element of a list, you can iterate over the list using a for loop and print the data type of each element using the type function.\n",
    "#To print the data type of each element of a NumPy array, you can use the dtype attribute of the array.\n",
    "import numpy as np\n",
    "list_ = ['1', '2', '3', '4','abc', '5']\n",
    "# print data type of each element in list_\n",
    "for element in list_:\n",
    "    print(type(element))\n",
    "\n"
   ]
  },
  {
   "cell_type": "code",
   "execution_count": 9,
   "id": "9561f9bf-65ad-44f6-9416-f859004fb9a6",
   "metadata": {},
   "outputs": [
    {
     "name": "stdout",
     "output_type": "stream",
     "text": [
      "int64\n",
      "int64\n",
      "int64\n",
      "int64\n",
      "int64\n"
     ]
    }
   ],
   "source": [
    "l=[1,2,3,4,5]\n",
    "array_list = np.array(l)\n",
    "# print data type of each element in array_list\n",
    "for element in array_list:\n",
    "    print(element.dtype)"
   ]
  },
  {
   "cell_type": "raw",
   "id": "8cff4b23-6f53-479d-aeb4-673c2a1c2d7e",
   "metadata": {},
   "source": [
    "Q4. Write a code to find the following characteristics of variable, num_array:\n",
    "(i) shape\n",
    "(ii) size"
   ]
  },
  {
   "cell_type": "code",
   "execution_count": 10,
   "id": "aa93b884-e8d5-4d38-8a4a-56d9aba8941b",
   "metadata": {},
   "outputs": [
    {
     "name": "stdout",
     "output_type": "stream",
     "text": [
      "Shape of the array: (2, 3)\n",
      "Size of the array: 6\n"
     ]
    }
   ],
   "source": [
    "import numpy as np\n",
    "# create a NumPy array\n",
    "num_array = np.array([[1, 2, 3], [4, 5, 6]])\n",
    "# find the shape of the array\n",
    "shape = num_array.shape\n",
    "print(\"Shape of the array:\", shape)\n",
    "# find the size of the array\n",
    "size = num_array.size\n",
    "print(\"Size of the array:\", size)\n"
   ]
  },
  {
   "cell_type": "code",
   "execution_count": 11,
   "id": "b44919fc-cf97-4e4a-b5d3-0b319d4e32dc",
   "metadata": {},
   "outputs": [],
   "source": [
    "# Write a code to create numpy array of 3*3 matrix containing zeros only, using a numpy array creation function."
   ]
  },
  {
   "cell_type": "code",
   "execution_count": 12,
   "id": "10613418-0eb7-4088-96b8-ba335760c138",
   "metadata": {},
   "outputs": [
    {
     "name": "stdout",
     "output_type": "stream",
     "text": [
      "[[0. 0. 0.]\n",
      " [0. 0. 0.]\n",
      " [0. 0. 0.]]\n"
     ]
    }
   ],
   "source": [
    "import numpy as np\n",
    "zeros_array = np.zeros((3, 3))\n",
    "print(zeros_array)\n"
   ]
  },
  {
   "cell_type": "code",
   "execution_count": 16,
   "id": "f298895b-d4e6-48ae-a4cd-7cf59ef5708f",
   "metadata": {},
   "outputs": [
    {
     "name": "stdout",
     "output_type": "stream",
     "text": [
      "[[1. 0. 0. 0. 0.]\n",
      " [0. 1. 0. 0. 0.]\n",
      " [0. 0. 1. 0. 0.]\n",
      " [0. 0. 0. 1. 0.]\n",
      " [0. 0. 0. 0. 1.]]\n"
     ]
    }
   ],
   "source": [
    "# Q6. Create an identity matrix of shape (5,5) using numpy functions? [Hint: An identity matrix is a matrix containing 1 diagonally and other elements will be 0.]\n",
    "import numpy as np\n",
    "identify=np.identity(5)\n",
    "print(identify)"
   ]
  },
  {
   "cell_type": "code",
   "execution_count": null,
   "id": "688626ca-5a8b-4768-9132-447a252bf964",
   "metadata": {},
   "outputs": [],
   "source": []
  }
 ],
 "metadata": {
  "kernelspec": {
   "display_name": "Python 3 (ipykernel)",
   "language": "python",
   "name": "python3"
  },
  "language_info": {
   "codemirror_mode": {
    "name": "ipython",
    "version": 3
   },
   "file_extension": ".py",
   "mimetype": "text/x-python",
   "name": "python",
   "nbconvert_exporter": "python",
   "pygments_lexer": "ipython3",
   "version": "3.10.8"
  }
 },
 "nbformat": 4,
 "nbformat_minor": 5
}
