{
 "cells": [
  {
   "cell_type": "markdown",
   "id": "62d7bd48-5617-431b-8d68-c5ee12b4ff3e",
   "metadata": {},
   "source": [
    "# Numpy"
   ]
  },
  {
   "cell_type": "raw",
   "id": "a5663a65-95b5-4eb6-a107-8fe1d8f5c0ff",
   "metadata": {},
   "source": [
    "NumPy is a Python library that stands for \"Numerical Python\". It is used for scientific computing and data analysis. NumPy provides a powerful N-dimensional array object, which allows you to perform vectorized operations on large sets of data.\n",
    "\n",
    "NumPy also provides a range of mathematical functions for manipulating arrays and performing operations such as linear algebra, Fourier transforms, and random number generation.\n",
    "\n",
    "Some key features of NumPy include:\n",
    "\n",
    "Powerful N-dimensional array object\n",
    "Broadcasting functions for efficient array operations\n",
    "Integration with other scientific computing libraries, such as SciPy and Matplotlib\n",
    "Efficient mathematical functions for array manipulation and linear algebra operations\n",
    "Fast Fourier transforms for signal processing and filtering\n",
    "Random number generation for simulations and statistical analysis.\n",
    "NumPy is widely used in the scientific community for a variety of applications, such as data analysis, machine learning, image processing, and more.\n"
   ]
  },
  {
   "cell_type": "code",
   "execution_count": 1,
   "id": "d5b77306-0262-45f2-b3f9-0c1ff73a68db",
   "metadata": {},
   "outputs": [],
   "source": [
    "import numpy as np"
   ]
  },
  {
   "cell_type": "code",
   "execution_count": 5,
   "id": "c54ae257-974b-4ba4-b52c-7f527baa7dee",
   "metadata": {},
   "outputs": [
    {
     "name": "stdout",
     "output_type": "stream",
     "text": [
      "[1, 2, 3, 4, 5]\n",
      "<class 'list'>\n"
     ]
    }
   ],
   "source": [
    "l=[1,2,3,4,5]\n",
    "print(l)\n",
    "print(type(l))"
   ]
  },
  {
   "cell_type": "code",
   "execution_count": 13,
   "id": "1feae82f-4853-48bb-a855-fae62790dae8",
   "metadata": {},
   "outputs": [
    {
     "name": "stdout",
     "output_type": "stream",
     "text": [
      "[1 2 3 4 5]\n",
      "<class 'numpy.ndarray'>\n"
     ]
    }
   ],
   "source": [
    "# convert a List into numpy array.\n",
    "arr=np.array(l)\n",
    "print(arr)\n",
    "print(type(arr))"
   ]
  },
  {
   "cell_type": "code",
   "execution_count": 14,
   "id": "ae7686f4-56ea-439a-8884-b7e1a5c38e0d",
   "metadata": {},
   "outputs": [
    {
     "name": "stdout",
     "output_type": "stream",
     "text": [
      "[1 2 3 4 5]\n",
      "<class 'numpy.ndarray'>\n",
      "1\n"
     ]
    }
   ],
   "source": [
    "arr1=np.asarray(l)\n",
    "print(arr1)\n",
    "print(type(arr1))\n",
    "print(arr1.ndim)"
   ]
  },
  {
   "cell_type": "raw",
   "id": "2589551a-0500-49dd-98cf-6e5b5aef2dad",
   "metadata": {},
   "source": [
    "## one dimensional array\n",
    "In NumPy, a one-dimensional array is represented by a NumPy ndarray object, which is a collection of elements of the same data type arranged in a contiguous block of memory.\n",
    "To create a one-dimensional array in NumPy, you can use the numpy.array() function. "
   ]
  },
  {
   "cell_type": "code",
   "execution_count": 15,
   "id": "1546d582-bae7-4289-9e3e-5498bf85830c",
   "metadata": {},
   "outputs": [
    {
     "name": "stdout",
     "output_type": "stream",
     "text": [
      "[1 2 3]\n",
      "<class 'numpy.ndarray'>\n",
      "1\n"
     ]
    }
   ],
   "source": [
    "a=np.array([1,2,3])\n",
    "print(a)\n",
    "print(type(a))\n",
    "print(a.ndim)"
   ]
  },
  {
   "cell_type": "code",
   "execution_count": 17,
   "id": "4cb04b78-0721-44e1-8b8d-86ec1cce6352",
   "metadata": {},
   "outputs": [
    {
     "name": "stdout",
     "output_type": "stream",
     "text": [
      "[[1 2 3]]\n",
      "<class 'numpy.ndarray'>\n",
      "2\n"
     ]
    }
   ],
   "source": [
    "# two- dimensional array\n",
    "#In NumPy, a two-dimensional array is represented by a NumPy ndarray object with two dimensions (rows and columns). You can think of a two-dimensional array as a matrix, where each element is identified by its row and column index.\n",
    "#To create a two-dimensional array in NumPy, you can use the numpy.array() function with a nested list. The outer list represents the rows of the array, and the inner lists represent the elements of each row.\n",
    "\n",
    "b=np.array([[1,2,3]])\n",
    "print(b)\n",
    "print(type(b))\n",
    "print(b.ndim)"
   ]
  },
  {
   "cell_type": "code",
   "execution_count": 67,
   "id": "e2a0f220-6ef2-4a1c-ac6a-2d4d23330832",
   "metadata": {},
   "outputs": [
    {
     "data": {
      "text/plain": [
       "matrix([[1, 2, 3, 4, 5]])"
      ]
     },
     "execution_count": 67,
     "metadata": {},
     "output_type": "execute_result"
    }
   ],
   "source": [
    "#in NumPy, a matrix is a two-dimensional array with specialized operations for linear algebra. NumPy provides a separate class for matrices, called numpy.matrix.\n",
    "#To create a matrix in NumPy, you can use the numpy.matrix() function with a nested list. The outer list represents the rows of the matrix, and the inner lists represent the elements of each row\n",
    "m=np.matrix(l)\n",
    "m"
   ]
  },
  {
   "cell_type": "code",
   "execution_count": 31,
   "id": "8cac2c99-f9d7-412d-8c5e-d16c8e940f9d",
   "metadata": {},
   "outputs": [
    {
     "data": {
      "text/plain": [
       "array([1, 2, 3, 4, 5])"
      ]
     },
     "execution_count": 31,
     "metadata": {},
     "output_type": "execute_result"
    }
   ],
   "source": [
    "n=np.asanyarray(l)\n",
    "n"
   ]
  },
  {
   "cell_type": "code",
   "execution_count": 30,
   "id": "fe62573f-ec53-43d6-b8d6-4421968fbc1c",
   "metadata": {},
   "outputs": [
    {
     "data": {
      "text/plain": [
       "array([1, 2, 3, 4, 5])"
      ]
     },
     "execution_count": 30,
     "metadata": {},
     "output_type": "execute_result"
    }
   ],
   "source": [
    "np.asanyarray(n)"
   ]
  },
  {
   "cell_type": "code",
   "execution_count": 32,
   "id": "62d8b3e2-d44f-4158-b5aa-6b0c42d676d0",
   "metadata": {},
   "outputs": [
    {
     "data": {
      "text/plain": [
       "array([1, 2, 3, 4, 5])"
      ]
     },
     "execution_count": 32,
     "metadata": {},
     "output_type": "execute_result"
    }
   ],
   "source": [
    "a=np.array([1,2,3,4,5])\n",
    "a"
   ]
  },
  {
   "cell_type": "code",
   "execution_count": 33,
   "id": "18452c3b-d620-4f36-a2d7-f1f7e78f2847",
   "metadata": {},
   "outputs": [
    {
     "data": {
      "text/plain": [
       "array([100,   2,   3,   4,   5])"
      ]
     },
     "execution_count": 33,
     "metadata": {},
     "output_type": "execute_result"
    }
   ],
   "source": [
    "a[0]=100\n",
    "a"
   ]
  },
  {
   "cell_type": "code",
   "execution_count": 34,
   "id": "41798b38-a5cb-44f9-accf-c25a3d643431",
   "metadata": {},
   "outputs": [],
   "source": [
    "b=np.copy(arr)"
   ]
  },
  {
   "cell_type": "code",
   "execution_count": 35,
   "id": "fb957257-635e-4d4d-b524-b2d92593d0c5",
   "metadata": {},
   "outputs": [
    {
     "data": {
      "text/plain": [
       "array([1, 2, 3, 4, 5])"
      ]
     },
     "execution_count": 35,
     "metadata": {},
     "output_type": "execute_result"
    }
   ],
   "source": [
    "b"
   ]
  },
  {
   "cell_type": "code",
   "execution_count": 36,
   "id": "8d264eb2-80e5-4d61-acf6-6a07373b4bb5",
   "metadata": {},
   "outputs": [
    {
     "data": {
      "text/plain": [
       "array([222,   2,   3,   4,   5])"
      ]
     },
     "execution_count": 36,
     "metadata": {},
     "output_type": "execute_result"
    }
   ],
   "source": [
    "b[0]=222\n",
    "b"
   ]
  },
  {
   "cell_type": "code",
   "execution_count": 37,
   "id": "dcce6a93-6c7e-4d84-9211-41c1a57361a0",
   "metadata": {},
   "outputs": [
    {
     "data": {
      "text/plain": [
       "array([1, 2, 3, 4, 5])"
      ]
     },
     "execution_count": 37,
     "metadata": {},
     "output_type": "execute_result"
    }
   ],
   "source": [
    "arr"
   ]
  },
  {
   "cell_type": "code",
   "execution_count": 38,
   "id": "78ed2c0c-a5c4-42df-b7c7-02d46b54500a",
   "metadata": {},
   "outputs": [
    {
     "data": {
      "text/plain": [
       "array([[ True, False, False],\n",
       "       [False,  True, False],\n",
       "       [False, False,  True]])"
      ]
     },
     "execution_count": 38,
     "metadata": {},
     "output_type": "execute_result"
    }
   ],
   "source": [
    "np.fromfunction(lambda i,j:i==j,(3,3))"
   ]
  },
  {
   "cell_type": "code",
   "execution_count": 39,
   "id": "bfec7bf0-cf62-440c-9120-4476c4236827",
   "metadata": {},
   "outputs": [
    {
     "data": {
      "text/plain": [
       "array([[False,  True,  True],\n",
       "       [ True, False,  True],\n",
       "       [ True,  True, False]])"
      ]
     },
     "execution_count": 39,
     "metadata": {},
     "output_type": "execute_result"
    }
   ],
   "source": [
    "np.fromfunction(lambda i,j:i!=j,(3,3))"
   ]
  },
  {
   "cell_type": "code",
   "execution_count": 40,
   "id": "0d45daba-509a-416b-9bcf-578996158b2e",
   "metadata": {},
   "outputs": [
    {
     "data": {
      "text/plain": [
       "array([[0., 0., 0.],\n",
       "       [0., 1., 2.],\n",
       "       [0., 2., 4.]])"
      ]
     },
     "execution_count": 40,
     "metadata": {},
     "output_type": "execute_result"
    }
   ],
   "source": [
    "np.fromfunction(lambda i,j:i*j,(3,3))"
   ]
  },
  {
   "cell_type": "code",
   "execution_count": 43,
   "id": "964d773f-0b2c-4fcd-8ea6-025616b340f9",
   "metadata": {},
   "outputs": [
    {
     "data": {
      "text/plain": [
       "[0, 1, 4, 9, 16]"
      ]
     },
     "execution_count": 43,
     "metadata": {},
     "output_type": "execute_result"
    }
   ],
   "source": [
    "list(i*i for i in range(5))"
   ]
  },
  {
   "cell_type": "code",
   "execution_count": 44,
   "id": "f14d926b-797c-41b1-9009-ce0ad305f267",
   "metadata": {},
   "outputs": [],
   "source": [
    "iterable=(i*i for i in range(5))\n"
   ]
  },
  {
   "cell_type": "code",
   "execution_count": 80,
   "id": "b5d77aad-4c61-4b8b-833a-bb58894ea382",
   "metadata": {},
   "outputs": [
    {
     "data": {
      "text/plain": [
       "array([], dtype=float64)"
      ]
     },
     "execution_count": 80,
     "metadata": {},
     "output_type": "execute_result"
    }
   ],
   "source": [
    "np.fromiter(iterable,float)\n",
    "#numpy.fromiter() is a function in NumPy that creates a new one-dimensional array from an iterable object. It takes two arguments: the iterable object and the data type of the resulting array."
   ]
  },
  {
   "cell_type": "code",
   "execution_count": 46,
   "id": "8d096f19-b40d-4558-9aa7-5559d9f12269",
   "metadata": {},
   "outputs": [
    {
     "data": {
      "text/plain": [
       "array([23., 45., 67.])"
      ]
     },
     "execution_count": 46,
     "metadata": {},
     "output_type": "execute_result"
    }
   ],
   "source": [
    "np.fromstring('23 45 67',sep=' ')\n",
    "#numpy.fromstring() is a function in NumPy that creates a one-dimensional array from a string. It takes two arguments: the string containing the data and the data type of the resulting array."
   ]
  },
  {
   "cell_type": "code",
   "execution_count": 65,
   "id": "b612b96c-c887-477b-ab93-4dc368547085",
   "metadata": {},
   "outputs": [],
   "source": [
    "k=np.fromstring('23,45,67',sep=',')"
   ]
  },
  {
   "cell_type": "code",
   "execution_count": 51,
   "id": "b57e15cd-e344-4769-9eb1-82b932190097",
   "metadata": {},
   "outputs": [
    {
     "data": {
      "text/plain": [
       "1"
      ]
     },
     "execution_count": 51,
     "metadata": {},
     "output_type": "execute_result"
    }
   ],
   "source": [
    "a.ndim"
   ]
  },
  {
   "cell_type": "code",
   "execution_count": 52,
   "id": "46f0d7c1-52dc-4128-a3e0-e0fb9177fc0c",
   "metadata": {},
   "outputs": [
    {
     "data": {
      "text/plain": [
       "1"
      ]
     },
     "execution_count": 52,
     "metadata": {},
     "output_type": "execute_result"
    }
   ],
   "source": [
    "b.ndim"
   ]
  },
  {
   "cell_type": "code",
   "execution_count": 53,
   "id": "61d83c42-a65c-4d07-b03a-c66d2a0c929f",
   "metadata": {},
   "outputs": [
    {
     "data": {
      "text/plain": [
       "5"
      ]
     },
     "execution_count": 53,
     "metadata": {},
     "output_type": "execute_result"
    }
   ],
   "source": [
    "arr.size"
   ]
  },
  {
   "cell_type": "code",
   "execution_count": 54,
   "id": "0f933a57-36e8-483a-8e5c-4a55bae4e99e",
   "metadata": {},
   "outputs": [
    {
     "data": {
      "text/plain": [
       "5"
      ]
     },
     "execution_count": 54,
     "metadata": {},
     "output_type": "execute_result"
    }
   ],
   "source": [
    "arr1.size"
   ]
  },
  {
   "cell_type": "code",
   "execution_count": 55,
   "id": "f6e0a643-9031-47ce-afdd-356ab132bdcd",
   "metadata": {},
   "outputs": [
    {
     "data": {
      "text/plain": [
       "(5,)"
      ]
     },
     "execution_count": 55,
     "metadata": {},
     "output_type": "execute_result"
    }
   ],
   "source": [
    "arr.shape"
   ]
  },
  {
   "cell_type": "code",
   "execution_count": 56,
   "id": "4eb56ca6-9c47-42c9-b5f3-e8ca532b0f67",
   "metadata": {},
   "outputs": [
    {
     "data": {
      "text/plain": [
       "(5,)"
      ]
     },
     "execution_count": 56,
     "metadata": {},
     "output_type": "execute_result"
    }
   ],
   "source": [
    "a.shape"
   ]
  },
  {
   "cell_type": "code",
   "execution_count": 57,
   "id": "f4dd0c0c-be24-43e2-bed5-83f8ae86cc8a",
   "metadata": {},
   "outputs": [
    {
     "data": {
      "text/plain": [
       "(5,)"
      ]
     },
     "execution_count": 57,
     "metadata": {},
     "output_type": "execute_result"
    }
   ],
   "source": [
    "b.shape"
   ]
  },
  {
   "cell_type": "code",
   "execution_count": 63,
   "id": "3e13b1fe-94f5-4368-94a6-5e1a86ba33af",
   "metadata": {},
   "outputs": [
    {
     "data": {
      "text/plain": [
       "matrix([[1, 2, 3, 4, 5]])"
      ]
     },
     "execution_count": 63,
     "metadata": {},
     "output_type": "execute_result"
    }
   ],
   "source": [
    "m"
   ]
  },
  {
   "cell_type": "code",
   "execution_count": 62,
   "id": "3e1437d0-4fa0-459a-ac31-2742aecdd096",
   "metadata": {},
   "outputs": [
    {
     "data": {
      "text/plain": [
       "(1, 5)"
      ]
     },
     "execution_count": 62,
     "metadata": {},
     "output_type": "execute_result"
    }
   ],
   "source": [
    "m.shape"
   ]
  },
  {
   "cell_type": "code",
   "execution_count": 58,
   "id": "99bcd9ad-60e0-4cab-807b-14483b88a11d",
   "metadata": {},
   "outputs": [
    {
     "data": {
      "text/plain": [
       "array([1, 2, 3, 4, 5])"
      ]
     },
     "execution_count": 58,
     "metadata": {},
     "output_type": "execute_result"
    }
   ],
   "source": [
    "arr"
   ]
  },
  {
   "cell_type": "code",
   "execution_count": 61,
   "id": "1e8d69d1-c9bc-487c-bab5-0ec6d39f058c",
   "metadata": {},
   "outputs": [
    {
     "data": {
      "text/plain": [
       "array([1, 2, 3, 4, 5])"
      ]
     },
     "execution_count": 61,
     "metadata": {},
     "output_type": "execute_result"
    }
   ],
   "source": [
    "arr1"
   ]
  },
  {
   "cell_type": "code",
   "execution_count": 64,
   "id": "0a921c5d-5387-45dd-9455-d8f846ced286",
   "metadata": {},
   "outputs": [
    {
     "data": {
      "text/plain": [
       "dtype('int64')"
      ]
     },
     "execution_count": 64,
     "metadata": {},
     "output_type": "execute_result"
    }
   ],
   "source": [
    "a.dtype"
   ]
  },
  {
   "cell_type": "code",
   "execution_count": 66,
   "id": "f8f630ff-c251-4e06-a934-6441e129688c",
   "metadata": {},
   "outputs": [
    {
     "data": {
      "text/plain": [
       "dtype('float64')"
      ]
     },
     "execution_count": 66,
     "metadata": {},
     "output_type": "execute_result"
    }
   ],
   "source": [
    "k.dtype"
   ]
  },
  {
   "cell_type": "code",
   "execution_count": 76,
   "id": "118602d7-363a-47f0-9956-ce036d681769",
   "metadata": {},
   "outputs": [
    {
     "name": "stdout",
     "output_type": "stream",
     "text": [
      "[[[1 2 3]\n",
      "  [4 5 6]\n",
      "  [7 8 9]]]\n"
     ]
    }
   ],
   "source": [
    "three=np.array([[[1,2,3],[4,5,6],[7,8,9]]])\n",
    "print(three)"
   ]
  },
  {
   "cell_type": "code",
   "execution_count": 77,
   "id": "ed9805e5-d18a-4ee6-a215-6cf75cd86986",
   "metadata": {},
   "outputs": [
    {
     "data": {
      "text/plain": [
       "3"
      ]
     },
     "execution_count": 77,
     "metadata": {},
     "output_type": "execute_result"
    }
   ],
   "source": [
    "three.ndim\n"
   ]
  },
  {
   "cell_type": "code",
   "execution_count": 78,
   "id": "7c61e8fd-4c8e-4ad0-a321-27d7b688ca1c",
   "metadata": {},
   "outputs": [
    {
     "data": {
      "text/plain": [
       "(1, 3, 3)"
      ]
     },
     "execution_count": 78,
     "metadata": {},
     "output_type": "execute_result"
    }
   ],
   "source": [
    "three.shape"
   ]
  },
  {
   "cell_type": "code",
   "execution_count": 79,
   "id": "e55da5a7-e3ff-41a7-a8e7-44a4d8f2b37e",
   "metadata": {},
   "outputs": [
    {
     "data": {
      "text/plain": [
       "9"
      ]
     },
     "execution_count": 79,
     "metadata": {},
     "output_type": "execute_result"
    }
   ],
   "source": [
    "three.size"
   ]
  },
  {
   "cell_type": "code",
   "execution_count": 70,
   "id": "260d7fc2-3879-4a72-b630-4b245dd58870",
   "metadata": {},
   "outputs": [
    {
     "name": "stdout",
     "output_type": "stream",
     "text": [
      "[[[[1 2 3]\n",
      "   [4 5 6]\n",
      "   [7 8 9]]]]\n"
     ]
    }
   ],
   "source": [
    "four=np.array([[[[1,2,3],[4,5,6],[7,8,9]]]])\n",
    "print(three)"
   ]
  },
  {
   "cell_type": "code",
   "execution_count": 71,
   "id": "8522db97-9f6d-4dfb-b369-0f42f4493c53",
   "metadata": {},
   "outputs": [
    {
     "data": {
      "text/plain": [
       "4"
      ]
     },
     "execution_count": 71,
     "metadata": {},
     "output_type": "execute_result"
    }
   ],
   "source": [
    "four.ndim"
   ]
  },
  {
   "cell_type": "code",
   "execution_count": 72,
   "id": "0d56baac-2d1b-41eb-b05d-008073f6bb3f",
   "metadata": {},
   "outputs": [
    {
     "data": {
      "text/plain": [
       "9"
      ]
     },
     "execution_count": 72,
     "metadata": {},
     "output_type": "execute_result"
    }
   ],
   "source": [
    "four.size"
   ]
  },
  {
   "cell_type": "code",
   "execution_count": 73,
   "id": "bad51394-16ee-4590-b852-d03868f6c7d1",
   "metadata": {},
   "outputs": [
    {
     "data": {
      "text/plain": [
       "(1, 1, 3, 3)"
      ]
     },
     "execution_count": 73,
     "metadata": {},
     "output_type": "execute_result"
    }
   ],
   "source": [
    "four.shape"
   ]
  },
  {
   "cell_type": "code",
   "execution_count": 75,
   "id": "2af69e14-fd7a-425a-a132-017f43031a84",
   "metadata": {},
   "outputs": [
    {
     "data": {
      "text/plain": [
       "dtype('int64')"
      ]
     },
     "execution_count": 75,
     "metadata": {},
     "output_type": "execute_result"
    }
   ],
   "source": [
    "four.dtype"
   ]
  },
  {
   "cell_type": "code",
   "execution_count": null,
   "id": "66f6331d-bac7-4487-9ade-bf0883e03198",
   "metadata": {},
   "outputs": [],
   "source": []
  },
  {
   "cell_type": "raw",
   "id": "80c5b58a-057c-4783-9d6e-cdc873816747",
   "metadata": {},
   "source": [
    "ndim, dtype, size, shape are all attributes of NumPy arrays.\n",
    "\n",
    "ndim: Returns the number of dimensions of the array.\n",
    "dtype: Returns the data type of the elements in the array.\n",
    "size: Returns the total number of elements in the array.\n",
    "shape: Returns a tuple that specifies the size of each dimension of the array."
   ]
  },
  {
   "cell_type": "code",
   "execution_count": 81,
   "id": "cd3f41f4-0de1-43f2-ae87-e32367d75ac0",
   "metadata": {},
   "outputs": [
    {
     "name": "stdout",
     "output_type": "stream",
     "text": [
      "Number of dimensions: 2\n",
      "Data type: int64\n",
      "Total number of elements: 6\n",
      "Shape: (2, 3)\n"
     ]
    }
   ],
   "source": [
    "import numpy as np\n",
    "\n",
    "# create a NumPy array\n",
    "a = np.array([[1, 2, 3], [4, 5, 6]])\n",
    "\n",
    "# get the number of dimensions\n",
    "print(\"Number of dimensions:\", a.ndim)\n",
    "\n",
    "# get the data type\n",
    "print(\"Data type:\", a.dtype)\n",
    "\n",
    "# get the total number of elements\n",
    "print(\"Total number of elements:\", a.size)\n",
    "\n",
    "# get the shape\n",
    "print(\"Shape:\", a.shape)\n"
   ]
  },
  {
   "cell_type": "raw",
   "id": "64016e12-dd3a-43df-bd74-92958889eb27",
   "metadata": {},
   "source": [
    "In this example, we created a two-dimensional array a and used the ndim, dtype, size, and shape attributes to get information about the array. The ndim attribute returns 2, indicating that the array has two dimensions. The dtype attribute returns int64, indicating that the elements in the array are 64-bit integers. The size attribute returns 6, indicating that there are a total of six elements in the array. Finally, the shape attribute returns (2, 3), indicating that the array has two rows and three columns."
   ]
  }
 ],
 "metadata": {
  "kernelspec": {
   "display_name": "Python 3 (ipykernel)",
   "language": "python",
   "name": "python3"
  },
  "language_info": {
   "codemirror_mode": {
    "name": "ipython",
    "version": 3
   },
   "file_extension": ".py",
   "mimetype": "text/x-python",
   "name": "python",
   "nbconvert_exporter": "python",
   "pygments_lexer": "ipython3",
   "version": "3.10.8"
  }
 },
 "nbformat": 4,
 "nbformat_minor": 5
}
