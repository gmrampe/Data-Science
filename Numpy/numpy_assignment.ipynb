{
 "cells": [
  {
   "cell_type": "markdown",
   "id": "314accbb-daa7-4a7c-8929-628cfdef1e1b",
   "metadata": {},
   "source": [
    "import numpy as np\n",
    "list_ = [ ‘1’ , ’2’ , ‘3’ , ‘4’ , ‘5’ ]\n",
    "array_list = np.array(object = list_)\n",
    "Q1. Is there any difference in the data type of variables list_ and array_list? If there is then write a code\n",
    "to print the data types of both the variables."
   ]
  },
  {
   "cell_type": "code",
   "execution_count": 20,
   "id": "6f2d2b3c-dd49-4b7c-af1e-bbdd0a3a2661",
   "metadata": {},
   "outputs": [
    {
     "name": "stdout",
     "output_type": "stream",
     "text": [
      "<class 'list'>\n",
      "<class 'numpy.ndarray'>\n"
     ]
    }
   ],
   "source": [
    "#Yes, there is a difference in the data type of the variables list_ and array_list.\n",
    "#list_ is a Python list, while array_list is a NumPy array.\n",
    "import numpy as np\n",
    "list_ = ['1', '2', '3', '4', '5']\n",
    "array_list = np.array(object=list_)\n",
    "print(type(list_))\n",
    "print(type(array_list))\n"
   ]
  },
  {
   "cell_type": "markdown",
   "id": "1ddebeb8-1d8b-40bc-992b-0071c8685318",
   "metadata": {},
   "source": [
    "Q2. Write a code to print the data type of each and every element of both the variables list_ and\n",
    "arra_list."
   ]
  },
  {
   "cell_type": "code",
   "execution_count": 21,
   "id": "781af853-064d-4be0-83df-c54960e0d306",
   "metadata": {},
   "outputs": [
    {
     "name": "stdout",
     "output_type": "stream",
     "text": [
      "<class 'str'>\n",
      "<class 'str'>\n",
      "<class 'str'>\n",
      "<class 'str'>\n",
      "<class 'str'>\n",
      "<class 'str'>\n"
     ]
    }
   ],
   "source": [
    "#To print the data type of each element of a list, you can iterate over the list using a for loop and print the data type of each element using the type function.\n",
    "#To print the data type of each element of a NumPy array, you can use the dtype attribute of the array.\n",
    "import numpy as np\n",
    "list_ = ['1', '2', '3', '4','abc', '5']\n",
    "# print data type of each element in list_\n",
    "for element in list_:\n",
    "    print(type(element))\n",
    "\n"
   ]
  },
  {
   "cell_type": "code",
   "execution_count": 22,
   "id": "9561f9bf-65ad-44f6-9416-f859004fb9a6",
   "metadata": {},
   "outputs": [
    {
     "name": "stdout",
     "output_type": "stream",
     "text": [
      "int64\n",
      "int64\n",
      "int64\n",
      "int64\n",
      "int64\n"
     ]
    }
   ],
   "source": [
    "l=[1,2,3,4,5]\n",
    "array_list = np.array(l)\n",
    "# print data type of each element in array_list\n",
    "for element in array_list:\n",
    "    print(element.dtype)"
   ]
  },
  {
   "cell_type": "markdown",
   "id": "d0563424-3516-4e9b-a733-e38b661edbd0",
   "metadata": {},
   "source": [
    "Q4. Write a code to find the following characteristics of variable, num_array:\n",
    "(i) shape\n",
    "(ii) size"
   ]
  },
  {
   "cell_type": "code",
   "execution_count": 23,
   "id": "aa93b884-e8d5-4d38-8a4a-56d9aba8941b",
   "metadata": {},
   "outputs": [
    {
     "name": "stdout",
     "output_type": "stream",
     "text": [
      "Shape of the array: (2, 3)\n",
      "Size of the array: 6\n"
     ]
    }
   ],
   "source": [
    "import numpy as np\n",
    "# create a NumPy array\n",
    "num_array = np.array([[1, 2, 3], [4, 5, 6]])\n",
    "# find the shape of the array\n",
    "shape = num_array.shape\n",
    "print(\"Shape of the array:\", shape)\n",
    "# find the size of the array\n",
    "size = num_array.size\n",
    "print(\"Size of the array:\", size)\n"
   ]
  },
  {
   "cell_type": "markdown",
   "id": "01e8c40f-a933-4239-b035-e2eb0b28dfd8",
   "metadata": {},
   "source": [
    "Write a code to create numpy array of 3*3 matrix containing zeros only, using a numpy array creation function."
   ]
  },
  {
   "cell_type": "code",
   "execution_count": 12,
   "id": "10613418-0eb7-4088-96b8-ba335760c138",
   "metadata": {},
   "outputs": [
    {
     "name": "stdout",
     "output_type": "stream",
     "text": [
      "[[0. 0. 0.]\n",
      " [0. 0. 0.]\n",
      " [0. 0. 0.]]\n"
     ]
    }
   ],
   "source": [
    "import numpy as np\n",
    "zeros_array = np.zeros((3, 3))\n",
    "print(zeros_array)\n"
   ]
  },
  {
   "cell_type": "code",
   "execution_count": 16,
   "id": "f298895b-d4e6-48ae-a4cd-7cf59ef5708f",
   "metadata": {},
   "outputs": [
    {
     "name": "stdout",
     "output_type": "stream",
     "text": [
      "[[1. 0. 0. 0. 0.]\n",
      " [0. 1. 0. 0. 0.]\n",
      " [0. 0. 1. 0. 0.]\n",
      " [0. 0. 0. 1. 0.]\n",
      " [0. 0. 0. 0. 1.]]\n"
     ]
    }
   ],
   "source": [
    "# Q6. Create an identity matrix of shape (5,5) using numpy functions? [Hint: An identity matrix is a matrix containing 1 diagonally and other elements will be 0.]\n",
    "import numpy as np\n",
    "identify=np.identity(5)\n",
    "print(identify)"
   ]
  },
  {
   "cell_type": "markdown",
   "id": "67a4a800-033d-4a49-9bf9-9d403a230ed1",
   "metadata": {},
   "source": [
    "Considering the following changes in the variable, array_list:\n",
    "array_list = np.array(object = list_, dtype = int)\n",
    "Will there be any difference in the data type of the elements present in both the variables, list_ and\n",
    "arra_list? If so then print the data types of each and every element present in both the variables, list_\n",
    "and arra_list."
   ]
  },
  {
   "cell_type": "markdown",
   "id": "327d16a6-b71e-410c-8a56-9ca910760946",
   "metadata": {},
   "source": [
    "Based on the given code array_list = np.array(object = list_, dtype = int), if list_ contains elements that can be converted to integers, then there will not be any difference in the data type of the elements present in both the variables, list_ and array_list.\n",
    "To print the data types of each and every element present in both the variables, list_ and array_list, we can use the type() function in Python."
   ]
  },
  {
   "cell_type": "code",
   "execution_count": 25,
   "id": "dca08a0e-c485-4abf-bef3-d8017850c318",
   "metadata": {},
   "outputs": [
    {
     "name": "stdout",
     "output_type": "stream",
     "text": [
      "<class 'int'>\n",
      "<class 'float'>\n",
      "<class 'str'>\n",
      "<class 'bool'>\n",
      "<class 'numpy.int64'>\n",
      "<class 'numpy.int64'>\n",
      "<class 'numpy.int64'>\n",
      "<class 'numpy.int64'>\n"
     ]
    }
   ],
   "source": [
    "import numpy as np\n",
    "# create a list with elements of different data types\n",
    "list_ = [1, 2.0, '3', True]\n",
    "# create a numpy array from the list with data type as integer\n",
    "array_list = np.array(object=list_, dtype=int)\n",
    "# print data types of each element in list_\n",
    "for element in list_:\n",
    "    print(type(element))\n",
    "# print data types of each element in array_list\n",
    "for element in array_list:\n",
    "    print(type(element))\n"
   ]
  },
  {
   "cell_type": "code",
   "execution_count": null,
   "id": "524167c5-e54a-4e68-830d-80f607261a28",
   "metadata": {},
   "outputs": [],
   "source": []
  },
  {
   "cell_type": "code",
   "execution_count": null,
   "id": "6e22476b-0292-4fe9-93e4-a82016815db8",
   "metadata": {},
   "outputs": [],
   "source": []
  }
 ],
 "metadata": {
  "kernelspec": {
   "display_name": "Python 3 (ipykernel)",
   "language": "python",
   "name": "python3"
  },
  "language_info": {
   "codemirror_mode": {
    "name": "ipython",
    "version": 3
   },
   "file_extension": ".py",
   "mimetype": "text/x-python",
   "name": "python",
   "nbconvert_exporter": "python",
   "pygments_lexer": "ipython3",
   "version": "3.10.8"
  }
 },
 "nbformat": 4,
 "nbformat_minor": 5
}
