{
 "cells": [
  {
   "cell_type": "code",
   "execution_count": 4,
   "id": "fc00517a-e20c-4972-8e58-2cf703b7850a",
   "metadata": {},
   "outputs": [],
   "source": [
    "import numpy as np"
   ]
  },
  {
   "cell_type": "markdown",
   "id": "bd8024eb-47a5-4894-b9ae-339e79e21349",
   "metadata": {},
   "source": [
    "# Numpy - Array Manipulation"
   ]
  },
  {
   "cell_type": "code",
   "execution_count": 5,
   "id": "eab4d4ca-9bb6-43d8-9f08-00d5652cf941",
   "metadata": {},
   "outputs": [],
   "source": [
    "arr=np.random.randint(1,11,(4,4))"
   ]
  },
  {
   "cell_type": "code",
   "execution_count": 6,
   "id": "c7539eb5-deec-42d1-aa82-b0302d742185",
   "metadata": {},
   "outputs": [
    {
     "data": {
      "text/plain": [
       "array([[3, 6, 6, 4],\n",
       "       [2, 8, 3, 8],\n",
       "       [2, 8, 8, 8],\n",
       "       [8, 5, 1, 4]])"
      ]
     },
     "execution_count": 6,
     "metadata": {},
     "output_type": "execute_result"
    }
   ],
   "source": [
    "arr"
   ]
  },
  {
   "cell_type": "code",
   "execution_count": 7,
   "id": "f8bd2d5a-e19e-49a5-8a6d-c8e5066feddb",
   "metadata": {},
   "outputs": [
    {
     "data": {
      "text/plain": [
       "array([[3, 6],\n",
       "       [6, 4],\n",
       "       [2, 8],\n",
       "       [3, 8],\n",
       "       [2, 8],\n",
       "       [8, 8],\n",
       "       [8, 5],\n",
       "       [1, 4]])"
      ]
     },
     "execution_count": 7,
     "metadata": {},
     "output_type": "execute_result"
    }
   ],
   "source": [
    "arr.reshape(8,2)"
   ]
  },
  {
   "cell_type": "code",
   "execution_count": 8,
   "id": "924776f9-0bb1-4c94-a0cc-5a52954ccbf8",
   "metadata": {},
   "outputs": [
    {
     "data": {
      "text/plain": [
       "array([[3, 2, 2, 8],\n",
       "       [6, 8, 8, 5],\n",
       "       [6, 3, 8, 1],\n",
       "       [4, 8, 8, 4]])"
      ]
     },
     "execution_count": 8,
     "metadata": {},
     "output_type": "execute_result"
    }
   ],
   "source": [
    "arr.T"
   ]
  },
  {
   "cell_type": "code",
   "execution_count": 9,
   "id": "5d50071c-1f3e-406e-a1de-18ad02ab43ce",
   "metadata": {},
   "outputs": [
    {
     "data": {
      "text/plain": [
       "array([3, 6, 6, 4, 2, 8, 3, 8, 2, 8, 8, 8, 8, 5, 1, 4])"
      ]
     },
     "execution_count": 9,
     "metadata": {},
     "output_type": "execute_result"
    }
   ],
   "source": [
    "arr.flatten()\n",
    "#flatten is used to convert a multidimensional array into a 1D array by flattening it in row-major (C-style) order. The flattened array is a copy of the original array, so modifying the flattened array does not affect the original array"
   ]
  },
  {
   "cell_type": "code",
   "execution_count": 10,
   "id": "fabff777-4653-463f-bd4e-d6b71b5c50c7",
   "metadata": {},
   "outputs": [
    {
     "data": {
      "text/plain": [
       "array([[[3, 6, 6, 4]],\n",
       "\n",
       "       [[2, 8, 3, 8]],\n",
       "\n",
       "       [[2, 8, 8, 8]],\n",
       "\n",
       "       [[8, 5, 1, 4]]])"
      ]
     },
     "execution_count": 10,
     "metadata": {},
     "output_type": "execute_result"
    }
   ],
   "source": [
    "np.expand_dims(arr,axis=1)\n",
    "#expand_dims is used to add a new axis to an array at a specified position. The new axis has size 1, and the other dimensions of the array are preserved"
   ]
  },
  {
   "cell_type": "code",
   "execution_count": 11,
   "id": "ec2dfbd2-2929-4ef3-b16d-1710715b3a15",
   "metadata": {},
   "outputs": [
    {
     "data": {
      "text/plain": [
       "array([[[3, 6, 6, 4],\n",
       "        [2, 8, 3, 8],\n",
       "        [2, 8, 8, 8],\n",
       "        [8, 5, 1, 4]]])"
      ]
     },
     "execution_count": 11,
     "metadata": {},
     "output_type": "execute_result"
    }
   ],
   "source": [
    "np.expand_dims(arr,axis=0)"
   ]
  },
  {
   "cell_type": "code",
   "execution_count": 12,
   "id": "3490e0a4-0d41-4e91-bcb5-bad55fe5f0a3",
   "metadata": {},
   "outputs": [],
   "source": [
    "data=np.array([[1],[2],[3]])"
   ]
  },
  {
   "cell_type": "code",
   "execution_count": 13,
   "id": "50c07f0f-b90e-4abb-8310-37b3cdfbade5",
   "metadata": {},
   "outputs": [
    {
     "data": {
      "text/plain": [
       "array([[1],\n",
       "       [2],\n",
       "       [3]])"
      ]
     },
     "execution_count": 13,
     "metadata": {},
     "output_type": "execute_result"
    }
   ],
   "source": [
    "data"
   ]
  },
  {
   "cell_type": "code",
   "execution_count": 14,
   "id": "b9a36d01-71ae-4507-89b8-1fa63e224e96",
   "metadata": {},
   "outputs": [
    {
     "data": {
      "text/plain": [
       "array([1, 2, 3])"
      ]
     },
     "execution_count": 14,
     "metadata": {},
     "output_type": "execute_result"
    }
   ],
   "source": [
    "np.squeeze(data)\n",
    "#squeeze is used to remove single-dimensional entries from the shape of an array. This is useful when working with arrays that have extra dimensions that aren't necessary, such as when working with image data"
   ]
  },
  {
   "cell_type": "code",
   "execution_count": 15,
   "id": "07b324e8-44e8-4fd9-a05b-61dc4518466f",
   "metadata": {},
   "outputs": [
    {
     "data": {
      "text/plain": [
       "array([1, 1, 1, 2, 2, 2, 3, 3, 3])"
      ]
     },
     "execution_count": 15,
     "metadata": {},
     "output_type": "execute_result"
    }
   ],
   "source": [
    "np.repeat(data,3)\n",
    "#repeat is used to repeat elements of an array along a specified axis"
   ]
  },
  {
   "cell_type": "code",
   "execution_count": 16,
   "id": "cfc79bc0-1593-4be9-b0b6-9501b4328b5d",
   "metadata": {},
   "outputs": [
    {
     "data": {
      "text/plain": [
       "array([[1],\n",
       "       [2],\n",
       "       [3]])"
      ]
     },
     "execution_count": 16,
     "metadata": {},
     "output_type": "execute_result"
    }
   ],
   "source": [
    "np.roll(data,3)\n",
    "#roll is used to shift the elements of an array along a specified axis"
   ]
  },
  {
   "cell_type": "code",
   "execution_count": 17,
   "id": "0642673d-b922-4e5d-887a-8f1aea3131cb",
   "metadata": {},
   "outputs": [
    {
     "data": {
      "text/plain": [
       "array([[2],\n",
       "       [3],\n",
       "       [1]])"
      ]
     },
     "execution_count": 17,
     "metadata": {},
     "output_type": "execute_result"
    }
   ],
   "source": [
    "np.roll(data,2)"
   ]
  },
  {
   "cell_type": "code",
   "execution_count": 18,
   "id": "022908e5-4205-4661-8477-e0f98057669c",
   "metadata": {},
   "outputs": [
    {
     "data": {
      "text/plain": [
       "array([[3],\n",
       "       [1],\n",
       "       [2]])"
      ]
     },
     "execution_count": 18,
     "metadata": {},
     "output_type": "execute_result"
    }
   ],
   "source": [
    "np.roll(data,1)"
   ]
  },
  {
   "cell_type": "code",
   "execution_count": 19,
   "id": "1e9c9170-2c1e-4397-9cca-f9cf6b16b90d",
   "metadata": {},
   "outputs": [
    {
     "data": {
      "text/plain": [
       "array([[1, 0, 0, 0],\n",
       "       [0, 2, 0, 0],\n",
       "       [0, 0, 3, 0],\n",
       "       [0, 0, 0, 4]])"
      ]
     },
     "execution_count": 19,
     "metadata": {},
     "output_type": "execute_result"
    }
   ],
   "source": [
    "np.diag(np.array([1,2,3,4]))"
   ]
  },
  {
   "cell_type": "markdown",
   "id": "43fc24e7-ff13-40d6-992b-d473ec974996",
   "metadata": {},
   "source": [
    "# Numpy -Binary Operators"
   ]
  },
  {
   "cell_type": "code",
   "execution_count": 20,
   "id": "2e250767-5342-47cd-b694-0dde1c3f6a29",
   "metadata": {},
   "outputs": [],
   "source": [
    "arr1=np.random.randint(1,10,(3,4))\n",
    "arr2=np.random.randint(1,10,(3,4))"
   ]
  },
  {
   "cell_type": "code",
   "execution_count": 21,
   "id": "167b96a9-4f15-4e14-9794-23fa8392241d",
   "metadata": {},
   "outputs": [
    {
     "data": {
      "text/plain": [
       "array([[9, 7, 5, 7],\n",
       "       [6, 5, 7, 4],\n",
       "       [8, 9, 6, 9]])"
      ]
     },
     "execution_count": 21,
     "metadata": {},
     "output_type": "execute_result"
    }
   ],
   "source": [
    "arr1"
   ]
  },
  {
   "cell_type": "code",
   "execution_count": 22,
   "id": "429bf07b-3ecd-456f-b6d6-cb48fd98286d",
   "metadata": {},
   "outputs": [
    {
     "data": {
      "text/plain": [
       "array([[8, 1, 9, 2],\n",
       "       [7, 1, 9, 2],\n",
       "       [9, 9, 5, 8]])"
      ]
     },
     "execution_count": 22,
     "metadata": {},
     "output_type": "execute_result"
    }
   ],
   "source": [
    "arr2"
   ]
  },
  {
   "cell_type": "code",
   "execution_count": 23,
   "id": "dd586578-e0ea-45d6-9883-2895cf0f87cf",
   "metadata": {},
   "outputs": [
    {
     "data": {
      "text/plain": [
       "array([[17,  8, 14,  9],\n",
       "       [13,  6, 16,  6],\n",
       "       [17, 18, 11, 17]])"
      ]
     },
     "execution_count": 23,
     "metadata": {},
     "output_type": "execute_result"
    }
   ],
   "source": [
    "arr1+arr2"
   ]
  },
  {
   "cell_type": "code",
   "execution_count": 24,
   "id": "e34aa597-9c36-48de-90dd-49030fbb5f0c",
   "metadata": {},
   "outputs": [
    {
     "data": {
      "text/plain": [
       "array([[72,  7, 45, 14],\n",
       "       [42,  5, 63,  8],\n",
       "       [72, 81, 30, 72]])"
      ]
     },
     "execution_count": 24,
     "metadata": {},
     "output_type": "execute_result"
    }
   ],
   "source": [
    "arr1*arr2"
   ]
  },
  {
   "cell_type": "code",
   "execution_count": 25,
   "id": "d1e8cee2-d842-45d9-aa36-eb1a1c7d7071",
   "metadata": {},
   "outputs": [
    {
     "data": {
      "text/plain": [
       "array([[ 43046721,         7,   1953125,        49],\n",
       "       [   279936,         5,  40353607,        16],\n",
       "       [134217728, 387420489,      7776,  43046721]])"
      ]
     },
     "execution_count": 25,
     "metadata": {},
     "output_type": "execute_result"
    }
   ],
   "source": [
    "arr1**arr2"
   ]
  },
  {
   "cell_type": "code",
   "execution_count": 26,
   "id": "4818f66e-141e-48ac-b151-4c221b3080ce",
   "metadata": {},
   "outputs": [
    {
     "data": {
      "text/plain": [
       "array([[1.125     , 7.        , 0.55555556, 3.5       ],\n",
       "       [0.85714286, 5.        , 0.77777778, 2.        ],\n",
       "       [0.88888889, 1.        , 1.2       , 1.125     ]])"
      ]
     },
     "execution_count": 26,
     "metadata": {},
     "output_type": "execute_result"
    }
   ],
   "source": [
    "arr1/arr2"
   ]
  },
  {
   "cell_type": "code",
   "execution_count": 27,
   "id": "1dc1dc30-6876-4542-811e-048220a5f9c9",
   "metadata": {},
   "outputs": [
    {
     "data": {
      "text/plain": [
       "array([[-10,  -8,  -6,  -8],\n",
       "       [ -7,  -6,  -8,  -5],\n",
       "       [ -9, -10,  -7, -10]])"
      ]
     },
     "execution_count": 27,
     "metadata": {},
     "output_type": "execute_result"
    }
   ],
   "source": [
    "~arr1"
   ]
  },
  {
   "cell_type": "code",
   "execution_count": 28,
   "id": "9e0dbb53-2fbd-4c4e-a487-de70e1d473ae",
   "metadata": {},
   "outputs": [
    {
     "data": {
      "text/plain": [
       "array([[ True,  True, False,  True],\n",
       "       [False,  True, False,  True],\n",
       "       [False, False,  True,  True]])"
      ]
     },
     "execution_count": 28,
     "metadata": {},
     "output_type": "execute_result"
    }
   ],
   "source": [
    "arr1>arr2"
   ]
  },
  {
   "cell_type": "code",
   "execution_count": 29,
   "id": "4e9a3b96-89ac-4a5a-adc0-b24b2868cc14",
   "metadata": {},
   "outputs": [
    {
     "data": {
      "text/plain": [
       "array([[False, False,  True, False],\n",
       "       [ True, False,  True, False],\n",
       "       [ True, False, False, False]])"
      ]
     },
     "execution_count": 29,
     "metadata": {},
     "output_type": "execute_result"
    }
   ],
   "source": [
    "arr1<arr2"
   ]
  },
  {
   "cell_type": "markdown",
   "id": "25de21af-82cb-4b8e-b5fd-964b28dc9194",
   "metadata": {},
   "source": [
    "#  Numpy- String Functions"
   ]
  },
  {
   "cell_type": "code",
   "execution_count": 30,
   "id": "adb993b7-af66-4b73-9caf-38a23196cc48",
   "metadata": {},
   "outputs": [],
   "source": [
    "ar=np.array(['abc','def'])"
   ]
  },
  {
   "cell_type": "code",
   "execution_count": 31,
   "id": "835371ea-99d2-4857-8c03-ec6e9d8be328",
   "metadata": {},
   "outputs": [
    {
     "data": {
      "text/plain": [
       "array(['abc', 'def'], dtype='<U3')"
      ]
     },
     "execution_count": 31,
     "metadata": {},
     "output_type": "execute_result"
    }
   ],
   "source": [
    "ar"
   ]
  },
  {
   "cell_type": "code",
   "execution_count": 32,
   "id": "c3def1e1-945f-4a74-a062-c20ffff62c35",
   "metadata": {},
   "outputs": [
    {
     "data": {
      "text/plain": [
       "array(['ABC', 'DEF'], dtype='<U3')"
      ]
     },
     "execution_count": 32,
     "metadata": {},
     "output_type": "execute_result"
    }
   ],
   "source": [
    "np.char.upper(ar)"
   ]
  },
  {
   "cell_type": "code",
   "execution_count": 33,
   "id": "4234b7c5-6ccd-4f67-9f7f-96ded852c89b",
   "metadata": {},
   "outputs": [
    {
     "data": {
      "text/plain": [
       "array(['abc', 'def'], dtype='<U3')"
      ]
     },
     "execution_count": 33,
     "metadata": {},
     "output_type": "execute_result"
    }
   ],
   "source": [
    "np.char.lower(ar)"
   ]
  },
  {
   "cell_type": "code",
   "execution_count": 34,
   "id": "31077917-552a-4690-96ab-56c2e8d5d5ee",
   "metadata": {},
   "outputs": [
    {
     "data": {
      "text/plain": [
       "array(['Abc', 'Def'], dtype='<U3')"
      ]
     },
     "execution_count": 34,
     "metadata": {},
     "output_type": "execute_result"
    }
   ],
   "source": [
    "np.char.title(ar)"
   ]
  },
  {
   "cell_type": "markdown",
   "id": "0f57a617-51d1-4cf9-a936-183831c28dbf",
   "metadata": {},
   "source": [
    "# Numpy -Mathematical Function"
   ]
  },
  {
   "cell_type": "code",
   "execution_count": 35,
   "id": "2d7b69f7-422b-4c39-b2d8-b0730d0cf036",
   "metadata": {},
   "outputs": [
    {
     "data": {
      "text/plain": [
       "array([[9, 7, 5, 7],\n",
       "       [6, 5, 7, 4],\n",
       "       [8, 9, 6, 9]])"
      ]
     },
     "execution_count": 35,
     "metadata": {},
     "output_type": "execute_result"
    }
   ],
   "source": [
    "arr1"
   ]
  },
  {
   "cell_type": "code",
   "execution_count": 36,
   "id": "ed61d715-7e40-4a1b-a6bf-2c855df392b8",
   "metadata": {},
   "outputs": [
    {
     "data": {
      "text/plain": [
       "array([[ 0.41211849,  0.6569866 , -0.95892427,  0.6569866 ],\n",
       "       [-0.2794155 , -0.95892427,  0.6569866 , -0.7568025 ],\n",
       "       [ 0.98935825,  0.41211849, -0.2794155 ,  0.41211849]])"
      ]
     },
     "execution_count": 36,
     "metadata": {},
     "output_type": "execute_result"
    }
   ],
   "source": [
    "np.sin(arr1)"
   ]
  },
  {
   "cell_type": "code",
   "execution_count": 37,
   "id": "a22cd637-f760-4ca1-9ff1-2dd9eeb29cdb",
   "metadata": {},
   "outputs": [
    {
     "data": {
      "text/plain": [
       "array([[-0.91113026,  0.75390225,  0.28366219,  0.75390225],\n",
       "       [ 0.96017029,  0.28366219,  0.75390225, -0.65364362],\n",
       "       [-0.14550003, -0.91113026,  0.96017029, -0.91113026]])"
      ]
     },
     "execution_count": 37,
     "metadata": {},
     "output_type": "execute_result"
    }
   ],
   "source": [
    "np.cos(arr1)"
   ]
  },
  {
   "cell_type": "code",
   "execution_count": 38,
   "id": "52cec568-dd77-4ca7-ad63-a066e1a3d381",
   "metadata": {},
   "outputs": [
    {
     "data": {
      "text/plain": [
       "array([[-0.45231566,  0.87144798, -3.38051501,  0.87144798],\n",
       "       [-0.29100619, -3.38051501,  0.87144798,  1.15782128],\n",
       "       [-6.79971146, -0.45231566, -0.29100619, -0.45231566]])"
      ]
     },
     "execution_count": 38,
     "metadata": {},
     "output_type": "execute_result"
    }
   ],
   "source": [
    "np.tan(arr1)"
   ]
  },
  {
   "cell_type": "code",
   "execution_count": 39,
   "id": "da9041df-28f4-41ad-94e6-4bd61a0e937e",
   "metadata": {},
   "outputs": [
    {
     "data": {
      "text/plain": [
       "array([[-0.45231566,  0.87144798, -3.38051501,  0.87144798],\n",
       "       [-0.29100619, -3.38051501,  0.87144798,  1.15782128],\n",
       "       [-6.79971146, -0.45231566, -0.29100619, -0.45231566]])"
      ]
     },
     "execution_count": 39,
     "metadata": {},
     "output_type": "execute_result"
    }
   ],
   "source": [
    "np.tan(arr1)"
   ]
  },
  {
   "cell_type": "code",
   "execution_count": 40,
   "id": "a2ea2601-1d6c-49c2-9543-d3ddc0ae486f",
   "metadata": {},
   "outputs": [
    {
     "data": {
      "text/plain": [
       "array([[3.169925  , 2.80735492, 2.32192809, 2.80735492],\n",
       "       [2.5849625 , 2.32192809, 2.80735492, 2.        ],\n",
       "       [3.        , 3.169925  , 2.5849625 , 3.169925  ]])"
      ]
     },
     "execution_count": 40,
     "metadata": {},
     "output_type": "execute_result"
    }
   ],
   "source": [
    "np.log2(arr1)"
   ]
  },
  {
   "cell_type": "code",
   "execution_count": 41,
   "id": "8c1022fd-1736-4f3e-9a84-2794c2a1f14f",
   "metadata": {},
   "outputs": [
    {
     "data": {
      "text/plain": [
       "array([[0.95424251, 0.84509804, 0.69897   , 0.84509804],\n",
       "       [0.77815125, 0.69897   , 0.84509804, 0.60205999],\n",
       "       [0.90308999, 0.95424251, 0.77815125, 0.95424251]])"
      ]
     },
     "execution_count": 41,
     "metadata": {},
     "output_type": "execute_result"
    }
   ],
   "source": [
    "np.log10(arr1)"
   ]
  },
  {
   "cell_type": "code",
   "execution_count": 42,
   "id": "f47e49f0-5426-49ad-bcaa-267a43945da9",
   "metadata": {},
   "outputs": [
    {
     "data": {
      "text/plain": [
       "array([[81, 49, 25, 49],\n",
       "       [36, 25, 49, 16],\n",
       "       [64, 81, 36, 81]])"
      ]
     },
     "execution_count": 42,
     "metadata": {},
     "output_type": "execute_result"
    }
   ],
   "source": [
    "np.power(arr1,2)"
   ]
  },
  {
   "cell_type": "code",
   "execution_count": 43,
   "id": "f06bde46-b1b2-49ef-99e8-79eb6a0b04fd",
   "metadata": {},
   "outputs": [
    {
     "data": {
      "text/plain": [
       "6.833333333333333"
      ]
     },
     "execution_count": 43,
     "metadata": {},
     "output_type": "execute_result"
    }
   ],
   "source": [
    "np.mean(arr1)"
   ]
  },
  {
   "cell_type": "code",
   "execution_count": 44,
   "id": "7dfc34cb-5454-491f-870a-90aaf35f6487",
   "metadata": {},
   "outputs": [
    {
     "data": {
      "text/plain": [
       "7.0"
      ]
     },
     "execution_count": 44,
     "metadata": {},
     "output_type": "execute_result"
    }
   ],
   "source": [
    "np.median(arr1)"
   ]
  },
  {
   "cell_type": "code",
   "execution_count": 45,
   "id": "e47cc32c-50f0-427b-bf39-b2ac7675787f",
   "metadata": {},
   "outputs": [
    {
     "data": {
      "text/plain": [
       "1.6244657241348273"
      ]
     },
     "execution_count": 45,
     "metadata": {},
     "output_type": "execute_result"
    }
   ],
   "source": [
    "np.std(arr1)"
   ]
  },
  {
   "cell_type": "code",
   "execution_count": 46,
   "id": "a7ccdba1-523a-4e8a-a253-deaa0231dcb4",
   "metadata": {},
   "outputs": [
    {
     "data": {
      "text/plain": [
       "2.638888888888889"
      ]
     },
     "execution_count": 46,
     "metadata": {},
     "output_type": "execute_result"
    }
   ],
   "source": [
    "np.var(arr1)"
   ]
  },
  {
   "cell_type": "code",
   "execution_count": 47,
   "id": "b5fd0e43-2d54-461e-af36-3c107f664f58",
   "metadata": {},
   "outputs": [
    {
     "data": {
      "text/plain": [
       "4"
      ]
     },
     "execution_count": 47,
     "metadata": {},
     "output_type": "execute_result"
    }
   ],
   "source": [
    "np.min(arr1)"
   ]
  },
  {
   "cell_type": "code",
   "execution_count": 48,
   "id": "a32b4b20-9832-4863-b738-7091a78c3dce",
   "metadata": {},
   "outputs": [
    {
     "data": {
      "text/plain": [
       "9"
      ]
     },
     "execution_count": 48,
     "metadata": {},
     "output_type": "execute_result"
    }
   ],
   "source": [
    "np.max(arr1)"
   ]
  },
  {
   "cell_type": "markdown",
   "id": "bf9eb6f3-9f5a-41a5-96d3-ca8510bc2f90",
   "metadata": {},
   "source": [
    "# Numpy - Arithematic operation"
   ]
  },
  {
   "cell_type": "code",
   "execution_count": 49,
   "id": "df0887be-b7f1-4a7c-8793-e1fff186ff25",
   "metadata": {},
   "outputs": [
    {
     "data": {
      "text/plain": [
       "array([[9, 7, 5, 7],\n",
       "       [6, 5, 7, 4],\n",
       "       [8, 9, 6, 9]])"
      ]
     },
     "execution_count": 49,
     "metadata": {},
     "output_type": "execute_result"
    }
   ],
   "source": [
    "arr1"
   ]
  },
  {
   "cell_type": "code",
   "execution_count": 50,
   "id": "82c0d9ad-a966-4c52-843e-5ae7c9b5d93a",
   "metadata": {},
   "outputs": [
    {
     "data": {
      "text/plain": [
       "array([[8, 1, 9, 2],\n",
       "       [7, 1, 9, 2],\n",
       "       [9, 9, 5, 8]])"
      ]
     },
     "execution_count": 50,
     "metadata": {},
     "output_type": "execute_result"
    }
   ],
   "source": [
    "arr2"
   ]
  },
  {
   "cell_type": "code",
   "execution_count": 51,
   "id": "33703cb9-2560-42fa-ac94-700ce4795786",
   "metadata": {},
   "outputs": [
    {
     "data": {
      "text/plain": [
       "array([[ 1,  6, -4,  5],\n",
       "       [-1,  4, -2,  2],\n",
       "       [-1,  0,  1,  1]])"
      ]
     },
     "execution_count": 51,
     "metadata": {},
     "output_type": "execute_result"
    }
   ],
   "source": [
    "arr1-arr2"
   ]
  },
  {
   "cell_type": "code",
   "execution_count": 52,
   "id": "dc09404f-1ca4-4f69-8952-e6a0ab092da0",
   "metadata": {},
   "outputs": [
    {
     "data": {
      "text/plain": [
       "array([[ 1,  6, -4,  5],\n",
       "       [-1,  4, -2,  2],\n",
       "       [-1,  0,  1,  1]])"
      ]
     },
     "execution_count": 52,
     "metadata": {},
     "output_type": "execute_result"
    }
   ],
   "source": [
    "np.subtract(arr1,arr2)"
   ]
  },
  {
   "cell_type": "code",
   "execution_count": 53,
   "id": "ab519172-920b-4020-9830-d6ec36fc8654",
   "metadata": {},
   "outputs": [
    {
     "data": {
      "text/plain": [
       "array([[72,  7, 45, 14],\n",
       "       [42,  5, 63,  8],\n",
       "       [72, 81, 30, 72]])"
      ]
     },
     "execution_count": 53,
     "metadata": {},
     "output_type": "execute_result"
    }
   ],
   "source": [
    "np.multiply(arr1,arr2)"
   ]
  },
  {
   "cell_type": "code",
   "execution_count": 54,
   "id": "6ee7849b-bdce-49f9-ab63-b68f89c61de1",
   "metadata": {},
   "outputs": [
    {
     "data": {
      "text/plain": [
       "array([[1, 0, 5, 1],\n",
       "       [6, 0, 7, 0],\n",
       "       [8, 0, 1, 1]])"
      ]
     },
     "execution_count": 54,
     "metadata": {},
     "output_type": "execute_result"
    }
   ],
   "source": [
    "np.mod(arr1,arr2)"
   ]
  },
  {
   "cell_type": "code",
   "execution_count": 55,
   "id": "42c3def6-3224-4211-b93c-a657c529cfee",
   "metadata": {},
   "outputs": [
    {
     "data": {
      "text/plain": [
       "array([[ 43046721,         7,   1953125,        49],\n",
       "       [   279936,         5,  40353607,        16],\n",
       "       [134217728, 387420489,      7776,  43046721]])"
      ]
     },
     "execution_count": 55,
     "metadata": {},
     "output_type": "execute_result"
    }
   ],
   "source": [
    "np.power(arr1,arr2)"
   ]
  },
  {
   "cell_type": "code",
   "execution_count": 56,
   "id": "f11439ec-74b5-448c-94a7-1b6b530bfa85",
   "metadata": {},
   "outputs": [
    {
     "data": {
      "text/plain": [
       "array([[3.        , 2.64575131, 2.23606798, 2.64575131],\n",
       "       [2.44948974, 2.23606798, 2.64575131, 2.        ],\n",
       "       [2.82842712, 3.        , 2.44948974, 3.        ]])"
      ]
     },
     "execution_count": 56,
     "metadata": {},
     "output_type": "execute_result"
    }
   ],
   "source": [
    "np.sqrt(arr1)"
   ]
  },
  {
   "cell_type": "markdown",
   "id": "9a3dd0f8-9bb4-450e-b0a2-091c15a5d387",
   "metadata": {},
   "source": [
    "# Numpy Statistical Function"
   ]
  },
  {
   "cell_type": "code",
   "execution_count": 57,
   "id": "dfbcaabd-da09-4682-aa46-d16fb0b21208",
   "metadata": {},
   "outputs": [
    {
     "data": {
      "text/plain": [
       "array([[9, 7, 5, 7],\n",
       "       [6, 5, 7, 4],\n",
       "       [8, 9, 6, 9]])"
      ]
     },
     "execution_count": 57,
     "metadata": {},
     "output_type": "execute_result"
    }
   ],
   "source": [
    "arr1"
   ]
  },
  {
   "cell_type": "code",
   "execution_count": 58,
   "id": "baf3bc47-425f-41f4-a68a-6b913e96c09b",
   "metadata": {},
   "outputs": [
    {
     "data": {
      "text/plain": [
       "6.833333333333333"
      ]
     },
     "execution_count": 58,
     "metadata": {},
     "output_type": "execute_result"
    }
   ],
   "source": [
    "np.mean(arr1)"
   ]
  },
  {
   "cell_type": "code",
   "execution_count": 59,
   "id": "409bb0ad-d509-43ba-bdd7-55a5b66816e2",
   "metadata": {},
   "outputs": [
    {
     "data": {
      "text/plain": [
       "7.0"
      ]
     },
     "execution_count": 59,
     "metadata": {},
     "output_type": "execute_result"
    }
   ],
   "source": [
    "np.median(arr1)"
   ]
  },
  {
   "cell_type": "markdown",
   "id": "10737396-e46d-40a6-acf5-6069cd7562bb",
   "metadata": {},
   "source": [
    "# sort , Search & Counting Functions"
   ]
  },
  {
   "cell_type": "code",
   "execution_count": 60,
   "id": "4f04146b-f92d-48f0-833f-30a44295accf",
   "metadata": {},
   "outputs": [],
   "source": [
    "import pandas as pd"
   ]
  },
  {
   "cell_type": "code",
   "execution_count": 61,
   "id": "678e8a8a-8e7a-48da-8329-2fc9d83bb624",
   "metadata": {},
   "outputs": [],
   "source": [
    "arr=np.array([8,2,46,10,3,22,7,11,1,3,1,1,99])"
   ]
  },
  {
   "cell_type": "code",
   "execution_count": 62,
   "id": "76ac22b8-d95e-4bbb-8567-0c04b4de08ee",
   "metadata": {},
   "outputs": [
    {
     "data": {
      "text/plain": [
       "array([ 1,  1,  1,  2,  3,  3,  7,  8, 10, 11, 22, 46, 99])"
      ]
     },
     "execution_count": 62,
     "metadata": {},
     "output_type": "execute_result"
    }
   ],
   "source": [
    "np.sort(arr)"
   ]
  },
  {
   "cell_type": "code",
   "execution_count": 63,
   "id": "d8acd771-a4ec-4f58-b4c5-8d57730c8045",
   "metadata": {},
   "outputs": [
    {
     "data": {
      "text/plain": [
       "2"
      ]
     },
     "execution_count": 63,
     "metadata": {},
     "output_type": "execute_result"
    }
   ],
   "source": [
    "np.searchsorted(arr,6)"
   ]
  },
  {
   "cell_type": "code",
   "execution_count": 64,
   "id": "b67bfdea-e161-43f9-bee8-be2726e1ba8a",
   "metadata": {},
   "outputs": [
    {
     "data": {
      "text/plain": [
       "2"
      ]
     },
     "execution_count": 64,
     "metadata": {},
     "output_type": "execute_result"
    }
   ],
   "source": [
    "np.searchsorted(arr,3)"
   ]
  },
  {
   "cell_type": "code",
   "execution_count": 65,
   "id": "53b8ffab-333e-43d9-9894-eeb8d68870ea",
   "metadata": {},
   "outputs": [
    {
     "data": {
      "text/plain": [
       "array([  1,  29,  53,  61,   8,   9,  19,   0, 234,  56,  71,   0,   4])"
      ]
     },
     "execution_count": 65,
     "metadata": {},
     "output_type": "execute_result"
    }
   ],
   "source": [
    "arr1=np.array([1,29,53,61,8,9,19,0,234,56,71,0,4])\n",
    "arr1"
   ]
  },
  {
   "cell_type": "code",
   "execution_count": 66,
   "id": "e8f1fad0-e570-4583-8f7f-ea7fb8f467d9",
   "metadata": {},
   "outputs": [
    {
     "data": {
      "text/plain": [
       "11"
      ]
     },
     "execution_count": 66,
     "metadata": {},
     "output_type": "execute_result"
    }
   ],
   "source": [
    "np.count_nonzero(arr1)"
   ]
  },
  {
   "cell_type": "code",
   "execution_count": 142,
   "id": "8813c857-7073-460f-982c-7063046a3816",
   "metadata": {},
   "outputs": [
    {
     "data": {
      "text/plain": [
       "array([ 1, 53, 61,  8,  9, 19,  0, 56,  4])"
      ]
     },
     "execution_count": 142,
     "metadata": {},
     "output_type": "execute_result"
    }
   ],
   "source": [
    "np.extract(arr >2,arr1)"
   ]
  },
  {
   "cell_type": "markdown",
   "id": "f1ccbbdc-26d4-41a5-a157-e8d50bfaa3a8",
   "metadata": {},
   "source": [
    "# Byte Swapping"
   ]
  },
  {
   "cell_type": "code",
   "execution_count": 143,
   "id": "f4796ab3-1eda-4b0c-a30a-e2548650ad30",
   "metadata": {},
   "outputs": [
    {
     "data": {
      "text/plain": [
       "array([  1,  29,  53,  61,   8,   9,  19,   0, 234,  56,  71,   0,   4])"
      ]
     },
     "execution_count": 143,
     "metadata": {},
     "output_type": "execute_result"
    }
   ],
   "source": [
    "arr1"
   ]
  },
  {
   "cell_type": "code",
   "execution_count": 144,
   "id": "32e83acb-f52c-438d-944a-15b76adc8e3d",
   "metadata": {},
   "outputs": [
    {
     "data": {
      "text/plain": [
       "array([   72057594037927936,  2089670227099910144,  3819052484010180608,\n",
       "        4395513236313604096,   576460752303423488,   648518346341351424,\n",
       "        1369094286720630784,                    0, -1585267068834414592,\n",
       "        4035225266123964416,  5116089176692883456,                    0,\n",
       "         288230376151711744])"
      ]
     },
     "execution_count": 144,
     "metadata": {},
     "output_type": "execute_result"
    }
   ],
   "source": [
    "arr1.byteswap()"
   ]
  },
  {
   "cell_type": "code",
   "execution_count": 145,
   "id": "e8ab43d3-2602-44b2-88ba-9bca74385e86",
   "metadata": {},
   "outputs": [
    {
     "data": {
      "text/plain": [
       "array([  1,  29,  53,  61,   8,   9,  19,   0, 234,  56,  71,   0,   4])"
      ]
     },
     "execution_count": 145,
     "metadata": {},
     "output_type": "execute_result"
    }
   ],
   "source": [
    "arr1"
   ]
  },
  {
   "cell_type": "code",
   "execution_count": 147,
   "id": "fe8b491f-8ca3-4ef5-aa26-53bf5f717b0e",
   "metadata": {},
   "outputs": [
    {
     "data": {
      "text/plain": [
       "array([   72057594037927936,  2089670227099910144,  3819052484010180608,\n",
       "        4395513236313604096,   576460752303423488,   648518346341351424,\n",
       "        1369094286720630784,                    0, -1585267068834414592,\n",
       "        4035225266123964416,  5116089176692883456,                    0,\n",
       "         288230376151711744])"
      ]
     },
     "execution_count": 147,
     "metadata": {},
     "output_type": "execute_result"
    }
   ],
   "source": [
    "arr1.byteswap(True)"
   ]
  },
  {
   "cell_type": "code",
   "execution_count": 148,
   "id": "bbbd87a8-391f-4978-8ff0-a4f9b620368e",
   "metadata": {},
   "outputs": [
    {
     "data": {
      "text/plain": [
       "array([   72057594037927936,  2089670227099910144,  3819052484010180608,\n",
       "        4395513236313604096,   576460752303423488,   648518346341351424,\n",
       "        1369094286720630784,                    0, -1585267068834414592,\n",
       "        4035225266123964416,  5116089176692883456,                    0,\n",
       "         288230376151711744])"
      ]
     },
     "execution_count": 148,
     "metadata": {},
     "output_type": "execute_result"
    }
   ],
   "source": [
    "arr1"
   ]
  },
  {
   "cell_type": "markdown",
   "id": "8dc816ce-28a5-4827-af14-051716109ead",
   "metadata": {},
   "source": [
    "# Copies & Views"
   ]
  },
  {
   "cell_type": "code",
   "execution_count": 150,
   "id": "f9ae8c90-c388-4e04-9c5f-7cc5a08f8b2d",
   "metadata": {},
   "outputs": [
    {
     "data": {
      "text/plain": [
       "array([   72057594037927936,  2089670227099910144,  3819052484010180608,\n",
       "        4395513236313604096,   576460752303423488,   648518346341351424,\n",
       "        1369094286720630784,                    0, -1585267068834414592,\n",
       "        4035225266123964416,  5116089176692883456,                    0,\n",
       "         288230376151711744])"
      ]
     },
     "execution_count": 150,
     "metadata": {},
     "output_type": "execute_result"
    }
   ],
   "source": [
    "arr1"
   ]
  },
  {
   "cell_type": "code",
   "execution_count": 151,
   "id": "a5bb1583-2de2-4224-bfaf-434be76419c0",
   "metadata": {},
   "outputs": [],
   "source": [
    "a=np.copy(arr1)"
   ]
  },
  {
   "cell_type": "code",
   "execution_count": 152,
   "id": "e38c850f-6499-4357-b8dd-176e7d8e9690",
   "metadata": {},
   "outputs": [
    {
     "data": {
      "text/plain": [
       "array([   72057594037927936,  2089670227099910144,  3819052484010180608,\n",
       "        4395513236313604096,   576460752303423488,   648518346341351424,\n",
       "        1369094286720630784,                    0, -1585267068834414592,\n",
       "        4035225266123964416,  5116089176692883456,                    0,\n",
       "         288230376151711744])"
      ]
     },
     "execution_count": 152,
     "metadata": {},
     "output_type": "execute_result"
    }
   ],
   "source": [
    "a"
   ]
  },
  {
   "cell_type": "code",
   "execution_count": 155,
   "id": "85fd2540-398a-4137-8713-2ef93e30b4c0",
   "metadata": {},
   "outputs": [],
   "source": [
    "b=arr1.view()"
   ]
  },
  {
   "cell_type": "code",
   "execution_count": 156,
   "id": "6bf9b124-9c09-42d3-9dbb-b5684ff27abb",
   "metadata": {},
   "outputs": [
    {
     "data": {
      "text/plain": [
       "array([   72057594037927936,  2089670227099910144,  3819052484010180608,\n",
       "        4395513236313604096,   576460752303423488,   648518346341351424,\n",
       "        1369094286720630784,                    0, -1585267068834414592,\n",
       "        4035225266123964416,  5116089176692883456,                    0,\n",
       "         288230376151711744])"
      ]
     },
     "execution_count": 156,
     "metadata": {},
     "output_type": "execute_result"
    }
   ],
   "source": [
    "b"
   ]
  },
  {
   "cell_type": "code",
   "execution_count": 157,
   "id": "bf458cc2-7fe0-492f-8624-ac33f983c722",
   "metadata": {},
   "outputs": [],
   "source": [
    "b[0]=234"
   ]
  },
  {
   "cell_type": "code",
   "execution_count": 158,
   "id": "b2c50e46-1e9f-485a-ac11-7dcfbe655f89",
   "metadata": {},
   "outputs": [
    {
     "data": {
      "text/plain": [
       "array([                 234,  2089670227099910144,  3819052484010180608,\n",
       "        4395513236313604096,   576460752303423488,   648518346341351424,\n",
       "        1369094286720630784,                    0, -1585267068834414592,\n",
       "        4035225266123964416,  5116089176692883456,                    0,\n",
       "         288230376151711744])"
      ]
     },
     "execution_count": 158,
     "metadata": {},
     "output_type": "execute_result"
    }
   ],
   "source": [
    "arr1"
   ]
  },
  {
   "cell_type": "markdown",
   "id": "458f6aef-b195-4c0a-85be-9e580df1e291",
   "metadata": {},
   "source": [
    "# Matrix Library"
   ]
  },
  {
   "cell_type": "code",
   "execution_count": 159,
   "id": "d84ef16c-7318-4b31-b64c-0b24263e3ce3",
   "metadata": {},
   "outputs": [],
   "source": [
    "import numpy.matlib as num"
   ]
  },
  {
   "cell_type": "code",
   "execution_count": 160,
   "id": "3f5db473-913b-41f4-adda-f86e4fef0a3d",
   "metadata": {},
   "outputs": [
    {
     "data": {
      "text/plain": [
       "matrix([[0., 0., 0., 0., 0.]])"
      ]
     },
     "execution_count": 160,
     "metadata": {},
     "output_type": "execute_result"
    }
   ],
   "source": [
    "num.zeros(5)"
   ]
  },
  {
   "cell_type": "code",
   "execution_count": 161,
   "id": "813f824d-3bb1-4530-b3d7-cd850165335b",
   "metadata": {},
   "outputs": [
    {
     "data": {
      "text/plain": [
       "matrix([[1., 1., 1., 1.],\n",
       "        [1., 1., 1., 1.],\n",
       "        [1., 1., 1., 1.]])"
      ]
     },
     "execution_count": 161,
     "metadata": {},
     "output_type": "execute_result"
    }
   ],
   "source": [
    "num.ones((3,4))"
   ]
  },
  {
   "cell_type": "code",
   "execution_count": 162,
   "id": "df2875af-412c-47f6-ba39-a78a2b39695f",
   "metadata": {},
   "outputs": [
    {
     "data": {
      "text/plain": [
       "matrix([[1., 0., 0., 0.],\n",
       "        [0., 1., 0., 0.],\n",
       "        [0., 0., 1., 0.],\n",
       "        [0., 0., 0., 1.]])"
      ]
     },
     "execution_count": 162,
     "metadata": {},
     "output_type": "execute_result"
    }
   ],
   "source": [
    "num.eye(4)"
   ]
  },
  {
   "cell_type": "markdown",
   "id": "42f0e10f-c71c-475e-b669-5756feb02432",
   "metadata": {},
   "source": [
    "# Linear Algebra"
   ]
  },
  {
   "cell_type": "code",
   "execution_count": 166,
   "id": "d7706472-7b14-4a5d-ba90-8e7735ef7e30",
   "metadata": {},
   "outputs": [],
   "source": [
    "arr1=np.random.randint([[2,3],[4,5]])\n",
    "arr2=np.random.randint([[5,3],[2,5]])"
   ]
  },
  {
   "cell_type": "code",
   "execution_count": 167,
   "id": "46e20bee-c891-40d8-af9b-d7c2fe570959",
   "metadata": {},
   "outputs": [
    {
     "data": {
      "text/plain": [
       "array([[1, 2],\n",
       "       [2, 4]])"
      ]
     },
     "execution_count": 167,
     "metadata": {},
     "output_type": "execute_result"
    }
   ],
   "source": [
    "arr1"
   ]
  },
  {
   "cell_type": "code",
   "execution_count": 168,
   "id": "5c46af6c-ddc4-4a2c-a1cf-d1ee50a3d6da",
   "metadata": {},
   "outputs": [
    {
     "data": {
      "text/plain": [
       "array([[3, 0],\n",
       "       [1, 0]])"
      ]
     },
     "execution_count": 168,
     "metadata": {},
     "output_type": "execute_result"
    }
   ],
   "source": [
    "arr2"
   ]
  },
  {
   "cell_type": "code",
   "execution_count": 169,
   "id": "21cefb80-a2b7-495f-ba98-51232b2073fa",
   "metadata": {},
   "outputs": [
    {
     "data": {
      "text/plain": [
       "array([[ 5,  0],\n",
       "       [10,  0]])"
      ]
     },
     "execution_count": 169,
     "metadata": {},
     "output_type": "execute_result"
    }
   ],
   "source": [
    "np.dot(arr1,arr2)"
   ]
  },
  {
   "cell_type": "code",
   "execution_count": 170,
   "id": "eb5666a4-6604-473c-b636-978dbe0fc4c9",
   "metadata": {},
   "outputs": [
    {
     "data": {
      "text/plain": [
       "array([[ 5,  0],\n",
       "       [10,  0]])"
      ]
     },
     "execution_count": 170,
     "metadata": {},
     "output_type": "execute_result"
    }
   ],
   "source": [
    "arr1@arr2"
   ]
  },
  {
   "cell_type": "code",
   "execution_count": null,
   "id": "5fb5b1f1-842f-4cd7-bbac-d5d0dcdfe29f",
   "metadata": {},
   "outputs": [],
   "source": []
  }
 ],
 "metadata": {
  "kernelspec": {
   "display_name": "Python 3 (ipykernel)",
   "language": "python",
   "name": "python3"
  },
  "language_info": {
   "codemirror_mode": {
    "name": "ipython",
    "version": 3
   },
   "file_extension": ".py",
   "mimetype": "text/x-python",
   "name": "python",
   "nbconvert_exporter": "python",
   "pygments_lexer": "ipython3",
   "version": "3.10.8"
  }
 },
 "nbformat": 4,
 "nbformat_minor": 5
}
