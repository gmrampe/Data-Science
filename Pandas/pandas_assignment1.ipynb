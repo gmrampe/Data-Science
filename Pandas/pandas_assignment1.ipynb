{
 "cells": [
  {
   "cell_type": "markdown",
   "id": "b302611c-864d-4fa7-982f-ada9dd09e6c2",
   "metadata": {},
   "source": [
    "# Pandas_Series & DataFrames"
   ]
  },
  {
   "cell_type": "markdown",
   "id": "1859d0dd-2cbd-4779-b607-b4697cffe5b6",
   "metadata": {},
   "source": [
    "Create a Pandas Series that contains the following data: 4, 8, 15, 16, 23, and 42. Then, print the series."
   ]
  },
  {
   "cell_type": "code",
   "execution_count": 1,
   "id": "30bbe7f3-14a9-4470-948c-71a9467a4aba",
   "metadata": {},
   "outputs": [
    {
     "data": {
      "text/plain": [
       "0     4\n",
       "1     8\n",
       "2    15\n",
       "3    16\n",
       "4    23\n",
       "5    42\n",
       "dtype: int64"
      ]
     },
     "execution_count": 1,
     "metadata": {},
     "output_type": "execute_result"
    }
   ],
   "source": [
    "import pandas as pd\n",
    "df=pd.Series([4,8,15,16,23,42])\n",
    "df"
   ]
  },
  {
   "cell_type": "code",
   "execution_count": 3,
   "id": "7112a9f6-7839-4e5c-abe6-6ffe53fc9015",
   "metadata": {},
   "outputs": [
    {
     "data": {
      "text/plain": [
       "pandas.core.series.Series"
      ]
     },
     "execution_count": 3,
     "metadata": {},
     "output_type": "execute_result"
    }
   ],
   "source": [
    "type(df)"
   ]
  },
  {
   "cell_type": "markdown",
   "id": "783ea4c8-d416-4ad4-8268-7d8a2d30cb18",
   "metadata": {},
   "source": [
    "Create a variable of list type containing 10 elements in it, and apply pandas.Series function on the\n",
    "variable print it."
   ]
  },
  {
   "cell_type": "code",
   "execution_count": 4,
   "id": "2576c118-67fe-4a41-b9c4-e51eea0cf782",
   "metadata": {},
   "outputs": [],
   "source": [
    "List=[1,2,3,4,5,6,7,8,9,10]\n",
    "list_series=pd.Series([List])\n"
   ]
  },
  {
   "cell_type": "code",
   "execution_count": 5,
   "id": "58144086-6de1-4059-b3df-e2f723549e91",
   "metadata": {},
   "outputs": [
    {
     "data": {
      "text/plain": [
       "0    [1, 2, 3, 4, 5, 6, 7, 8, 9, 10]\n",
       "dtype: object"
      ]
     },
     "execution_count": 5,
     "metadata": {},
     "output_type": "execute_result"
    }
   ],
   "source": [
    "list_series"
   ]
  },
  {
   "cell_type": "code",
   "execution_count": 6,
   "id": "0e407117-6c43-4268-a44e-0f9276ab8fc5",
   "metadata": {},
   "outputs": [
    {
     "name": "stdout",
     "output_type": "stream",
     "text": [
      "<class 'pandas.core.series.Series'>\n"
     ]
    }
   ],
   "source": [
    "print(type(list_series))"
   ]
  },
  {
   "cell_type": "code",
   "execution_count": 8,
   "id": "c37176ae-0cb9-44bf-8030-8e676c57163c",
   "metadata": {},
   "outputs": [],
   "source": [
    "# create a data frame example\n",
    "import pandas as pd\n",
    "data = {\n",
    "    'Name': ['Alice','Bob', 'clarie'],\n",
    "    'Age': [25, 30, 27],\n",
    "    'Gender': ['male','female','male']\n",
    "}"
   ]
  },
  {
   "cell_type": "code",
   "execution_count": 10,
   "id": "1d5a16ba-76c5-4779-998f-6a3c9620b7ae",
   "metadata": {},
   "outputs": [
    {
     "data": {
      "text/html": [
       "<div>\n",
       "<style scoped>\n",
       "    .dataframe tbody tr th:only-of-type {\n",
       "        vertical-align: middle;\n",
       "    }\n",
       "\n",
       "    .dataframe tbody tr th {\n",
       "        vertical-align: top;\n",
       "    }\n",
       "\n",
       "    .dataframe thead th {\n",
       "        text-align: right;\n",
       "    }\n",
       "</style>\n",
       "<table border=\"1\" class=\"dataframe\">\n",
       "  <thead>\n",
       "    <tr style=\"text-align: right;\">\n",
       "      <th></th>\n",
       "      <th>Name</th>\n",
       "      <th>Age</th>\n",
       "      <th>Gender</th>\n",
       "    </tr>\n",
       "  </thead>\n",
       "  <tbody>\n",
       "    <tr>\n",
       "      <th>0</th>\n",
       "      <td>Alice</td>\n",
       "      <td>25</td>\n",
       "      <td>male</td>\n",
       "    </tr>\n",
       "    <tr>\n",
       "      <th>1</th>\n",
       "      <td>Bob</td>\n",
       "      <td>30</td>\n",
       "      <td>female</td>\n",
       "    </tr>\n",
       "    <tr>\n",
       "      <th>2</th>\n",
       "      <td>clarie</td>\n",
       "      <td>27</td>\n",
       "      <td>male</td>\n",
       "    </tr>\n",
       "  </tbody>\n",
       "</table>\n",
       "</div>"
      ],
      "text/plain": [
       "     Name  Age  Gender\n",
       "0   Alice   25    male\n",
       "1     Bob   30  female\n",
       "2  clarie   27    male"
      ]
     },
     "execution_count": 10,
     "metadata": {},
     "output_type": "execute_result"
    }
   ],
   "source": [
    "df=pd.DataFrame(data)\n",
    "df"
   ]
  },
  {
   "cell_type": "markdown",
   "id": "a4c8d44e-74fe-4af0-848d-49d93471171e",
   "metadata": {},
   "source": [
    "Q4. What is ‘DataFrame’ in pandas and how is it different from pandas.series? Explain with an example."
   ]
  },
  {
   "cell_type": "markdown",
   "id": "678ded52-7cff-4209-9fef-6c4b9d771ab3",
   "metadata": {},
   "source": [
    "In Pandas, a DataFrame is a two-dimensional labeled data structure with columns of potentially different types, whereas a Pandas Series is a one-dimensional labeled array capable of holding data of any type.\n",
    "\n",
    "A Pandas DataFrame is like a spreadsheet or SQL table, with rows and columns, while a Pandas Series is like a single column in a spreadsheet or SQL table. In other words, a Pandas Series is a single column of data, while a Pandas DataFrame is a collection of columns, each of which can contain a different type of data.\n",
    "\n",
    "Here is an example that demonstrates the difference between a Pandas DataFrame and a Pandas Series:"
   ]
  },
  {
   "cell_type": "code",
   "execution_count": 11,
   "id": "53595cbf-1d39-436a-b3c4-71061bc80d4f",
   "metadata": {},
   "outputs": [
    {
     "name": "stdout",
     "output_type": "stream",
     "text": [
      "Data Frame:\n",
      "    Name  Age    Country\n",
      "0   John   25        USA\n",
      "1   Mary   30     Canada\n",
      "2    Bob   20        USA\n",
      "3  Alice   35  Australia\n",
      "\n",
      "Name Series:\n",
      "0     John\n",
      "1     Mary\n",
      "2      Bob\n",
      "3    Alice\n",
      "Name: Name, dtype: object\n"
     ]
    }
   ],
   "source": [
    "import pandas as pd\n",
    "\n",
    "# Creating a dictionary with some sample data\n",
    "data = {\n",
    "    'Name': ['John', 'Mary', 'Bob', 'Alice'],\n",
    "    'Age': [25, 30, 20, 35],\n",
    "    'Country': ['USA', 'Canada', 'USA', 'Australia']\n",
    "}\n",
    "\n",
    "# Creating a data frame from the dictionary\n",
    "df = pd.DataFrame(data)\n",
    "\n",
    "# Creating a series from the 'Name' column of the data frame\n",
    "name_series = df['Name']\n",
    "\n",
    "# Printing the data frame and the series\n",
    "print(\"Data Frame:\")\n",
    "print(df)\n",
    "\n",
    "print(\"\\nName Series:\")\n",
    "print(name_series)\n"
   ]
  },
  {
   "cell_type": "markdown",
   "id": "5c8c225f-568d-476a-a582-acbd4c554974",
   "metadata": {},
   "source": [
    "Q5. What are some common functions you can use to manipulate data in a Pandas DataFrame? Can\n",
    "you give an example of when you might use one of these functions?"
   ]
  },
  {
   "cell_type": "raw",
   "id": "6cfe6eae-8478-4a95-8e8d-d4fe4f6042f5",
   "metadata": {},
   "source": [
    "Pandas DataFrame provides a wide range of functions for data manipulation, here are some common functions that you can use to manipulate data in a Pandas DataFrame:\n",
    "\n",
    "head() and tail() - These functions are used to view the top or bottom N rows of a DataFrame.\n",
    "\n",
    "describe() - This function provides a summary of the statistical properties of the DataFrame, such as count, mean, standard deviation, minimum, and maximum values.\n",
    "\n",
    "loc[] and iloc[] - These functions are used to access a particular row or column in the DataFrame. loc[] is used to access a row or column by label, while iloc[] is used to access a row or column by integer index.\n",
    "\n",
    "drop() - This function is used to remove rows or columns from the DataFrame.\n",
    "\n",
    "fillna() - This function is used to replace missing values in the DataFrame with a specified value.\n",
    "\n",
    "groupby() - This function is used to group the rows of the DataFrame based on one or more columns, and then perform some operation on each group.\n",
    "\n",
    "merge() - This function is used to combine two or more DataFrames based on a common column.\n",
    "\n",
    "sort_values() - This function is used to sort the rows of the DataFrame based on one or more columns."
   ]
  },
  {
   "cell_type": "code",
   "execution_count": 12,
   "id": "464fbab3-2b5b-483d-b188-11a5fb8002fd",
   "metadata": {},
   "outputs": [
    {
     "name": "stdout",
     "output_type": "stream",
     "text": [
      "Country\n",
      "Australia    35.000000\n",
      "Canada       26.000000\n",
      "USA          28.333333\n",
      "Name: Age, dtype: float64\n"
     ]
    }
   ],
   "source": [
    "import pandas as pd\n",
    "\n",
    "# Creating a dictionary with some sample data\n",
    "data = {\n",
    "    'Name': ['John', 'Mary', 'Bob', 'Alice', 'John', 'Bob'],\n",
    "    'Age': [25, 30, 20, 35, 40, 22],\n",
    "    'Country': ['USA', 'Canada', 'USA', 'Australia', 'USA', 'Canada']\n",
    "}\n",
    "\n",
    "# Creating a data frame from the dictionary\n",
    "df = pd.DataFrame(data)\n",
    "\n",
    "# Grouping the rows by 'Country' and calculating the mean age for each group\n",
    "grouped = df.groupby('Country')['Age'].mean()\n",
    "\n",
    "# Printing the grouped data\n",
    "print(grouped)\n"
   ]
  },
  {
   "cell_type": "markdown",
   "id": "88df685f-77b8-4228-b74a-af71c800ae6b",
   "metadata": {},
   "source": [
    "Q6. Which of the following is mutable in nature Series, DataFrame, Panel?"
   ]
  },
  {
   "cell_type": "raw",
   "id": "6f176ed4-a52f-4ec8-b735-59b1493ae395",
   "metadata": {},
   "source": [
    "In pandas, the Series and DataFrame objects are mutable in nature, while the Panel object is deprecated and has been removed from pandas version 1.0.0 onwards.\n",
    "\n",
    "Mutable means that the objects can be changed after they are created. For example, you can add, delete, or modify elements in a Series or DataFrame object."
   ]
  },
  {
   "cell_type": "code",
   "execution_count": 13,
   "id": "693847db-6e17-42cd-8fed-0dae99bf4efa",
   "metadata": {},
   "outputs": [
    {
     "name": "stdout",
     "output_type": "stream",
     "text": [
      "    Name  Age    Country\n",
      "0   John   25        USA\n",
      "1   Mary   30     Canada\n",
      "2    Bob   20     Mexico\n",
      "3  Alice   35  Australia\n"
     ]
    }
   ],
   "source": [
    "import pandas as pd\n",
    "\n",
    "# Creating a dictionary with some sample data\n",
    "data = {\n",
    "    'Name': ['John', 'Mary', 'Bob', 'Alice'],\n",
    "    'Age': [25, 30, 20, 35],\n",
    "    'Country': ['USA', 'Canada', 'USA', 'Australia']\n",
    "}\n",
    "\n",
    "# Creating a data frame from the dictionary\n",
    "df = pd.DataFrame(data)\n",
    "\n",
    "# Modifying the 'Country' column\n",
    "df['Country'] = ['USA', 'Canada', 'Mexico', 'Australia']\n",
    "\n",
    "# Printing the modified data frame\n",
    "print(df)\n"
   ]
  },
  {
   "cell_type": "markdown",
   "id": "c31c4b51-b7b5-4f88-ba5b-e7183a671b36",
   "metadata": {},
   "source": [
    "Q7. Create a DataFrame using multiple Series. Explain with an example."
   ]
  },
  {
   "cell_type": "raw",
   "id": "2a92be2a-4959-4851-9c30-efd268eb280f",
   "metadata": {},
   "source": [
    "In Pandas, you can create a DataFrame using multiple Series. A Series is essentially a one-dimensional array with labels, and combining multiple Series creates a DataFrame with each Series as a separate column"
   ]
  },
  {
   "cell_type": "code",
   "execution_count": 14,
   "id": "fd21d9c7-f10d-42d8-86ed-f83757285135",
   "metadata": {},
   "outputs": [
    {
     "name": "stdout",
     "output_type": "stream",
     "text": [
      "    Name  Age    Country\n",
      "0   John   25        USA\n",
      "1   Mary   30     Canada\n",
      "2    Bob   20        USA\n",
      "3  Alice   35  Australia\n"
     ]
    }
   ],
   "source": [
    "import pandas as pd\n",
    "\n",
    "# Creating a Series of names\n",
    "names = pd.Series(['John', 'Mary', 'Bob', 'Alice'])\n",
    "\n",
    "# Creating a Series of ages\n",
    "ages = pd.Series([25, 30, 20, 35])\n",
    "\n",
    "# Creating a Series of countries\n",
    "countries = pd.Series(['USA', 'Canada', 'USA', 'Australia'])\n",
    "\n",
    "# Creating a DataFrame from the three Series\n",
    "df = pd.DataFrame({'Name': names, 'Age': ages, 'Country': countries})\n",
    "\n",
    "# Printing the DataFrame\n",
    "print(df)\n"
   ]
  },
  {
   "cell_type": "code",
   "execution_count": null,
   "id": "60f84838-27cc-4753-a46c-d02bb96f7dda",
   "metadata": {},
   "outputs": [],
   "source": []
  }
 ],
 "metadata": {
  "kernelspec": {
   "display_name": "Python 3 (ipykernel)",
   "language": "python",
   "name": "python3"
  },
  "language_info": {
   "codemirror_mode": {
    "name": "ipython",
    "version": 3
   },
   "file_extension": ".py",
   "mimetype": "text/x-python",
   "name": "python",
   "nbconvert_exporter": "python",
   "pygments_lexer": "ipython3",
   "version": "3.10.8"
  }
 },
 "nbformat": 4,
 "nbformat_minor": 5
}
