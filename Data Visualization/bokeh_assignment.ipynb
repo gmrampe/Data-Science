{
  "nbformat": 4,
  "nbformat_minor": 0,
  "metadata": {
    "colab": {
      "provenance": []
    },
    "kernelspec": {
      "name": "python3",
      "display_name": "Python 3"
    },
    "language_info": {
      "name": "python"
    }
  },
  "cells": [
    {
      "cell_type": "code",
      "execution_count": 5,
      "metadata": {
        "id": "NQ_zVadu_wcz"
      },
      "outputs": [],
      "source": [
        "#How can you create a Bokeh plot using Python code?\n",
        "\n",
        "#To create a Bokeh plot using Python code, you can follow these general steps:\n",
        "#Import the necessary Bokeh modules and classes.\n",
        "#Prepare the data to be plotted.\n",
        "#Create a Figure object that defines the plot properties.\n",
        "#Add the necessary glyphs (markers, lines, etc.) to the figure to display the data.\n",
        "#Define the formatting and layout of the plot (e.g., axis labels, legend, gridlines).\n",
        "#Show or save the resulting plot.\n",
        "from bokeh.plotting import figure, output_file, show\n",
        "import numpy as np\n",
        "\n",
        "# Prepare the data\n",
        "x = np.linspace(0, 10, 100)\n",
        "y = np.sin(x)\n",
        "\n",
        "# Create a Figure object\n",
        "fig = figure(title=\"Sine Curve\", x_axis_label=\"X\", y_axis_label=\"Y\")\n",
        "\n",
        "# Add a circle glyph to the figure\n",
        "fig.circle(x, y, size=5, color=\"blue\")\n",
        "\n",
        "# Show the resulting plot in the default browser\n",
        "show(fig)\n",
        "#In this example, we first imported the necessary Bokeh modules and classes (figure, output_file, and show). Then, we prepared the data for the plot (in this case, x and y values for a sine curve). Next, we created a Figure object with a specified title and axis labels. We added a circle glyph to the figure using the circle method, which takes the x and y data as arguments, as well as optional parameters for the size and color of the markers. Finally, we used the show method to display the resulting plot in the default browser."
      ]
    },
    {
      "cell_type": "code",
      "source": [
        "#What are glyphs in Bokeh, and how can you add them to a Bokeh plot? Explain with an example.\n",
        "\n",
        "#Glyphs in Bokeh are visual marks, such as markers or lines, used to represent data points or lines in a plot. Bokeh provides a wide range of built-in glyphs, such as circles, squares, lines, and bars, as well as the ability to define custom glyphs.\n",
        "\n",
        "#To add glyphs to a Bokeh plot, you can use one of the available glyph methods, such as circle, line, or rect, which take one or more arrays of data as input, as well as various parameters to customize the appearance of the glyph.\n",
        "from bokeh.plotting import figure, output_file, show\n",
        "import numpy as np\n",
        "\n",
        "# Prepare the data\n",
        "x = np.random.rand(50)\n",
        "y = np.random.rand(50)\n",
        "\n",
        "# Create a Figure object\n",
        "fig = figure(title=\"Scatter Plot\", x_axis_label=\"X\", y_axis_label=\"Y\")\n",
        "\n",
        "# Add a circle glyph to the figure\n",
        "fig.circle(x, y, size=10, color=\"blue\", alpha=0.5)\n",
        "\n",
        "# Show the resulting plot in the default browser\n",
        "show(fig)\n"
      ],
      "metadata": {
        "id": "wxvubKKNATY5"
      },
      "execution_count": 6,
      "outputs": []
    },
    {
      "cell_type": "code",
      "source": [
        "#How can you customize the appearance of a Bokeh plot, including the axes, title, and legend?\n",
        "\n",
        "'''#Bokeh provides a wide range of options for customizing the appearance of a plot, including the axes, title, legend, and more. Here are some ways to customize the appearance of a Bokeh plot\n",
        "# Changing axis properties: You can change the properties of the x-axis and y-axis using the xaxis and yaxis attributes of the Figure object. For example, you can set the label, font size, and tick labels as follows:\n",
        "fig.xaxis.axis_label = \"X-axis Label\"\n",
        "fig.xaxis.axis_label_text_font_size = \"16pt\"\n",
        "fig.xaxis.major_label_text_font_size = \"14pt\"\n",
        "#Adding a plot title: You can set the title of the plot using the title attribute of the Figure object:\n",
        "fig.title.text = \"My Plot Title\"\n",
        "fig.title.text_font_size = \"20pt\"\n",
        "#Adding a legend: If you have multiple glyphs in your plot, you can add a legend using the legend attribute of each glyph method. For example:\n",
        "#fig.circle(x, y1, size=10, color=\"blue\", alpha=0.5, legend_label=\"Series 1\")\n",
        "#fig.line(x, y2, line_width=2, color=\"red\", alpha=0.8, legend_label=\"Series 2\")\n",
        "#fig.legend.location = \"top_left\"\n",
        "fig.legend.label_text_font_size = \"14pt\"\n",
        "#Changing plot background and border: You can set the background color and border properties of the plot using the background_fill_color, border_fill_color, and border_line_width attributes of the Figure object.\n",
        "fig.background_fill_color = \"#f2f2f2\"\n",
        "fig.border_fill_color = \"white\"\n",
        "fig.border_line_width = 2\n",
        "#Adjusting plot layout: You can adjust the layout of the plot using the sizing_mode attribute of the Figure object, which controls how the plot responds to changes in the browser window size:\n",
        "fig.sizing_mode = \"scale_width\"  # adjust plot width, keep height constant\n",
        "fig.sizing_mode = \"stretch_both\"  # stretch plot to fill entire available space\n",
        "#These are just a few examples of how you can customize the appearance of a Bokeh plot. Bokeh provides many more options and features for creating high-quality, customizable visualizations.#'''"
      ],
      "metadata": {
        "colab": {
          "base_uri": "https://localhost:8080/",
          "height": 122
        },
        "id": "eDSRxARUA9_G",
        "outputId": "c345467f-c714-42a3-ed55-77ceed1e7667"
      },
      "execution_count": 10,
      "outputs": [
        {
          "output_type": "execute_result",
          "data": {
            "text/plain": [
              "'#Bokeh provides a wide range of options for customizing the appearance of a plot, including the axes, title, legend, and more. Here are some ways to customize the appearance of a Bokeh plot\\n# Changing axis properties: You can change the properties of the x-axis and y-axis using the xaxis and yaxis attributes of the Figure object. For example, you can set the label, font size, and tick labels as follows:\\nfig.xaxis.axis_label = \"X-axis Label\"\\nfig.xaxis.axis_label_text_font_size = \"16pt\"\\nfig.xaxis.major_label_text_font_size = \"14pt\"\\n#Adding a plot title: You can set the title of the plot using the title attribute of the Figure object:\\nfig.title.text = \"My Plot Title\"\\nfig.title.text_font_size = \"20pt\"\\n#Adding a legend: If you have multiple glyphs in your plot, you can add a legend using the legend attribute of each glyph method. For example:\\n#fig.circle(x, y1, size=10, color=\"blue\", alpha=0.5, legend_label=\"Series 1\")\\n#fig.line(x, y2, line_width=2, color=\"red\", alpha=0.8, legend_label=\"Series 2\")\\n#fig.legend.location = \"top_left\"\\nfig.legend.label_text_font_size = \"14pt\"\\n#Changing plot background and border: You can set the background color and border properties of the plot using the background_fill_color, border_fill_color, and border_line_width attributes of the Figure object.\\nfig.background_fill_color = \"#f2f2f2\"\\nfig.border_fill_color = \"white\"\\nfig.border_line_width = 2\\n#Adjusting plot layout: You can adjust the layout of the plot using the sizing_mode attribute of the Figure object, which controls how the plot responds to changes in the browser window size:\\nfig.sizing_mode = \"scale_width\"  # adjust plot width, keep height constant\\nfig.sizing_mode = \"stretch_both\"  # stretch plot to fill entire available space\\n#These are just a few examples of how you can customize the appearance of a Bokeh plot. Bokeh provides many more options and features for creating high-quality, customizable visualizations.#'"
            ],
            "application/vnd.google.colaboratory.intrinsic+json": {
              "type": "string"
            }
          },
          "metadata": {},
          "execution_count": 10
        }
      ]
    },
    {
      "cell_type": "code",
      "source": [
        "#What is a Bokeh server, and how can you use it to create interactive plots that can be updated in real time?\n",
        "'''A Bokeh server is a Python application that allows you to create interactive Bokeh plots that can be updated in real-time. With the Bokeh server, you can create plots that respond to user input or change dynamically based on external data sources. Here are the basic steps to create a Bokeh server app:\n",
        "\n",
        "Define the layout: Define the layout of your Bokeh plot using the various layout and widget objects provided by Bokeh. You can create plots, tables, dropdowns, sliders, and other widgets to interact with the data.\n",
        "\n",
        "Define the callback functions: Define the callback functions that will handle the user input or the data changes. Bokeh provides several types of callbacks, such as CustomJS callbacks that execute JavaScript code in the browser, Python callbacks that execute Python code on the server, and Periodic callbacks that execute at regular intervals.\n",
        "\n",
        "Create the Bokeh server app: Create the Bokeh server app by defining a function that returns the layout and the callback functions. The function should accept a single argument, the doc object, which represents the current state of the app. You can add the widgets and plots to the document, and attach the callbacks to the appropriate events.\n",
        "\n",
        "Run the Bokeh server: Run the Bokeh server using the bokeh serve command. The command takes the name of the Python file containing the app, and starts a local server that listens for incoming connections. You can open the app in a web browser by navigating to http://localhost:5006/yourapp.\n",
        "\n",
        "Here is a simple example that demonstrates how to create a Bokeh server app that updates a plot in real-time based on a slider widget:'''\n",
        "from bokeh.io import curdoc\n",
        "from bokeh.layouts import column\n",
        "from bokeh.models import ColumnDataSource, Slider\n",
        "from bokeh.plotting import figure\n",
        "\n",
        "# Create a ColumnDataSource with some initial data\n",
        "source = ColumnDataSource(data=dict(x=[1, 2, 3], y=[1, 2, 3]))\n",
        "\n",
        "# Create a plot with the initial data\n",
        "plot = figure(plot_height=300, plot_width=600)\n",
        "plot.line('x', 'y', source=source)\n",
        "\n",
        "# Define the callback function for the slider widget\n",
        "def callback(attr, old, new):\n",
        "    # Update the data based on the new slider value\n",
        "    source.data = dict(x=[1, 2, 3], y=[new**2, new**3, new**4])\n",
        "\n",
        "# Create a slider widget and attach the callback function\n",
        "slider = Slider(start=1, end=10, value=1, step=1, title=\"Slider\")\n",
        "slider.on_change('value', callback)\n",
        "\n",
        "# Add the plot and the slider widget to the document\n",
        "curdoc().add_root(column(slider, plot))\n",
        "#When you run the Bokeh server using bokeh serve myapp.py, a local server is started that listens for incoming connections. You can open the app in a web browser by navigating to http://localhost:5006/myapp. As you move the slider widget, the plot updates in real-time, showing the new data based on the slider value.\n",
        "\n"
      ],
      "metadata": {
        "id": "piM_YD2eCCqo"
      },
      "execution_count": 13,
      "outputs": []
    },
    {
      "cell_type": "code",
      "source": [
        "#How can you embed a Bokeh plot into a web page or dashboard using Flask or Django?\n",
        "'''To embed a Bokeh plot into a web page or dashboard using Flask or Django, you can follow the following steps:\n",
        "\n",
        "Create the Bokeh plot: Create the Bokeh plot using the Bokeh library as you would normally.\n",
        "\n",
        "Convert the Bokeh plot to HTML: Convert the Bokeh plot to an HTML file using the bokeh.embed module. This module provides functions for generating the necessary JavaScript and HTML code to display the plot.\n",
        "\n",
        "Create a Flask or Django view: Create a Flask or Django view that renders the HTML file generated by Bokeh. You can use the render_template function in Flask or the TemplateView class in Django to render the HTML file.\n",
        "\n",
        "Add the view to your application: Add the view to your Flask or Django application by defining a URL route that maps to the view. You can use the @app.route decorator in Flask or the path method in Django to define the URL route.'''\n",
        "from flask import Flask, render_template\n",
        "from bokeh.plotting import figure\n",
        "from bokeh.embed import components\n",
        "\n",
        "app = Flask(__name__)\n",
        "\n",
        "@app.route(\"/\")\n",
        "def index():\n",
        "    # Create the Bokeh plot\n",
        "    plot = figure(plot_width=400, plot_height=400)\n",
        "    plot.circle([1, 2, 3], [4, 5, 6])\n",
        "\n",
        "    # Convert the plot to HTML components\n",
        "    script, div = components(plot)\n",
        "\n",
        "    # Render the HTML template with the plot components\n",
        "    return render_template(\"index.html\", script=script, div=div)\n",
        "\n",
        "if __name__ == \"__main__\":\n",
        "    app.run(debug=True)\n",
        "'''In this example, we create a Flask application with a single view mapped to the root URL /. In the view function, we create a Bokeh plot and convert it to HTML components using the components function from the bokeh.embed module. We then render an HTML template called index.html, passing the plot components as parameters. The HTML template contains placeholders for the plot components, which we replace with the actual components using the Flask template engine.'''\n",
        "from django.views.generic import TemplateView\n",
        "from bokeh.plotting import figure\n",
        "from bokeh.embed import components\n",
        "\n",
        "class IndexView(TemplateView):\n",
        "    template_name = \"index.html\"\n",
        "\n",
        "    def get_context_data(self, **kwargs):\n",
        "        # Create the Bokeh plot\n",
        "        plot = figure(plot_width=400, plot_height=400)\n",
        "        plot.circle([1, 2, 3], [4, 5, 6])\n",
        "\n",
        "        # Convert the plot to HTML components\n",
        "        script, div = components(plot)\n",
        "\n",
        "        # Add the plot components to the context\n",
        "        context = super().get_context_data(**kwargs)\n",
        "        context[\"script\"] = script\n",
        "        context[\"div\"] = div\n",
        "        return context\n",
        "'''In this example, we create a Django view called IndexView that extends the TemplateView class. We specify the name of the HTML template using the template_name attribute. In the get_context_data method, we create a Bokeh plot, convert it to HTML components using the components function, and add the components to the context dictionary. We then render the HTML template, passing the context dictionary as the context parameter. In the HTML template, we use placeholders for the plot components, which we replace with the actual components using the Django template engine.'''\n"
      ],
      "metadata": {
        "colab": {
          "base_uri": "https://localhost:8080/"
        },
        "id": "_pQNPCYRC0nw",
        "outputId": "8a38d222-3544-4109-98dd-e8980ed49c5b"
      },
      "execution_count": 14,
      "outputs": [
        {
          "output_type": "stream",
          "name": "stdout",
          "text": [
            " * Serving Flask app '__main__'\n",
            " * Debug mode: on\n"
          ]
        },
        {
          "output_type": "stream",
          "name": "stderr",
          "text": [
            "INFO:werkzeug:\u001b[31m\u001b[1mWARNING: This is a development server. Do not use it in a production deployment. Use a production WSGI server instead.\u001b[0m\n",
            " * Running on http://127.0.0.1:5000\n",
            "INFO:werkzeug:\u001b[33mPress CTRL+C to quit\u001b[0m\n",
            "INFO:werkzeug: * Restarting with stat\n"
          ]
        }
      ]
    },
    {
      "cell_type": "code",
      "source": [],
      "metadata": {
        "id": "9zPWx-rODa9v"
      },
      "execution_count": null,
      "outputs": []
    }
  ]
}