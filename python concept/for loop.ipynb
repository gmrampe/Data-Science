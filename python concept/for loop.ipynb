{
 "cells": [
  {
   "cell_type": "code",
   "execution_count": 1,
   "id": "eec7f93f",
   "metadata": {},
   "outputs": [
    {
     "name": "stdout",
     "output_type": "stream",
     "text": [
      "a\n",
      "b\n",
      "c\n",
      "d\n",
      "e\n",
      "f\n",
      "g\n",
      "h\n",
      "i\n",
      " \n",
      "j\n",
      "k\n",
      "l\n",
      "m\n",
      "n\n",
      "o\n",
      "p\n"
     ]
    }
   ],
   "source": [
    "s='abcdefghi jklmnop'\n",
    "for x in s:\n",
    "    print(x)"
   ]
  },
  {
   "cell_type": "code",
   "execution_count": 2,
   "id": "68892b32",
   "metadata": {},
   "outputs": [
    {
     "name": "stdout",
     "output_type": "stream",
     "text": [
      "abcdefghi jklmnop"
     ]
    }
   ],
   "source": [
    "s='abcdefghi jklmnop'\n",
    "for x in s:\n",
    "    print(x,end='')"
   ]
  },
  {
   "cell_type": "code",
   "execution_count": 4,
   "id": "3544c150",
   "metadata": {},
   "outputs": [
    {
     "name": "stdout",
     "output_type": "stream",
     "text": [
      "a\n",
      "b\n",
      "c\n",
      "d\n",
      "e\n",
      "f\n",
      "g\n",
      "h\n",
      "i\n",
      " \n",
      "j\n",
      "k\n",
      "l\n",
      "m\n",
      "n\n",
      "o\n",
      "p\n",
      "count of the string: 17\n"
     ]
    }
   ],
   "source": [
    "s='abcdefghi jklmnop'\n",
    "c=0\n",
    "for x in s:\n",
    "    c=c+1\n",
    "    print(x)\n",
    "print('count of the string:',c)"
   ]
  },
  {
   "cell_type": "code",
   "execution_count": 9,
   "id": "12e31c6c",
   "metadata": {},
   "outputs": [
    {
     "name": "stdout",
     "output_type": "stream",
     "text": [
      "abcdefg hijklmnopcount of the string 17\n"
     ]
    }
   ],
   "source": [
    "s='abcdefg hijklmnop'\n",
    "c=0\n",
    "for x in s:\n",
    "    c=c+1\n",
    "    print(x,end='')\n",
    "print('count of the string',c)"
   ]
  },
  {
   "cell_type": "code",
   "execution_count": 10,
   "id": "61c7c489",
   "metadata": {},
   "outputs": [
    {
     "name": "stdout",
     "output_type": "stream",
     "text": [
      "0\n",
      "1\n",
      "2\n",
      "3\n",
      "4\n",
      "5\n",
      "6\n",
      "7\n",
      "8\n",
      "9\n"
     ]
    }
   ],
   "source": [
    "for x in range(10):\n",
    "    print(x)"
   ]
  },
  {
   "cell_type": "code",
   "execution_count": 12,
   "id": "8c0b2947",
   "metadata": {},
   "outputs": [
    {
     "name": "stdout",
     "output_type": "stream",
     "text": [
      "0\n",
      "1\n",
      "2\n",
      "3\n",
      "4\n",
      "5\n",
      "6\n",
      "7\n",
      "8\n",
      "9\n",
      "10\n",
      "11\n",
      "12\n",
      "13\n",
      "14\n",
      "15\n",
      "16\n",
      "17\n",
      "18\n",
      "19\n",
      "20\n"
     ]
    }
   ],
   "source": [
    "for x in range(21):\n",
    "    print(x)"
   ]
  },
  {
   "cell_type": "code",
   "execution_count": 15,
   "id": "eff299fd",
   "metadata": {},
   "outputs": [
    {
     "name": "stdout",
     "output_type": "stream",
     "text": [
      "0\n",
      "2\n",
      "4\n",
      "6\n",
      "8\n",
      "10\n",
      "12\n",
      "14\n",
      "16\n",
      "18\n",
      "20\n"
     ]
    }
   ],
   "source": [
    "for x in range(21):\n",
    "    if x%2==0:\n",
    "        print(x)"
   ]
  },
  {
   "cell_type": "code",
   "execution_count": 16,
   "id": "5718edfe",
   "metadata": {},
   "outputs": [
    {
     "name": "stdout",
     "output_type": "stream",
     "text": [
      "1357911131517192123252729"
     ]
    }
   ],
   "source": [
    "for x in range(31):\n",
    "    if x%2!=0:\n",
    "        print(x, end='')"
   ]
  },
  {
   "cell_type": "code",
   "execution_count": 18,
   "id": "cefedfc0",
   "metadata": {},
   "outputs": [
    {
     "name": "stdout",
     "output_type": "stream",
     "text": [
      "0\n",
      "2\n",
      "4\n",
      "6\n",
      "8\n",
      "10\n",
      "12\n",
      "14\n",
      "16\n",
      "18\n",
      "20\n"
     ]
    }
   ],
   "source": [
    "for x in range(0,21,2):\n",
    "    print(x)"
   ]
  },
  {
   "cell_type": "code",
   "execution_count": 19,
   "id": "32752ab1",
   "metadata": {},
   "outputs": [
    {
     "name": "stdout",
     "output_type": "stream",
     "text": [
      "1\n",
      "3\n",
      "5\n",
      "7\n",
      "9\n",
      "11\n",
      "13\n",
      "15\n",
      "17\n",
      "19\n"
     ]
    }
   ],
   "source": [
    "for x in range(1,21,2):\n",
    "    print(x)"
   ]
  },
  {
   "cell_type": "code",
   "execution_count": 22,
   "id": "9a2f079c",
   "metadata": {},
   "outputs": [
    {
     "name": "stdout",
     "output_type": "stream",
     "text": [
      "10\n",
      "9\n",
      "8\n",
      "7\n",
      "6\n",
      "5\n",
      "4\n",
      "3\n",
      "2\n"
     ]
    }
   ],
   "source": [
    "for x in range(10,1,-1):\n",
    "    print(x)"
   ]
  },
  {
   "cell_type": "code",
   "execution_count": 23,
   "id": "3b56cf83",
   "metadata": {},
   "outputs": [
    {
     "name": "stdout",
     "output_type": "stream",
     "text": [
      "10\n",
      "8\n",
      "6\n",
      "4\n",
      "2\n"
     ]
    }
   ],
   "source": [
    "for x in range(10,1,-1):\n",
    "    if x%2==0:\n",
    "        print(x)"
   ]
  },
  {
   "cell_type": "code",
   "execution_count": 24,
   "id": "2bf50860",
   "metadata": {},
   "outputs": [
    {
     "name": "stdout",
     "output_type": "stream",
     "text": [
      "9\n",
      "7\n",
      "5\n",
      "3\n",
      "1\n"
     ]
    }
   ],
   "source": [
    "for x in range(10,0,-1):\n",
    "    if x%2!=0:\n",
    "        print(x)"
   ]
  },
  {
   "cell_type": "code",
   "execution_count": 29,
   "id": "cb29a7c5",
   "metadata": {},
   "outputs": [
    {
     "name": "stdout",
     "output_type": "stream",
     "text": [
      "enter the list[10,20,30]\n",
      "60\n"
     ]
    }
   ],
   "source": [
    "s=eval(input('enter the list'))\n",
    "sum=0\n",
    "for x in s:\n",
    "    sum=sum+x\n",
    "print(sum)"
   ]
  },
  {
   "cell_type": "code",
   "execution_count": 30,
   "id": "bd38b507",
   "metadata": {},
   "outputs": [
    {
     "name": "stdout",
     "output_type": "stream",
     "text": [
      "enter the tuple(10,20,30,40)\n",
      "100\n"
     ]
    }
   ],
   "source": [
    "s=eval(input('enter the tuple'))\n",
    "sum=0\n",
    "for x in s:\n",
    "    sum=sum+x\n",
    "print(sum)"
   ]
  },
  {
   "cell_type": "code",
   "execution_count": 31,
   "id": "f7a46e02",
   "metadata": {},
   "outputs": [
    {
     "name": "stdout",
     "output_type": "stream",
     "text": [
      "enter the set{10,20,30,40,50,40}\n",
      "150\n"
     ]
    }
   ],
   "source": [
    "s=eval(input('enter the set'))\n",
    "sum=0\n",
    "for x in s:\n",
    "    sum=sum+x\n",
    "print(sum)"
   ]
  },
  {
   "cell_type": "code",
   "execution_count": 32,
   "id": "beaa4581",
   "metadata": {},
   "outputs": [
    {
     "name": "stdout",
     "output_type": "stream",
     "text": [
      "i=0and j0\n",
      "i=0and j1\n",
      "i=0and j2\n",
      "i=0and j3\n",
      "i=1and j0\n",
      "i=1and j1\n",
      "i=1and j2\n",
      "i=1and j3\n",
      "i=2and j0\n",
      "i=2and j1\n",
      "i=2and j2\n",
      "i=2and j3\n",
      "i=3and j0\n",
      "i=3and j1\n",
      "i=3and j2\n",
      "i=3and j3\n"
     ]
    }
   ],
   "source": [
    "for i in range(4 ):\n",
    "    for j in range(4):\n",
    "        print('i={}and j{}'.format(i,j))"
   ]
  },
  {
   "cell_type": "code",
   "execution_count": null,
   "id": "9b0844c9",
   "metadata": {},
   "outputs": [],
   "source": []
  },
  {
   "cell_type": "code",
   "execution_count": 33,
   "id": "456af04f",
   "metadata": {},
   "outputs": [
    {
     "name": "stdout",
     "output_type": "stream",
     "text": [
      "i=0 and j=0i=0 and j=1i=0 and j=2i=0 and j=3i=1 and j=0i=1 and j=1i=1 and j=2i=1 and j=3i=2 and j=0i=2 and j=1i=2 and j=2i=2 and j=3i=3 and j=0i=3 and j=1i=3 and j=2i=3 and j=3"
     ]
    }
   ],
   "source": [
    "for i in range(4):\n",
    "    for j in range(4):\n",
    "        print('i={} and j={}'.format(i,j),end='')"
   ]
  },
  {
   "cell_type": "code",
   "execution_count": 34,
   "id": "411bf660",
   "metadata": {},
   "outputs": [
    {
     "name": "stdout",
     "output_type": "stream",
     "text": [
      "1\n",
      "2\n",
      "3\n",
      "4\n",
      "5\n"
     ]
    }
   ],
   "source": [
    "n=5\n",
    "for i in range(1,n+1):\n",
    "    print(i)"
   ]
  },
  {
   "cell_type": "code",
   "execution_count": 46,
   "id": "656799d3",
   "metadata": {},
   "outputs": [
    {
     "name": "stdout",
     "output_type": "stream",
     "text": [
      "* \n",
      "* * \n",
      "* * * \n",
      "* * * * \n",
      "* * * * * \n"
     ]
    }
   ],
   "source": [
    "n=5\n",
    "for i in range(1,n+1):\n",
    "    for j in range(1,i+1):\n",
    "        print('*',end=' ')\n",
    "    print()"
   ]
  },
  {
   "cell_type": "code",
   "execution_count": 48,
   "id": "837591ab",
   "metadata": {},
   "outputs": [
    {
     "name": "stdout",
     "output_type": "stream",
     "text": [
      "ahiachaabi"
     ]
    }
   ],
   "source": [
    "s=['mahi','macha','mabi']\n",
    "for i in s:\n",
    "    for j in i:\n",
    "        if j!='m':\n",
    "            print(j,end='')"
   ]
  },
  {
   "cell_type": "code",
   "execution_count": 57,
   "id": "320a5723",
   "metadata": {},
   "outputs": [
    {
     "name": "stdout",
     "output_type": "stream",
     "text": [
      "1\n",
      "12\n",
      "123\n",
      "1234\n",
      "12345\n",
      "123456\n",
      "1234567\n",
      "12345678\n",
      "123456789\n",
      "12345678910\n"
     ]
    }
   ],
   "source": [
    "s=10\n",
    "for i in range(1,s+1):\n",
    "    for j in range(1,i+1):\n",
    "        print(j,end='')\n",
    "    print()"
   ]
  },
  {
   "cell_type": "code",
   "execution_count": 58,
   "id": "a3b14447",
   "metadata": {},
   "outputs": [
    {
     "name": "stdout",
     "output_type": "stream",
     "text": [
      "30\n"
     ]
    }
   ],
   "source": [
    "x = 10\n",
    "\n",
    "y = 20\n",
    "\n",
    "if x == 10:\n",
    "\n",
    "    x = x + y\n",
    "\n",
    "print(x)"
   ]
  },
  {
   "cell_type": "code",
   "execution_count": 59,
   "id": "e8c86353",
   "metadata": {},
   "outputs": [
    {
     "name": "stdout",
     "output_type": "stream",
     "text": [
      "100\n"
     ]
    }
   ],
   "source": [
    "def print_square(x):\n",
    "\n",
    "    print(x * x)\n",
    "\n",
    "print_square(10)"
   ]
  },
  {
   "cell_type": "code",
   "execution_count": 60,
   "id": "173bce29",
   "metadata": {},
   "outputs": [
    {
     "name": "stdout",
     "output_type": "stream",
     "text": [
      "red\n"
     ]
    }
   ],
   "source": [
    "class Car:\n",
    "\n",
    "    def __init__(self, color, model):\n",
    "\n",
    "        self.color = color\n",
    "\n",
    "        self.model = model\n",
    "\n",
    "    \n",
    "\n",
    "    def get_color(self):\n",
    "\n",
    "        return self.color\n",
    "\n",
    " \n",
    "\n",
    "my_car = Car(\"red\", \"sedan\")\n",
    "\n",
    "print(my_car.get_color())"
   ]
  },
  {
   "cell_type": "code",
   "execution_count": 61,
   "id": "e1412d19",
   "metadata": {},
   "outputs": [
    {
     "name": "stdout",
     "output_type": "stream",
     "text": [
      "{'a': 1, 'b': 2, 'c': 3}\n"
     ]
    }
   ],
   "source": [
    "my_dict = {\"a\": 1, \"b\": 2, \"c\": 3}\n",
    "\n",
    "my_set = set(my_dict.keys())\n",
    "\n",
    "my_set.add(\"d\")\n",
    "\n",
    "print(my_dict)"
   ]
  },
  {
   "cell_type": "code",
   "execution_count": 62,
   "id": "3ab533a3",
   "metadata": {},
   "outputs": [
    {
     "name": "stdout",
     "output_type": "stream",
     "text": [
      "x is less than 20\n"
     ]
    }
   ],
   "source": [
    "x = 10\n",
    "\n",
    "if x < 20:\n",
    "\n",
    "    print(\"x is less than 20\")\n",
    "\n",
    "else:\n",
    "\n",
    "    print(\"x is greater than or equal to 20\")"
   ]
  },
  {
   "cell_type": "code",
   "execution_count": 63,
   "id": "cf72c489",
   "metadata": {},
   "outputs": [
    {
     "name": "stdout",
     "output_type": "stream",
     "text": [
      "1\n",
      "2\n",
      "3\n",
      "4\n"
     ]
    }
   ],
   "source": [
    "i = 1\n",
    "\n",
    "while i < 5:\n",
    "\n",
    "    print(i)\n",
    "\n",
    "    i = i + 1"
   ]
  },
  {
   "cell_type": "code",
   "execution_count": 67,
   "id": "27a211f8",
   "metadata": {},
   "outputs": [
    {
     "name": "stdout",
     "output_type": "stream",
     "text": [
      "r$dzmg$gl$yvxlnv$z$wzgz$hxrvmgrhg.\n"
     ]
    }
   ],
   "source": [
    "def encrypt_message(message):\n",
    "    message = message.lower()\n",
    "    encrypted_message = \"\"\n",
    "    for char in message:\n",
    "        if char == \" \":\n",
    "            encrypted_message += \"$\"\n",
    "        elif char.isalpha():\n",
    "            encrypted_message += chr(ord('a') + (ord('z') - ord(char)))\n",
    "        else:\n",
    "            encrypted_message += char\n",
    "    return encrypted_message\n",
    "\n",
    "input_sentence = \"I want to become a Data Scientist.\"\n",
    "encrypted_message = encrypt_message(input_sentence)\n",
    "print(encrypted_message)"
   ]
  },
  {
   "cell_type": "code",
   "execution_count": 69,
   "id": "6213aa30",
   "metadata": {},
   "outputs": [
    {
     "name": "stdout",
     "output_type": "stream",
     "text": [
      "0\n"
     ]
    }
   ],
   "source": [
    "def flatten_list_product(lst):\n",
    "    flat_list = []\n",
    "    for item in lst:\n",
    "        if isinstance(item, (int, float)):\n",
    "            flat_list.append(item)\n",
    "        elif isinstance(item, (tuple, list)):\n",
    "            flat_list += flatten_list_product(item)\n",
    "        elif isinstance(item, dict):\n",
    "            for key, value in item.items():\n",
    "                if isinstance(key, (int, float)):\n",
    "                    flat_list.append(key)\n",
    "                if isinstance(value, (int, float)):\n",
    "                    flat_list.append(value)\n",
    "                elif isinstance(value, (tuple, list, dict)):\n",
    "                    flat_list += flatten_list_product(value)\n",
    "    return flat_list if len(flat_list) > 0 else [1]\n",
    "\n",
    "list1 = [1, 2, 3, 4, [44, 55, 66, True], False, (34, 56, 78, 89, 34), {1, 2, 3, 3, 2, 1}, {1: 34, \"key2\": [55, 67, 78, 89], 4: (45, 22, 61, 34)}, [56, 'data science'], 'Machine Learning']\n",
    "\n",
    "product = 1\n",
    "for item in flatten_list_product(list1):\n",
    "    product *= item\n",
    "\n",
    "print(product)"
   ]
  },
  {
   "cell_type": "code",
   "execution_count": 65,
   "id": "33bd950d",
   "metadata": {},
   "outputs": [
    {
     "ename": "AttributeError",
     "evalue": "'str' object has no attribute 'isaplpha'",
     "output_type": "error",
     "traceback": [
      "\u001b[1;31m---------------------------------------------------------------------------\u001b[0m",
      "\u001b[1;31mAttributeError\u001b[0m                            Traceback (most recent call last)",
      "Cell \u001b[1;32mIn [65], line 13\u001b[0m\n\u001b[0;32m     11\u001b[0m     \u001b[38;5;28;01mreturn\u001b[39;00m en_msg\n\u001b[0;32m     12\u001b[0m inp\u001b[38;5;241m=\u001b[39m\u001b[38;5;124m\"\u001b[39m\u001b[38;5;124mI want to become a Data Analyst\u001b[39m\u001b[38;5;124m\"\u001b[39m\n\u001b[1;32m---> 13\u001b[0m en_msg\u001b[38;5;241m=\u001b[39m\u001b[43men_msg\u001b[49m\u001b[43m(\u001b[49m\u001b[43minp\u001b[49m\u001b[43m)\u001b[49m\n\u001b[0;32m     14\u001b[0m \u001b[38;5;28mprint\u001b[39m(en_msg)\n",
      "Cell \u001b[1;32mIn [65], line 7\u001b[0m, in \u001b[0;36men_msg\u001b[1;34m(message)\u001b[0m\n\u001b[0;32m      5\u001b[0m \u001b[38;5;28;01mif\u001b[39;00m char\u001b[38;5;241m==\u001b[39m\u001b[38;5;124m\"\u001b[39m\u001b[38;5;124m\"\u001b[39m:\n\u001b[0;32m      6\u001b[0m     en_msg\u001b[38;5;241m+\u001b[39m\u001b[38;5;241m=\u001b[39m\u001b[38;5;124m\"\u001b[39m\u001b[38;5;124m$\u001b[39m\u001b[38;5;124m\"\u001b[39m\n\u001b[1;32m----> 7\u001b[0m \u001b[38;5;28;01melif\u001b[39;00m \u001b[43mchar\u001b[49m\u001b[38;5;241;43m.\u001b[39;49m\u001b[43misaplpha\u001b[49m():\n\u001b[0;32m      8\u001b[0m     en_msg\u001b[38;5;241m+\u001b[39m\u001b[38;5;241m=\u001b[39m\u001b[38;5;28mchr\u001b[39m(\u001b[38;5;28mord\u001b[39m(\u001b[38;5;124m'\u001b[39m\u001b[38;5;124ma\u001b[39m\u001b[38;5;124m'\u001b[39m)\u001b[38;5;241m+\u001b[39m(\u001b[38;5;28mord\u001b[39m(\u001b[38;5;124m'\u001b[39m\u001b[38;5;124mz\u001b[39m\u001b[38;5;124m'\u001b[39m)\u001b[38;5;241m-\u001b[39m\u001b[38;5;28mord\u001b[39m(char)))\n\u001b[0;32m      9\u001b[0m \u001b[38;5;28;01melse\u001b[39;00m:\n",
      "\u001b[1;31mAttributeError\u001b[0m: 'str' object has no attribute 'isaplpha'"
     ]
    }
   ],
   "source": [
    "def en_msg(message):\n",
    "    message=message.lower()\n",
    "    en_msg=''\n",
    "    for char in message:\n",
    "        if char==\"\":\n",
    "            en_msg+=\"$\"\n",
    "        elif char.isaplpha():\n",
    "            en_msg+=chr(ord('a')+(ord('z')-ord(char)))\n",
    "        else:\n",
    "            en_msg+=char\n",
    "    return en_msg\n",
    "inp=\"I want to become a Data Analyst\"\n",
    "en_msg=en_msg(inp)\n",
    "print(en_msg)"
   ]
  },
  {
   "cell_type": "code",
   "execution_count": null,
   "id": "0286218e",
   "metadata": {},
   "outputs": [],
   "source": []
  }
 ],
 "metadata": {
  "kernelspec": {
   "display_name": "Python 3 (ipykernel)",
   "language": "python",
   "name": "python3"
  },
  "language_info": {
   "codemirror_mode": {
    "name": "ipython",
    "version": 3
   },
   "file_extension": ".py",
   "mimetype": "text/x-python",
   "name": "python",
   "nbconvert_exporter": "python",
   "pygments_lexer": "ipython3",
   "version": "3.10.0"
  }
 },
 "nbformat": 4,
 "nbformat_minor": 5
}
