{
 "cells": [
  {
   "cell_type": "raw",
   "id": "e9acbb4e-a9fa-49f6-8f4c-bc937dc5294a",
   "metadata": {},
   "source": [
    "What is multiprocessing in python? Why is it useful?"
   ]
  },
  {
   "cell_type": "raw",
   "id": "17efcc5e-ee93-48b4-9959-46957ff05a22",
   "metadata": {},
   "source": [
    "Multiprocessing in Python refers to the ability to run multiple processes or tasks simultaneously on a multi-core CPU or distributed system. It is a way to achieve parallelism in Python by dividing a program into multiple smaller tasks that can be executed simultaneously.\n",
    "\n",
    "Multiprocessing is useful for improving the performance of a program by utilizing all available CPU cores and distributing the workload among them. This can be particularly beneficial for computationally intensive tasks, such as machine learning, data analysis, or simulations, where the use of multiple cores can significantly reduce the execution time.\n",
    "\n",
    "Python's multiprocessing module provides a simple and efficient way to create and manage multiple processes. The module provides a Process class that can be used to create new processes, and a Queue class that can be used to communicate data between processes. Additionally, the module provides other features such as locks, semaphores, and shared memory for synchronizing access to shared resources among the processes.\n",
    "\n",
    "Overall, multiprocessing in Python is a powerful technique that can help to improve the performance of CPU-bound tasks by utilizing all available CPU cores. It can be used in a wide range of applications, from scientific computing to web development, where parallelism is required to achieve better performance."
   ]
  },
  {
   "cell_type": "raw",
   "id": "1e2dfd5f-c6f4-4011-abc1-7540511adf9d",
   "metadata": {},
   "source": [
    "What are the differences between multiprocessing and multithreading?"
   ]
  },
  {
   "cell_type": "raw",
   "id": "aae1081a-44d9-4466-a6bb-116b578db0ab",
   "metadata": {},
   "source": [
    "Multiprocessing and multithreading are two different techniques for achieving parallelism in a program, but they differ in how they create and manage multiple tasks. Here are some of the key differences between multiprocessing and multithreading:\n",
    "\n",
    "CPU vs. I/O Bound Tasks: Multiprocessing is generally suitable for CPU-bound tasks, which require a lot of processing power, while multithreading is more suitable for I/O-bound tasks, which involve a lot of waiting for input/output operations.\n",
    "\n",
    "Separate Processes vs. Threads: Multiprocessing creates multiple processes, each with its own memory space, while multithreading creates multiple threads within the same process, all sharing the same memory space.\n",
    "\n",
    "Inter-Process Communication vs. Shared Memory: Multiprocessing uses inter-process communication (IPC) to communicate between processes, while multithreading uses shared memory to communicate between threads.\n",
    "\n",
    "Overhead: Multiprocessing has more overhead due to the creation of separate processes, while multithreading has less overhead since all threads share the same memory space.\n",
    "\n",
    "Scalability: Multiprocessing can scale well on multi-core processors or distributed systems, while multithreading may suffer from performance degradation due to contention for shared resources.\n",
    "\n",
    "In summary, multiprocessing and multithreading are two different techniques for achieving parallelism in a program, each with its own advantages and disadvantages. The choice between them depends on the specific requirements of the program, such as the type of task, the available hardware, and the need for synchronization and communication between tasks."
   ]
  },
  {
   "cell_type": "raw",
   "id": "7556e26a-560d-4e7b-8e96-7d9ce1203915",
   "metadata": {},
   "source": [
    "Write a python code to create a process using the multiprocessing module."
   ]
  },
  {
   "cell_type": "code",
   "execution_count": 1,
   "id": "32031cb1-69fd-47f1-ac3c-d507304dd328",
   "metadata": {},
   "outputs": [
    {
     "name": "stdout",
     "output_type": "stream",
     "text": [
      "Hello, Alice!\n"
     ]
    }
   ],
   "source": [
    "import multiprocessing\n",
    "\n",
    "def my_function(name):\n",
    "    print(f\"Hello, {name}!\")\n",
    "\n",
    "if __name__ == '__main__':\n",
    "    p = multiprocessing.Process(target=my_function, args=('Alice',))\n",
    "    p.start()\n",
    "    p.join()\n"
   ]
  },
  {
   "cell_type": "markdown",
   "id": "53d894bd-1067-436e-ba69-fa9e31c661df",
   "metadata": {},
   "source": [
    "What is a multiprocessing pool in python? Why is it used?"
   ]
  },
  {
   "cell_type": "markdown",
   "id": "2e80fecd-5561-4823-9a2f-851810c6e76e",
   "metadata": {},
   "source": [
    "A multiprocessing pool in Python is a way to manage a pool of worker processes that can be used to parallelize the execution of a function across multiple input values. The multiprocessing.Pool class provides a simple and efficient way to create a pool of worker processes that can be used to execute a function with different inputs in parallel.\n",
    "\n",
    "The Pool class works by creating a fixed number of worker processes in a pool, which can be used to execute tasks asynchronously. The apply() method of the Pool class can then be used to apply a given function to a list of input values, which will be distributed across the worker processes for parallel execution."
   ]
  },
  {
   "cell_type": "code",
   "execution_count": 2,
   "id": "f918f797-8872-4d06-b0b5-a8090401346c",
   "metadata": {},
   "outputs": [
    {
     "name": "stdout",
     "output_type": "stream",
     "text": [
      "[2, 4, 6, 8, 10]\n"
     ]
    }
   ],
   "source": [
    "import multiprocessing\n",
    "def my_function(x):\n",
    "    # do some computation on input x\n",
    "    return x * 2\n",
    "if __name__ == '__main__':\n",
    "    with multiprocessing.Pool(processes=4) as pool:\n",
    "        inputs = [1, 2, 3, 4, 5]\n",
    "        results = pool.map(my_function, inputs)\n",
    "        print(results)\n"
   ]
  },
  {
   "cell_type": "markdown",
   "id": "75e4d88f-e51c-4c97-a38f-ba87e9bb6ba3",
   "metadata": {},
   "source": [
    "Write a python program to create 4 processes, each process should print a different number using the\n",
    "multiprocessing module in python."
   ]
  },
  {
   "cell_type": "code",
   "execution_count": 6,
   "id": "61684acf-303d-4c92-9776-e28872af725d",
   "metadata": {},
   "outputs": [
    {
     "name": "stdout",
     "output_type": "stream",
     "text": [
      "1\n",
      "2\n",
      "3\n",
      "4\n"
     ]
    }
   ],
   "source": [
    "import multiprocessing\n",
    "\n",
    "def print_number(num):\n",
    "    print(num)\n",
    "\n",
    "if __name__ == '__main__':\n",
    "    nums = [1, 2, 3, 4]\n",
    "    processes = []\n",
    "    for num in nums:\n",
    "        p = multiprocessing.Process(target=print_number, args=(num,))\n",
    "        processes.append(p)\n",
    "        p.start()\n",
    "\n",
    "    for p in processes:\n",
    "        p.join()\n"
   ]
  },
  {
   "cell_type": "code",
   "execution_count": null,
   "id": "3cbebd76-1504-42b2-bb20-13966ba4a724",
   "metadata": {},
   "outputs": [],
   "source": []
  }
 ],
 "metadata": {
  "kernelspec": {
   "display_name": "Python 3 (ipykernel)",
   "language": "python",
   "name": "python3"
  },
  "language_info": {
   "codemirror_mode": {
    "name": "ipython",
    "version": 3
   },
   "file_extension": ".py",
   "mimetype": "text/x-python",
   "name": "python",
   "nbconvert_exporter": "python",
   "pygments_lexer": "ipython3",
   "version": "3.10.8"
  }
 },
 "nbformat": 4,
 "nbformat_minor": 5
}
