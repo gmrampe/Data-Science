{
 "cells": [
  {
   "cell_type": "markdown",
   "id": "5d817905-62e5-4556-aa17-61b10e44d93e",
   "metadata": {},
   "source": [
    "# Threading"
   ]
  },
  {
   "cell_type": "markdown",
   "id": "655375d4-554a-4624-bf0b-7deb12818fc5",
   "metadata": {},
   "source": [
    "what is multithreading in python? why is it used? Name the module used to handle threads in python"
   ]
  },
  {
   "cell_type": "markdown",
   "id": "b6d8b226-51a3-4a37-b6a7-3ac17717e441",
   "metadata": {},
   "source": [
    "Multithreading in Python refers to the process of running multiple threads of execution simultaneously within a single process. In other words, it allows a Python program to perform multiple tasks concurrently.\n",
    "\n",
    "Multithreading is used to improve the performance of programs that perform I/O bound operations such as reading or writing to files, sockets, or databases. By using multiple threads, these operations can be performed concurrently, which can significantly reduce the overall execution time of the program.\n",
    "\n",
    "Python provides a built-in module called threading for creating and managing threads. The threading module allows you to create and start new threads, wait for threads to complete, and communicate between threads using synchronization primitives like locks and semaphores."
   ]
  },
  {
   "cell_type": "code",
   "execution_count": 1,
   "id": "3b770b42-0909-48b2-90c6-d8818d7e9428",
   "metadata": {},
   "outputs": [],
   "source": [
    "# why threading module used? write the use of the following functions.activeCount(),currentThread(),enumerate()"
   ]
  },
  {
   "cell_type": "markdown",
   "id": "a92fe2e3-5a7a-4d18-a1f6-f1af0aa160d7",
   "metadata": {},
   "source": [
    "The threading module in Python is used for creating and managing threads of execution within a single process. It provides a simple and efficient way to write concurrent programs that can run multiple threads of execution simultaneously.\n",
    "\n",
    "Here are the explanations for the following functions of the threading module:\n",
    "\n",
    "activeCount(): This function returns the number of currently active threads in the current thread's context. It can be useful for monitoring the progress of your program or for debugging purposes.\n",
    "\n",
    "currentThread(): This function returns a reference to the currently executing thread object. It can be used to get information about the currently running thread, such as its name, ID, or state.\n",
    "\n",
    "enumerate(): This function returns a list of all the currently active thread objects in the current thread's context. It can be used to get information about all the threads that are currently running, such as their names, IDs, or states.\n",
    "\n",
    "Overall, these functions are useful for managing and monitoring threads in Python programs. They can help you to create more efficient and robust concurrent programs that can take advantage of the power of multithreading."
   ]
  },
  {
   "cell_type": "code",
   "execution_count": 2,
   "id": "3f42ca0f-b6dd-4788-a3f5-f6b337d30b10",
   "metadata": {},
   "outputs": [],
   "source": [
    "#Explain the following functions ,run,start,join,isAlive"
   ]
  },
  {
   "cell_type": "markdown",
   "id": "175c9d52-ec35-47e6-9ac6-618d92dd11b3",
   "metadata": {},
   "source": [
    "These functions are related to managing threads in Python using the threading module:\n",
    "\n",
    "run(): This function is called when a thread is started using the start() method. It contains the code that will be executed in the new thread.\n",
    "\n",
    "start(): This method is used to start a new thread of execution. When called, it creates a new thread and calls the run() method of the thread object in the new thread.\n",
    "\n",
    "join(): This method blocks the calling thread until the thread on which it is called completes. It is often used to wait for a thread to finish before continuing with the rest of the program.\n",
    "\n",
    "isAlive(): This method returns a boolean value indicating whether the thread is currently running or not. It can be used to check the status of a thread and determine whether it has completed or is still running.\n",
    "\n",
    "In summary, run() is the method containing the code executed by a thread, start() is used to begin a new thread of execution, join() is used to wait for a thread to complete before continuing, and isAlive() is used to check whether a thread is still running or not. These functions are fundamental to managing threads in Python and can be used to create efficient and robust concurrent programs."
   ]
  },
  {
   "cell_type": "code",
   "execution_count": 3,
   "id": "229481da-aaa8-4bcc-92a1-9def333d8766",
   "metadata": {},
   "outputs": [],
   "source": [
    "# write a python program to create two threads. Thread one must print the list of squares and threadtwo must print the list of cubes"
   ]
  },
  {
   "cell_type": "code",
   "execution_count": 4,
   "id": "6668a6f5-a7c3-406e-8acf-b024889de19e",
   "metadata": {},
   "outputs": [
    {
     "name": "stdout",
     "output_type": "stream",
     "text": [
      "1 squared is 1\n",
      "2 squared is 4\n",
      "3 squared is 9\n",
      "4 squared is 16\n",
      "5 squared is 25\n",
      "6 squared is 36\n",
      "7 squared is 49\n",
      "8 squared is 64\n",
      "9 squared is 81\n",
      "10 squared is 100\n",
      "1 cubed is 1\n",
      "2 cubed is 8\n",
      "3 cubed is 27\n",
      "4 cubed is 64\n",
      "5 cubed is 125\n",
      "6 cubed is 216\n",
      "7 cubed is 343\n",
      "8 cubed is 512\n",
      "9 cubed is 729\n",
      "10 cubed is 1000\n",
      "Done\n"
     ]
    }
   ],
   "source": [
    "import threading\n",
    "def print_squares():\n",
    "    for i in range(1, 11):\n",
    "        print(f\"{i} squared is {i*i}\")\n",
    "def print_cubes():\n",
    "    for i in range(1, 11):\n",
    "        print(f\"{i} cubed is {i*i*i}\")\n",
    "\n",
    "if __name__ == \"__main__\":\n",
    "    # Create two threads\n",
    "    t1 = threading.Thread(target=print_squares)\n",
    "    t2 = threading.Thread(target=print_cubes)\n",
    "\n",
    "    # Start both threads\n",
    "    t1.start()\n",
    "    t2.start()\n",
    "\n",
    "    # Wait for both threads to complete\n",
    "    t1.join()\n",
    "    t2.join()\n",
    "\n",
    "    print(\"Done\")\n"
   ]
  },
  {
   "cell_type": "code",
   "execution_count": 5,
   "id": "dae5f591-b9a1-4a00-861c-fddef5ee4fe6",
   "metadata": {},
   "outputs": [],
   "source": [
    "# State advantages and disadvantages of multithreading"
   ]
  },
  {
   "cell_type": "markdown",
   "id": "f38baff7-7f99-4b07-9041-14070410f0b7",
   "metadata": {},
   "source": [
    "Multithreading is a powerful technique for improving the performance and responsiveness of programs. However, like any tool, it has its advantages and disadvantages. Here are some of the main advantages and disadvantages of multithreading:\n",
    "\n",
    "Advantages:\n",
    "\n",
    "Improved performance: Multithreading can improve the performance of programs that perform I/O bound operations, such as reading or writing to files, sockets, or databases. By using multiple threads, these operations can be performed concurrently, which can significantly reduce the overall execution time of the program.\n",
    "\n",
    "Better resource utilization: Multithreading can help to better utilize the available system resources, such as CPU, memory, and I/O devices. By allowing multiple threads to execute concurrently, the CPU can switch between threads and keep all cores busy, which can result in faster execution times.\n",
    "\n",
    "Improved responsiveness: Multithreading can help to improve the responsiveness of user interfaces and other interactive applications by allowing tasks to be executed in the background while the user interface remains responsive.\n",
    "\n",
    "Disadvantages:\n",
    "\n",
    "Increased complexity: Multithreading can make programs more complex and harder to debug and maintain. Synchronization and communication between threads can be difficult to get right, and errors can lead to subtle bugs that are hard to reproduce and diagnose.\n",
    "\n",
    "Risk of race conditions: Multithreading can introduce the risk of race conditions, where multiple threads access the same data or resource concurrently, leading to unpredictable results. This can be mitigated by using synchronization primitives such as locks, but these can introduce additional overhead and complexity.\n",
    "\n",
    "Overhead: Multithreading can introduce additional overhead, such as the cost of creating and managing threads, and the cost of synchronization and communication between threads. This overhead can sometimes outweigh the benefits of using multithreading, especially for programs that are not I/O bound."
   ]
  },
  {
   "cell_type": "code",
   "execution_count": 6,
   "id": "ef3e9dcd-45f7-4d71-a140-b06705bf3b09",
   "metadata": {},
   "outputs": [],
   "source": [
    "# Explain deadlocks and race conditions."
   ]
  },
  {
   "cell_type": "markdown",
   "id": "8acc2b63-dd52-45ce-863f-3e1aba2dee2c",
   "metadata": {},
   "source": [
    "Deadlocks and race conditions are two common problems that can occur in concurrent programs when multiple threads access shared resources.\n",
    "\n",
    "Deadlock:\n",
    "A deadlock occurs when two or more threads are blocked and waiting for each other to release resources that they need to continue execution. In a deadlock, none of the threads can make progress, and the program is effectively stuck. Deadlocks can be caused by a variety of factors, such as resource allocation policies, timing issues, and programming errors. Deadlocks can be hard to detect and debug, and they can be particularly problematic in systems that require high availability and reliability.\n",
    "\n",
    "Race conditions:\n",
    "A race condition occurs when two or more threads access a shared resource concurrently and the behavior of the program depends on the order in which the threads execute. In other words, the output of the program is \"racing\" to be determined by the order of execution of the threads. Race conditions can lead to unexpected and unpredictable behavior, such as incorrect results, crashes, and data corruption. Race conditions can be caused by a variety of factors, such as incorrect synchronization, shared mutable data, and timing issues.\n",
    "\n",
    "To prevent deadlocks and race conditions, it is important to use appropriate synchronization techniques, such as locks, semaphores, and condition variables, to coordinate access to shared resources. It is also important to design programs with concurrency in mind, taking into account the potential interactions and dependencies between threads. Finally, testing and debugging concurrent programs can be challenging, so it is important to use appropriate tools and techniques, such as thread-safe data structures and concurrency testing frameworks, to ensure the correctness and reliability of the program."
   ]
  },
  {
   "cell_type": "code",
   "execution_count": null,
   "id": "0ffdbd4a-0ac3-41fb-bebd-1c9a0fce0e01",
   "metadata": {},
   "outputs": [],
   "source": []
  }
 ],
 "metadata": {
  "kernelspec": {
   "display_name": "Python 3 (ipykernel)",
   "language": "python",
   "name": "python3"
  },
  "language_info": {
   "codemirror_mode": {
    "name": "ipython",
    "version": 3
   },
   "file_extension": ".py",
   "mimetype": "text/x-python",
   "name": "python",
   "nbconvert_exporter": "python",
   "pygments_lexer": "ipython3",
   "version": "3.10.8"
  }
 },
 "nbformat": 4,
 "nbformat_minor": 5
}
