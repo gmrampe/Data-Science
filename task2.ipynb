{
 "cells": [
  {
   "cell_type": "markdown",
   "id": "ebae73cf-d989-4c83-9ec4-367ddfcec0d6",
   "metadata": {},
   "source": [
    "#Q1. You are writing code for a company. The requirement of the company is that you create a python\n",
    "function that will check whether the password entered by the user is correct or not. The function should\n",
    "take the password as input and return the string “Valid Password” if the entered password follows the\n",
    "below-given password guidelines else it should return “Invalid Password”.\n",
    "Note: 1. The Password should contain at least two uppercase letters and at least two lowercase letters.\n",
    "2. The Password should contain at least a number and three special characters.\n",
    "3. The length of the password should be 10 characters long."
   ]
  },
  {
   "cell_type": "code",
   "execution_count": 28,
   "id": "b7cf8051-5195-4c99-8b84-85a58a7f83b9",
   "metadata": {},
   "outputs": [],
   "source": [
    "def check_password(password):\n",
    "    uppercase_letters = sum(1 for c in password if c.isupper())\n",
    "    lowercase_letters = sum(1 for c in password if c.islower())\n",
    "    numbers = sum(1 for c in password if c.isdigit())\n",
    "    special_characters = sum(1 for c in password if not c.isalnum())\n",
    "    \n",
    "    if len(password) != 10:\n",
    "        return \"Invalid Password\"\n",
    "    elif uppercase_letters < 2 or lowercase_letters < 2:\n",
    "        return \"Invalid Password\"\n",
    "    elif numbers < 1 or special_characters < 3:\n",
    "        return \"Invalid Password\"\n",
    "    else:\n",
    "        return \"Valid Password\"\n",
    "password=\"MHab@&%2ab\""
   ]
  },
  {
   "cell_type": "code",
   "execution_count": 29,
   "id": "ca353408-0af8-43f5-a8ef-e44fec698ed7",
   "metadata": {},
   "outputs": [
    {
     "data": {
      "text/plain": [
       "'Valid Password'"
      ]
     },
     "execution_count": 29,
     "metadata": {},
     "output_type": "execute_result"
    }
   ],
   "source": [
    "check_password(password)"
   ]
  },
  {
   "cell_type": "code",
   "execution_count": 30,
   "id": "f8f65758-55ae-4d56-830b-fdae4f25d981",
   "metadata": {},
   "outputs": [],
   "source": [
    "def check_password(password):\n",
    "    uppercase_letters = sum(1 for c in password if c.isupper())\n",
    "    lowercase_letters = sum(1 for c in password if c.islower())\n",
    "    numbers = sum(1 for c in password if c.isdigit())\n",
    "    special_characters = sum(1 for c in password if not c.isalnum())\n",
    "    \n",
    "    if len(password) != 10:\n",
    "        return \"Invalid Password\"\n",
    "    elif uppercase_letters < 2 or lowercase_letters < 2:\n",
    "        return \"Invalid Password\"\n",
    "    elif numbers < 1 or special_characters < 3:\n",
    "        return \"Invalid Password\"\n",
    "    else:\n",
    "        return \"Valid Password\"\n",
    "password=\"MHab@&%2\""
   ]
  },
  {
   "cell_type": "code",
   "execution_count": 31,
   "id": "ad0fdfb4-3878-48c0-ac4b-3ad27af9652c",
   "metadata": {},
   "outputs": [
    {
     "data": {
      "text/plain": [
       "'Invalid Password'"
      ]
     },
     "execution_count": 31,
     "metadata": {},
     "output_type": "execute_result"
    }
   ],
   "source": [
    "check_password(password)"
   ]
  },
  {
   "cell_type": "markdown",
   "id": "be3a08b5-5346-436f-a5ef-60e42900dbdc",
   "metadata": {},
   "source": [
    "#Q2. Solve the below-given questions using at least one of the following:\n",
    "1. Lambda functioJ\n",
    "2. Filter functioJ\n",
    "3. Zap functioJ\n",
    "4. List ComprehensioI\n",
    "B Check if the string starts with a particular letterY\n",
    "B Check if the string is numericY\n",
    "B Sort a list of tuples having fruit names and their quantity. [(\"mango\",99),(\"orange\",80), (\"grapes\", 1000)-\n",
    "B Find the squares of numbers from 1 to 10Y\n",
    "B Find the cube root of numbers from 1 to 10Y\n",
    "B Check if a given number is evenY\n",
    "B Filter odd numbers from the given list.\n",
    "[1,2,3,4,5,6,7,8,9,10-\n",
    "B Sort a list of integers into positive and negative integers lists.\n",
    "[1,2,3,4,5,6,-1,-2,-3,-4,-5,0]"
   ]
  },
  {
   "cell_type": "code",
   "execution_count": 32,
   "id": "d3d59c77-7de2-41b7-a4b5-88d0aaa48daf",
   "metadata": {},
   "outputs": [
    {
     "name": "stdout",
     "output_type": "stream",
     "text": [
      "True\n"
     ]
    }
   ],
   "source": [
    "string = \"Hello, World!\"\n",
    "starts_with = lambda s: s.startswith(\"H\")\n",
    "print(starts_with(string))\n"
   ]
  },
  {
   "cell_type": "code",
   "execution_count": 33,
   "id": "ac38bc83-c277-4454-8a14-326beddf3069",
   "metadata": {},
   "outputs": [
    {
     "name": "stdout",
     "output_type": "stream",
     "text": [
      "True\n"
     ]
    }
   ],
   "source": [
    "string='123456789'\n",
    "start_with = lambda s:s.isdigit()\n",
    "print(start_with(string))"
   ]
  },
  {
   "cell_type": "code",
   "execution_count": 34,
   "id": "b61225e5-9134-4236-84b4-40f25524346f",
   "metadata": {},
   "outputs": [
    {
     "name": "stdout",
     "output_type": "stream",
     "text": [
      "[('orange', 80), ('mango', 99), ('grapes', 1000)]\n"
     ]
    }
   ],
   "source": [
    "fruits = [(\"mango\", 99), (\"orange\", 80), (\"grapes\", 1000)]\n",
    "sorted_fruits = sorted(fruits, key=lambda x: x[1])\n",
    "print(sorted_fruits)"
   ]
  },
  {
   "cell_type": "code",
   "execution_count": 35,
   "id": "278609e0-58fd-4b4c-8e4a-4fb0b072914f",
   "metadata": {},
   "outputs": [
    {
     "name": "stdout",
     "output_type": "stream",
     "text": [
      "[1, 4, 9, 16, 25, 36, 49, 64, 81, 100]\n"
     ]
    }
   ],
   "source": [
    "n=range(1,11)\n",
    "p=[n**2 for n in n]\n",
    "print(p)"
   ]
  },
  {
   "cell_type": "code",
   "execution_count": 36,
   "id": "a871c705-040c-4389-873e-ef79b9f6cf31",
   "metadata": {},
   "outputs": [
    {
     "name": "stdout",
     "output_type": "stream",
     "text": [
      "True\n"
     ]
    }
   ],
   "source": [
    "n=4\n",
    "p=lambda x: x%2==0 \n",
    "print(p(n))"
   ]
  },
  {
   "cell_type": "code",
   "execution_count": 37,
   "id": "a7c61086-05d6-49cd-a2a1-15177386adf3",
   "metadata": {},
   "outputs": [
    {
     "name": "stdout",
     "output_type": "stream",
     "text": [
      "[1, 3, 5, 7, 9]\n"
     ]
    }
   ],
   "source": [
    "numbers = [1, 2, 3, 4, 5, 6, 7, 8, 9, 10]\n",
    "odd=list(filter(lambda x:x%2!=0,numbers))\n",
    "print(odd)"
   ]
  },
  {
   "cell_type": "code",
   "execution_count": 38,
   "id": "47eeff66-1696-46dd-a317-6694630182d7",
   "metadata": {},
   "outputs": [
    {
     "name": "stdout",
     "output_type": "stream",
     "text": [
      "Positive numbers:  [1, 2, 3, 4, 5, 6]\n",
      "Negative numbers:  [-1, -2, -3, -4, -5]\n"
     ]
    }
   ],
   "source": [
    "numbers = [1, 2, 3, 4, 5, 6, -1, -2, -3, -4, -5, 0]\n",
    "positive_numbers = [n for n in numbers if n > 0]\n",
    "negative_numbers = [n for n in numbers if n < 0]\n",
    "print(\"Positive numbers: \", positive_numbers)\n",
    "print(\"Negative numbers: \", negative_numbers) \n"
   ]
  },
  {
   "cell_type": "code",
   "execution_count": null,
   "id": "2b80e4ff-4ae7-419a-882d-ec20bb13974c",
   "metadata": {},
   "outputs": [],
   "source": []
  },
  {
   "cell_type": "code",
   "execution_count": null,
   "id": "16ee4eb2-69bf-4b7e-ad73-5bdae87ba391",
   "metadata": {},
   "outputs": [],
   "source": []
  }
 ],
 "metadata": {
  "kernelspec": {
   "display_name": "Python 3 (ipykernel)",
   "language": "python",
   "name": "python3"
  },
  "language_info": {
   "codemirror_mode": {
    "name": "ipython",
    "version": 3
   },
   "file_extension": ".py",
   "mimetype": "text/x-python",
   "name": "python",
   "nbconvert_exporter": "python",
   "pygments_lexer": "ipython3",
   "version": "3.10.8"
  }
 },
 "nbformat": 4,
 "nbformat_minor": 5
}
