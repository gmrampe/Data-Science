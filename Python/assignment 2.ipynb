{
 "cells": [
  {
   "cell_type": "markdown",
   "id": "8e85b971-338b-4778-b82b-00bd70666d7d",
   "metadata": {},
   "source": [
    "# Assignments on Tuple and Set"
   ]
  },
  {
   "cell_type": "markdown",
   "id": "8c7ea7a4-b65d-4fab-9653-c15db4c4f0ec",
   "metadata": {},
   "source": [
    "# Q1. What are the characteristics of the tuples? Is tuple immutable? "
   ]
  },
  {
   "cell_type": "markdown",
   "id": "015c75e5-8dc7-4f04-9bf5-f603df89709e",
   "metadata": {
    "tags": []
   },
   "source": [
    "Tuples are an ordered, immutable, and heterogeneous collection of elements. Immutable means that the elements of a tuple can not be changed once they are assigned."
   ]
  },
  {
   "cell_type": "markdown",
   "id": "d8cf5d32-af39-485a-9e75-895a15989fad",
   "metadata": {},
   "source": [
    "# 2.What are the two tuple methods in python? Give an example of each method. Give a reason why  tuples have only two in-built methods as compared to Lists\n"
   ]
  },
  {
   "cell_type": "code",
   "execution_count": 41,
   "id": "79268cb5-fe88-4b2a-8209-9ef7c5e364e5",
   "metadata": {},
   "outputs": [],
   "source": [
    "#in tuple the two methods they are indexing and counting in the tuple\n",
    "#The reason why tuples have only two in-built methods as compared to lists is because tuples are designed to be a lightweight and simple data structure that holds a small, fixed number of elements. The goal of tuples is to provide an efficient, hashable, and ordered collection of elements with a minimal overhead, and having a small number of methods supports this design goal. In contrast, lists are designed to be more flexible and dynamic, with a larger number of methods for manipulating the elements, which is reflected in the larger number of built-in methods available for lists.\n",
    "t=(1,2,3,4,5,7)"
   ]
  },
  {
   "cell_type": "code",
   "execution_count": 42,
   "id": "3e8122a8-e56b-4194-aa09-ebe76a042fd2",
   "metadata": {},
   "outputs": [
    {
     "data": {
      "text/plain": [
       "(1, 2, 3, 4, 5, 7)"
      ]
     },
     "execution_count": 42,
     "metadata": {},
     "output_type": "execute_result"
    }
   ],
   "source": [
    "t"
   ]
  },
  {
   "cell_type": "code",
   "execution_count": 43,
   "id": "982c13a2-07a6-462e-a269-fc7d9c4b75c4",
   "metadata": {},
   "outputs": [
    {
     "data": {
      "text/plain": [
       "1"
      ]
     },
     "execution_count": 43,
     "metadata": {},
     "output_type": "execute_result"
    }
   ],
   "source": [
    "t.count(1)#Return number of occurrences of value"
   ]
  },
  {
   "cell_type": "code",
   "execution_count": 44,
   "id": "97579ce9-cb69-4c0d-a0e0-184b127e276a",
   "metadata": {},
   "outputs": [
    {
     "name": "stdout",
     "output_type": "stream",
     "text": [
      "0\n",
      "2\n"
     ]
    }
   ],
   "source": [
    "print(t.index(1))\n",
    "print(t.index(3))\n",
    "#Return theindex of value."
   ]
  },
  {
   "cell_type": "markdown",
   "id": "c0a4eefb-aa4c-4189-a702-72d1a0a16f8c",
   "metadata": {},
   "source": [
    "# Which collection datatypes in python do not allow duplicate items? Write a code using a set to remove\n",
    "#duplicates from the given list.\n",
    "List = [1, 1, 1, 2, 1, 3, 1, 4, 2, 1, 2, 2, 2, 3, 2, 4, 3, 1, 3, 2, 3, 3, 3, 4, 4, 1, 4, 2, 4, 3, 4, 4]"
   ]
  },
  {
   "cell_type": "markdown",
   "id": "616ee9ea-2c84-481a-a9a8-600d803e52dc",
   "metadata": {},
   "source": [
    "# Ans:: set data type does not allowed duplicates items"
   ]
  },
  {
   "cell_type": "code",
   "execution_count": 45,
   "id": "56d4be6e-d2e5-4d65-9b12-28e595cbc151",
   "metadata": {},
   "outputs": [
    {
     "name": "stdout",
     "output_type": "stream",
     "text": [
      "[1, 2, 3, 4]\n"
     ]
    }
   ],
   "source": [
    "def remove_duplicates(List):\n",
    "    return list(set(List))\n",
    "List = [1, 1, 1, 2, 1, 3, 1, 4, 2, 1, 2, 2, 2, 3, 2, 4, 3, 1, 3, 2, 3, 3, 3, 4, 4, 1, 4, 2, 4, 3, 4, 4]\n",
    "print(remove_duplicates(List))\n"
   ]
  },
  {
   "cell_type": "markdown",
   "id": "3380dad6-561d-4822-8a2f-b5095a9e9827",
   "metadata": {},
   "source": [
    "# 4.Explain the difference between the union() and update() methods for a set. Give an example of each method."
   ]
  },
  {
   "cell_type": "markdown",
   "id": "b7f89fa3-0413-4869-843b-608f66302d34",
   "metadata": {},
   "source": [
    "The union() and update() methods are used to combine the elements of two sets. However, they behave differently.\n",
    "The union() method returns a new set that contains all the elements from both the original set and the set passed as an argument. The original sets are not modified. "
   ]
  },
  {
   "cell_type": "code",
   "execution_count": 46,
   "id": "34c50484-7538-47c9-8fea-7dd27976fb82",
   "metadata": {},
   "outputs": [
    {
     "name": "stdout",
     "output_type": "stream",
     "text": [
      "{1, 2, 3, 4, 5}\n"
     ]
    }
   ],
   "source": [
    "set1 = {1, 2, 3}\n",
    "set2 = {3, 4, 5}\n",
    "set3 = set1.union(set2)\n",
    "print(set3)"
   ]
  },
  {
   "cell_type": "markdown",
   "id": "f485a3eb-4228-4fb8-a590-6e05696a2d1f",
   "metadata": {},
   "source": [
    "The update() method modifies the original set by adding all the elements from the set passed as an argument to it."
   ]
  },
  {
   "cell_type": "code",
   "execution_count": 47,
   "id": "2bbbaaea-94cd-4172-b776-b54b71d60405",
   "metadata": {},
   "outputs": [
    {
     "name": "stdout",
     "output_type": "stream",
     "text": [
      "{1, 2, 3, 4, 5}\n"
     ]
    }
   ],
   "source": [
    "set1 = {1, 2, 3}\n",
    "set2 = {3, 4, 5}\n",
    "set1.update(set2)\n",
    "print(set1)"
   ]
  },
  {
   "cell_type": "markdown",
   "id": "544156c2-4852-4bb8-a5e1-b51ee63b07f0",
   "metadata": {},
   "source": [
    "# What is a dictionary? Give an example. Also, state whether a dictionary is ordered or unordered."
   ]
  },
  {
   "cell_type": "markdown",
   "id": "3ee558b2-05ad-4ed5-a71e-ad13533c6d0e",
   "metadata": {},
   "source": [
    "A dictionary in Python is an unordered collection of key-value pairs, where each key maps to a unique value. Dictionaries are implemented as hash tables, and allow for fast lookups and efficient element insertion and deletion."
   ]
  },
  {
   "cell_type": "code",
   "execution_count": 49,
   "id": "21c16e6c-e0cd-46c7-8f27-63463cdfaea9",
   "metadata": {},
   "outputs": [
    {
     "name": "stdout",
     "output_type": "stream",
     "text": [
      "{'name': 'John Doe', 'age': 30, 'city': 'New York'}\n"
     ]
    }
   ],
   "source": [
    "person = {'name': 'John Doe', 'age': 30, 'city': 'New York'}\n",
    "print(person)"
   ]
  },
  {
   "cell_type": "markdown",
   "id": "3c8e5a7c-7738-42d2-a8e3-7d37753afa1e",
   "metadata": {},
   "source": [
    "# Can we create a nested dictionary? If so, please give an example by creating a simple one-level nested dictionary."
   ]
  },
  {
   "cell_type": "markdown",
   "id": "0ae523a5-29fd-4400-81dd-fb15cff0e90a",
   "metadata": {},
   "source": [
    "Yes, We can create a nested dictionary in Python. A nested dictionary is a dictionary that contains another dictionary as one of its values. Here's an example of a simple one-level nested dictionary:"
   ]
  },
  {
   "cell_type": "code",
   "execution_count": 51,
   "id": "fd353b08-a66e-4e11-b9fe-1f2a4e3405ab",
   "metadata": {},
   "outputs": [
    {
     "name": "stdout",
     "output_type": "stream",
     "text": [
      "{'name': 'John Doe', 'details': {'age': 30, 'city': 'New York'}}\n"
     ]
    }
   ],
   "source": [
    "person = {'name': 'John Doe', 'details': {'age': 30, 'city': 'New York'}}\n",
    "print(person)"
   ]
  },
  {
   "cell_type": "markdown",
   "id": "a0a9e136-889f-45f6-aceb-3b1780041d3f",
   "metadata": {},
   "source": [
    "# Using setdefault() method, create key named topics in the given dictionary and also add the value of the key as this list ['Python', 'Machine Learning’, 'Deep Learning']"
   ]
  },
  {
   "cell_type": "code",
   "execution_count": 52,
   "id": "f6ca6291-32ef-4321-abb4-d43d46b012d7",
   "metadata": {},
   "outputs": [
    {
     "name": "stdout",
     "output_type": "stream",
     "text": [
      "{'name': 'John Doe', 'topics': ['Python', 'Machine Learning', 'Deep Learning']}\n"
     ]
    }
   ],
   "source": [
    "person = {'name': 'John Doe'}\n",
    "person.setdefault('topics', ['Python', 'Machine Learning', 'Deep Learning'])\n",
    "print(person)"
   ]
  },
  {
   "cell_type": "markdown",
   "id": "d4e51a78-8fc9-4446-b45f-7ed4fc08029e",
   "metadata": {},
   "source": [
    "# What are the three view objects in dictionaries? Use the three in-built methods in python to display\n",
    "these three view objects for the given dictionary.\n",
    "dict1 = {'Sport': 'Cricket' , 'Teams': ['India', 'Australia', 'England', 'South Africa', 'Sri Lanka', 'New Zealand']}"
   ]
  },
  {
   "cell_type": "markdown",
   "id": "f9123f9a-d050-4e3c-82c6-18b3feb99b00",
   "metadata": {},
   "source": [
    "The three view objects in dictionaries are:\n",
    "\n",
    "keys()\n",
    "values()\n",
    "items()\n",
    "Here is an example of how to display these three view objects in Python:"
   ]
  },
  {
   "cell_type": "code",
   "execution_count": 53,
   "id": "d95f55c3-3864-438f-a89e-e692f2dc246c",
   "metadata": {},
   "outputs": [
    {
     "name": "stdout",
     "output_type": "stream",
     "text": [
      "Keys view object: dict_keys(['Sport', 'Teams'])\n",
      "Values view object: dict_values(['Cricket', ['India', 'Australia', 'England', 'South Africa', 'Sri Lanka', 'New Zealand']])\n",
      "Items view object: dict_items([('Sport', 'Cricket'), ('Teams', ['India', 'Australia', 'England', 'South Africa', 'Sri Lanka', 'New Zealand'])])\n"
     ]
    }
   ],
   "source": [
    "dict1 = {'Sport': 'Cricket' , 'Teams': ['India', 'Australia', 'England', 'South Africa', 'Sri Lanka', 'New Zealand']}\n",
    "\n",
    "# Displaying the keys view object\n",
    "print(\"Keys view object:\", dict1.keys())\n",
    "\n",
    "# Displaying the values view object\n",
    "print(\"Values view object:\", dict1.values())\n",
    "\n",
    "# Displaying the items view object\n",
    "print(\"Items view object:\", dict1.items())"
   ]
  },
  {
   "cell_type": "code",
   "execution_count": null,
   "id": "a15b7789-adc6-4f8f-8cfa-efe17a66e134",
   "metadata": {},
   "outputs": [],
   "source": []
  }
 ],
 "metadata": {
  "kernelspec": {
   "display_name": "Python 3 (ipykernel)",
   "language": "python",
   "name": "python3"
  },
  "language_info": {
   "codemirror_mode": {
    "name": "ipython",
    "version": 3
   },
   "file_extension": ".py",
   "mimetype": "text/x-python",
   "name": "python",
   "nbconvert_exporter": "python",
   "pygments_lexer": "ipython3",
   "version": "3.10.8"
  }
 },
 "nbformat": 4,
 "nbformat_minor": 5
}
