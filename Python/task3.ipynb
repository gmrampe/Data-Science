{
 "cells": [
  {
   "cell_type": "markdown",
   "id": "6d022331-9620-4672-9471-193787801839",
   "metadata": {},
   "source": [
    "# Create a vehicle class with an init method having instance variables as name_of_vehicle, max_speed\n",
    "and average_of_vehicle."
   ]
  },
  {
   "cell_type": "code",
   "execution_count": 10,
   "id": "ac7f1b77-24f4-4666-93d2-ce8ebce8fc96",
   "metadata": {},
   "outputs": [
    {
     "name": "stdout",
     "output_type": "stream",
     "text": [
      "bus\n",
      "100\n",
      "20\n"
     ]
    }
   ],
   "source": [
    "class Vehicle:\n",
    "    def __init__(self,name_of_vehicle,max_speed,average_of_vehicle):\n",
    "        self.name_of_vehicle=name_of_vehicle\n",
    "        self.max_speed=max_speed\n",
    "        self.average_of_vehicle=average_of_vehicle\n",
    "car=Vehicle('bus',100,20)\n",
    "print(car.name_of_vehicle)\n",
    "print(car.max_speed)\n",
    "print(car.average_of_vehicle)"
   ]
  },
  {
   "cell_type": "markdown",
   "id": "cab35b3c-b692-4eba-8713-b2bd24274571",
   "metadata": {},
   "source": [
    "# Create a child class car from the vehicle class created in Que 1, which will inherit the vehicle class.\n",
    "Create a method named seating_capacity which takes capacity as an argument and returns the name of\n",
    "the vehicle and its seating capacity."
   ]
  },
  {
   "cell_type": "code",
   "execution_count": 13,
   "id": "1960ffe1-3736-4c22-b5f2-932f147847b6",
   "metadata": {},
   "outputs": [],
   "source": [
    "class Car(Vehicle):\n",
    "    def seating_capacity(self, capacity):\n",
    "        return f\"The {self.name_of_vehicle} has a seating capacity of {capacity}.\"\n"
   ]
  },
  {
   "cell_type": "code",
   "execution_count": 14,
   "id": "ea83ea0c-51e1-4e01-b9d9-7172e58bb46e",
   "metadata": {},
   "outputs": [
    {
     "name": "stdout",
     "output_type": "stream",
     "text": [
      "The Sedan has a seating capacity of 5.\n"
     ]
    }
   ],
   "source": [
    "my_car = Car(\"Sedan\", 220, 15)\n",
    "print(my_car.seating_capacity(5))\n"
   ]
  },
  {
   "cell_type": "markdown",
   "id": "ec76b081-e79b-4ea1-bc3a-31557b6f79aa",
   "metadata": {},
   "source": [
    "#Q3. What is multiple inheritance? Write a python code to demonstrate multiple inheritance."
   ]
  },
  {
   "cell_type": "markdown",
   "id": "0412d85e-cc8e-4f91-b861-f8bf64f34e70",
   "metadata": {},
   "source": [
    "Multiple inheritance is a feature in object-oriented programming where a class can inherit attributes and methods from multiple parent classes. It allows a class to inherit properties and methods from more than one parent class."
   ]
  },
  {
   "cell_type": "code",
   "execution_count": 5,
   "id": "802950cf-aab7-4920-b4a0-4efd79fe1517",
   "metadata": {},
   "outputs": [
    {
     "name": "stdout",
     "output_type": "stream",
     "text": [
      "In Class2\n"
     ]
    }
   ],
   "source": [
    "class Class1:\n",
    "    def m(self):\n",
    "        print(\"In Class1\")\n",
    "       \n",
    "class Class2(Class1):\n",
    "    def m(self):\n",
    "        print(\"In Class2\")\n",
    " \n",
    "class Class3(Class1):\n",
    "    def m(self):\n",
    "        print(\"In Class3\") \n",
    "        \n",
    "class Class4(Class2, Class3):\n",
    "    pass  \n",
    "     \n",
    "obj = Class4()\n",
    "obj.m()"
   ]
  },
  {
   "cell_type": "markdown",
   "id": "60e851bc-8aab-4ca5-885b-ace19a3e9a0a",
   "metadata": {},
   "source": [
    "# Q4. What are getter and setter in python? Create a class and create a getter and a setter method in this\n",
    "class."
   ]
  },
  {
   "cell_type": "markdown",
   "id": "cfe8595a-5269-4b8c-b8de-2ad208043611",
   "metadata": {},
   "source": [
    "Getters and setters are special methods in object-oriented programming that provide access to an object's properties. A getter method is used to retrieve the value of a property, while a setter method is used to set or update the value of a property.\n",
    "\n",
    "Here's an example of how you can create a class with a getter and a setter method in Python:"
   ]
  },
  {
   "cell_type": "code",
   "execution_count": 11,
   "id": "af98ae9d-2104-42df-884d-f98fbbf50826",
   "metadata": {},
   "outputs": [
    {
     "name": "stdout",
     "output_type": "stream",
     "text": [
      "Name: John\n",
      "Name: Jane\n",
      "Age: 30\n",
      "Age: 40\n"
     ]
    }
   ],
   "source": [
    "class Person:\n",
    "    def __init__(self, name, age):\n",
    "        self._name = name\n",
    "        self._age = age\n",
    "\n",
    "    # Getter method\n",
    "    @property\n",
    "    def name(self):\n",
    "        return self._name\n",
    "\n",
    "    # Setter method\n",
    "    @name.setter\n",
    "    def name(self, name):\n",
    "        self._name = name\n",
    "\n",
    "    # Getter method\n",
    "    @property\n",
    "    def age(self):\n",
    "        return self._age\n",
    "\n",
    "    # Setter method\n",
    "    @age.setter\n",
    "    def age(self, age):\n",
    "        self._age = age\n",
    "person = Person(\"John\", 30)\n",
    "\n",
    "# Get the name using the getter method\n",
    "print(\"Name:\", person.name)\n",
    "\n",
    "# Set the name using the setter method\n",
    "person.name = \"Jane\"\n",
    "\n",
    "# Get the name again using the getter method\n",
    "print(\"Name:\", person.name) # Output: Name: Jane\n",
    "\n",
    "# Get the age using the getter method\n",
    "print(\"Age:\", person.age) # Output: Age: 30\n",
    "\n",
    "# Set the age using the setter method\n",
    "person.age = 40\n",
    "\n",
    "# Get the age again using the getter method\n",
    "print(\"Age:\", person.age) # Output: Age: 40\n",
    "\n",
    "\n"
   ]
  },
  {
   "cell_type": "markdown",
   "id": "0f709871-2fdd-40c2-a730-cb40f36ef2ec",
   "metadata": {},
   "source": [
    "In this example, the Person class has two properties, name and age, which are protected by the underscore prefix _ to indicate that they are intended to be private. The @property decorator is used to define a getter method, and the @property_name.setter decorator is used to define a setter method."
   ]
  },
  {
   "cell_type": "markdown",
   "id": "cd98957d-95a3-4067-9ecd-be365dc26f6d",
   "metadata": {},
   "source": [
    "#Q5.What is method overriding in python? Write a python code to demonstrate method overriding."
   ]
  },
  {
   "cell_type": "markdown",
   "id": "20b06bc8-992d-4395-b1e1-e8d69ddeb306",
   "metadata": {},
   "source": [
    "Method overriding is a feature in object-oriented programming that allows a subclass to provide a different implementation of a method that is already defined in its parent class. The purpose of method overriding is to allow the subclass to modify or extend the behavior of the parent class in a way that is specific to the subclass.\n",
    "\n",
    "Here's a simple example to demonstrate method overriding in Python:"
   ]
  },
  {
   "cell_type": "code",
   "execution_count": 2,
   "id": "5cf01d9e-ba3b-40d9-a929-fbd7ab8fed6e",
   "metadata": {},
   "outputs": [
    {
     "name": "stdout",
     "output_type": "stream",
     "text": [
      "Woof!\n",
      "Meow\n"
     ]
    }
   ],
   "source": [
    "class Animal:\n",
    "    def make_sound(self):\n",
    "        return \"Some generic animal sound\"\n",
    "\n",
    "class Dog(Animal):\n",
    "    def make_sound(self):\n",
    "        return \"Woof!\"\n",
    "\n",
    "class Cat(Animal):\n",
    "    def make_sound(self):\n",
    "        return \"Meow\"\n",
    "\n",
    "dog = Dog()\n",
    "print(dog.make_sound()) # Output: Woof!\n",
    "\n",
    "cat = Cat()\n",
    "print(cat.make_sound()) # Output: Meow\n"
   ]
  },
  {
   "cell_type": "markdown",
   "id": "76fc7954-3faa-41b8-978a-4a71466327de",
   "metadata": {},
   "source": [
    "In this example, the Animal class has a method make_sound, which returns a generic animal sound. The Dog and Cat classes are subclasses of Animal and they both provide a different implementation of the make_sound method. When the make_sound method is called on an instance of Dog or Cat, the subclass's implementation of the method is used instead of the parent class's implementation."
   ]
  },
  {
   "cell_type": "code",
   "execution_count": null,
   "id": "abc2b516-d1a3-4ee0-9a7b-d9bebb2fbdad",
   "metadata": {},
   "outputs": [],
   "source": []
  }
 ],
 "metadata": {
  "kernelspec": {
   "display_name": "Python 3 (ipykernel)",
   "language": "python",
   "name": "python3"
  },
  "language_info": {
   "codemirror_mode": {
    "name": "ipython",
    "version": 3
   },
   "file_extension": ".py",
   "mimetype": "text/x-python",
   "name": "python",
   "nbconvert_exporter": "python",
   "pygments_lexer": "ipython3",
   "version": "3.10.8"
  }
 },
 "nbformat": 4,
 "nbformat_minor": 5
}
