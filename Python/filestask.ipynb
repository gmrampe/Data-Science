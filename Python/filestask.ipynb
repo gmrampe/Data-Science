{
 "cells": [
  {
   "cell_type": "markdown",
   "id": "b22612c2-d457-4bf4-bbd9-e5b18792e6c3",
   "metadata": {},
   "source": [
    "# Which function is used to open a file? What are the different modes of opening a file? Explain each mode of file opening."
   ]
  },
  {
   "cell_type": "markdown",
   "id": "25747b55-147c-4ee6-a465-881056637927",
   "metadata": {},
   "source": [
    "In Python, the function used to open a file is open().\n",
    "\n",
    "The different modes of opening a file are:\n",
    "\n",
    "r - read mode: The file is opened for reading (default mode). If the file doesn't exist, an error is raised.\n",
    "\n",
    "w - write mode: The file is opened for writing. If the file exists, its contents are truncated. If the file doesn't exist, a new file is created.\n",
    "\n",
    "a - append mode: The file is opened for appending. If the file exists, new data is written to the end of the file. If the file doesn't exist, a new file is created.\n",
    "\n",
    "x - exclusive creation mode: The file is opened for exclusive creation, meaning that the file must not exist. If the file exists, an error is raised.\n",
    "\n",
    "b - binary mode: The file is opened in binary mode.\n",
    "\n",
    "t - text mode: The file is opened in text mode (default mode).\n",
    "\n",
    "Modes can be combined by specifying multiple characters. For example, to open a file for writing in binary mode, you would use the mode string wb."
   ]
  },
  {
   "cell_type": "markdown",
   "id": "7227aeb1-ec96-4769-9aa1-085235682e77",
   "metadata": {},
   "source": [
    "# Why close() function is used? Why is it important to close a file?"
   ]
  },
  {
   "cell_type": "raw",
   "id": "22519e16-6487-44f7-bcad-9efbf47c5469",
   "metadata": {},
   "source": [
    "In Python, the close() function is used to close a file that has been opened using the open() function. It's important to close a file after you've finished working with it because it releases the resources (such as memory) used by the file and flushes any unwritten data to the file.\n",
    "\n",
    "If a file is not closed, the changes made to the file may not be saved, and the operating system may not release the resources used by the file until the program ends or the file object is garbage collected. This can lead to issues such as data corruption or memory leaks.\n",
    "\n",
    "In addition, some operating systems have limits on the number of files that can be open at the same time, so leaving files open unnecessarily can lead to errors or crashes.\n",
    "\n",
    "To ensure that a file is closed properly, you can use the with statement to automatically close the file when you're done with it"
   ]
  },
  {
   "cell_type": "markdown",
   "id": "2d6c7522-d562-43ca-b61d-82042acac0dd",
   "metadata": {},
   "source": [
    "# Write a python program to create a text file. Write ‘I want to become a Data Scientist’ in that file. Thenclose the file. Open this file and read the content of the file."
   ]
  },
  {
   "cell_type": "code",
   "execution_count": 3,
   "id": "b2666ad7-0c38-4c3f-b0da-1319c3d55645",
   "metadata": {},
   "outputs": [],
   "source": [
    "with open('data_scientist.txt', 'w') as file:\n",
    "    file.write('I want to become a Data Scientist')\n",
    "    \n"
   ]
  },
  {
   "cell_type": "code",
   "execution_count": 5,
   "id": "3e6f8eb4-81cc-4fc1-8031-12c9f15bac64",
   "metadata": {},
   "outputs": [],
   "source": [
    "file.close()"
   ]
  },
  {
   "cell_type": "code",
   "execution_count": 6,
   "id": "6116d76a-1e56-4520-9c28-57b5adc32b5b",
   "metadata": {},
   "outputs": [
    {
     "name": "stdout",
     "output_type": "stream",
     "text": [
      "I want to become a Data Scientist\n"
     ]
    }
   ],
   "source": [
    "with open('data_scientist.txt', 'r') as file:\n",
    "    contents = file.read()\n",
    "print(contents)"
   ]
  },
  {
   "cell_type": "code",
   "execution_count": null,
   "id": "b4353f2a-276b-4e8b-a312-92398da71993",
   "metadata": {},
   "outputs": [],
   "source": [
    "# Explain the following with python code: read(), readline() and readlines()."
   ]
  },
  {
   "cell_type": "raw",
   "id": "67ffb370-eec0-4b74-9edc-7c9a182f65ae",
   "metadata": {},
   "source": [
    "In Python, the read(), readline(), and readlines() methods are used to read data from a file. Here's a brief explanation of each method and an example of how to use them:\n",
    "# read() method: This method reads the entire contents of a file and returns them as a single string."
   ]
  },
  {
   "cell_type": "code",
   "execution_count": 9,
   "id": "6bde7656-3df8-4556-8110-6453cd5dd2ff",
   "metadata": {},
   "outputs": [
    {
     "name": "stdout",
     "output_type": "stream",
     "text": [
      "I want to become a Data Scientist\n"
     ]
    }
   ],
   "source": [
    "with open('data_scientist.txt', 'r') as file:\n",
    "    c=file.read()\n",
    "print(c)\n",
    "    "
   ]
  },
  {
   "cell_type": "markdown",
   "id": "2e61916e-54d0-45fa-89a1-f8eac5ba84d0",
   "metadata": {},
   "source": [
    "readline() method: This method reads a single line of text from a file and returns it as a string. Subsequent calls to readline() will return the next line of text from the file, and so on."
   ]
  },
  {
   "cell_type": "code",
   "execution_count": 10,
   "id": "b5045ad4-2e89-4f75-8091-5995da7e05df",
   "metadata": {},
   "outputs": [
    {
     "name": "stdout",
     "output_type": "stream",
     "text": [
      "I want to become a Data Scientist\n",
      "\n"
     ]
    }
   ],
   "source": [
    "# Open the file in read mode\n",
    "with open('data_scientist.txt', 'r') as file:\n",
    "    # Read the first line of the file\n",
    "    line1 = file.readline()\n",
    "    # Read the second line of the file\n",
    "    line2 = file.readline()\n",
    "print(line1)\n",
    "print(line2)\n"
   ]
  },
  {
   "cell_type": "markdown",
   "id": "bf693710-20e4-4b36-a3e1-7a24cbf3f06e",
   "metadata": {},
   "source": [
    "readlines() method: This method reads all the lines of text from a file and returns them as a list of strings."
   ]
  },
  {
   "cell_type": "code",
   "execution_count": 11,
   "id": "599cc2fd-8347-4f72-8431-c9bc57896ca3",
   "metadata": {},
   "outputs": [
    {
     "name": "stdout",
     "output_type": "stream",
     "text": [
      "I want to become a Data Scientist\n"
     ]
    }
   ],
   "source": [
    "# Open the file in read mode\n",
    "with open('data_scientist.txt', 'r') as file:\n",
    "    # Read all the lines of the file\n",
    "    lines = file.readlines()\n",
    "    # Print all the lines of the file\n",
    "for line in lines:\n",
    "    print(line)\n"
   ]
  },
  {
   "cell_type": "code",
   "execution_count": null,
   "id": "31b5b9cb-7682-4ee4-8e70-59be96a8ecca",
   "metadata": {},
   "outputs": [],
   "source": []
  },
  {
   "cell_type": "markdown",
   "id": "dd6bb6a5-8d8b-4a1e-a154-d917b571aa69",
   "metadata": {},
   "source": [
    "# Explain why with statement is used with open(). What is the advantage of using with statement and open() together?"
   ]
  },
  {
   "cell_type": "markdown",
   "id": "114570a1-6376-4446-904a-a7ee56e0fb55",
   "metadata": {},
   "source": [
    "In Python, the with statement is used with the open() function to ensure that a file is properly closed after it has been used. The with statement provides a convenient way to work with files and other resources that need to be cleaned up or released after use.\n",
    "\n",
    "The advantage of using the with statement and open() together is that it automatically takes care of closing the file for you, even if an error occurs while the file is being processed. This is done by creating a context in which the file is open, and then automatically closing the file when the context is exited.\n",
    "\n",
    "In this code, we open the file and read its contents into the variable contents. However, we also need to remember to manually close the file using file.close().\n",
    "\n",
    "Using the with statement, we can simplify this code and ensure that the file is automatically closed:"
   ]
  },
  {
   "cell_type": "code",
   "execution_count": 16,
   "id": "39b0902b-437b-4fa4-bd72-1921ff66c1bc",
   "metadata": {},
   "outputs": [
    {
     "name": "stdout",
     "output_type": "stream",
     "text": [
      "I want to become a Data Scientist\n"
     ]
    }
   ],
   "source": [
    "with open('data_scientist.txt', 'r') as file:\n",
    "    contents = file.read()\n",
    "print(contents)"
   ]
  },
  {
   "cell_type": "markdown",
   "id": "19af6627-ec0b-40f1-8c29-f7b9067208fa",
   "metadata": {},
   "source": [
    "# Explain the write() and writelines() functions. Give a suitable example."
   ]
  },
  {
   "cell_type": "raw",
   "id": "29a5626a-b986-4f69-a9c7-ca0618abf662",
   "metadata": {},
   "source": [
    "# write() function: This function writes a single string to a file. If the file already contains data, the new string will be written at the end of the file.\n",
    "# writelines() function: This function writes multiple strings to a file. The strings are passed as a list, and each string is written to the file on a separate line."
   ]
  },
  {
   "cell_type": "code",
   "execution_count": 22,
   "id": "7477890a-225f-4f9b-b5ee-fa36119f8be6",
   "metadata": {},
   "outputs": [],
   "source": [
    "# Open the file in write mode\n",
    "with open('data_scientist.txt', 'w') as file:\n",
    "    # Write a string to the file\n",
    "    file.write('I want to become a Data Scientist.')\n"
   ]
  },
  {
   "cell_type": "code",
   "execution_count": 23,
   "id": "7d5246cc-2f0d-43d5-bdeb-4e71041dd736",
   "metadata": {},
   "outputs": [],
   "source": [
    "# Define a list of strings\n",
    "lines = ['Data Science is a fascinating field.\\n', 'I want to learn more about it.']\n",
    "\n",
    "# Open the file in write mode\n",
    "with open('data_scientist.txt', 'w') as file:\n",
    "    # Write the list of strings to the file\n",
    "    file.writelines(lines)\n"
   ]
  },
  {
   "cell_type": "code",
   "execution_count": 24,
   "id": "4a790e90-5bc4-4711-9652-a9d34e7c817e",
   "metadata": {},
   "outputs": [],
   "source": [
    "# Open the file in append mode\n",
    "with open('data_scientist.txt', 'a') as file:\n",
    "    # Write a string to the end of the file\n",
    "    file.write('This is new data.')\n"
   ]
  },
  {
   "cell_type": "code",
   "execution_count": null,
   "id": "b7f31530-3b73-47ac-89f4-644e2b884386",
   "metadata": {},
   "outputs": [],
   "source": []
  }
 ],
 "metadata": {
  "kernelspec": {
   "display_name": "Python 3 (ipykernel)",
   "language": "python",
   "name": "python3"
  },
  "language_info": {
   "codemirror_mode": {
    "name": "ipython",
    "version": 3
   },
   "file_extension": ".py",
   "mimetype": "text/x-python",
   "name": "python",
   "nbconvert_exporter": "python",
   "pygments_lexer": "ipython3",
   "version": "3.10.8"
  }
 },
 "nbformat": 4,
 "nbformat_minor": 5
}
