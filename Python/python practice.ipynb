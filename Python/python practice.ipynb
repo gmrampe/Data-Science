{
 "cells": [
  {
   "cell_type": "markdown",
   "metadata": {},
   "source": [
    "# Python  Practice"
   ]
  },
  {
   "cell_type": "code",
   "execution_count": 1,
   "metadata": {},
   "outputs": [
    {
     "name": "stdout",
     "output_type": "stream",
     "text": [
      "3.10.0 (tags/v3.10.0:b494f59, Oct  4 2021, 19:00:18) [MSC v.1929 64 bit (AMD64)]\n",
      "3.10.0\n"
     ]
    }
   ],
   "source": [
    "#### python version\n",
    "import sys\n",
    "from platform import python_version\n",
    "print(sys.version)\n",
    "print(python_version())\n"
   ]
  },
  {
   "cell_type": "code",
   "execution_count": 2,
   "metadata": {},
   "outputs": [
    {
     "name": "stdout",
     "output_type": "stream",
     "text": [
      "['False', 'None', 'True', 'and', 'as', 'assert', 'async', 'await', 'break', 'class', 'continue', 'def', 'del', 'elif', 'else', 'except', 'finally', 'for', 'from', 'global', 'if', 'import', 'in', 'is', 'lambda', 'nonlocal', 'not', 'or', 'pass', 'raise', 'return', 'try', 'while', 'with', 'yield']\n"
     ]
    }
   ],
   "source": [
    "### keywords in python\n",
    "import keyword\n",
    "print(keyword.kwlist)"
   ]
  },
  {
   "cell_type": "code",
   "execution_count": 3,
   "metadata": {},
   "outputs": [
    {
     "name": "stdout",
     "output_type": "stream",
     "text": [
      "hello this mahesh\n"
     ]
    }
   ],
   "source": [
    "print('hello this mahesh')"
   ]
  },
  {
   "cell_type": "code",
   "execution_count": 4,
   "metadata": {},
   "outputs": [
    {
     "name": "stdout",
     "output_type": "stream",
     "text": [
      "<class 'int'>\n",
      "<class 'str'>\n",
      "<class 'float'>\n",
      "<class 'complex'>\n",
      "<class 'bool'>\n",
      "2471165755920\n",
      "2471202467376\n",
      "2471240970960\n",
      "2471242820304\n",
      "140721506794344\n"
     ]
    }
   ],
   "source": [
    "### python data types they are int,float,bool,str,complex\n",
    "\n",
    "a=10\n",
    "b='10'\n",
    "c=10.0\n",
    "d=10+0j\n",
    "e=True\n",
    "print(type(a))\n",
    "print(type(b))\n",
    "print(type(c))\n",
    "print(type(d))\n",
    "print(type(e))\n",
    "print(id(a))\n",
    "print(id(b))\n",
    "print(id(c))\n",
    "print(id(d))\n",
    "print(id(e))"
   ]
  },
  {
   "cell_type": "code",
   "execution_count": 5,
   "metadata": {},
   "outputs": [
    {
     "name": "stdout",
     "output_type": "stream",
     "text": [
      "<class 'int'>\n",
      "<class 'float'>\n",
      "<class 'str'>\n",
      "<class 'bool'>\n",
      "<class 'complex'>\n",
      "123 123.0 123.456 True (10+0j)\n"
     ]
    }
   ],
   "source": [
    "########################## TYPE CASTING################################\n",
    "#we can convert one datatype to another datatype iscalled \"Typecasting\" or \"Type conversion\"\n",
    "a=int(123.456)\n",
    "print(type(a))\n",
    "b=float(123)\n",
    "print(type(b))\n",
    "c=str(123.456)\n",
    "print(type(c))\n",
    "d=bool(200)\n",
    "print(type(d))\n",
    "e=complex(10)\n",
    "print(type(e))\n",
    "print(a,b,c,d,e)\n"
   ]
  },
  {
   "cell_type": "code",
   "execution_count": 6,
   "metadata": {},
   "outputs": [
    {
     "name": "stdout",
     "output_type": "stream",
     "text": [
      "30\n",
      "-10\n",
      "200\n",
      "0.5\n",
      "100000000000000000000\n",
      "0\n"
     ]
    }
   ],
   "source": [
    "####### python operators\n",
    "a=10\n",
    "b=20\n",
    "print(a+b)# addition\n",
    "print(a-b)## subtraction\n",
    "print(a*b)## multiplication\n",
    "print(a/b) ## division  (this opeartor always return float value) \n",
    "print(a**b)#exponent operator or power operator \n",
    "print(a//b) ## floor opeartor (this opeartor always return ifvalue int it return int incase float it return float valu)"
   ]
  },
  {
   "cell_type": "code",
   "execution_count": 7,
   "metadata": {},
   "outputs": [
    {
     "name": "stdout",
     "output_type": "stream",
     "text": [
      "False\n",
      "True\n",
      "False\n",
      "True\n"
     ]
    }
   ],
   "source": [
    "#### relational operators\n",
    "a=10\n",
    "b=20\n",
    "print(a>b)\n",
    "print(a<b)\n",
    "print(a>=b)\n",
    "print(a<=b)"
   ]
  },
  {
   "cell_type": "code",
   "execution_count": 8,
   "metadata": {},
   "outputs": [
    {
     "name": "stdout",
     "output_type": "stream",
     "text": [
      "False\n",
      "True\n",
      "False\n",
      "True\n",
      "True\n"
     ]
    }
   ],
   "source": [
    "#### equality operator \n",
    "print(10==20)\n",
    "print(10!=20)\n",
    "print(10==True)\n",
    "print(False==False)\n",
    "print(\"mahesh\"==\"mahesh\")\n"
   ]
  },
  {
   "cell_type": "code",
   "execution_count": 9,
   "metadata": {},
   "outputs": [
    {
     "name": "stdout",
     "output_type": "stream",
     "text": [
      "10\n",
      "10\n",
      "False\n",
      "4\n",
      "True\n",
      "40\n"
     ]
    }
   ],
   "source": [
    "##### logical operators and, or, not\n",
    "print(10 and 10)\n",
    "print(10 or 20)\n",
    "print(not 10)\n",
    "'mahesh' and 'rampemahesh'\n",
    "\n",
    "##### bitwise operators\n",
    "print(4&5)\n",
    "print(True & True)\n",
    "print(10<<2)"
   ]
  },
  {
   "cell_type": "code",
   "execution_count": 10,
   "metadata": {},
   "outputs": [
    {
     "name": "stdout",
     "output_type": "stream",
     "text": [
      "True\n",
      "False\n",
      "True\n"
     ]
    }
   ],
   "source": [
    "##### special operator \n",
    "### python has two special operators 1.identity 2.membership operator.\n",
    "### idntity operator is the address comparsion  they are 2 ifentify operstord 1.is 2.isnot\n",
    "### identify is operators is comapred the address that assigend varible elements both same it will br return true otherwise it return false\n",
    "a=10\n",
    "b=10\n",
    "c=20\n",
    "print(a is b)\n",
    "print(b is c)\n",
    "print(a is not c)\n"
   ]
  },
  {
   "cell_type": "code",
   "execution_count": 11,
   "metadata": {},
   "outputs": [
    {
     "name": "stdout",
     "output_type": "stream",
     "text": [
      "True\n",
      "False\n",
      "True\n"
     ]
    }
   ],
   "source": [
    "##membership operator\n",
    "### membership operator is check that given obj present in the given collection it may be string,list,set,tuple or dict.\n",
    "x='ramanaiah is linux admin'\n",
    "print('ra'in x)\n",
    "print('o' in x)\n",
    "print('o' not in x)"
   ]
  },
  {
   "cell_type": "code",
   "execution_count": 12,
   "metadata": {},
   "outputs": [
    {
     "name": "stdout",
     "output_type": "stream",
     "text": [
      "11\n",
      "24\n",
      "29\n",
      "3.6666666666666665\n",
      "5.6\n",
      "43.5\n"
     ]
    }
   ],
   "source": [
    "### operator precedence\n",
    "### in this operator have multiple operators which will be evulated first is known as precedence.\n",
    "#### 1.() 2.** 3.~ 4.*,/,%,// 5.+,-\n",
    "print(2+3**2)\n",
    "print(2*(3)*(4))\n",
    "print(2+(3)**(3))\n",
    "print(2/3+3)\n",
    "print(2+(3*6)/5)\n",
    "print(3+(9**2)/2)"
   ]
  },
  {
   "cell_type": "code",
   "execution_count": 13,
   "metadata": {},
   "outputs": [
    {
     "name": "stdout",
     "output_type": "stream",
     "text": [
      "4.0\n",
      "3.141592653589793\n"
     ]
    }
   ],
   "source": [
    "###math module\n",
    "import math\n",
    "print(math.sqrt(16))\n",
    "print(math.pi)"
   ]
  },
  {
   "cell_type": "code",
   "execution_count": 14,
   "metadata": {},
   "outputs": [
    {
     "name": "stdout",
     "output_type": "stream",
     "text": [
      "24\n"
     ]
    }
   ],
   "source": [
    "from math import factorial\n",
    "print(factorial(4))"
   ]
  },
  {
   "cell_type": "code",
   "execution_count": 15,
   "metadata": {},
   "outputs": [
    {
     "name": "stdout",
     "output_type": "stream",
     "text": [
      "<class 'list'>\n",
      "C:\\Users\\rampe\\AppData\\Local\\Programs\\Python\\Python310\\lib\\site-packages\\ipykernel_launcher.py\n"
     ]
    }
   ],
   "source": [
    "## argv is not array it is list .it is available sys module.\n",
    "from sys import argv\n",
    "print(type(argv))\n",
    "print(argv[0])"
   ]
  },
  {
   "cell_type": "code",
   "execution_count": 16,
   "metadata": {},
   "outputs": [
    {
     "name": "stdout",
     "output_type": "stream",
     "text": [
      "mahesh\n",
      "mahesh\n",
      "\"maheshrampe\"\n"
     ]
    }
   ],
   "source": [
    "##### String Datatype\n",
    "### any sequence of character with in either single or double quoteas is consider as string.\n",
    "s='mahesh'\n",
    "m=\"mahesh\"\n",
    "p='\"maheshrampe\"'\n",
    "print(s)\n",
    "print(m)\n",
    "print(p)"
   ]
  },
  {
   "cell_type": "code",
   "execution_count": 17,
   "metadata": {
    "scrolled": true
   },
   "outputs": [
    {
     "name": "stdout",
     "output_type": "stream",
     "text": [
      "index concept\n",
      "m\n",
      "h\n",
      "e\n",
      "e\n",
      "s\n",
      "s\n",
      "my name is mahesh\n",
      "\n",
      "myname is mahesh, my surname is rampe\n"
     ]
    }
   ],
   "source": [
    "#### Access characters using a string.\n",
    "## 1.by using index\n",
    "###2. slice operator\n",
    "################################ index#######################################\n",
    "print('index concept')\n",
    "s='mahesh'\n",
    "print(s[0])\n",
    "print(s[-1])\n",
    "print(s[-3])\n",
    "print(s[3])\n",
    "print(s[4])\n",
    "print(s[-2])\n",
    "\n",
    "###################################\n",
    "p='mahesh'\n",
    "print('my name is {}'.format(p))\n",
    "print()\n",
    "q='rampe'\n",
    "print('myname is {}, my surname is {}'.format(p,q))\n",
    "\n",
    "\n"
   ]
  },
  {
   "cell_type": "code",
   "execution_count": 18,
   "metadata": {},
   "outputs": [
    {
     "name": "stdout",
     "output_type": "stream",
     "text": [
      "maheshrampe he\n",
      "aheshrampe he is a \n",
      "mhsrmeh sa\n",
      "e\n",
      "ma co\n"
     ]
    }
   ],
   "source": [
    "################################################### slice operator###############################\n",
    "\n",
    "s='maheshrampe he is a tcs employee'\n",
    "print(s[0:14])\n",
    "print(s[1:20:1])\n",
    "print(s[0:20:2])\n",
    "print(s[-1])\n",
    "print(s[::7])"
   ]
  },
  {
   "cell_type": "code",
   "execution_count": 19,
   "metadata": {},
   "outputs": [
    {
     "name": "stdout",
     "output_type": "stream",
     "text": [
      "<class 'list'>\n",
      "[1, 2, 3, 4, 'Mahesh', 20.5, (10+0j)]\n",
      "enter list::1,2,3,4,'mahesh'\n",
      "(1, 2, 3, 4, 'mahesh')\n",
      "<class 'tuple'>\n"
     ]
    }
   ],
   "source": [
    "#help('functions')\n",
    "####list is a similar to array.it is a collection of different elements it is denoted as squre brackt.[] \n",
    "l=[1,2,3,4,\"Mahesh\",20.5,10+0j]\n",
    "print(type(l))\n",
    "print(l)\n",
    "\n",
    "b=eval(input('enter list::'))\n",
    "print(b)\n",
    "print(type(b))"
   ]
  },
  {
   "cell_type": "code",
   "execution_count": 20,
   "metadata": {},
   "outputs": [
    {
     "name": "stdout",
     "output_type": "stream",
     "text": [
      "enter first name:Mahesh\n",
      "enter lastnamerampe\n",
      "hello Mahesh\n",
      "surname rampe\n",
      "myname is mahesh\n",
      " my surname is rampe\n"
     ]
    }
   ],
   "source": [
    "################### practice########################\n",
    "f=input('enter first name:')\n",
    "n=input('enter lastname')\n",
    "print('hello',f )\n",
    "print('surname',n)\n",
    "print('myname is mahesh\\n my surname is rampe')\n",
    "\n",
    "\n",
    "\n"
   ]
  },
  {
   "cell_type": "code",
   "execution_count": 24,
   "metadata": {},
   "outputs": [
    {
     "name": "stdout",
     "output_type": "stream",
     "text": [
      "enter first:10\n",
      "enter second20\n",
      "the answer is 30\n"
     ]
    }
   ],
   "source": [
    "n=int(input('enter first:'))\n",
    "m=int(input('enter second'))\n",
    "ans=n+m\n",
    "print('the answer is',ans)"
   ]
  },
  {
   "cell_type": "code",
   "execution_count": 25,
   "metadata": {},
   "outputs": [
    {
     "name": "stdout",
     "output_type": "stream",
     "text": [
      "enter first:10\n",
      "enter second20\n",
      "enter the third:30\n",
      "the answer is 900\n"
     ]
    }
   ],
   "source": [
    "n=int(input('enter first:'))\n",
    "m=int(input('enter second'))\n",
    "p=int(input('enter the third:'))\n",
    "ans=(n+m)*p\n",
    "print('the answer is',ans)"
   ]
  },
  {
   "cell_type": "code",
   "execution_count": 26,
   "metadata": {},
   "outputs": [
    {
     "name": "stdout",
     "output_type": "stream",
     "text": [
      "enter first:10\n",
      "enter second20\n",
      "the answer is -10 nanananana\n"
     ]
    }
   ],
   "source": [
    "n=int(input('enter first:'))\n",
    "m=int(input('enter second'))\n",
    "ans=n-m\n",
    "print('the answer is',ans,\"nanananana\")"
   ]
  },
  {
   "cell_type": "code",
   "execution_count": 27,
   "metadata": {},
   "outputs": [
    {
     "name": "stdout",
     "output_type": "stream",
     "text": [
      "enter name:mahesh\n",
      "enter age:24\n",
      "mahesh next bday you will be 25\n"
     ]
    }
   ],
   "source": [
    "s=input('enter name:')\n",
    "p=int(input('enter age:'))\n",
    "n=p+1\n",
    "print(s,'next bday you will be',n)"
   ]
  },
  {
   "cell_type": "code",
   "execution_count": 28,
   "metadata": {},
   "outputs": [
    {
     "name": "stdout",
     "output_type": "stream",
     "text": [
      "enter first:10\n",
      "enter second20\n",
      "the answer is 0.5 nanananana\n"
     ]
    }
   ],
   "source": [
    "n=int(input('enter first:') )\n",
    "m=int(input('enter second'))\n",
    "ans=n/m\n",
    "print('the answer is',ans,\"nanananana\")"
   ]
  },
  {
   "cell_type": "code",
   "execution_count": 29,
   "metadata": {},
   "outputs": [
    {
     "name": "stdout",
     "output_type": "stream",
     "text": [
      "enter day24\n",
      "in 24 days there are\n",
      "576 hours\n",
      "34560 mintes\n",
      "2073600 seconds\n"
     ]
    }
   ],
   "source": [
    "n=int(input('enter day'))\n",
    "h=n*24\n",
    "m=h*60\n",
    "s=m*60\n",
    "print('in',n,'days there are')\n",
    "print(h,'hours')\n",
    "print(m,'mintes')\n",
    "print(s,'seconds')"
   ]
  },
  {
   "cell_type": "markdown",
   "metadata": {},
   "source": [
    "# list Method ##############"
   ]
  },
  {
   "cell_type": "raw",
   "metadata": {},
   "source": [
    "## list is the collection of group of elemnts and same like array. list is a dynamic based on the requirements we can increase and decress the sixe.\n",
    "## list has severalmethods they are.\n",
    "\n",
    "## list.append() ---- it add the elemt in the last postion.\n",
    "## list.pop() --- this method is used to remove last postion.\n",
    "## list.insert(pos,value) --- it insert the value from the given postion.\n",
    "## list.remove() --- this method for remove given postion and index postion start at 1 not 0.only this method.\n",
    "## list.copy() -- method for copy one list values copy to another list.\n",
    "### list.extend () --- method for extend the list postion from two lists.\n",
    "##  list.count() -- count the value in the given list\n",
    "## list.index() --- postion of the list\n",
    "## len(l) --- length of the list\n",
    "## list.sort() ==== sorting order\n",
    "## list.reverse() ===== reverse order list\n"
   ]
  },
  {
   "cell_type": "code",
   "execution_count": 30,
   "metadata": {},
   "outputs": [
    {
     "name": "stdout",
     "output_type": "stream",
     "text": [
      "[1, 2, 3, 'mahesh', 20.4, 5, (10+0j)]\n"
     ]
    }
   ],
   "source": [
    "l=[1,2,3,'mahesh',20.4,5,10+0j]\n",
    "print(l)"
   ]
  },
  {
   "cell_type": "code",
   "execution_count": 31,
   "metadata": {},
   "outputs": [
    {
     "name": "stdout",
     "output_type": "stream",
     "text": [
      "1\n"
     ]
    }
   ],
   "source": [
    "print(l[0])"
   ]
  },
  {
   "cell_type": "code",
   "execution_count": 32,
   "metadata": {},
   "outputs": [
    {
     "name": "stdout",
     "output_type": "stream",
     "text": [
      "(10+0j)\n"
     ]
    }
   ],
   "source": [
    "print(l[-1])"
   ]
  },
  {
   "cell_type": "code",
   "execution_count": 33,
   "metadata": {},
   "outputs": [
    {
     "name": "stdout",
     "output_type": "stream",
     "text": [
      "[1, 2, 777, 'mahesh', 20.4, 5, (10+0j)]\n"
     ]
    }
   ],
   "source": [
    "l[2]=777\n",
    "print(l)"
   ]
  },
  {
   "cell_type": "code",
   "execution_count": 34,
   "metadata": {},
   "outputs": [
    {
     "name": "stdout",
     "output_type": "stream",
     "text": [
      "[1, 2, 777, 'mahesh', 20.4, 5, (10+0j), 20]\n"
     ]
    }
   ],
   "source": [
    "l.append(20)\n",
    "print(l)"
   ]
  },
  {
   "cell_type": "code",
   "execution_count": 35,
   "metadata": {},
   "outputs": [
    {
     "name": "stdout",
     "output_type": "stream",
     "text": [
      "[1, 2, 777, 'mahesh', 20.4, 5, (10+0j), 20]\n"
     ]
    }
   ],
   "source": [
    "l.copy()\n",
    "print(l)"
   ]
  },
  {
   "cell_type": "code",
   "execution_count": 36,
   "metadata": {},
   "outputs": [
    {
     "name": "stdout",
     "output_type": "stream",
     "text": [
      "[1, 2, 777, 'mahesh', 20.4, 5, (10+0j), 20]\n"
     ]
    }
   ],
   "source": [
    "l2=l.copy()\n",
    "print(l2)"
   ]
  },
  {
   "cell_type": "code",
   "execution_count": 37,
   "metadata": {},
   "outputs": [
    {
     "name": "stdout",
     "output_type": "stream",
     "text": [
      "8\n"
     ]
    }
   ],
   "source": [
    "print(len(l))"
   ]
  },
  {
   "cell_type": "code",
   "execution_count": 38,
   "metadata": {},
   "outputs": [
    {
     "name": "stdout",
     "output_type": "stream",
     "text": [
      "[1, 2, 777, 'mahesh', 20.4, 8888, 5, (10+0j), 20]\n"
     ]
    }
   ],
   "source": [
    "l.insert(5,8888)\n",
    "print(l)"
   ]
  },
  {
   "cell_type": "code",
   "execution_count": 39,
   "metadata": {},
   "outputs": [],
   "source": [
    "l3=['manu','babu',0,10.50,5]"
   ]
  },
  {
   "cell_type": "code",
   "execution_count": 40,
   "metadata": {},
   "outputs": [
    {
     "name": "stdout",
     "output_type": "stream",
     "text": [
      "[1, 2, 777, 'mahesh', 20.4, 8888, 5, (10+0j), 20, 'manu', 'babu', 0, 10.5, 5]\n"
     ]
    }
   ],
   "source": [
    "l.extend(l3)\n",
    "print(l)"
   ]
  },
  {
   "cell_type": "code",
   "execution_count": 41,
   "metadata": {},
   "outputs": [
    {
     "name": "stdout",
     "output_type": "stream",
     "text": [
      "[1, 2, 777, 'mahesh', 20.4, 8888, 5, (10+0j), 20, 'babu', 0, 10.5, 5]\n"
     ]
    }
   ],
   "source": [
    "l.remove('manu')\n",
    "print(l)"
   ]
  },
  {
   "cell_type": "code",
   "execution_count": 42,
   "metadata": {},
   "outputs": [
    {
     "name": "stdout",
     "output_type": "stream",
     "text": [
      "[1, 2, 777, 'mahesh', 20.4, 8888, 5, (10+0j), 20, 0, 10.5, 5]\n"
     ]
    }
   ],
   "source": [
    "l.pop(9)\n",
    "print(l)"
   ]
  },
  {
   "cell_type": "code",
   "execution_count": 43,
   "metadata": {},
   "outputs": [
    {
     "name": "stdout",
     "output_type": "stream",
     "text": [
      "[5, 10.5, 0, 20, (10+0j), 5, 8888, 20.4, 'mahesh', 777, 2, 1]\n"
     ]
    }
   ],
   "source": [
    "l.reverse()\n",
    "print(l)"
   ]
  },
  {
   "cell_type": "code",
   "execution_count": 44,
   "metadata": {},
   "outputs": [
    {
     "name": "stdout",
     "output_type": "stream",
     "text": [
      "[1, 2, 8, 3, 4, 5, 6, 7]\n",
      "insert method for add value from the postion where we insert [1, 2, 8, 3, 4, 5, 6, 7]\n",
      "append add last elemnt add in the list [1, 2, 8, 3, 4, 5, 6, 7]\n"
     ]
    }
   ],
   "source": [
    "###### list methods ###########################\n",
    "l=[1,2,3,4,5,6]\n",
    "l.append(7)\n",
    "l.insert(2,8)\n",
    "print(l)\n",
    "print('insert method for add value from the postion where we insert',l)\n",
    "print('append add last elemnt add in the list',l)\n",
    "\n"
   ]
  },
  {
   "cell_type": "code",
   "execution_count": 45,
   "metadata": {},
   "outputs": [
    {
     "name": "stdout",
     "output_type": "stream",
     "text": [
      "[1, 8, 3, 4, 5, 6, 7]\n"
     ]
    }
   ],
   "source": [
    "l.remove(2)\n",
    "print(l)#####remove method has index postion starts with first postion.\n"
   ]
  },
  {
   "cell_type": "code",
   "execution_count": 46,
   "metadata": {},
   "outputs": [
    {
     "name": "stdout",
     "output_type": "stream",
     "text": [
      "[1, 8, 3, 4, 5, 6]\n"
     ]
    }
   ],
   "source": [
    "l.pop() ########### pop method is used to remove last elemnt in given list\n",
    "print(l)"
   ]
  },
  {
   "cell_type": "code",
   "execution_count": 47,
   "metadata": {},
   "outputs": [
    {
     "name": "stdout",
     "output_type": "stream",
     "text": [
      "6\n"
     ]
    }
   ],
   "source": [
    "print(len(l))"
   ]
  },
  {
   "cell_type": "code",
   "execution_count": 48,
   "metadata": {},
   "outputs": [
    {
     "name": "stdout",
     "output_type": "stream",
     "text": [
      "[1, 8, 3, 4, 5, 6]\n"
     ]
    }
   ],
   "source": [
    "print(l)"
   ]
  },
  {
   "cell_type": "code",
   "execution_count": 49,
   "metadata": {},
   "outputs": [
    {
     "name": "stdout",
     "output_type": "stream",
     "text": [
      "0\n"
     ]
    }
   ],
   "source": [
    "print(l.count(2)) ### it is used to count the values in the given list"
   ]
  },
  {
   "cell_type": "code",
   "execution_count": 50,
   "metadata": {},
   "outputs": [
    {
     "name": "stdout",
     "output_type": "stream",
     "text": [
      "0\n"
     ]
    }
   ],
   "source": [
    "print(l.index(1))"
   ]
  },
  {
   "cell_type": "code",
   "execution_count": 51,
   "metadata": {},
   "outputs": [
    {
     "name": "stdout",
     "output_type": "stream",
     "text": [
      "[1, 2, 3, 4, 5, 6]\n"
     ]
    }
   ],
   "source": [
    "l1=[1,2,3]\n",
    "l2=[4,5,6]\n",
    "l1.extend(l2)\n",
    "print(l1)"
   ]
  },
  {
   "cell_type": "code",
   "execution_count": 52,
   "metadata": {},
   "outputs": [
    {
     "data": {
      "text/plain": [
       "[1, 2, 3, 4, 5, 6]"
      ]
     },
     "execution_count": 52,
     "metadata": {},
     "output_type": "execute_result"
    }
   ],
   "source": [
    "l2=l1.copy()\n",
    "l2"
   ]
  },
  {
   "cell_type": "code",
   "execution_count": 53,
   "metadata": {},
   "outputs": [
    {
     "name": "stdout",
     "output_type": "stream",
     "text": [
      "[1, 2, 3, 4, 5, 7, 10, 12, 89, 122, 823]\n"
     ]
    }
   ],
   "source": [
    "p=[1,4,2,5,7,3,89,122,823,10,12]\n",
    "p.sort()\n",
    "print(p)"
   ]
  },
  {
   "cell_type": "markdown",
   "metadata": {},
   "source": [
    "# Tuple method"
   ]
  },
  {
   "cell_type": "code",
   "execution_count": 54,
   "metadata": {},
   "outputs": [
    {
     "name": "stdout",
     "output_type": "stream",
     "text": [
      "2\n"
     ]
    }
   ],
   "source": [
    "## tuple is same like list.it also collection of group of elements in tuple we cannot improve and decresses the size of the tuple\n",
    "## in tuple there are some methods \n",
    "## indexing postion\n",
    "t=(1,2,3,4,5,6)\n",
    "print(t[1])"
   ]
  },
  {
   "cell_type": "code",
   "execution_count": 55,
   "metadata": {},
   "outputs": [
    {
     "name": "stdout",
     "output_type": "stream",
     "text": [
      "(2, 3, 4, 5)\n"
     ]
    }
   ],
   "source": [
    "## slicing method in n=n to  n-1 postion \n",
    "print(t[1:5])"
   ]
  },
  {
   "cell_type": "code",
   "execution_count": 56,
   "metadata": {},
   "outputs": [
    {
     "name": "stdout",
     "output_type": "stream",
     "text": [
      "(1, 2, 3, 4, 'mahesh', 1, 2, 3, 4, 'mahesh')\n"
     ]
    }
   ],
   "source": [
    "### repetition \n",
    "print(b*2)\n"
   ]
  },
  {
   "cell_type": "code",
   "execution_count": 57,
   "metadata": {},
   "outputs": [
    {
     "name": "stdout",
     "output_type": "stream",
     "text": [
      "True\n",
      "False\n"
     ]
    }
   ],
   "source": [
    "### membership opeartor\n",
    "a=(1,2,3,4,5,5,56,6)\n",
    "print(5 in a)\n",
    "print(10 in a)"
   ]
  },
  {
   "cell_type": "code",
   "execution_count": 58,
   "metadata": {},
   "outputs": [
    {
     "name": "stdout",
     "output_type": "stream",
     "text": [
      "False\n",
      "True\n"
     ]
    }
   ],
   "source": [
    "##### comparison \n",
    "a=('mahesh','rampe',1,1,2,3)\n",
    "b=('mahesh','ganga',5,6,7,8)\n",
    "print(a==b)\n",
    "print(a!=b)"
   ]
  },
  {
   "cell_type": "code",
   "execution_count": 59,
   "metadata": {},
   "outputs": [
    {
     "name": "stdout",
     "output_type": "stream",
     "text": [
      "(1, 2, 3, 9.4, 94, 8.3)\n"
     ]
    }
   ],
   "source": [
    "a=(1,2,3,9.4,94,8.3)\n",
    "t1=sorted(a)\n",
    "print(a)"
   ]
  },
  {
   "cell_type": "code",
   "execution_count": 60,
   "metadata": {},
   "outputs": [
    {
     "name": "stdout",
     "output_type": "stream",
     "text": [
      "1\n"
     ]
    }
   ],
   "source": [
    "print(a.count(2))"
   ]
  },
  {
   "cell_type": "code",
   "execution_count": 61,
   "metadata": {},
   "outputs": [
    {
     "name": "stdout",
     "output_type": "stream",
     "text": [
      "0\n"
     ]
    }
   ],
   "source": [
    "print(a.index(1))"
   ]
  },
  {
   "cell_type": "code",
   "execution_count": 62,
   "metadata": {},
   "outputs": [
    {
     "name": "stdout",
     "output_type": "stream",
     "text": [
      "[1, 3, 5, 6, 2, 56, 3, 9]\n"
     ]
    }
   ],
   "source": [
    "################################ list\n",
    "l=[1,3,5,6,2,56,3]\n",
    "l.append(9)\n",
    "print(l)"
   ]
  },
  {
   "cell_type": "code",
   "execution_count": 63,
   "metadata": {},
   "outputs": [
    {
     "name": "stdout",
     "output_type": "stream",
     "text": [
      "[1, 3, 5, 6, 10, 2, 56, 3]\n"
     ]
    }
   ],
   "source": [
    "l=[1,3,5,6,2,56,3]\n",
    "l.insert(4,10)\n",
    "print(l)"
   ]
  },
  {
   "cell_type": "code",
   "execution_count": 64,
   "metadata": {},
   "outputs": [
    {
     "name": "stdout",
     "output_type": "stream",
     "text": [
      "[1, 3, 5, 6, 2, 56]\n"
     ]
    }
   ],
   "source": [
    "l=[1,3,5,6,2,56,3]\n",
    "l.pop()\n",
    "print(l)"
   ]
  },
  {
   "cell_type": "code",
   "execution_count": 65,
   "metadata": {},
   "outputs": [
    {
     "name": "stdout",
     "output_type": "stream",
     "text": [
      "[1, 5, 6, 2, 56, 3]\n"
     ]
    }
   ],
   "source": [
    "l=[1,3,5,6,2,56,3]\n",
    "l.remove(3)\n",
    "print(l)"
   ]
  },
  {
   "cell_type": "code",
   "execution_count": 66,
   "metadata": {},
   "outputs": [
    {
     "name": "stdout",
     "output_type": "stream",
     "text": [
      "[1, 2, 3, 5, 6, 56]\n"
     ]
    }
   ],
   "source": [
    "l.sort()\n",
    "print(l)"
   ]
  },
  {
   "cell_type": "code",
   "execution_count": 67,
   "metadata": {},
   "outputs": [
    {
     "name": "stdout",
     "output_type": "stream",
     "text": [
      "[56, 6, 5, 3, 2, 1]\n"
     ]
    }
   ],
   "source": [
    "l.reverse()\n",
    "print(l)"
   ]
  },
  {
   "cell_type": "code",
   "execution_count": 68,
   "metadata": {},
   "outputs": [
    {
     "name": "stdout",
     "output_type": "stream",
     "text": [
      "[5, 3, 5, 7, 4, 6, 5, 2]\n"
     ]
    }
   ],
   "source": [
    "l1=[5,3,5,7]\n",
    "l2=[4,6,5,2]\n",
    "l1.extend(l2)\n",
    "print(l1)"
   ]
  },
  {
   "cell_type": "code",
   "execution_count": 69,
   "metadata": {},
   "outputs": [
    {
     "data": {
      "text/plain": [
       "1"
      ]
     },
     "execution_count": 69,
     "metadata": {},
     "output_type": "execute_result"
    }
   ],
   "source": [
    "######################################## tuple#################\n",
    "t=(1,2,3,4,5)\n",
    "t.index(2)\n",
    "#print(t)"
   ]
  },
  {
   "cell_type": "code",
   "execution_count": 70,
   "metadata": {},
   "outputs": [
    {
     "name": "stdout",
     "output_type": "stream",
     "text": [
      "(1, 2, 3, 4)\n"
     ]
    }
   ],
   "source": [
    "print(t[:-1])"
   ]
  },
  {
   "cell_type": "code",
   "execution_count": 71,
   "metadata": {},
   "outputs": [
    {
     "name": "stdout",
     "output_type": "stream",
     "text": [
      "(1, 2, 3, 4, 5, 1, 2, 3, 4, 5)\n"
     ]
    }
   ],
   "source": [
    "print(t*2)"
   ]
  },
  {
   "cell_type": "code",
   "execution_count": 72,
   "metadata": {},
   "outputs": [
    {
     "name": "stdout",
     "output_type": "stream",
     "text": [
      "[1, 2, 3, 4, 5]\n"
     ]
    }
   ],
   "source": [
    "t1=sorted(t)\n",
    "print(t1)"
   ]
  },
  {
   "cell_type": "code",
   "execution_count": 73,
   "metadata": {},
   "outputs": [
    {
     "name": "stdout",
     "output_type": "stream",
     "text": [
      "{10, 20, 39}\n"
     ]
    }
   ],
   "source": [
    "##### set is used to represent a group unique values as a single entity then we should go for set. duplicates are not alloewed\n",
    "### indexing and slicing not allowed\n",
    "### cuerly braces {}\n",
    "s={10,20,39}\n",
    "print(s)"
   ]
  },
  {
   "cell_type": "code",
   "execution_count": 74,
   "metadata": {},
   "outputs": [
    {
     "name": "stdout",
     "output_type": "stream",
     "text": [
      "{40, 10, 20, 30}\n"
     ]
    }
   ],
   "source": [
    "l=[10,20,30,40,10,20,30]\n",
    "s=set(l)\n",
    "print(s)"
   ]
  },
  {
   "cell_type": "code",
   "execution_count": 75,
   "metadata": {},
   "outputs": [
    {
     "name": "stdout",
     "output_type": "stream",
     "text": [
      "{0, 1, 2, 3, 4, 5}\n"
     ]
    }
   ],
   "source": [
    "s=set(range(6))\n",
    "print(s)"
   ]
  },
  {
   "cell_type": "code",
   "execution_count": 76,
   "metadata": {},
   "outputs": [
    {
     "name": "stdout",
     "output_type": "stream",
     "text": [
      "<class 'set'>\n"
     ]
    }
   ],
   "source": [
    "s=set()\n",
    "print(type(s))"
   ]
  },
  {
   "cell_type": "code",
   "execution_count": 77,
   "metadata": {},
   "outputs": [
    {
     "name": "stdout",
     "output_type": "stream",
     "text": [
      "{}\n",
      "<class 'dict'>\n"
     ]
    }
   ],
   "source": [
    "s={}\n",
    "print(s)\n",
    "print(type(s))"
   ]
  },
  {
   "cell_type": "code",
   "execution_count": 78,
   "metadata": {},
   "outputs": [
    {
     "name": "stdout",
     "output_type": "stream",
     "text": [
      "{40, 10, 20, 30}\n"
     ]
    }
   ],
   "source": [
    "s={10,20,30,40} #### set.add method is used to add elemts in the first\n",
    "s.add(40)\n",
    "print(s)"
   ]
  },
  {
   "cell_type": "code",
   "execution_count": 79,
   "metadata": {},
   "outputs": [
    {
     "name": "stdout",
     "output_type": "stream",
     "text": [
      "{70, 40, 10, 80, 50, 20, 60, 30}\n"
     ]
    }
   ],
   "source": [
    "l=[50,60,70,80]### to add multiple items in a set, all elmts present in the given lterable obj will be set \n",
    "s.update(l)\n",
    "print(s)"
   ]
  },
  {
   "cell_type": "code",
   "execution_count": 80,
   "metadata": {},
   "outputs": [
    {
     "name": "stdout",
     "output_type": "stream",
     "text": [
      "{0, 1, 2, 3, 4, 5, 70, 7, 40, 9, 10, 6, 8, 80, 50, 20, 60, 30}\n"
     ]
    }
   ],
   "source": [
    "s.update(range(1,10,2),range(0,10,2))\n",
    "print(s)"
   ]
  },
  {
   "cell_type": "code",
   "execution_count": 81,
   "metadata": {},
   "outputs": [
    {
     "name": "stdout",
     "output_type": "stream",
     "text": [
      "{50, 20, 40, 10, 60, 30}\n"
     ]
    }
   ],
   "source": [
    "p={10,20,30,40,50,60}\n",
    "q=p.copy()\n",
    "print(q)"
   ]
  },
  {
   "cell_type": "code",
   "execution_count": 82,
   "metadata": {},
   "outputs": [
    {
     "name": "stdout",
     "output_type": "stream",
     "text": [
      "{20, 40, 10, 60, 30}\n"
     ]
    }
   ],
   "source": [
    "p.pop()##### pop remove any elemnt in the set\n",
    "print(p)"
   ]
  },
  {
   "cell_type": "code",
   "execution_count": 83,
   "metadata": {},
   "outputs": [
    {
     "name": "stdout",
     "output_type": "stream",
     "text": [
      "{20, 40, 10, 60, 30}\n"
     ]
    }
   ],
   "source": [
    "print(p)"
   ]
  },
  {
   "cell_type": "code",
   "execution_count": 84,
   "metadata": {},
   "outputs": [],
   "source": [
    "#p.remove(50)##### in set remove method only values in the sset not index postion.\n",
    "#print(p)"
   ]
  },
  {
   "cell_type": "code",
   "execution_count": 85,
   "metadata": {
    "scrolled": true
   },
   "outputs": [
    {
     "name": "stdout",
     "output_type": "stream",
     "text": [
      "{20, 40, 10, 60}\n"
     ]
    }
   ],
   "source": [
    "p.discard(30) ##### discard method for remove elemts in set and incase value is not in the set the it will return the same set\n",
    "print(p)"
   ]
  },
  {
   "cell_type": "code",
   "execution_count": 86,
   "metadata": {},
   "outputs": [
    {
     "name": "stdout",
     "output_type": "stream",
     "text": [
      "set()\n"
     ]
    }
   ],
   "source": [
    "p.clear()\n",
    "print(p)"
   ]
  },
  {
   "cell_type": "code",
   "execution_count": 87,
   "metadata": {},
   "outputs": [
    {
     "name": "stdout",
     "output_type": "stream",
     "text": [
      "{40, 10, 50, 20, 60, 30}\n",
      "{40, 10, 50, 20, 60, 30}\n"
     ]
    }
   ],
   "source": [
    "s={10,20,30,40,50} ##### union is used to return the values from both sets without duplicates \n",
    "w={10,20,30,60}\n",
    "print(s.union(w))\n",
    "print(s|w)"
   ]
  },
  {
   "cell_type": "code",
   "execution_count": 88,
   "metadata": {},
   "outputs": [
    {
     "name": "stdout",
     "output_type": "stream",
     "text": [
      "{10, 20, 30}\n",
      "{10, 20, 30}\n"
     ]
    }
   ],
   "source": [
    "###### intersection function\n",
    "print(s & w)\n",
    "print(s.intersection(w))### intersection is return the duplicates of the given sets."
   ]
  },
  {
   "cell_type": "code",
   "execution_count": 89,
   "metadata": {},
   "outputs": [
    {
     "name": "stdout",
     "output_type": "stream",
     "text": [
      "{40, 50}\n",
      "{40, 50}\n",
      "{60}\n"
     ]
    }
   ],
   "source": [
    "print(s.difference(w))### it return the different elements from the first set\n",
    "print(s-w)\n",
    "print(w-s)"
   ]
  },
  {
   "cell_type": "code",
   "execution_count": 90,
   "metadata": {},
   "outputs": [
    {
     "name": "stdout",
     "output_type": "stream",
     "text": [
      "{40, 50, 60}\n"
     ]
    }
   ],
   "source": [
    "print(s.symmetric_difference(w)) ### it return the different elements from two sets."
   ]
  },
  {
   "cell_type": "code",
   "execution_count": 91,
   "metadata": {},
   "outputs": [
    {
     "name": "stdout",
     "output_type": "stream",
     "text": [
      "True\n"
     ]
    }
   ],
   "source": [
    "s=set('mahesh')\n",
    "print('h' in s)\n",
    "\n",
    "\n"
   ]
  },
  {
   "cell_type": "code",
   "execution_count": 92,
   "metadata": {},
   "outputs": [
    {
     "name": "stdout",
     "output_type": "stream",
     "text": [
      "<class 'dict'>\n",
      "<class 'set'>\n",
      "{1, 2, 3}\n",
      "{0, 1, 2, 3}\n",
      "{1, 2, 3}\n",
      "{2, 3}\n",
      "{2, 3, 10, 20, 30}\n"
     ]
    }
   ],
   "source": [
    "################  set ######################################\n",
    "s={}\n",
    "print(type(s))\n",
    "p=set({})\n",
    "print(type(p))\n",
    "m={1,2,3}\n",
    "print(m)\n",
    "m.add(0)\n",
    "print(m)\n",
    "m.remove(0)\n",
    "print(m)\n",
    "m.pop()\n",
    "print(m)\n",
    "l=[10,20,30]\n",
    "m.update(l)\n",
    "print(m)\n"
   ]
  },
  {
   "cell_type": "code",
   "execution_count": 93,
   "metadata": {},
   "outputs": [
    {
     "name": "stdout",
     "output_type": "stream",
     "text": [
      "{40, 10, 20, 30}\n"
     ]
    }
   ],
   "source": [
    "s1={10,20,30,40}\n",
    "s2=s1.copy()\n",
    "print(s2)\n"
   ]
  },
  {
   "cell_type": "code",
   "execution_count": 94,
   "metadata": {},
   "outputs": [
    {
     "name": "stdout",
     "output_type": "stream",
     "text": [
      "{1, 2, 3}\n"
     ]
    }
   ],
   "source": [
    "### intersection_update is used return the common elements in the two sets.\n",
    "k={1,2,3,4}\n",
    "n={1,2,3}\n",
    "k.intersection_update(n)\n",
    "print(n)"
   ]
  },
  {
   "cell_type": "code",
   "execution_count": 95,
   "metadata": {},
   "outputs": [
    {
     "name": "stdout",
     "output_type": "stream",
     "text": [
      "{1, 2, 3}\n"
     ]
    }
   ],
   "source": [
    "#### remove the item in the set that are also include in another specified set\n",
    "k.difference_update(n)\n",
    "print(n)"
   ]
  },
  {
   "cell_type": "code",
   "execution_count": 96,
   "metadata": {},
   "outputs": [
    {
     "name": "stdout",
     "output_type": "stream",
     "text": [
      "{1, 2, 3}\n"
     ]
    }
   ],
   "source": [
    "k.isdisjoint(n)#### return whether two sets have a intersection or not\n",
    "print(n)"
   ]
  },
  {
   "cell_type": "code",
   "execution_count": 97,
   "metadata": {},
   "outputs": [
    {
     "name": "stdout",
     "output_type": "stream",
     "text": [
      "{1, 2, 3}\n"
     ]
    }
   ],
   "source": [
    "k.issubset(n)#### issubset return whether set contains this set or not\n",
    "print(n)"
   ]
  },
  {
   "cell_type": "code",
   "execution_count": 98,
   "metadata": {},
   "outputs": [
    {
     "name": "stdout",
     "output_type": "stream",
     "text": [
      "{1, 2, 3}\n"
     ]
    }
   ],
   "source": [
    "k.issuperset(n) #### return whether this set contains another set or not\n",
    "print(n)"
   ]
  },
  {
   "cell_type": "code",
   "execution_count": 99,
   "metadata": {},
   "outputs": [
    {
     "name": "stdout",
     "output_type": "stream",
     "text": [
      "<class 'dict'>\n",
      "<class 'dict'>\n"
     ]
    }
   ],
   "source": [
    "#### if we want to repesent group of objects as key-value pairs then we go for dict. \n",
    "### duplicate keys are not allowed \n",
    "## but values be duplicated\n",
    "s={}\n",
    "print(type(s))\n",
    "p=dict()\n",
    "print(type(p))"
   ]
  },
  {
   "cell_type": "code",
   "execution_count": 100,
   "metadata": {},
   "outputs": [
    {
     "name": "stdout",
     "output_type": "stream",
     "text": [
      "{1: 'mahesh', 2: 'Rampe', 3: 'pichi'}\n",
      "{1: 100, 2: 200, 3: 300}\n"
     ]
    }
   ],
   "source": [
    "d={1:\"mahesh\",2:'Rampe',3:\"pichi\"}\n",
    "print(d)\n",
    "d={1:100,2:200,3:300}\n",
    "print(d)"
   ]
  },
  {
   "cell_type": "code",
   "execution_count": 101,
   "metadata": {},
   "outputs": [
    {
     "name": "stdout",
     "output_type": "stream",
     "text": [
      "{100: 'mahesh', 101: 'mahesh', 104: 'mahesh rampe'}\n"
     ]
    }
   ],
   "source": [
    "d={}\n",
    "d[100]='mahesh'\n",
    "d[101]='rampe'\n",
    "d[101]='mahesh'### duplicate keys are not allowed \n",
    "d[104]='mahesh rampe'\n",
    "print(d)"
   ]
  },
  {
   "cell_type": "code",
   "execution_count": 102,
   "metadata": {},
   "outputs": [
    {
     "name": "stdout",
     "output_type": "stream",
     "text": [
      "{100: 'mahesh', 101: 'mahesh', 104: 'mahesh rampe', 400: 'gangadhar'}\n",
      "{100: 'mahesh', 101: 'mahesh', 104: 'mahesh rampe', 400: 'gangadhar', 1000: 9581.0}\n",
      "{100: 'mahesh', 101: 'mahesh', 104: 'mahesh rampe', 400: 'gangadhar', 1000: 9581.0, 1111: '8888.0'}\n"
     ]
    }
   ],
   "source": [
    "#### update dict\n",
    "d[400]='gangadhar'\n",
    "print(d)\n",
    "d[1000]=9581.00\n",
    "print(d)\n",
    "d[1111]='8888.0'\n",
    "print(d)"
   ]
  },
  {
   "cell_type": "code",
   "execution_count": 103,
   "metadata": {},
   "outputs": [
    {
     "name": "stdout",
     "output_type": "stream",
     "text": [
      "{100: 'mahesh', 101: 'mahesh', 104: 'mahesh rampe', 400: 'gangadhar', 1111: '8888.0'}\n",
      "{100: 'mahesh', 101: 'mahesh', 104: 'mahesh rampe', 400: 'gangadhar'}\n"
     ]
    }
   ],
   "source": [
    "### delete from dict\n",
    "del d[1000]\n",
    "print(d)\n",
    "del d[1111]\n",
    "print(d)\n",
    "##### clear() is the method to empty the dict. \n",
    "######  del d is another method to delete the total dict"
   ]
  },
  {
   "cell_type": "code",
   "execution_count": 104,
   "metadata": {},
   "outputs": [
    {
     "name": "stdout",
     "output_type": "stream",
     "text": [
      "4\n",
      "mahesh\n",
      "mahesh\n",
      "mahesh\n",
      "None\n",
      "mahesh\n"
     ]
    }
   ],
   "source": [
    "##### important functions of dictionary.\n",
    "print(len(d))\n",
    "print(d.get(100))#### get function always return the value from dict otherwise return none.\n",
    "print(d.get(100,'mahesh'))\n",
    "print(d.get(100,'guest'))## get check if the dict has value is there or not incase it has they return.\n",
    "print(d.get(499))## not in the dict it can return none not error.\n",
    "print(d.pop(101))### pop is remove entry associated with specific key and return the corresponding value.\n",
    "\n"
   ]
  },
  {
   "cell_type": "code",
   "execution_count": 105,
   "metadata": {},
   "outputs": [
    {
     "name": "stdout",
     "output_type": "stream",
     "text": [
      "{100: 'mahesh', 104: 'mahesh rampe', 400: 'gangadhar', 101: 'mahesh', 111: 'ganga', 121: 'rampe', 131: 'tcs', 141: 'TATA'}\n"
     ]
    }
   ],
   "source": [
    "\n",
    "d[101]='mahesh'\n",
    "d[111]='ganga'\n",
    "d[121]='rampe'\n",
    "d[131]='tcs'\n",
    "d[141]='TATA'\n",
    "print(d)"
   ]
  },
  {
   "cell_type": "code",
   "execution_count": 106,
   "metadata": {},
   "outputs": [
    {
     "name": "stdout",
     "output_type": "stream",
     "text": [
      "TATA\n"
     ]
    }
   ],
   "source": [
    "print(d.pop(141))"
   ]
  },
  {
   "cell_type": "code",
   "execution_count": 107,
   "metadata": {},
   "outputs": [
    {
     "name": "stdout",
     "output_type": "stream",
     "text": [
      "{100: 'mahesh', 104: 'mahesh rampe', 400: 'gangadhar', 101: 'mahesh', 111: 'ganga', 121: 'rampe', 131: 'tcs'}\n"
     ]
    }
   ],
   "source": [
    "print(d)"
   ]
  },
  {
   "cell_type": "code",
   "execution_count": 108,
   "metadata": {},
   "outputs": [
    {
     "name": "stdout",
     "output_type": "stream",
     "text": [
      "(131, 'tcs')\n",
      "{100: 'mahesh', 104: 'mahesh rampe', 400: 'gangadhar', 101: 'mahesh', 111: 'ganga', 121: 'rampe'}\n"
     ]
    }
   ],
   "source": [
    "print(d.popitem()) ### it remove an arbitary item key-value from dict and return it.\n",
    "print(d)"
   ]
  },
  {
   "cell_type": "code",
   "execution_count": 109,
   "metadata": {},
   "outputs": [
    {
     "name": "stdout",
     "output_type": "stream",
     "text": [
      "dict_keys([100, 104, 400, 101, 111, 121])\n"
     ]
    }
   ],
   "source": [
    "print(d.keys()) ### return the keys in dict"
   ]
  },
  {
   "cell_type": "code",
   "execution_count": 110,
   "metadata": {},
   "outputs": [
    {
     "name": "stdout",
     "output_type": "stream",
     "text": [
      "dict_values(['mahesh', 'mahesh rampe', 'gangadhar', 'mahesh', 'ganga', 'rampe'])\n"
     ]
    }
   ],
   "source": [
    "print(d.values()) #### return the values in dict."
   ]
  },
  {
   "cell_type": "code",
   "execution_count": 111,
   "metadata": {},
   "outputs": [
    {
     "name": "stdout",
     "output_type": "stream",
     "text": [
      "{100: 'mahesh', 104: 'mahesh rampe', 400: 'gangadhar', 101: 'mahesh', 111: 'ganga', 121: 'rampe'}\n"
     ]
    }
   ],
   "source": [
    "d1=d.copy()### copy dict.\n",
    "print(d1)"
   ]
  },
  {
   "cell_type": "code",
   "execution_count": 112,
   "metadata": {},
   "outputs": [
    {
     "name": "stdout",
     "output_type": "stream",
     "text": [
      "gangadhar\n",
      "{100: 'mahesh', 104: 'mahesh rampe', 400: 'gangadhar', 101: 'mahesh', 111: 'ganga', 121: 'rampe'}\n"
     ]
    }
   ],
   "source": [
    "print(d.setdefault(400,'pichi'))##### setdefault always return the corresponding value in the keys.if it is available.\n",
    "print(d)"
   ]
  },
  {
   "cell_type": "code",
   "execution_count": 113,
   "metadata": {},
   "outputs": [
    {
     "name": "stdout",
     "output_type": "stream",
     "text": [
      "{100: 'mahesh', 104: 'mahesh rampe', 400: 'gangadhar', 101: 'mahesh', 111: 'ganga', 121: 'rampe'}\n"
     ]
    }
   ],
   "source": [
    "print(d)"
   ]
  },
  {
   "cell_type": "code",
   "execution_count": 114,
   "metadata": {},
   "outputs": [
    {
     "name": "stdout",
     "output_type": "stream",
     "text": [
      "{100: 'mahesh', 111: 'ganga', 222: 'samba', 333: 'chick', 444: 'mutton', 555: 'fish'}\n"
     ]
    }
   ],
   "source": [
    "### final practice once dict\n",
    "p={}\n",
    "p[100]='mahesh'\n",
    "p[111]='ganga'\n",
    "p[222]='samba'\n",
    "p[333]='chick'\n",
    "p[444]='mutton'\n",
    "p[555]='fish'\n",
    "print(p)"
   ]
  },
  {
   "cell_type": "code",
   "execution_count": 115,
   "metadata": {},
   "outputs": [
    {
     "name": "stdout",
     "output_type": "stream",
     "text": [
      "{100: 'mahesh', 111: 'ganga', 222: 'samba', 333: 'chick', 444: 'mutton'}\n"
     ]
    }
   ],
   "source": [
    "del p[555]### delete\n",
    "print(p)"
   ]
  },
  {
   "cell_type": "code",
   "execution_count": 116,
   "metadata": {},
   "outputs": [
    {
     "name": "stdout",
     "output_type": "stream",
     "text": [
      "{100: 'mahesh', 111: 'ganga', 222: 'samba', 333: 'chick'}\n"
     ]
    }
   ],
   "source": [
    "p.pop(444)## remove the value.\n",
    "print(p)"
   ]
  },
  {
   "cell_type": "code",
   "execution_count": 117,
   "metadata": {},
   "outputs": [
    {
     "data": {
      "text/plain": [
       "'chick'"
      ]
     },
     "execution_count": 117,
     "metadata": {},
     "output_type": "execute_result"
    }
   ],
   "source": [
    "p.get(333)\n"
   ]
  },
  {
   "cell_type": "code",
   "execution_count": 118,
   "metadata": {},
   "outputs": [],
   "source": [
    "p.get(555)"
   ]
  },
  {
   "cell_type": "code",
   "execution_count": 119,
   "metadata": {},
   "outputs": [
    {
     "data": {
      "text/plain": [
       "(333, 'chick')"
      ]
     },
     "execution_count": 119,
     "metadata": {},
     "output_type": "execute_result"
    }
   ],
   "source": [
    "p.popitem()## last remove key_value."
   ]
  },
  {
   "cell_type": "code",
   "execution_count": 120,
   "metadata": {},
   "outputs": [
    {
     "data": {
      "text/plain": [
       "dict_values(['mahesh', 'ganga', 'samba'])"
      ]
     },
     "execution_count": 120,
     "metadata": {},
     "output_type": "execute_result"
    }
   ],
   "source": [
    "\n",
    "p.values()"
   ]
  },
  {
   "cell_type": "code",
   "execution_count": 121,
   "metadata": {},
   "outputs": [
    {
     "data": {
      "text/plain": [
       "dict_keys([100, 111, 222])"
      ]
     },
     "execution_count": 121,
     "metadata": {},
     "output_type": "execute_result"
    }
   ],
   "source": [
    "p.keys()"
   ]
  },
  {
   "cell_type": "code",
   "execution_count": 122,
   "metadata": {},
   "outputs": [
    {
     "data": {
      "text/plain": [
       "'super'"
      ]
     },
     "execution_count": 122,
     "metadata": {},
     "output_type": "execute_result"
    }
   ],
   "source": [
    "p.setdefault(900,'super')## it retrn the default values incase corresoponding value."
   ]
  },
  {
   "cell_type": "raw",
   "metadata": {},
   "source": [
    "####### Functions#######\n",
    "### in a group of statements repetadely required not to recommended to write statrments everytime so single unit and we can call that unit anytime based on requirement without rewrting is known as function.\n",
    "## advantage is code is reusable.\n",
    "### there are two types 1.built in 2.user defined\n",
    "### built in comming along with python software are also called predefined functions.\n",
    "### userdefined is explicitly write and user requirments.\n"
   ]
  },
  {
   "cell_type": "raw",
   "metadata": {},
   "source": [
    "### built  functions they are \n",
    "## id()\n",
    "## type()\n",
    "## input()\n",
    "## eval()\n",
    "## etc"
   ]
  },
  {
   "cell_type": "raw",
   "metadata": {},
   "source": [
    "###### parameters are the inputs of a function. if a function contain parameters then at atime of calling compulsory we should provide otherwise we will get the error.\n",
    "\n"
   ]
  },
  {
   "cell_type": "code",
   "execution_count": 123,
   "metadata": {},
   "outputs": [
    {
     "name": "stdout",
     "output_type": "stream",
     "text": [
      "hello mahesh good morning\n",
      "hello rampe good morning\n",
      "the squre 4 is 16\n",
      "the number is 6\n",
      "the number is maheshrampe\n"
     ]
    }
   ],
   "source": [
    "#1.write a fun to take name of student as input and print wish the message by name.\n",
    "def wish(name):\n",
    "    print('hello',name,'good morning')\n",
    "wish('mahesh')\n",
    "wish('rampe')\n",
    "\n",
    "#2.print squre value\n",
    "def squre(number):\n",
    "    print('the squre',number,'is',number*number)\n",
    "squre(4)\n",
    "\n",
    "#### 3.print add of two numbers using with functions\n",
    "def add(a,b):\n",
    "    print('the number is',a+b)\n",
    "add(2,4)\n",
    "add('mahesh','rampe')\n"
   ]
  },
  {
   "cell_type": "code",
   "execution_count": 124,
   "metadata": {},
   "outputs": [
    {
     "name": "stdout",
     "output_type": "stream",
     "text": [
      "[1, 2, 3, 4, 5, 6]\n"
     ]
    }
   ],
   "source": [
    "l=[1,2,3,4,5,6]\n",
    "def fun(l):\n",
    "    print(l,sep='\\n')\n",
    "fun(l)"
   ]
  },
  {
   "cell_type": "code",
   "execution_count": 125,
   "metadata": {},
   "outputs": [
    {
     "name": "stdout",
     "output_type": "stream",
     "text": [
      "0\n",
      "1\n",
      "2\n",
      "3\n",
      "4\n",
      "<class 'list'>\n"
     ]
    }
   ],
   "source": [
    "def fun():\n",
    "    for i in range(5):\n",
    "        print(i)\n",
    "        \n",
    "fun()\n",
    "print(type(l))"
   ]
  },
  {
   "cell_type": "code",
   "execution_count": 126,
   "metadata": {},
   "outputs": [
    {
     "name": "stdout",
     "output_type": "stream",
     "text": [
      "[1, 2, 3, 4, 5]\n"
     ]
    },
    {
     "data": {
      "text/plain": [
       "[1, 2, 3, 4, 5]"
      ]
     },
     "execution_count": 126,
     "metadata": {},
     "output_type": "execute_result"
    }
   ],
   "source": [
    "l=[1,2,3,4,5]\n",
    "def ls(l):\n",
    "    print(l)\n",
    "    return l\n",
    "ls(l)"
   ]
  },
  {
   "cell_type": "code",
   "execution_count": 127,
   "metadata": {},
   "outputs": [
    {
     "name": "stdout",
     "output_type": "stream",
     "text": [
      "mahesh\n"
     ]
    }
   ],
   "source": [
    "def ac():\n",
    "    print('mahesh')\n",
    "ac()"
   ]
  },
  {
   "cell_type": "code",
   "execution_count": 128,
   "metadata": {},
   "outputs": [
    {
     "name": "stdout",
     "output_type": "stream",
     "text": [
      "result = 15and other value -5\n"
     ]
    }
   ],
   "source": [
    "## a fun can take input values as a parameters and execute the logic and return output is called return statement.\n",
    "def sum_add(a,b):\n",
    "    c=a+b\n",
    "    d=a-b\n",
    "    return c,d\n",
    "## call the function\n",
    "c,d=sum_add(5,10)\n",
    "print(\"result = {}and other value {}\".format(c,d))"
   ]
  },
  {
   "cell_type": "code",
   "execution_count": 129,
   "metadata": {},
   "outputs": [
    {
     "name": "stdout",
     "output_type": "stream",
     "text": [
      "(5, -1, 6, 0.6666666666666666, 8, 0, 2)\n",
      "5\n",
      "-1\n",
      "6\n",
      "0.6666666666666666\n",
      "8\n",
      "0\n",
      "2\n"
     ]
    }
   ],
   "source": [
    "def fun(m,n):\n",
    "    a=m+n\n",
    "    b=m-n\n",
    "    c=m*n\n",
    "    d=m/n\n",
    "    e=m**n\n",
    "    f=m//n\n",
    "    g=m&n\n",
    "    return a,b,c,d,e,f,g\n",
    "## call the fun\n",
    "func=fun(2,3)\n",
    "print(func)\n",
    "for i in func:print(i)"
   ]
  },
  {
   "cell_type": "code",
   "execution_count": 130,
   "metadata": {},
   "outputs": [
    {
     "name": "stdout",
     "output_type": "stream",
     "text": [
      "10 is even\n",
      "20 is even\n",
      "27 is odd\n"
     ]
    }
   ],
   "source": [
    "def even_odd(num):\n",
    "    if num%2==0:\n",
    "        print(num,'is even')\n",
    "    else:\n",
    "        print(num,'is odd')\n",
    "even_odd(10)\n",
    "even_odd(20)\n",
    "even_odd(27)"
   ]
  },
  {
   "cell_type": "raw",
   "metadata": {},
   "source": [
    "### Arguments #####\n",
    "\n",
    "def sub(a,b):\n",
    "    print(a-b)\n",
    "sub(10,20)\n",
    "sub(20,10)\n",
    "\n",
    "### here a,b are the formal arguments 10,20 are actual arguments.\n",
    "#### there are 4 types of actual argumenst\n",
    "##1.postional arguments\n",
    "#2.keyword argumenst\n",
    "#3.default arguments\n",
    "#4.variable length arguments"
   ]
  },
  {
   "cell_type": "code",
   "execution_count": 131,
   "metadata": {},
   "outputs": [
    {
     "name": "stdout",
     "output_type": "stream",
     "text": [
      "10\n"
     ]
    }
   ],
   "source": [
    "### postional argumnets\n",
    "#-- the arguments passed to the function is called postional arguments\n",
    "#--- the postional and number of argumenst are must matched.if we change the order then result may be change.\n",
    "def postional(a,b):\n",
    "    print(a-b)\n",
    "postional(20,10)\n",
    "### in case we take postional arguments three like \n",
    "#postional(10,20,30) we get error.\n",
    "\n",
    "##TypeError: postional() takes 2 positional arguments but 3 were given"
   ]
  },
  {
   "cell_type": "code",
   "execution_count": 132,
   "metadata": {},
   "outputs": [
    {
     "name": "stdout",
     "output_type": "stream",
     "text": [
      "hello mahesh good morning\n",
      "hello mahesh good morning\n",
      "hello mahesh good morning\n"
     ]
    }
   ],
   "source": [
    "#### keyword arguments.\n",
    "### we can pass the argument values by keyword is known as paramerter name.\n",
    "def wish(n,m):\n",
    "    print('hello',n,m)\n",
    "wish(n='mahesh',m='good morning')\n",
    "wish(m='good morning',n='mahesh')\n",
    "wish('mahesh','good morning')\n",
    "#note:we can take both postional and keyword arguments simultaneously but we can take both postional and keyword arguments otherwise we will get the error.\n",
    "#wish(n='mahesh','goodmorning')"
   ]
  },
  {
   "cell_type": "code",
   "execution_count": 133,
   "metadata": {},
   "outputs": [
    {
     "name": "stdout",
     "output_type": "stream",
     "text": [
      "hello durga good morning\n",
      "hello ganga good morning\n"
     ]
    }
   ],
   "source": [
    "###3. default argumenst\n",
    "#### sometimes we can provide default values for our postional arguments.\n",
    "def wish(name='mahesh'):\n",
    "    print('hello',name,'good morning')\n",
    "wish('durga')\n",
    "wish('ganga')\n",
    "### after default arguments se should not take non default arguments "
   ]
  },
  {
   "cell_type": "code",
   "execution_count": 134,
   "metadata": {},
   "outputs": [
    {
     "name": "stdout",
     "output_type": "stream",
     "text": [
      "the sum= 0\n",
      "the sum= 10\n"
     ]
    }
   ],
   "source": [
    "### 4.varible length arguments\n",
    "## some times we can pass the varible number of argumenst to our function such type of arguments are called varible length arguments\n",
    "### we can declare as lenth argumenst with * symbol as follows.\n",
    "def sum(*n):\n",
    "    total=0\n",
    "    for n1 in n:\n",
    "        total=total+n1\n",
    "    print('the sum=',total)\n",
    "    \n",
    "sum()\n",
    "sum(10)"
   ]
  },
  {
   "cell_type": "code",
   "execution_count": 135,
   "metadata": {},
   "outputs": [
    {
     "name": "stdout",
     "output_type": "stream",
     "text": [
      "10\n",
      "10\n"
     ]
    }
   ],
   "source": [
    "##### TYPES OF VAIABLE\n",
    "## python support 2 types of varible\n",
    "## 1.Global varible\n",
    "## 2.local Varible\n",
    "## the varible which are declared outside of a function is called global variable.\n",
    "a=10### global variable.\n",
    "def f1():\n",
    "    print(a)\n",
    "def f2():\n",
    "    print(a)\n",
    "    \n",
    "f1()\n",
    "f1()"
   ]
  },
  {
   "cell_type": "code",
   "execution_count": 136,
   "metadata": {},
   "outputs": [
    {
     "name": "stdout",
     "output_type": "stream",
     "text": [
      "10\n"
     ]
    }
   ],
   "source": [
    "### local variable\n",
    "def f1():\n",
    "    a=10## the variable are declare inside of a function is called local variable.\n",
    "    print(a)\n",
    "f1()"
   ]
  },
  {
   "cell_type": "code",
   "execution_count": 137,
   "metadata": {},
   "outputs": [],
   "source": [
    "### Global keyword\n",
    "### we can use global keyword for the following 2 purpose.\n",
    "# 1. to declare global varible inside function.\n",
    "# 2. to make global varible available to the function so that we can perform required modification."
   ]
  },
  {
   "cell_type": "code",
   "execution_count": 138,
   "metadata": {},
   "outputs": [
    {
     "name": "stdout",
     "output_type": "stream",
     "text": [
      "777\n",
      "10\n"
     ]
    }
   ],
   "source": [
    "a=10\n",
    "def f1():\n",
    "    a=777\n",
    "    print(a)\n",
    "f1()\n",
    "f2()"
   ]
  },
  {
   "cell_type": "code",
   "execution_count": 139,
   "metadata": {},
   "outputs": [
    {
     "name": "stdout",
     "output_type": "stream",
     "text": [
      "fact of 4 is: 24\n",
      "fact of 5 is: 120\n"
     ]
    }
   ],
   "source": [
    "### recursive function.\n",
    "## a function that calls itself is known as recursive function.\n",
    "def fact(n):\n",
    "    if n==0:\n",
    "        r=1\n",
    "    else:\n",
    "        r=n*fact(n-1)\n",
    "    return r\n",
    "print('fact of 4 is:',fact(4))\n",
    "print('fact of 5 is:',fact(5))\n"
   ]
  },
  {
   "cell_type": "code",
   "execution_count": 140,
   "metadata": {},
   "outputs": [
    {
     "name": "stdout",
     "output_type": "stream",
     "text": [
      "the squre of 4 is: 16\n"
     ]
    }
   ],
   "source": [
    "##### anonymous function: some times we declare a function without anyname suchtype of nameless function is called ananymous or lambda function.\n",
    "## the main purpose of anonymous function is just for instant use(for one time usage)\n",
    "### lambda function we define by using lambda keyword  syntax: lambda n:n*n\n",
    "s=lambda n:n*n\n",
    "print('the squre of 4 is:',s(4))"
   ]
  },
  {
   "cell_type": "code",
   "execution_count": 141,
   "metadata": {},
   "outputs": [
    {
     "name": "stdout",
     "output_type": "stream",
     "text": [
      "[0, 10, 20, 30]\n"
     ]
    }
   ],
   "source": [
    "#### filter()function :: we can use filter() function to filter the values from given sequence based on some condition.\n",
    "def isEVen(x):\n",
    "    if x%2==0:\n",
    "        return True\n",
    "    else:\n",
    "        return False\n",
    "l=[0,5,10,15,20,25,30]\n",
    "l1=list(filter(isEVen,l))\n",
    "print(l1)"
   ]
  },
  {
   "cell_type": "code",
   "execution_count": 142,
   "metadata": {},
   "outputs": [
    {
     "name": "stdout",
     "output_type": "stream",
     "text": [
      "[2, 4, 6, 8, 10]\n"
     ]
    }
   ],
   "source": [
    "##### map function()::for every element present in the given sequencies apply sum functionality and generate new elemnts with required modification for this requirements we should go for map() function.\n",
    "## ex:\n",
    "l=[1,2,3,4,5]\n",
    "def doubleit(x):\n",
    "    return 2*x\n",
    "l1=list(map(doubleit,l))\n",
    "print(l1)"
   ]
  },
  {
   "cell_type": "code",
   "execution_count": 143,
   "metadata": {},
   "outputs": [
    {
     "name": "stdout",
     "output_type": "stream",
     "text": [
      "100\n"
     ]
    }
   ],
   "source": [
    "### reduce() function:::\n",
    "# reduce function reduces sequnece of elemnts into a single elemnts by applying the specified function\n",
    "from functools import *\n",
    "l=[10,20,30,40]\n",
    "r=reduce(lambda x,y:x+y,l)\n",
    "print(r)"
   ]
  },
  {
   "cell_type": "code",
   "execution_count": 144,
   "metadata": {},
   "outputs": [
    {
     "name": "stdout",
     "output_type": "stream",
     "text": [
      "5.0\n",
      "2.0\n"
     ]
    }
   ],
   "source": [
    "#### decarator\n",
    "def addsum(func):\n",
    "    def inner(a,b):\n",
    "        if b==0:\n",
    "            return(\"hello stupif ...how we can add with zero\")\n",
    "            \n",
    "        else:\n",
    "            return func(a,b)\n",
    "    return inner\n",
    "@addsum\n",
    "def sum(a,b):\n",
    "    return a/b\n",
    "print(sum(10,2))\n",
    "print(sum(10,5))"
   ]
  },
  {
   "cell_type": "code",
   "execution_count": 145,
   "metadata": {},
   "outputs": [
    {
     "name": "stdout",
     "output_type": "stream",
     "text": [
      "12\n"
     ]
    }
   ],
   "source": [
    "def decor(func):\n",
    "    def inner():\n",
    "        value=func()\n",
    "        return value+2\n",
    "    return inner\n",
    "@decor\n",
    "def num():\n",
    "    return 10\n",
    "print(num())"
   ]
  },
  {
   "cell_type": "code",
   "execution_count": 146,
   "metadata": {},
   "outputs": [
    {
     "name": "stdout",
     "output_type": "stream",
     "text": [
      "8\n"
     ]
    }
   ],
   "source": [
    "def decor(func):\n",
    "    def inner(a,b):\n",
    "        return\n",
    "    return inner\n",
    "\n",
    "def num(a,b):\n",
    "    return a*b\n",
    "print(num(2,4))"
   ]
  },
  {
   "cell_type": "code",
   "execution_count": null,
   "metadata": {},
   "outputs": [],
   "source": []
  },
  {
   "cell_type": "code",
   "execution_count": null,
   "metadata": {},
   "outputs": [],
   "source": []
  },
  {
   "cell_type": "code",
   "execution_count": null,
   "metadata": {},
   "outputs": [],
   "source": []
  }
 ],
 "metadata": {
  "kernelspec": {
   "display_name": "Python 3 (ipykernel)",
   "language": "python",
   "name": "python3"
  },
  "language_info": {
   "codemirror_mode": {
    "name": "ipython",
    "version": 3
   },
   "file_extension": ".py",
   "mimetype": "text/x-python",
   "name": "python",
   "nbconvert_exporter": "python",
   "pygments_lexer": "ipython3",
   "version": "3.10.0"
  }
 },
 "nbformat": 4,
 "nbformat_minor": 2
}
