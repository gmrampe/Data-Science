{
 "cells": [
  {
   "cell_type": "markdown",
   "id": "f4e2dcf2-1e52-4419-aaec-6eee93ec0cb4",
   "metadata": {},
   "source": [
    "# Exceptions"
   ]
  },
  {
   "cell_type": "markdown",
   "id": "c0efb6d9-851a-4db7-9b35-d7e356bfe6e1",
   "metadata": {},
   "source": [
    "# What is an Exception in python? Write the difference  between Exceptions and syntax errors"
   ]
  },
  {
   "cell_type": "markdown",
   "id": "6ed341d8-5a4c-42ce-b4de-6bb273856833",
   "metadata": {},
   "source": [
    "An Exception in Python refers to an error that occurs during the execution of a program that disrupts the normal flow of the program's instructions. In Python, exceptions are objects that are raised when an error occurs, and they can be caught and handled by the program.\n",
    "\n",
    "There are many different types of exceptions in Python, including:\n",
    "\n",
    "SyntaxError: This occurs when the Python interpreter encounters a syntax error in the code, such as a missing or misplaced colon, bracket, or parentheses.\n",
    "\n",
    "NameError: This occurs when a variable or function is used before it is defined.\n",
    "\n",
    "TypeError: This occurs when an operation or function is applied to an object of an inappropriate type.\n",
    "\n",
    "ValueError: This occurs when a function or method is called with an argument of the correct type, but with an inappropriate value.\n",
    "\n",
    "IndexError: This occurs when an index is out of range for a sequence (such as a list or string).\n",
    "\n",
    "KeyError: This occurs when a key is not found in a dictionary.\n",
    "\n",
    "AttributeError: This occurs when an attribute is not found on an object.\n",
    "\n",
    "In contrast, syntax errors are errors that occur during the parsing of the code, before it is executed. These errors are typically caused by mistakes in the code's structure, such as incorrect indentation or misspelled keywords. Unlike exceptions, syntax errors cannot be caught and handled by the program at runtime.\n",
    "\n",
    "In summary, exceptions are runtime errors that occur during the execution of a program, while syntax errors are compile-time errors that occur during the parsing of the code.\n",
    "\n",
    "\n",
    "\n"
   ]
  },
  {
   "cell_type": "markdown",
   "id": "1013c98e-4289-4920-9b6a-704a571c225c",
   "metadata": {},
   "source": [
    "# 2.what happend when exception is not handled? explain with a"
   ]
  },
  {
   "cell_type": "markdown",
   "id": "56b895ba-0f0c-4b98-b85c-a68b7d355d5f",
   "metadata": {},
   "source": [
    "When an exception is not handled in a Python program, it will result in the program terminating with an error message. The error message will provide information about the type of exception that occurred, the line of code where the exception occurred, and a traceback of the function calls that led to the exception."
   ]
  },
  {
   "cell_type": "code",
   "execution_count": 16,
   "id": "4f9125f8-5f7c-4299-8f12-0f7c2c5868d0",
   "metadata": {},
   "outputs": [
    {
     "ename": "ZeroDivisionError",
     "evalue": "division by zero",
     "output_type": "error",
     "traceback": [
      "\u001b[0;31m---------------------------------------------------------------------------\u001b[0m",
      "\u001b[0;31mZeroDivisionError\u001b[0m                         Traceback (most recent call last)",
      "Cell \u001b[0;32mIn[16], line 2\u001b[0m\n\u001b[1;32m      1\u001b[0m \u001b[38;5;28;01mtry\u001b[39;00m:\n\u001b[0;32m----> 2\u001b[0m     x \u001b[38;5;241m=\u001b[39m \u001b[38;5;241;43m1\u001b[39;49m\u001b[43m \u001b[49m\u001b[38;5;241;43m/\u001b[39;49m\u001b[43m \u001b[49m\u001b[38;5;241;43m0\u001b[39;49m\n\u001b[1;32m      3\u001b[0m \u001b[38;5;28;01mexcept\u001b[39;00m \u001b[38;5;167;01mValueError\u001b[39;00m:\n\u001b[1;32m      4\u001b[0m     \u001b[38;5;28mprint\u001b[39m(\u001b[38;5;124m\"\u001b[39m\u001b[38;5;124mValueError occurred\u001b[39m\u001b[38;5;124m\"\u001b[39m)\n",
      "\u001b[0;31mZeroDivisionError\u001b[0m: division by zero"
     ]
    }
   ],
   "source": [
    "try:\n",
    "    x = 1 / 0\n",
    "except ValueError:\n",
    "    print(\"ValueError occurred\")\n"
   ]
  },
  {
   "cell_type": "markdown",
   "id": "d751bf43-21da-4c98-9275-5bcf7ac77ab8",
   "metadata": {},
   "source": [
    "As you can see from the error message, the ZeroDivisionError exception was not handled by the program, and the program terminated with an error.\n",
    "\n",
    "It is important to handle exceptions in your code, as it allows your program to gracefully recover from errors and continue executing, rather than terminating unexpectedly. To handle exceptions, you can use a try-except block to catch the exception and handle it appropriately.\n"
   ]
  },
  {
   "cell_type": "markdown",
   "id": "ea6c6f5f-b4f3-4798-9cad-3ce8f2451e9d",
   "metadata": {},
   "source": [
    "# 3.which python statements are used to catch and handle exceptions? explain with example."
   ]
  },
  {
   "cell_type": "markdown",
   "id": "439cd80c-3c36-49c6-9ffc-9e5e1a8bdded",
   "metadata": {},
   "source": [
    "In Python, the try-except block is used to catch and handle exceptions. The try block contains the code that may raise an exception, and the except block contains the code that is executed if the exception is caught.\n",
    "\n",
    "Here's an example of how the try-except block is used to handle exceptions in Python:"
   ]
  },
  {
   "cell_type": "code",
   "execution_count": 18,
   "id": "c76f8756-5f8e-4ca0-abd7-0f71f0ca809f",
   "metadata": {},
   "outputs": [
    {
     "name": "stdin",
     "output_type": "stream",
     "text": [
      "Enter a number:  1\n"
     ]
    },
    {
     "name": "stdout",
     "output_type": "stream",
     "text": [
      "1.0\n"
     ]
    }
   ],
   "source": [
    "try:\n",
    "    x = int(input(\"Enter a number: \"))\n",
    "    y = 1 / x\n",
    "    print(y)\n",
    "except ValueError:\n",
    "    print(\"Invalid input\")\n",
    "except ZeroDivisionError:\n",
    "    print(\"Cannot divide by zero\")\n"
   ]
  },
  {
   "cell_type": "markdown",
   "id": "2a76a1ca-7ad7-4dc7-8154-55f08aa52201",
   "metadata": {},
   "source": [
    "In this example, the user is prompted to enter a number, which is then used to calculate the value of y. The try block contains the code that may raise two types of exceptions: ValueError if the user enters an invalid input (such as a non-numeric value), and ZeroDivisionError if the user enters zero as the input.\n",
    "\n",
    "The except block is used to catch and handle these exceptions. If a ValueError occurs, the message \"Invalid input\" is printed. If a ZeroDivisionError occurs, the message \"Cannot divide by zero\" is printed. If neither of these exceptions occurs, the value of y is printed.\n",
    "\n",
    "By using a try-except block to handle exceptions, the program is able to recover from errors and continue executing, rather than terminating unexpectedly. This allows for a more robust and reliable program."
   ]
  },
  {
   "cell_type": "markdown",
   "id": "1375b7ed-b57b-47cf-bb7d-e6980e8908a1",
   "metadata": {},
   "source": [
    "# Explain about try and else finally raise"
   ]
  },
  {
   "cell_type": "markdown",
   "id": "14377376-6275-46d5-b8e3-7f0059f29043",
   "metadata": {},
   "source": [
    "In Python, the try, else, finally, and raise statements are used to handle exceptions and perform cleanup operations.\n",
    "\n",
    "try statement: The try statement is used to enclose the code that may raise an exception. If an exception is raised within the try block, the program will jump to the corresponding except block.\n",
    "\n",
    "else statement: The else statement is used in conjunction with the try-except block. The code within the else block is executed if no exceptions were raised in the try block.\n",
    "\n",
    "finally statement: The finally statement is used to specify a block of code that will be executed regardless of whether an exception is raised in the try block or not. The finally block is commonly used for cleanup operations, such as closing files or releasing resources.\n",
    "\n",
    "raise statement: The raise statement is used to explicitly raise an exception. This is useful when you want to create custom exceptions or when you want to re-raise an exception that was caught and handled earlier in the program."
   ]
  },
  {
   "cell_type": "code",
   "execution_count": 19,
   "id": "3c90cd20-65f4-4f24-99c0-ae1694bb6810",
   "metadata": {},
   "outputs": [
    {
     "name": "stdin",
     "output_type": "stream",
     "text": [
      "Enter a number:  109\n"
     ]
    },
    {
     "name": "stdout",
     "output_type": "stream",
     "text": [
      "The result is: 0.09174311926605505\n",
      "Done with calculations\n"
     ]
    }
   ],
   "source": [
    "try:\n",
    "    x = int(input(\"Enter a number: \"))\n",
    "    y = 10 / x\n",
    "except ValueError:\n",
    "    print(\"Invalid input\")\n",
    "except ZeroDivisionError:\n",
    "    print(\"Cannot divide by zero\")\n",
    "else:\n",
    "    print(\"The result is:\", y)\n",
    "finally:\n",
    "    print(\"Done with calculations\")\n",
    "\n",
    "if y < 0:\n",
    "    raise ValueError(\"Result is negative\")\n"
   ]
  },
  {
   "cell_type": "markdown",
   "id": "6b3e39fd-f78c-439f-9d23-054a99a5e052",
   "metadata": {},
   "source": [
    "In this example, the user is prompted to enter a number, which is used to calculate the value of y. If an exception occurs during the calculation, the appropriate error message is printed. If no exception occurs, the value of y is printed. The finally block is used to print a message indicating that the calculations are done, regardless of whether an exception occurred or not.\n",
    "\n",
    "After the try-except-finally block, an if statement is used to check if the value of y is negative. If it is, a ValueError is explicitly raised using the raise statement.\n",
    "\n",
    "By using these statements, you can handle exceptions, perform cleanup operations, and raise exceptions as necessary to create robust and reliable programs."
   ]
  },
  {
   "cell_type": "markdown",
   "id": "1d88d595-2f45-4a26-abce-45d20240f0a7",
   "metadata": {},
   "source": [
    "# what are custom exceptions in python? why do we need Custom Exception? Explain with an example"
   ]
  },
  {
   "cell_type": "markdown",
   "id": "a23da069-9417-4bdc-bc9f-813fe0cdd01b",
   "metadata": {},
   "source": [
    "Custom exceptions in Python are user-defined exceptions that are used to handle specific error conditions within a program. They are created using the class keyword, and they inherit from the Exception class or one of its subclasses.\n",
    "\n",
    "Custom exceptions are useful when you want to handle specific errors in a more specific way than the built-in exceptions allow. For example, you might want to create a custom exception to handle errors related to input validation or database connectivity."
   ]
  },
  {
   "cell_type": "code",
   "execution_count": 20,
   "id": "4f6769f3-cfcc-4874-b228-3314a70f9a6e",
   "metadata": {},
   "outputs": [
    {
     "name": "stdout",
     "output_type": "stream",
     "text": [
      "Error: Cannot divide by zero\n"
     ]
    }
   ],
   "source": [
    "class InvalidInputError(Exception):\n",
    "    pass\n",
    "\n",
    "def divide(x, y):\n",
    "    if y == 0:\n",
    "        raise InvalidInputError(\"Cannot divide by zero\")\n",
    "    return x / y\n",
    "\n",
    "try:\n",
    "    result = divide(10, 0)\n",
    "    print(result)\n",
    "except InvalidInputError as e:\n",
    "    print(\"Error:\", str(e))\n"
   ]
  },
  {
   "cell_type": "markdown",
   "id": "59ba99fd-2a76-4015-bb54-d012930db056",
   "metadata": {},
   "source": [
    "In this example, a custom exception called InvalidInputError is defined using the class keyword. The divide function uses this exception to raise an error if the second argument is zero. The try-except block is used to catch the InvalidInputError exception and print an error message.\n",
    "\n",
    "By using a custom exception, you can provide more specific error messages and handle errors in a more tailored way. This can make your code easier to understand and maintain, and can improve the overall reliability of your program."
   ]
  },
  {
   "cell_type": "markdown",
   "id": "b46de96f-b71c-4798-9004-e68ccce0e371",
   "metadata": {},
   "source": [
    "# Create a custom exception class.use this class to handle the exception."
   ]
  },
  {
   "cell_type": "code",
   "execution_count": 21,
   "id": "55415bf2-1a35-4b45-80aa-e1bb76c294de",
   "metadata": {},
   "outputs": [
    {
     "name": "stdout",
     "output_type": "stream",
     "text": [
      "Error: Cannot divide by zero\n"
     ]
    }
   ],
   "source": [
    "class InvalidInputError(Exception):\n",
    "    pass\n",
    "\n",
    "def divide(x, y):\n",
    "    if y == 0:\n",
    "        raise InvalidInputError(\"Cannot divide by zero\")\n",
    "    return x / y\n",
    "\n",
    "try:\n",
    "    result = divide(10, 0)\n",
    "    print(result)\n",
    "except InvalidInputError as e:\n",
    "    print(\"Error:\", str(e))\n"
   ]
  },
  {
   "cell_type": "markdown",
   "id": "2f670443-df52-443b-8465-d00455c17f7f",
   "metadata": {},
   "source": [
    "In this example, we define a custom exception class called InvalidInputError that inherits from the built-in Exception class. We also define a function called divide that takes two arguments and raises an InvalidInputError if the second argument is zero.\n",
    "\n",
    "We then use a try-except block to catch the InvalidInputError exception that may be raised by the divide function. If the exception is raised, we print an error message."
   ]
  },
  {
   "cell_type": "code",
   "execution_count": null,
   "id": "d3123532-8836-48a5-ab5f-d6214fe9ef0c",
   "metadata": {},
   "outputs": [],
   "source": []
  }
 ],
 "metadata": {
  "kernelspec": {
   "display_name": "Python 3 (ipykernel)",
   "language": "python",
   "name": "python3"
  },
  "language_info": {
   "codemirror_mode": {
    "name": "ipython",
    "version": 3
   },
   "file_extension": ".py",
   "mimetype": "text/x-python",
   "name": "python",
   "nbconvert_exporter": "python",
   "pygments_lexer": "ipython3",
   "version": "3.10.8"
  }
 },
 "nbformat": 4,
 "nbformat_minor": 5
}
