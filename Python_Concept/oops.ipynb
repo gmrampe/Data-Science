{
 "cells": [
  {
   "cell_type": "markdown",
   "id": "32d2adc7",
   "metadata": {},
   "source": [
    "# Object oriented programming(oops)"
   ]
  },
  {
   "cell_type": "markdown",
   "id": "940bea5b",
   "metadata": {},
   "source": [
    " # What is Class:\n",
    "--In Python every thing is an object. To create objects we required some Model or Plan or Blue\n",
    "print, which is nothing but class.\n",
    "⚽ We can write a class to represent properties (attributes) and actions (behaviour) of object.\n",
    "⚽ Properties can be represented by variables\n",
    "⚽ Actions can be represented by Methods.\n",
    "⚽ Hence class contains both variables and methods.\n",
    "How to Define a class?\n",
    "We can define a class by using class keyword.\n",
    "Syntax:\n",
    "class className:\n",
    " ''' documenttation string '''\n",
    " variables:instance variables,static and local variables\n",
    " methods: instance methods,static methods,class methods\n",
    "Documentation string represents description of the class. Within the class doc string is always\n",
    "optional. We can get doc string by using the following 2 ways.\n"
   ]
  },
  {
   "cell_type": "code",
   "execution_count": 3,
   "id": "b507b4c6",
   "metadata": {},
   "outputs": [
    {
     "name": "stdout",
     "output_type": "stream",
     "text": [
      "hiii this is doc string\n"
     ]
    }
   ],
   "source": [
    "class Test1:\n",
    "    '''hiii this is doc string'''\n",
    "print(Test1.__doc__)"
   ]
  },
  {
   "cell_type": "code",
   "execution_count": 4,
   "id": "10071642",
   "metadata": {},
   "outputs": [
    {
     "name": "stdout",
     "output_type": "stream",
     "text": [
      "Help on class Test1 in module __main__:\n",
      "\n",
      "class Test1(builtins.object)\n",
      " |  hiii this is doc string\n",
      " |  \n",
      " |  Data descriptors defined here:\n",
      " |  \n",
      " |  __dict__\n",
      " |      dictionary for instance variables (if defined)\n",
      " |  \n",
      " |  __weakref__\n",
      " |      list of weak references to the object (if defined)\n",
      "\n"
     ]
    }
   ],
   "source": [
    "help(Test1)"
   ]
  },
  {
   "cell_type": "markdown",
   "id": "2edffddb",
   "metadata": {},
   "source": [
    "Within the Python class we can represent data by using variables.\n",
    "There are 3 types of variables are allowed.\n",
    "1. Instance Variables (Object Level Variables)\n",
    "2. Static Variables (Class Level Variables)\n",
    "3. Local variables (Method Level Variables)\n",
    "\n",
    "Within the Python class, we can represent operations by using methods. The following are various\n",
    "types of allowed methods \n",
    "1. Instance Methods\n",
    "2. Class Methods\n",
    "3. Static Methods"
   ]
  },
  {
   "cell_type": "code",
   "execution_count": 11,
   "id": "be8ed31f",
   "metadata": {},
   "outputs": [
    {
     "name": "stdout",
     "output_type": "stream",
     "text": [
      "hiii my name is mahesh\n",
      "my age will be: 24\n",
      "my marks will be: 99\n"
     ]
    }
   ],
   "source": [
    "class Student:# class class name\n",
    "    def __init__(self,name,age,marks):#constructor with arguments self act as the current object example self.name is represented as name\n",
    "        self.name=name\n",
    "        self.age=age\n",
    "        self.marks=marks\n",
    "    def student(self):## instance method\n",
    "        print('hiii my name is',self.name)\n",
    "        print('my age will be:',self.age)\n",
    "        print('my marks will be:',self.marks)\n",
    "        \n",
    "s=Student('mahesh',24,99)\n",
    "s.student()"
   ]
  },
  {
   "cell_type": "markdown",
   "id": "75eec2c2",
   "metadata": {},
   "source": [
    "# Self variable:\n",
    "self is the default variable which is always pointing to current object (like this keyword in Java)\n",
    "By using self we can access instance variables and instance methods of object.\n",
    "Note:\n",
    "1. self should be first parameter inside constructor\n",
    " def __init__(self):\n",
    "2. self should be first parameter inside instance methods\n",
    " def student(self):"
   ]
  },
  {
   "cell_type": "code",
   "execution_count": 12,
   "id": "01d90059",
   "metadata": {},
   "outputs": [
    {
     "name": "stdout",
     "output_type": "stream",
     "text": [
      "hiii my name is mahesh\n",
      "my age will be: 24\n",
      "my marks will be: 99\n",
      "hiii my name is Bro\n",
      "my age will be: 29\n",
      "my marks will be: 99\n"
     ]
    }
   ],
   "source": [
    "class Student:# class class name\n",
    "    def __init__(self,name,age,marks):#constructor with arguments self act as the current object example self.name is represented as name\n",
    "        self.name=name\n",
    "        self.age=age\n",
    "        self.marks=marks\n",
    "    def student(self):## instances method\n",
    "        print('hiii my name is',self.name)\n",
    "        print('my age will be:',self.age)\n",
    "        print('my marks will be:',self.marks)\n",
    "        \n",
    "s=Student('mahesh',24,99)\n",
    "s.student()\n",
    "s1=Student('Bro',29,99)\n",
    "s1.student()"
   ]
  },
  {
   "cell_type": "code",
   "execution_count": 15,
   "id": "5fde832f",
   "metadata": {},
   "outputs": [
    {
     "name": "stdout",
     "output_type": "stream",
     "text": [
      "my name is Bro\n",
      "my age is 21\n",
      "my gender is Male\n"
     ]
    }
   ],
   "source": [
    "## we take mahesh as replace of self it will be work because in python first arguments always act as current object.\n",
    "class Test2:\n",
    "    def __init__(mahesh,name,age,gender):\n",
    "        mahesh.name=name\n",
    "        mahesh.age=age\n",
    "        mahesh.gender=gender\n",
    "    def mahi(mahesh):\n",
    "        print('my name is',mahesh.name)\n",
    "        print('my age is',mahesh.age)\n",
    "        print('my gender is',mahesh.gender)\n",
    "m=Test2('Bro',21,'Male')\n",
    "m.mahi()"
   ]
  },
  {
   "cell_type": "markdown",
   "id": "da240087",
   "metadata": {},
   "source": [
    "# Constructor Concept:\n",
    "☕ Constructor is a special method in python.\n",
    "☕ The name of the constructor should be __init__(self)\n",
    "☕ Constructor will be executed automatically at the time of object creation.\n",
    "☕ The main purpose of constructor is to declare and initialize instance variables.\n",
    "☕ Per object constructor will be exeucted only once.\n",
    "☕ Constructor can take atleast one argument(atleast self)\n",
    "☕ Constructor is optional and if we are not providing any constructor then python will provide\n",
    "default constructor."
   ]
  },
  {
   "cell_type": "code",
   "execution_count": 19,
   "id": "9514bbfe",
   "metadata": {},
   "outputs": [
    {
     "name": "stdout",
     "output_type": "stream",
     "text": [
      "constructor executed\n",
      "constructor executed\n",
      "method executed\n",
      "method executed\n"
     ]
    }
   ],
   "source": [
    "class Constructor:\n",
    "    def __init__(self):\n",
    "        print('constructor executed')\n",
    "    def m1(self):\n",
    "        print('method executed')\n",
    "t1=Constructor()\n",
    "t2=Constructor()\n",
    "t1.m1()\n",
    "t2.m1()"
   ]
  },
  {
   "cell_type": "code",
   "execution_count": 21,
   "id": "67d6d148",
   "metadata": {},
   "outputs": [
    {
     "ename": "TypeError",
     "evalue": "A.__init__() takes 0 positional arguments but 1 was given",
     "output_type": "error",
     "traceback": [
      "\u001b[1;31m---------------------------------------------------------------------------\u001b[0m",
      "\u001b[1;31mTypeError\u001b[0m                                 Traceback (most recent call last)",
      "Cell \u001b[1;32mIn [21], line 4\u001b[0m\n\u001b[0;32m      2\u001b[0m     \u001b[38;5;28;01mdef\u001b[39;00m \u001b[38;5;21m__init__\u001b[39m():\n\u001b[0;32m      3\u001b[0m         \u001b[38;5;28mprint\u001b[39m(\u001b[38;5;124m'\u001b[39m\u001b[38;5;124mhello\u001b[39m\u001b[38;5;124m'\u001b[39m)\n\u001b[1;32m----> 4\u001b[0m a\u001b[38;5;241m=\u001b[39m\u001b[43mA\u001b[49m\u001b[43m(\u001b[49m\u001b[43m)\u001b[49m\n",
      "\u001b[1;31mTypeError\u001b[0m: A.__init__() takes 0 positional arguments but 1 was given"
     ]
    }
   ],
   "source": [
    "class A:\n",
    "    def __init__():\n",
    "        print('hello')\n",
    "a=A()"
   ]
  },
  {
   "cell_type": "code",
   "execution_count": 22,
   "id": "fc1929b6",
   "metadata": {},
   "outputs": [
    {
     "name": "stdout",
     "output_type": "stream",
     "text": [
      "my name is Mahi,myage24,my marks95\n"
     ]
    }
   ],
   "source": [
    "### example\n",
    "class Bro:\n",
    "    def __init__(self,x,y,z):\n",
    "        self.name=x\n",
    "        self.age=y\n",
    "        self.marks=z\n",
    "    def b1(self):\n",
    "        print('my name is {},myage{},my marks{}'.format(self.name,self.age,self.marks))\n",
    "b=Bro('Mahi',24,95)\n",
    "b.b1()"
   ]
  },
  {
   "cell_type": "markdown",
   "id": "3149db36",
   "metadata": {},
   "source": [
    "# Differences between Methods and Constructors:\n",
    "# Method:\n",
    "1. Name of method can be any name\n",
    "2. Method will be executed if we call that\n",
    "method\n",
    "3. Per object, method can be called any number\n",
    "of times.\n",
    "4. Inside method we can write business logic\n",
    "\n",
    "# #Constructor::\n",
    "1. Constructor name should be always __init__\n",
    "2. Constructor will be executed automatically at\n",
    "the time of object creation.\n",
    "3. Per object, Constructor will be executed only\n",
    "once\n",
    "4. Inside Constructor we have to declare and\n",
    "initialize instance variables\n"
   ]
  },
  {
   "cell_type": "code",
   "execution_count": null,
   "id": "c3426155",
   "metadata": {},
   "outputs": [],
   "source": []
  },
  {
   "cell_type": "code",
   "execution_count": null,
   "id": "b04a9665",
   "metadata": {},
   "outputs": [],
   "source": []
  },
  {
   "cell_type": "code",
   "execution_count": null,
   "id": "29db264e",
   "metadata": {},
   "outputs": [],
   "source": []
  },
  {
   "cell_type": "markdown",
   "id": "5b607ddb",
   "metadata": {},
   "source": [
    "# Polymorphism\n",
    "Poly means many. Morphs means forms.\n",
    "Polymorphism means 'Many Forms'.\n",
    "\n",
    "Eg1: Yourself is best example of polymorphism.In front of Your parents You will have one type of\n",
    "behaviour and with friends another type of behaviour.Same person but different behaviours at\n",
    "different places,which is nothing but polymorphism."
   ]
  },
  {
   "cell_type": "code",
   "execution_count": 26,
   "id": "3940cdb9",
   "metadata": {},
   "outputs": [
    {
     "name": "stdout",
     "output_type": "stream",
     "text": [
      "python\n",
      "stat for advance maths\n",
      "data storage\n",
      "analysis the data\n",
      "Exploratory analysis\n"
     ]
    }
   ],
   "source": [
    "class Python:\n",
    "    def fun(self):\n",
    "        print('python')\n",
    "class Stat:\n",
    "    def fun(self):\n",
    "        print('stat for advance maths')\n",
    "class Database:\n",
    "    def fun(self):\n",
    "        print('data storage')\n",
    "class Analysis:\n",
    "    def fun(self):\n",
    "        print('analysis the data')\n",
    "class Eda:\n",
    "    def fun(self):\n",
    "        print('Exploratory analysis')\n",
    "def f1(obj):\n",
    "    obj.fun()\n",
    "    \n",
    "l=[Python(),Stat(),Database(),Analysis(),Eda()]\n",
    "for obj in l:\n",
    "    f1(obj)"
   ]
  },
  {
   "cell_type": "code",
   "execution_count": 29,
   "id": "6701b43b",
   "metadata": {},
   "outputs": [
    {
     "name": "stdout",
     "output_type": "stream",
     "text": [
      "BMW\n"
     ]
    },
    {
     "data": {
      "text/plain": [
       "70000000"
      ]
     },
     "execution_count": 29,
     "metadata": {},
     "output_type": "execute_result"
    }
   ],
   "source": [
    "# Encapsulation\n",
    "class Car:\n",
    "    def __init__(self,name,model,cost):\n",
    "        self.__name=name\n",
    "        self.__model=model\n",
    "        self.__cost=cost\n",
    "    def get_name(self):\n",
    "        return self.__name\n",
    "    def get_model(self):\n",
    "        return self.__model\n",
    "    def get_cost(self):\n",
    "        return self.__cost\n",
    "my_car=Car(\"BMW\",\"X7\",90000000)\n",
    "print(my_car.get_name())\n",
    "\n",
    "car=Car(\"Tesla\",'X1',70000000)\n",
    "car.get_cost()"
   ]
  },
  {
   "cell_type": "code",
   "execution_count": null,
   "id": "c0a1f120",
   "metadata": {},
   "outputs": [],
   "source": []
  }
 ],
 "metadata": {
  "kernelspec": {
   "display_name": "Python 3 (ipykernel)",
   "language": "python",
   "name": "python3"
  },
  "language_info": {
   "codemirror_mode": {
    "name": "ipython",
    "version": 3
   },
   "file_extension": ".py",
   "mimetype": "text/x-python",
   "name": "python",
   "nbconvert_exporter": "python",
   "pygments_lexer": "ipython3",
   "version": "3.10.0"
  }
 },
 "nbformat": 4,
 "nbformat_minor": 5
}
