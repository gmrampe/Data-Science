{
 "cells": [
  {
   "cell_type": "code",
   "execution_count": 1,
   "id": "462f79a7",
   "metadata": {},
   "outputs": [
    {
     "name": "stdout",
     "output_type": "stream",
     "text": [
      "Collecting cx_Oracle\n",
      "  Downloading cx_Oracle-8.3.0-cp310-cp310-win_amd64.whl (213 kB)\n",
      "Installing collected packages: cx-Oracle\n",
      "Successfully installed cx-Oracle-8.3.0\n",
      "Note: you may need to restart the kernel to use updated packages.\n"
     ]
    },
    {
     "name": "stderr",
     "output_type": "stream",
     "text": [
      "WARNING: You are using pip version 21.2.3; however, version 23.0.1 is available.\n",
      "You should consider upgrading via the 'C:\\Users\\rampe\\AppData\\Local\\Programs\\Python\\Python310\\python.exe -m pip install --upgrade pip' command.\n"
     ]
    }
   ],
   "source": [
    "pip install cx_Oracle"
   ]
  },
  {
   "cell_type": "code",
   "execution_count": 2,
   "id": "e4dca045",
   "metadata": {},
   "outputs": [
    {
     "name": "stdout",
     "output_type": "stream",
     "text": [
      "\n",
      "Please wait a moment while I gather a list of all available modules...\n",
      "\n"
     ]
    },
    {
     "name": "stderr",
     "output_type": "stream",
     "text": [
      "C:\\Users\\rampe\\AppData\\Local\\Programs\\Python\\Python310\\lib\\pkgutil.py:92: UserWarning: The numpy.array_api submodule is still experimental. See NEP 47.\n",
      "  __import__(info.name)\n",
      "C:\\Users\\rampe\\AppData\\Local\\Programs\\Python\\Python310\\lib\\pkgutil.py:107: VisibleDeprecationWarning: zmq.eventloop.minitornado is deprecated in pyzmq 14.0 and will be removed.\n",
      "    Install tornado itself to use zmq with the tornado IOLoop.\n",
      "    \n",
      "  yield from walk_packages(path, info.name+'.', onerror)\n"
     ]
    },
    {
     "name": "stdout",
     "output_type": "stream",
     "text": [
      "IPython             bisect              mmapfile            struct\n",
      "PIL                 bleach              mmsystem            subprocess\n",
      "__future__          bs4                 modulefinder        sunau\n",
      "_abc                builtins            msilib              svg\n",
      "_aix_support        bz2                 msvcrt              svgpathtools\n",
      "_argon2_cffi_bindings cProfile            multiprocessing     svgwrite\n",
      "_ast                calendar            nbclassic           symtable\n",
      "_asyncio            cffi                nbclient            sys\n",
      "_bisect             cgi                 nbconvert           sysconfig\n",
      "_blake2             cgitb               nbformat            tabnanny\n",
      "_bootsubprocess     chunk               nest_asyncio        tarfile\n",
      "_bz2                cmath               netbios             telnetlib\n",
      "_cffi_backend       cmd                 netrc               tempfile\n",
      "_codecs             code                nntplib             terminado\n",
      "_codecs_cn          codecs              notebook            test\n",
      "_codecs_hk          codeop              notebook_shim       textwrap\n",
      "_codecs_iso2022     collections         nt                  this\n",
      "_codecs_jp          colorama            ntpath              threading\n",
      "_codecs_kr          colorsys            ntsecuritycon       time\n",
      "_codecs_tw          commctrl            nturl2path          timeit\n",
      "_collections        compileall          numbers             timer\n",
      "_collections_abc    concurrent          numpy               tinycss2\n",
      "_compat_pickle      configparser        odbc                tkinter\n",
      "_compression        contextlib          opcode              token\n",
      "_contextvars        contextvars         operator            tokenize\n",
      "_csv                copy                optparse            tornado\n",
      "_ctypes             copyreg             os                  tqdm\n",
      "_ctypes_test        crypt               packaging           trace\n",
      "_datetime           csv                 pandas              traceback\n",
      "_decimal            ctypes              pandocfilters       tracemalloc\n",
      "_distutils_hack     curses              parso               traitlets\n",
      "_elementtree        cv2                 pathlib             tty\n",
      "_functools          cx_Oracle           pdb                 turtle\n",
      "_hashlib            dataclasses         perfmon             turtledemo\n",
      "_heapq              datetime            pickle              types\n",
      "_imp                dateutil            pickleshare         typing\n",
      "_io                 dbi                 pickletools         unicodedata\n",
      "_json               dbm                 pip                 unittest\n",
      "_locale             dde                 pipes               urllib\n",
      "_lsprof             debugpy             pkg_resources       uu\n",
      "_lzma               decimal             pkgutil             uuid\n",
      "_markupbase         decorator           platform            venv\n",
      "_md5                defusedxml          plistlib            warnings\n",
      "_msi                difflib             poplib              wave\n",
      "_multibytecodec     dis                 posixpath           wcwidth\n",
      "_multiprocessing    distutils           pprint              weakref\n",
      "_opcode             doctest             profile             webbrowser\n",
      "_operator           email               prometheus_client   webencodings\n",
      "_osx_support        encodings           prompt_toolkit      websocket\n",
      "_overlapped         ensurepip           pstats              wheel\n",
      "_pickle             entrypoints         psutil              widgetsnbextension\n",
      "_py_abc             enum                pty                 win2kras\n",
      "_pydecimal          errno               pure_eval           win32api\n",
      "_pyio               executing           pvectorc            win32clipboard\n",
      "_pyrsistent_version fastjsonschema      py_compile          win32com\n",
      "_queue              faulthandler        pyclbr              win32con\n",
      "_random             filecmp             pycparser           win32console\n",
      "_sha1               fileinput           pydoc               win32cred\n",
      "_sha256             fnmatch             pydoc_data          win32crypt\n",
      "_sha3               fractions           pyexpat             win32cryptcon\n",
      "_sha512             ftplib              pygments            win32event\n",
      "_signal             functools           pyparsing           win32evtlog\n",
      "_sitebuiltins       gc                  pyrsistent          win32evtlogutil\n",
      "_socket             genericpath         pythoncom           win32file\n",
      "_sqlite3            getopt              pytz                win32gui\n",
      "_sre                getpass             pywin               win32gui_struct\n",
      "_ssl                gettext             pywin32_bootstrap   win32help\n",
      "_stat               glob                pywin32_testutil    win32inet\n",
      "_statistics         graphlib            pywintypes          win32inetcon\n",
      "_string             gzip                qtconsole           win32job\n",
      "_strptime           hashlib             qtpy                win32lz\n",
      "_struct             heapq               queue               win32net\n",
      "_symtable           hmac                quopri              win32netcon\n",
      "_testbuffer         html                random              win32pdh\n",
      "_testcapi           http                rasutil             win32pdhquery\n",
      "_testconsole        idlelib             re                  win32pdhutil\n",
      "_testimportmultiple idna                regcheck            win32pipe\n",
      "_testinternalcapi   imaplib             regutil             win32print\n",
      "_testmultiphase     imghdr              reprlib             win32process\n",
      "_thread             imp                 rlcompleter         win32profile\n",
      "_threading_local    importlib           runpy               win32ras\n",
      "_tkinter            inspect             sched               win32rcparser\n",
      "_tracemalloc        io                  scipy               win32security\n",
      "_uuid               ipaddress           secrets             win32service\n",
      "_warnings           ipykernel           select              win32serviceutil\n",
      "_weakref            ipykernel_launcher  selectors           win32timezone\n",
      "_weakrefset         ipython_genutils    send2trash          win32trace\n",
      "_win32sysloader     ipywidgets          servicemanager      win32traceutil\n",
      "_winapi             isapi               setuptools          win32transaction\n",
      "_winxptheme         itertools           shelve              win32ts\n",
      "_xxsubinterpreters  jedi                shlex               win32ui\n",
      "_yaml               jinja2              shutil              win32uiole\n",
      "_zoneinfo           json                signal              win32verstamp\n",
      "abc                 jsonschema          site                win32wnet\n",
      "adodbapi            jupyter             six                 winerror\n",
      "afxres              jupyter_client      sketch              winioctlcon\n",
      "aifc                jupyter_console     sketchpy            winnt\n",
      "antigravity         jupyter_core        smtpd               winperf\n",
      "anyio               jupyter_server      smtplib             winpty\n",
      "argon2              jupyterlab_pygments sndhdr              winreg\n",
      "argparse            jupyterlab_widgets  sniffio             winsound\n",
      "array               keyword             socket              winxpgui\n",
      "ast                 lib2to3             socketserver        winxptheme\n",
      "asttokens           linecache           soupsieve           wsgiref\n",
      "asynchat            locale              sqlite3             xdrlib\n",
      "asyncio             logging             sre_compile         xml\n",
      "asyncore            lzma                sre_constants       xmlrpc\n",
      "atexit              mailbox             sre_parse           xxsubtype\n",
      "attr                mailcap             ssl                 yaml\n",
      "attrs               markupsafe          sspi                zipapp\n",
      "audioop             marshal             sspicon             zipfile\n",
      "backcall            math                stack_data          zipimport\n",
      "base64              matplotlib_inline   stat                zlib\n",
      "bdb                 mimetypes           statistics          zmq\n",
      "binascii            mistune             string              zoneinfo\n",
      "binhex              mmap                stringprep          \n",
      "\n",
      "Enter any module name to get more help.  Or, type \"modules spam\" to search\n",
      "for modules whose name or summary contain the string \"spam\".\n",
      "\n"
     ]
    }
   ],
   "source": [
    "help('modules')"
   ]
  },
  {
   "cell_type": "code",
   "execution_count": 3,
   "id": "a9200ddb",
   "metadata": {},
   "outputs": [
    {
     "ename": "DatabaseError",
     "evalue": "DPI-1047: Cannot locate a 64-bit Oracle Client library: \"The specified module could not be found\". See https://cx-oracle.readthedocs.io/en/latest/user_guide/installation.html for help",
     "output_type": "error",
     "traceback": [
      "\u001b[1;31m---------------------------------------------------------------------------\u001b[0m",
      "\u001b[1;31mDatabaseError\u001b[0m                             Traceback (most recent call last)",
      "Cell \u001b[1;32mIn [3], line 2\u001b[0m\n\u001b[0;32m      1\u001b[0m \u001b[38;5;28;01mimport\u001b[39;00m \u001b[38;5;21;01mcx_Oracle\u001b[39;00m\n\u001b[1;32m----> 2\u001b[0m con\u001b[38;5;241m=\u001b[39m\u001b[43mcx_Oracle\u001b[49m\u001b[38;5;241;43m.\u001b[39;49m\u001b[43mconnect\u001b[49m\u001b[43m(\u001b[49m\u001b[38;5;124;43m'\u001b[39;49m\u001b[38;5;124;43mscott/tiger@localhoost\u001b[39;49m\u001b[38;5;124;43m'\u001b[39;49m\u001b[43m)\u001b[49m\n\u001b[0;32m      3\u001b[0m \u001b[38;5;28;01mif\u001b[39;00m con\u001b[38;5;241m!=\u001b[39m\u001b[38;5;28;01mNone\u001b[39;00m:\n\u001b[0;32m      4\u001b[0m     \u001b[38;5;28mprint\u001b[39m(\u001b[38;5;124m'\u001b[39m\u001b[38;5;124mconnection establish success\u001b[39m\u001b[38;5;124m'\u001b[39m)\n",
      "\u001b[1;31mDatabaseError\u001b[0m: DPI-1047: Cannot locate a 64-bit Oracle Client library: \"The specified module could not be found\". See https://cx-oracle.readthedocs.io/en/latest/user_guide/installation.html for help"
     ]
    }
   ],
   "source": [
    "import cx_Oracle\n",
    "con=cx_Oracle.connect('scott/tiger@localhoost')\n",
    "if con!=None:\n",
    "    print('connection establish success')\n",
    "    print('version:',con.version)\n",
    "else:\n",
    "    print('connection not establish')\n",
    "con.close()"
   ]
  },
  {
   "cell_type": "code",
   "execution_count": null,
   "id": "8819c985",
   "metadata": {},
   "outputs": [],
   "source": []
  }
 ],
 "metadata": {
  "kernelspec": {
   "display_name": "Python 3 (ipykernel)",
   "language": "python",
   "name": "python3"
  },
  "language_info": {
   "codemirror_mode": {
    "name": "ipython",
    "version": 3
   },
   "file_extension": ".py",
   "mimetype": "text/x-python",
   "name": "python",
   "nbconvert_exporter": "python",
   "pygments_lexer": "ipython3",
   "version": "3.10.0"
  }
 },
 "nbformat": 4,
 "nbformat_minor": 5
}
