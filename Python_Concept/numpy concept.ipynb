{
 "cells": [
  {
   "cell_type": "markdown",
   "metadata": {},
   "source": [
    "# Numpy concept "
   ]
  },
  {
   "cell_type": "code",
   "execution_count": 4,
   "metadata": {},
   "outputs": [
    {
     "name": "stdout",
     "output_type": "stream",
     "text": [
      "Requirement already satisfied: numpy in c:\\users\\rampe\\appdata\\local\\programs\\python\\python310\\lib\\site-packages (1.23.5)\n",
      "Note: you may need to restart the kernel to use updated packages.\n"
     ]
    },
    {
     "name": "stderr",
     "output_type": "stream",
     "text": [
      "WARNING: You are using pip version 21.2.3; however, version 23.0 is available.\n",
      "You should consider upgrading via the 'C:\\Users\\rampe\\AppData\\Local\\Programs\\Python\\Python310\\python.exe -m pip install --upgrade pip' command.\n"
     ]
    }
   ],
   "source": [
    "pip install numpy"
   ]
  },
  {
   "cell_type": "code",
   "execution_count": 5,
   "metadata": {},
   "outputs": [
    {
     "name": "stdout",
     "output_type": "stream",
     "text": [
      "Requirement already satisfied: pandas in c:\\users\\rampe\\appdata\\local\\programs\\python\\python310\\lib\\site-packages (1.5.2)\n",
      "Requirement already satisfied: python-dateutil>=2.8.1 in c:\\users\\rampe\\appdata\\local\\programs\\python\\python310\\lib\\site-packages (from pandas) (2.8.2)\n",
      "Requirement already satisfied: numpy>=1.21.0 in c:\\users\\rampe\\appdata\\local\\programs\\python\\python310\\lib\\site-packages (from pandas) (1.23.5)\n",
      "Requirement already satisfied: pytz>=2020.1 in c:\\users\\rampe\\appdata\\local\\programs\\python\\python310\\lib\\site-packages (from pandas) (2022.6)\n",
      "Requirement already satisfied: six>=1.5 in c:\\users\\rampe\\appdata\\local\\programs\\python\\python310\\lib\\site-packages (from python-dateutil>=2.8.1->pandas) (1.16.0)\n",
      "Note: you may need to restart the kernel to use updated packages.\n"
     ]
    },
    {
     "name": "stderr",
     "output_type": "stream",
     "text": [
      "WARNING: You are using pip version 21.2.3; however, version 23.0 is available.\n",
      "You should consider upgrading via the 'C:\\Users\\rampe\\AppData\\Local\\Programs\\Python\\Python310\\python.exe -m pip install --upgrade pip' command.\n"
     ]
    }
   ],
   "source": [
    "pip install pandas"
   ]
  },
  {
   "cell_type": "code",
   "execution_count": 6,
   "metadata": {},
   "outputs": [],
   "source": [
    "import numpy as np"
   ]
  },
  {
   "cell_type": "code",
   "execution_count": 7,
   "metadata": {},
   "outputs": [
    {
     "name": "stdout",
     "output_type": "stream",
     "text": [
      "1.23.5\n",
      "openblas64__info:\n",
      "    library_dirs = ['D:\\\\a\\\\numpy\\\\numpy\\\\build\\\\openblas64__info']\n",
      "    libraries = ['openblas64__info']\n",
      "    language = f77\n",
      "    define_macros = [('HAVE_CBLAS', None), ('BLAS_SYMBOL_SUFFIX', '64_'), ('HAVE_BLAS_ILP64', None)]\n",
      "blas_ilp64_opt_info:\n",
      "    library_dirs = ['D:\\\\a\\\\numpy\\\\numpy\\\\build\\\\openblas64__info']\n",
      "    libraries = ['openblas64__info']\n",
      "    language = f77\n",
      "    define_macros = [('HAVE_CBLAS', None), ('BLAS_SYMBOL_SUFFIX', '64_'), ('HAVE_BLAS_ILP64', None)]\n",
      "openblas64__lapack_info:\n",
      "    library_dirs = ['D:\\\\a\\\\numpy\\\\numpy\\\\build\\\\openblas64__lapack_info']\n",
      "    libraries = ['openblas64__lapack_info']\n",
      "    language = f77\n",
      "    define_macros = [('HAVE_CBLAS', None), ('BLAS_SYMBOL_SUFFIX', '64_'), ('HAVE_BLAS_ILP64', None), ('HAVE_LAPACKE', None)]\n",
      "lapack_ilp64_opt_info:\n",
      "    library_dirs = ['D:\\\\a\\\\numpy\\\\numpy\\\\build\\\\openblas64__lapack_info']\n",
      "    libraries = ['openblas64__lapack_info']\n",
      "    language = f77\n",
      "    define_macros = [('HAVE_CBLAS', None), ('BLAS_SYMBOL_SUFFIX', '64_'), ('HAVE_BLAS_ILP64', None), ('HAVE_LAPACKE', None)]\n",
      "Supported SIMD extensions in this NumPy install:\n",
      "    baseline = SSE,SSE2,SSE3\n",
      "    found = SSSE3,SSE41,POPCNT,SSE42,AVX,F16C,FMA3,AVX2,AVX512F,AVX512CD,AVX512_SKX,AVX512_CLX,AVX512_CNL,AVX512_ICL\n",
      "    not found = \n"
     ]
    }
   ],
   "source": [
    "print(np.__version__)\n",
    "np.show_config()"
   ]
  },
  {
   "cell_type": "code",
   "execution_count": 8,
   "metadata": {},
   "outputs": [
    {
     "name": "stdout",
     "output_type": "stream",
     "text": [
      "Help on built-in function array in module numpy:\n",
      "\n",
      "array(...)\n",
      "    array(object, dtype=None, *, copy=True, order='K', subok=False, ndmin=0,\n",
      "          like=None)\n",
      "    \n",
      "    Create an array.\n",
      "    \n",
      "    Parameters\n",
      "    ----------\n",
      "    object : array_like\n",
      "        An array, any object exposing the array interface, an object whose\n",
      "        __array__ method returns an array, or any (nested) sequence.\n",
      "        If object is a scalar, a 0-dimensional array containing object is\n",
      "        returned.\n",
      "    dtype : data-type, optional\n",
      "        The desired data-type for the array.  If not given, then the type will\n",
      "        be determined as the minimum type required to hold the objects in the\n",
      "        sequence.\n",
      "    copy : bool, optional\n",
      "        If true (default), then the object is copied.  Otherwise, a copy will\n",
      "        only be made if __array__ returns a copy, if obj is a nested sequence,\n",
      "        or if a copy is needed to satisfy any of the other requirements\n",
      "        (`dtype`, `order`, etc.).\n",
      "    order : {'K', 'A', 'C', 'F'}, optional\n",
      "        Specify the memory layout of the array. If object is not an array, the\n",
      "        newly created array will be in C order (row major) unless 'F' is\n",
      "        specified, in which case it will be in Fortran order (column major).\n",
      "        If object is an array the following holds.\n",
      "    \n",
      "        ===== ========= ===================================================\n",
      "        order  no copy                     copy=True\n",
      "        ===== ========= ===================================================\n",
      "        'K'   unchanged F & C order preserved, otherwise most similar order\n",
      "        'A'   unchanged F order if input is F and not C, otherwise C order\n",
      "        'C'   C order   C order\n",
      "        'F'   F order   F order\n",
      "        ===== ========= ===================================================\n",
      "    \n",
      "        When ``copy=False`` and a copy is made for other reasons, the result is\n",
      "        the same as if ``copy=True``, with some exceptions for 'A', see the\n",
      "        Notes section. The default order is 'K'.\n",
      "    subok : bool, optional\n",
      "        If True, then sub-classes will be passed-through, otherwise\n",
      "        the returned array will be forced to be a base-class array (default).\n",
      "    ndmin : int, optional\n",
      "        Specifies the minimum number of dimensions that the resulting\n",
      "        array should have.  Ones will be prepended to the shape as\n",
      "        needed to meet this requirement.\n",
      "    like : array_like, optional\n",
      "        Reference object to allow the creation of arrays which are not\n",
      "        NumPy arrays. If an array-like passed in as ``like`` supports\n",
      "        the ``__array_function__`` protocol, the result will be defined\n",
      "        by it. In this case, it ensures the creation of an array object\n",
      "        compatible with that passed in via this argument.\n",
      "    \n",
      "        .. versionadded:: 1.20.0\n",
      "    \n",
      "    Returns\n",
      "    -------\n",
      "    out : ndarray\n",
      "        An array object satisfying the specified requirements.\n",
      "    \n",
      "    See Also\n",
      "    --------\n",
      "    empty_like : Return an empty array with shape and type of input.\n",
      "    ones_like : Return an array of ones with shape and type of input.\n",
      "    zeros_like : Return an array of zeros with shape and type of input.\n",
      "    full_like : Return a new array with shape of input filled with value.\n",
      "    empty : Return a new uninitialized array.\n",
      "    ones : Return a new array setting values to one.\n",
      "    zeros : Return a new array setting values to zero.\n",
      "    full : Return a new array of given shape filled with value.\n",
      "    \n",
      "    \n",
      "    Notes\n",
      "    -----\n",
      "    When order is 'A' and `object` is an array in neither 'C' nor 'F' order,\n",
      "    and a copy is forced by a change in dtype, then the order of the result is\n",
      "    not necessarily 'C' as expected. This is likely a bug.\n",
      "    \n",
      "    Examples\n",
      "    --------\n",
      "    >>> np.array([1, 2, 3])\n",
      "    array([1, 2, 3])\n",
      "    \n",
      "    Upcasting:\n",
      "    \n",
      "    >>> np.array([1, 2, 3.0])\n",
      "    array([ 1.,  2.,  3.])\n",
      "    \n",
      "    More than one dimension:\n",
      "    \n",
      "    >>> np.array([[1, 2], [3, 4]])\n",
      "    array([[1, 2],\n",
      "           [3, 4]])\n",
      "    \n",
      "    Minimum dimensions 2:\n",
      "    \n",
      "    >>> np.array([1, 2, 3], ndmin=2)\n",
      "    array([[1, 2, 3]])\n",
      "    \n",
      "    Type provided:\n",
      "    \n",
      "    >>> np.array([1, 2, 3], dtype=complex)\n",
      "    array([ 1.+0.j,  2.+0.j,  3.+0.j])\n",
      "    \n",
      "    Data-type consisting of more than one element:\n",
      "    \n",
      "    >>> x = np.array([(1,2),(3,4)],dtype=[('a','<i4'),('b','<i4')])\n",
      "    >>> x['a']\n",
      "    array([1, 3])\n",
      "    \n",
      "    Creating an array from sub-classes:\n",
      "    \n",
      "    >>> np.array(np.mat('1 2; 3 4'))\n",
      "    array([[1, 2],\n",
      "           [3, 4]])\n",
      "    \n",
      "    >>> np.array(np.mat('1 2; 3 4'), subok=True)\n",
      "    matrix([[1, 2],\n",
      "            [3, 4]])\n",
      "\n"
     ]
    }
   ],
   "source": [
    "help(np.array)"
   ]
  },
  {
   "cell_type": "code",
   "execution_count": 9,
   "metadata": {},
   "outputs": [
    {
     "name": "stdout",
     "output_type": "stream",
     "text": [
      "[1 2 3]\n",
      "<class 'numpy.ndarray'>\n",
      "1\n",
      "int32\n",
      "3\n",
      "(3,)\n"
     ]
    }
   ],
   "source": [
    "#one dimensional array creation with type,dimensions,datatype,size of array,and shape\n",
    "s=np.array([1,2,3])\n",
    "print(s)\n",
    "print(type(s))\n",
    "print(s.ndim)\n",
    "print(s.dtype)\n",
    "print(s.size)\n",
    "print(s.shape)"
   ]
  },
  {
   "cell_type": "code",
   "execution_count": 10,
   "metadata": {},
   "outputs": [
    {
     "name": "stdout",
     "output_type": "stream",
     "text": [
      "[[1 2 3]\n",
      " [4 5 6]]\n",
      "<class 'numpy.ndarray'>\n",
      "2\n",
      "int32\n",
      "6\n",
      "(2, 3)\n"
     ]
    }
   ],
   "source": [
    "#creating two dimensional arrays with shape,size and data type\n",
    "s=np.array([[1,2,3],[4,5,6]])\n",
    "print(s)\n",
    "print(type(s))\n",
    "print(s.ndim)\n",
    "print(s.dtype)\n",
    "print(s.size)\n",
    "print(s.shape)"
   ]
  },
  {
   "cell_type": "code",
   "execution_count": 11,
   "metadata": {},
   "outputs": [
    {
     "name": "stdout",
     "output_type": "stream",
     "text": [
      "[[[1 2 3]]]\n",
      "<class 'numpy.ndarray'>\n",
      "3\n",
      "int32\n",
      "3\n",
      "(1, 1, 3)\n"
     ]
    }
   ],
   "source": [
    "#creating three dimesions arrays\n",
    "s=np.array([[[1,2,3]]])\n",
    "print(s)\n",
    "print(type(s))\n",
    "print(s.ndim)\n",
    "print(s.dtype)\n",
    "print(s.size)\n",
    "print(s.shape)"
   ]
  },
  {
   "cell_type": "code",
   "execution_count": 12,
   "metadata": {},
   "outputs": [
    {
     "name": "stdout",
     "output_type": "stream",
     "text": [
      "[[[[1 2 3]]]]\n",
      "5\n",
      "<class 'numpy.ndarray'>\n",
      "4\n",
      "(1, 1, 1, 3)\n",
      "3\n",
      "int32\n"
     ]
    }
   ],
   "source": [
    "# creating four and five dim arrays with shape and sizes.\n",
    "s=np.array([1,2,3], ndmin=4)\n",
    "p=np.array([1,2,3], ndmin=5)\n",
    "print(s)\n",
    "print(p.ndim)\n",
    "print(type(s))\n",
    "print(s.ndim)\n",
    "print(s.shape)\n",
    "print(s.size)\n",
    "print(s.dtype)"
   ]
  },
  {
   "cell_type": "code",
   "execution_count": 13,
   "metadata": {},
   "outputs": [
    {
     "name": "stdout",
     "output_type": "stream",
     "text": [
      "['1.2' '3.4' '5.6']\n",
      "[1. 2. 3.]\n",
      "[10 20 30]\n",
      "[ True  True  True  True]\n"
     ]
    }
   ],
   "source": [
    "# creating array with particular datatype\n",
    "a=np.array([1.2,3.4,5.6],dtype=str)\n",
    "b=np.array([1,2,3],dtype=float)\n",
    "c=np.array(['10','20','30'],dtype=int)\n",
    "d=np.array([10,20,'30',40.5],dtype=bool)\n",
    "print(a)\n",
    "print(b)\n",
    "print(c)\n",
    "print(d)"
   ]
  },
  {
   "cell_type": "code",
   "execution_count": 14,
   "metadata": {},
   "outputs": [
    {
     "name": "stdout",
     "output_type": "stream",
     "text": [
      "Help on built-in function arange in module numpy:\n",
      "\n",
      "arange(...)\n",
      "    arange([start,] stop[, step,], dtype=None, *, like=None)\n",
      "    \n",
      "    Return evenly spaced values within a given interval.\n",
      "    \n",
      "    ``arange`` can be called with a varying number of positional arguments:\n",
      "    \n",
      "    * ``arange(stop)``: Values are generated within the half-open interval\n",
      "      ``[0, stop)`` (in other words, the interval including `start` but\n",
      "      excluding `stop`).\n",
      "    * ``arange(start, stop)``: Values are generated within the half-open\n",
      "      interval ``[start, stop)``.\n",
      "    * ``arange(start, stop, step)`` Values are generated within the half-open\n",
      "      interval ``[start, stop)``, with spacing between values given by\n",
      "      ``step``.\n",
      "    \n",
      "    For integer arguments the function is roughly equivalent to the Python\n",
      "    built-in :py:class:`range`, but returns an ndarray rather than a ``range``\n",
      "    instance.\n",
      "    \n",
      "    When using a non-integer step, such as 0.1, it is often better to use\n",
      "    `numpy.linspace`.\n",
      "    \n",
      "    See the Warning sections below for more information.\n",
      "    \n",
      "    Parameters\n",
      "    ----------\n",
      "    start : integer or real, optional\n",
      "        Start of interval.  The interval includes this value.  The default\n",
      "        start value is 0.\n",
      "    stop : integer or real\n",
      "        End of interval.  The interval does not include this value, except\n",
      "        in some cases where `step` is not an integer and floating point\n",
      "        round-off affects the length of `out`.\n",
      "    step : integer or real, optional\n",
      "        Spacing between values.  For any output `out`, this is the distance\n",
      "        between two adjacent values, ``out[i+1] - out[i]``.  The default\n",
      "        step size is 1.  If `step` is specified as a position argument,\n",
      "        `start` must also be given.\n",
      "    dtype : dtype, optional\n",
      "        The type of the output array.  If `dtype` is not given, infer the data\n",
      "        type from the other input arguments.\n",
      "    like : array_like, optional\n",
      "        Reference object to allow the creation of arrays which are not\n",
      "        NumPy arrays. If an array-like passed in as ``like`` supports\n",
      "        the ``__array_function__`` protocol, the result will be defined\n",
      "        by it. In this case, it ensures the creation of an array object\n",
      "        compatible with that passed in via this argument.\n",
      "    \n",
      "        .. versionadded:: 1.20.0\n",
      "    \n",
      "    Returns\n",
      "    -------\n",
      "    arange : ndarray\n",
      "        Array of evenly spaced values.\n",
      "    \n",
      "        For floating point arguments, the length of the result is\n",
      "        ``ceil((stop - start)/step)``.  Because of floating point overflow,\n",
      "        this rule may result in the last element of `out` being greater\n",
      "        than `stop`.\n",
      "    \n",
      "    Warnings\n",
      "    --------\n",
      "    The length of the output might not be numerically stable.\n",
      "    \n",
      "    Another stability issue is due to the internal implementation of\n",
      "    `numpy.arange`.\n",
      "    The actual step value used to populate the array is\n",
      "    ``dtype(start + step) - dtype(start)`` and not `step`. Precision loss\n",
      "    can occur here, due to casting or due to using floating points when\n",
      "    `start` is much larger than `step`. This can lead to unexpected\n",
      "    behaviour. For example::\n",
      "    \n",
      "      >>> np.arange(0, 5, 0.5, dtype=int)\n",
      "      array([0, 0, 0, 0, 0, 0, 0, 0, 0, 0])\n",
      "      >>> np.arange(-3, 3, 0.5, dtype=int)\n",
      "      array([-3, -2, -1,  0,  1,  2,  3,  4,  5,  6,  7,  8])\n",
      "    \n",
      "    In such cases, the use of `numpy.linspace` should be preferred.\n",
      "    \n",
      "    The built-in :py:class:`range` generates :std:doc:`Python built-in integers\n",
      "    that have arbitrary size <c-api/long>`, while `numpy.arange` produces\n",
      "    `numpy.int32` or `numpy.int64` numbers. This may result in incorrect\n",
      "    results for large integer values::\n",
      "    \n",
      "      >>> power = 40\n",
      "      >>> modulo = 10000\n",
      "      >>> x1 = [(n ** power) % modulo for n in range(8)]\n",
      "      >>> x2 = [(n ** power) % modulo for n in np.arange(8)]\n",
      "      >>> print(x1)\n",
      "      [0, 1, 7776, 8801, 6176, 625, 6576, 4001]  # correct\n",
      "      >>> print(x2)\n",
      "      [0, 1, 7776, 7185, 0, 5969, 4816, 3361]  # incorrect\n",
      "    \n",
      "    See Also\n",
      "    --------\n",
      "    numpy.linspace : Evenly spaced numbers with careful handling of endpoints.\n",
      "    numpy.ogrid: Arrays of evenly spaced numbers in N-dimensions.\n",
      "    numpy.mgrid: Grid-shaped arrays of evenly spaced numbers in N-dimensions.\n",
      "    \n",
      "    Examples\n",
      "    --------\n",
      "    >>> np.arange(3)\n",
      "    array([0, 1, 2])\n",
      "    >>> np.arange(3.0)\n",
      "    array([ 0.,  1.,  2.])\n",
      "    >>> np.arange(3,7)\n",
      "    array([3, 4, 5, 6])\n",
      "    >>> np.arange(3,7,2)\n",
      "    array([3, 5])\n",
      "\n"
     ]
    }
   ],
   "source": [
    "#arange function\n",
    "import numpy as np\n",
    "help(np.arange)"
   ]
  },
  {
   "cell_type": "code",
   "execution_count": 15,
   "metadata": {},
   "outputs": [
    {
     "name": "stdout",
     "output_type": "stream",
     "text": [
      "[0 1 2 3 4 5 6 7 8 9]\n",
      "[0 2 4 6 8]\n",
      "[ 1  2  3  4  5  6  7  8  9 10]\n",
      "[ 1  4  7 10]\n",
      "1 10 (10,) int32 <class 'numpy.ndarray'>\n",
      "1 5 (5,) int32 <class 'numpy.ndarray'>\n",
      "1 10 int32 (10,) <class 'numpy.ndarray'>\n",
      "1 4 (4,) int32 <class 'numpy.ndarray'>\n"
     ]
    }
   ],
   "source": [
    "# arrange function \n",
    "a=np.arange(10)\n",
    "print(a)\n",
    "b=np.arange(0,10,2)\n",
    "print(b)\n",
    "c=np.arange(1,11)\n",
    "print(c)\n",
    "d=np.arange(1,11,3)\n",
    "print(d)\n",
    "print(a.ndim,a.size,a.shape,a.dtype,type(a))\n",
    "print(b.ndim,b.size,b.shape,b.dtype,type(b))\n",
    "print(c.ndim,c.size,c.dtype,c.shape,type(c))\n",
    "print(d.ndim,d.size,d.shape,d.dtype,type(d))"
   ]
  },
  {
   "cell_type": "code",
   "execution_count": 16,
   "metadata": {},
   "outputs": [
    {
     "name": "stdout",
     "output_type": "stream",
     "text": [
      "Help on function linspace in module numpy:\n",
      "\n",
      "linspace(start, stop, num=50, endpoint=True, retstep=False, dtype=None, axis=0)\n",
      "    Return evenly spaced numbers over a specified interval.\n",
      "    \n",
      "    Returns `num` evenly spaced samples, calculated over the\n",
      "    interval [`start`, `stop`].\n",
      "    \n",
      "    The endpoint of the interval can optionally be excluded.\n",
      "    \n",
      "    .. versionchanged:: 1.16.0\n",
      "        Non-scalar `start` and `stop` are now supported.\n",
      "    \n",
      "    .. versionchanged:: 1.20.0\n",
      "        Values are rounded towards ``-inf`` instead of ``0`` when an\n",
      "        integer ``dtype`` is specified. The old behavior can\n",
      "        still be obtained with ``np.linspace(start, stop, num).astype(int)``\n",
      "    \n",
      "    Parameters\n",
      "    ----------\n",
      "    start : array_like\n",
      "        The starting value of the sequence.\n",
      "    stop : array_like\n",
      "        The end value of the sequence, unless `endpoint` is set to False.\n",
      "        In that case, the sequence consists of all but the last of ``num + 1``\n",
      "        evenly spaced samples, so that `stop` is excluded.  Note that the step\n",
      "        size changes when `endpoint` is False.\n",
      "    num : int, optional\n",
      "        Number of samples to generate. Default is 50. Must be non-negative.\n",
      "    endpoint : bool, optional\n",
      "        If True, `stop` is the last sample. Otherwise, it is not included.\n",
      "        Default is True.\n",
      "    retstep : bool, optional\n",
      "        If True, return (`samples`, `step`), where `step` is the spacing\n",
      "        between samples.\n",
      "    dtype : dtype, optional\n",
      "        The type of the output array.  If `dtype` is not given, the data type\n",
      "        is inferred from `start` and `stop`. The inferred dtype will never be\n",
      "        an integer; `float` is chosen even if the arguments would produce an\n",
      "        array of integers.\n",
      "    \n",
      "        .. versionadded:: 1.9.0\n",
      "    \n",
      "    axis : int, optional\n",
      "        The axis in the result to store the samples.  Relevant only if start\n",
      "        or stop are array-like.  By default (0), the samples will be along a\n",
      "        new axis inserted at the beginning. Use -1 to get an axis at the end.\n",
      "    \n",
      "        .. versionadded:: 1.16.0\n",
      "    \n",
      "    Returns\n",
      "    -------\n",
      "    samples : ndarray\n",
      "        There are `num` equally spaced samples in the closed interval\n",
      "        ``[start, stop]`` or the half-open interval ``[start, stop)``\n",
      "        (depending on whether `endpoint` is True or False).\n",
      "    step : float, optional\n",
      "        Only returned if `retstep` is True\n",
      "    \n",
      "        Size of spacing between samples.\n",
      "    \n",
      "    \n",
      "    See Also\n",
      "    --------\n",
      "    arange : Similar to `linspace`, but uses a step size (instead of the\n",
      "             number of samples).\n",
      "    geomspace : Similar to `linspace`, but with numbers spaced evenly on a log\n",
      "                scale (a geometric progression).\n",
      "    logspace : Similar to `geomspace`, but with the end points specified as\n",
      "               logarithms.\n",
      "    \n",
      "    Examples\n",
      "    --------\n",
      "    >>> np.linspace(2.0, 3.0, num=5)\n",
      "    array([2.  , 2.25, 2.5 , 2.75, 3.  ])\n",
      "    >>> np.linspace(2.0, 3.0, num=5, endpoint=False)\n",
      "    array([2. ,  2.2,  2.4,  2.6,  2.8])\n",
      "    >>> np.linspace(2.0, 3.0, num=5, retstep=True)\n",
      "    (array([2.  ,  2.25,  2.5 ,  2.75,  3.  ]), 0.25)\n",
      "    \n",
      "    Graphical illustration:\n",
      "    \n",
      "    >>> import matplotlib.pyplot as plt\n",
      "    >>> N = 8\n",
      "    >>> y = np.zeros(N)\n",
      "    >>> x1 = np.linspace(0, 10, N, endpoint=True)\n",
      "    >>> x2 = np.linspace(0, 10, N, endpoint=False)\n",
      "    >>> plt.plot(x1, y, 'o')\n",
      "    [<matplotlib.lines.Line2D object at 0x...>]\n",
      "    >>> plt.plot(x2, y + 0.5, 'o')\n",
      "    [<matplotlib.lines.Line2D object at 0x...>]\n",
      "    >>> plt.ylim([-0.5, 1])\n",
      "    (-0.5, 1)\n",
      "    >>> plt.show()\n",
      "\n"
     ]
    }
   ],
   "source": [
    "import numpy as np\n",
    "help(np.linspace)"
   ]
  },
  {
   "cell_type": "code",
   "execution_count": 17,
   "metadata": {},
   "outputs": [
    {
     "name": "stdout",
     "output_type": "stream",
     "text": [
      "[ 0.          0.20408163  0.40816327  0.6122449   0.81632653  1.02040816\n",
      "  1.2244898   1.42857143  1.63265306  1.83673469  2.04081633  2.24489796\n",
      "  2.44897959  2.65306122  2.85714286  3.06122449  3.26530612  3.46938776\n",
      "  3.67346939  3.87755102  4.08163265  4.28571429  4.48979592  4.69387755\n",
      "  4.89795918  5.10204082  5.30612245  5.51020408  5.71428571  5.91836735\n",
      "  6.12244898  6.32653061  6.53061224  6.73469388  6.93877551  7.14285714\n",
      "  7.34693878  7.55102041  7.75510204  7.95918367  8.16326531  8.36734694\n",
      "  8.57142857  8.7755102   8.97959184  9.18367347  9.3877551   9.59183673\n",
      "  9.79591837 10.        ]\n"
     ]
    }
   ],
   "source": [
    "#linspace function\n",
    "a=np.linspace(0,10)\n",
    "print(a)"
   ]
  },
  {
   "cell_type": "code",
   "execution_count": 18,
   "metadata": {},
   "outputs": [
    {
     "name": "stdout",
     "output_type": "stream",
     "text": [
      "[0.         0.33333333 0.66666667 1.        ]\n"
     ]
    }
   ],
   "source": [
    "#linspace function\n",
    "b=np.linspace(0,1,4)\n",
    "print(b)"
   ]
  },
  {
   "cell_type": "code",
   "execution_count": 19,
   "metadata": {},
   "outputs": [
    {
     "name": "stdout",
     "output_type": "stream",
     "text": [
      "Help on built-in function zeros in module numpy:\n",
      "\n",
      "zeros(...)\n",
      "    zeros(shape, dtype=float, order='C', *, like=None)\n",
      "    \n",
      "    Return a new array of given shape and type, filled with zeros.\n",
      "    \n",
      "    Parameters\n",
      "    ----------\n",
      "    shape : int or tuple of ints\n",
      "        Shape of the new array, e.g., ``(2, 3)`` or ``2``.\n",
      "    dtype : data-type, optional\n",
      "        The desired data-type for the array, e.g., `numpy.int8`.  Default is\n",
      "        `numpy.float64`.\n",
      "    order : {'C', 'F'}, optional, default: 'C'\n",
      "        Whether to store multi-dimensional data in row-major\n",
      "        (C-style) or column-major (Fortran-style) order in\n",
      "        memory.\n",
      "    like : array_like, optional\n",
      "        Reference object to allow the creation of arrays which are not\n",
      "        NumPy arrays. If an array-like passed in as ``like`` supports\n",
      "        the ``__array_function__`` protocol, the result will be defined\n",
      "        by it. In this case, it ensures the creation of an array object\n",
      "        compatible with that passed in via this argument.\n",
      "    \n",
      "        .. versionadded:: 1.20.0\n",
      "    \n",
      "    Returns\n",
      "    -------\n",
      "    out : ndarray\n",
      "        Array of zeros with the given shape, dtype, and order.\n",
      "    \n",
      "    See Also\n",
      "    --------\n",
      "    zeros_like : Return an array of zeros with shape and type of input.\n",
      "    empty : Return a new uninitialized array.\n",
      "    ones : Return a new array setting values to one.\n",
      "    full : Return a new array of given shape filled with value.\n",
      "    \n",
      "    Examples\n",
      "    --------\n",
      "    >>> np.zeros(5)\n",
      "    array([ 0.,  0.,  0.,  0.,  0.])\n",
      "    \n",
      "    >>> np.zeros((5,), dtype=int)\n",
      "    array([0, 0, 0, 0, 0])\n",
      "    \n",
      "    >>> np.zeros((2, 1))\n",
      "    array([[ 0.],\n",
      "           [ 0.]])\n",
      "    \n",
      "    >>> s = (2,2)\n",
      "    >>> np.zeros(s)\n",
      "    array([[ 0.,  0.],\n",
      "           [ 0.,  0.]])\n",
      "    \n",
      "    >>> np.zeros((2,), dtype=[('x', 'i4'), ('y', 'i4')]) # custom dtype\n",
      "    array([(0, 0), (0, 0)],\n",
      "          dtype=[('x', '<i4'), ('y', '<i4')])\n",
      "\n"
     ]
    }
   ],
   "source": [
    "import numpy as np\n",
    "help(np.zeros)"
   ]
  },
  {
   "cell_type": "code",
   "execution_count": 20,
   "metadata": {},
   "outputs": [
    {
     "name": "stdout",
     "output_type": "stream",
     "text": [
      "[0. 0. 0. 0.]\n"
     ]
    }
   ],
   "source": [
    "# zeros functions\n",
    "a=np.zeros(4)\n",
    "print(a)\n"
   ]
  },
  {
   "cell_type": "code",
   "execution_count": 21,
   "metadata": {},
   "outputs": [
    {
     "name": "stdout",
     "output_type": "stream",
     "text": [
      "[[0. 0. 0.]\n",
      " [0. 0. 0.]\n",
      " [0. 0. 0.]\n",
      " [0. 0. 0.]]\n"
     ]
    }
   ],
   "source": [
    "b=np.zeros((4,3))\n",
    "print(b)\n"
   ]
  },
  {
   "cell_type": "code",
   "execution_count": 22,
   "metadata": {},
   "outputs": [
    {
     "name": "stdout",
     "output_type": "stream",
     "text": [
      "[[[0. 0. 0. 0.]\n",
      "  [0. 0. 0. 0.]\n",
      "  [0. 0. 0. 0.]]\n",
      "\n",
      " [[0. 0. 0. 0.]\n",
      "  [0. 0. 0. 0.]\n",
      "  [0. 0. 0. 0.]]]\n"
     ]
    }
   ],
   "source": [
    "c=np.zeros((2,3,4))\n",
    "print(c)"
   ]
  },
  {
   "cell_type": "code",
   "execution_count": 23,
   "metadata": {},
   "outputs": [
    {
     "name": "stdout",
     "output_type": "stream",
     "text": [
      "[[[[0. 0. 0. 0.]\n",
      "   [0. 0. 0. 0.]\n",
      "   [0. 0. 0. 0.]]\n",
      "\n",
      "  [[0. 0. 0. 0.]\n",
      "   [0. 0. 0. 0.]\n",
      "   [0. 0. 0. 0.]]]\n",
      "\n",
      "\n",
      " [[[0. 0. 0. 0.]\n",
      "   [0. 0. 0. 0.]\n",
      "   [0. 0. 0. 0.]]\n",
      "\n",
      "  [[0. 0. 0. 0.]\n",
      "   [0. 0. 0. 0.]\n",
      "   [0. 0. 0. 0.]]]]\n"
     ]
    }
   ],
   "source": [
    "d=np.zeros((2,2,3,4))\n",
    "print(d)\n",
    "#2===>no.of 3 dim arrays\n",
    "#2===>every 3 dim 2 2-d arrays\n",
    "#3===> every 2-dim array contain 3 rows\n",
    "#4 ===> every 2-dim array contain 4 columns"
   ]
  },
  {
   "cell_type": "code",
   "execution_count": 24,
   "metadata": {},
   "outputs": [
    {
     "name": "stdout",
     "output_type": "stream",
     "text": [
      "Help on function ones in module numpy:\n",
      "\n",
      "ones(shape, dtype=None, order='C', *, like=None)\n",
      "    Return a new array of given shape and type, filled with ones.\n",
      "    \n",
      "    Parameters\n",
      "    ----------\n",
      "    shape : int or sequence of ints\n",
      "        Shape of the new array, e.g., ``(2, 3)`` or ``2``.\n",
      "    dtype : data-type, optional\n",
      "        The desired data-type for the array, e.g., `numpy.int8`.  Default is\n",
      "        `numpy.float64`.\n",
      "    order : {'C', 'F'}, optional, default: C\n",
      "        Whether to store multi-dimensional data in row-major\n",
      "        (C-style) or column-major (Fortran-style) order in\n",
      "        memory.\n",
      "    like : array_like, optional\n",
      "        Reference object to allow the creation of arrays which are not\n",
      "        NumPy arrays. If an array-like passed in as ``like`` supports\n",
      "        the ``__array_function__`` protocol, the result will be defined\n",
      "        by it. In this case, it ensures the creation of an array object\n",
      "        compatible with that passed in via this argument.\n",
      "    \n",
      "        .. versionadded:: 1.20.0\n",
      "    \n",
      "    Returns\n",
      "    -------\n",
      "    out : ndarray\n",
      "        Array of ones with the given shape, dtype, and order.\n",
      "    \n",
      "    See Also\n",
      "    --------\n",
      "    ones_like : Return an array of ones with shape and type of input.\n",
      "    empty : Return a new uninitialized array.\n",
      "    zeros : Return a new array setting values to zero.\n",
      "    full : Return a new array of given shape filled with value.\n",
      "    \n",
      "    \n",
      "    Examples\n",
      "    --------\n",
      "    >>> np.ones(5)\n",
      "    array([1., 1., 1., 1., 1.])\n",
      "    \n",
      "    >>> np.ones((5,), dtype=int)\n",
      "    array([1, 1, 1, 1, 1])\n",
      "    \n",
      "    >>> np.ones((2, 1))\n",
      "    array([[1.],\n",
      "           [1.]])\n",
      "    \n",
      "    >>> s = (2,2)\n",
      "    >>> np.ones(s)\n",
      "    array([[1.,  1.],\n",
      "           [1.,  1.]])\n",
      "\n"
     ]
    }
   ],
   "source": [
    "# ones function\n",
    "import numpy as np\n",
    "help(np.ones)"
   ]
  },
  {
   "cell_type": "code",
   "execution_count": 25,
   "metadata": {},
   "outputs": [
    {
     "name": "stdout",
     "output_type": "stream",
     "text": [
      "[1. 1. 1. 1. 1. 1. 1. 1. 1. 1.]\n"
     ]
    }
   ],
   "source": [
    "a=np.ones(10)\n",
    "print(a)"
   ]
  },
  {
   "cell_type": "code",
   "execution_count": 26,
   "metadata": {},
   "outputs": [
    {
     "name": "stdout",
     "output_type": "stream",
     "text": [
      "[['1' '1']\n",
      " ['1' '1']\n",
      " ['1' '1']\n",
      " ['1' '1']\n",
      " ['1' '1']]\n"
     ]
    }
   ],
   "source": [
    "b=np.ones((5,2),dtype=str)\n",
    "print(b)"
   ]
  },
  {
   "cell_type": "code",
   "execution_count": 27,
   "metadata": {},
   "outputs": [
    {
     "name": "stdout",
     "output_type": "stream",
     "text": [
      "[['1' '1' '1' '1']\n",
      " ['1' '1' '1' '1']\n",
      " ['1' '1' '1' '1']\n",
      " ['1' '1' '1' '1']\n",
      " ['1' '1' '1' '1']]\n"
     ]
    }
   ],
   "source": [
    "c=np.ones((5,4),dtype=str)\n",
    "print(c)"
   ]
  },
  {
   "cell_type": "code",
   "execution_count": 28,
   "metadata": {},
   "outputs": [
    {
     "name": "stdout",
     "output_type": "stream",
     "text": [
      "[[[1 1 1 1]\n",
      "  [1 1 1 1]\n",
      "  [1 1 1 1]]\n",
      "\n",
      " [[1 1 1 1]\n",
      "  [1 1 1 1]\n",
      "  [1 1 1 1]]]\n"
     ]
    }
   ],
   "source": [
    "d=np.ones((2,3,4),dtype=int)\n",
    "print(d)"
   ]
  },
  {
   "cell_type": "code",
   "execution_count": 29,
   "metadata": {},
   "outputs": [
    {
     "name": "stdout",
     "output_type": "stream",
     "text": [
      "Help on function full in module numpy:\n",
      "\n",
      "full(shape, fill_value, dtype=None, order='C', *, like=None)\n",
      "    Return a new array of given shape and type, filled with `fill_value`.\n",
      "    \n",
      "    Parameters\n",
      "    ----------\n",
      "    shape : int or sequence of ints\n",
      "        Shape of the new array, e.g., ``(2, 3)`` or ``2``.\n",
      "    fill_value : scalar or array_like\n",
      "        Fill value.\n",
      "    dtype : data-type, optional\n",
      "        The desired data-type for the array  The default, None, means\n",
      "         ``np.array(fill_value).dtype``.\n",
      "    order : {'C', 'F'}, optional\n",
      "        Whether to store multidimensional data in C- or Fortran-contiguous\n",
      "        (row- or column-wise) order in memory.\n",
      "    like : array_like, optional\n",
      "        Reference object to allow the creation of arrays which are not\n",
      "        NumPy arrays. If an array-like passed in as ``like`` supports\n",
      "        the ``__array_function__`` protocol, the result will be defined\n",
      "        by it. In this case, it ensures the creation of an array object\n",
      "        compatible with that passed in via this argument.\n",
      "    \n",
      "        .. versionadded:: 1.20.0\n",
      "    \n",
      "    Returns\n",
      "    -------\n",
      "    out : ndarray\n",
      "        Array of `fill_value` with the given shape, dtype, and order.\n",
      "    \n",
      "    See Also\n",
      "    --------\n",
      "    full_like : Return a new array with shape of input filled with value.\n",
      "    empty : Return a new uninitialized array.\n",
      "    ones : Return a new array setting values to one.\n",
      "    zeros : Return a new array setting values to zero.\n",
      "    \n",
      "    Examples\n",
      "    --------\n",
      "    >>> np.full((2, 2), np.inf)\n",
      "    array([[inf, inf],\n",
      "           [inf, inf]])\n",
      "    >>> np.full((2, 2), 10)\n",
      "    array([[10, 10],\n",
      "           [10, 10]])\n",
      "    \n",
      "    >>> np.full((2, 2), [1, 2])\n",
      "    array([[1, 2],\n",
      "           [1, 2]])\n",
      "\n"
     ]
    }
   ],
   "source": [
    "#full function\n",
    "import numpy as np\n",
    "help(np.full)"
   ]
  },
  {
   "cell_type": "code",
   "execution_count": 30,
   "metadata": {},
   "outputs": [
    {
     "name": "stdout",
     "output_type": "stream",
     "text": [
      "[2 2 2 2 2]\n"
     ]
    }
   ],
   "source": [
    "a=np.full(5,fill_value=2)\n",
    "print(a)"
   ]
  },
  {
   "cell_type": "code",
   "execution_count": 31,
   "metadata": {},
   "outputs": [
    {
     "name": "stdout",
     "output_type": "stream",
     "text": [
      "[3 3 3 3 3]\n"
     ]
    }
   ],
   "source": [
    "b=np.full(5,fill_value=3)\n",
    "print(b)"
   ]
  },
  {
   "cell_type": "code",
   "execution_count": 32,
   "metadata": {},
   "outputs": [
    {
     "name": "stdout",
     "output_type": "stream",
     "text": [
      "[[5. 5. 5.]\n",
      " [5. 5. 5.]]\n"
     ]
    }
   ],
   "source": [
    "c=np.full((2,3),fill_value=5,dtype=float)\n",
    "print(c)"
   ]
  },
  {
   "cell_type": "code",
   "execution_count": 33,
   "metadata": {},
   "outputs": [
    {
     "name": "stdout",
     "output_type": "stream",
     "text": [
      "[[[2. 2. 2. 2.]\n",
      "  [2. 2. 2. 2.]\n",
      "  [2. 2. 2. 2.]]\n",
      "\n",
      " [[2. 2. 2. 2.]\n",
      "  [2. 2. 2. 2.]\n",
      "  [2. 2. 2. 2.]]]\n"
     ]
    }
   ],
   "source": [
    "d=np.full((2,3,4),fill_value=2,dtype=float)\n",
    "print(d)"
   ]
  },
  {
   "cell_type": "code",
   "execution_count": 34,
   "metadata": {},
   "outputs": [
    {
     "name": "stdout",
     "output_type": "stream",
     "text": [
      "Help on function eye in module numpy:\n",
      "\n",
      "eye(N, M=None, k=0, dtype=<class 'float'>, order='C', *, like=None)\n",
      "    Return a 2-D array with ones on the diagonal and zeros elsewhere.\n",
      "    \n",
      "    Parameters\n",
      "    ----------\n",
      "    N : int\n",
      "      Number of rows in the output.\n",
      "    M : int, optional\n",
      "      Number of columns in the output. If None, defaults to `N`.\n",
      "    k : int, optional\n",
      "      Index of the diagonal: 0 (the default) refers to the main diagonal,\n",
      "      a positive value refers to an upper diagonal, and a negative value\n",
      "      to a lower diagonal.\n",
      "    dtype : data-type, optional\n",
      "      Data-type of the returned array.\n",
      "    order : {'C', 'F'}, optional\n",
      "        Whether the output should be stored in row-major (C-style) or\n",
      "        column-major (Fortran-style) order in memory.\n",
      "    \n",
      "        .. versionadded:: 1.14.0\n",
      "    like : array_like, optional\n",
      "        Reference object to allow the creation of arrays which are not\n",
      "        NumPy arrays. If an array-like passed in as ``like`` supports\n",
      "        the ``__array_function__`` protocol, the result will be defined\n",
      "        by it. In this case, it ensures the creation of an array object\n",
      "        compatible with that passed in via this argument.\n",
      "    \n",
      "        .. versionadded:: 1.20.0\n",
      "    \n",
      "    Returns\n",
      "    -------\n",
      "    I : ndarray of shape (N,M)\n",
      "      An array where all elements are equal to zero, except for the `k`-th\n",
      "      diagonal, whose values are equal to one.\n",
      "    \n",
      "    See Also\n",
      "    --------\n",
      "    identity : (almost) equivalent function\n",
      "    diag : diagonal 2-D array from a 1-D array specified by the user.\n",
      "    \n",
      "    Examples\n",
      "    --------\n",
      "    >>> np.eye(2, dtype=int)\n",
      "    array([[1, 0],\n",
      "           [0, 1]])\n",
      "    >>> np.eye(3, k=1)\n",
      "    array([[0.,  1.,  0.],\n",
      "           [0.,  0.,  1.],\n",
      "           [0.,  0.,  0.]])\n",
      "\n"
     ]
    }
   ],
   "source": [
    "#eye function\n",
    "import numpy as np\n",
    "help(np.eye)"
   ]
  },
  {
   "cell_type": "code",
   "execution_count": 35,
   "metadata": {},
   "outputs": [
    {
     "name": "stdout",
     "output_type": "stream",
     "text": [
      "[[1. 0. 0.]\n",
      " [0. 1. 0.]\n",
      " [0. 0. 1.]]\n"
     ]
    }
   ],
   "source": [
    "a=np.eye(3)\n",
    "print(a)"
   ]
  },
  {
   "cell_type": "code",
   "execution_count": 36,
   "metadata": {},
   "outputs": [
    {
     "name": "stdout",
     "output_type": "stream",
     "text": [
      "[[1. 0. 0.]\n",
      " [0. 1. 0.]]\n"
     ]
    }
   ],
   "source": [
    "a=np.eye(2,3)\n",
    "print(a)"
   ]
  },
  {
   "cell_type": "code",
   "execution_count": 37,
   "metadata": {},
   "outputs": [
    {
     "name": "stdout",
     "output_type": "stream",
     "text": [
      "[[1. 0. 0. 0. 0.]\n",
      " [0. 1. 0. 0. 0.]\n",
      " [0. 0. 1. 0. 0.]\n",
      " [0. 0. 0. 1. 0.]\n",
      " [0. 0. 0. 0. 1.]]\n"
     ]
    }
   ],
   "source": [
    "a=np.eye(5,k=0)\n",
    "print(a)"
   ]
  },
  {
   "cell_type": "code",
   "execution_count": 38,
   "metadata": {},
   "outputs": [
    {
     "name": "stdout",
     "output_type": "stream",
     "text": [
      "[['1' '' '']\n",
      " ['' '1' '']\n",
      " ['' '' '1']]\n"
     ]
    }
   ],
   "source": [
    "a=np.eye(3,k=0,dtype=str)\n",
    "print(a)"
   ]
  },
  {
   "cell_type": "code",
   "execution_count": 39,
   "metadata": {},
   "outputs": [
    {
     "name": "stdout",
     "output_type": "stream",
     "text": [
      "[[1.+0.j 0.+0.j 0.+0.j 0.+0.j 0.+0.j 0.+0.j 0.+0.j 0.+0.j 0.+0.j 0.+0.j]\n",
      " [0.+0.j 1.+0.j 0.+0.j 0.+0.j 0.+0.j 0.+0.j 0.+0.j 0.+0.j 0.+0.j 0.+0.j]\n",
      " [0.+0.j 0.+0.j 1.+0.j 0.+0.j 0.+0.j 0.+0.j 0.+0.j 0.+0.j 0.+0.j 0.+0.j]\n",
      " [0.+0.j 0.+0.j 0.+0.j 1.+0.j 0.+0.j 0.+0.j 0.+0.j 0.+0.j 0.+0.j 0.+0.j]\n",
      " [0.+0.j 0.+0.j 0.+0.j 0.+0.j 1.+0.j 0.+0.j 0.+0.j 0.+0.j 0.+0.j 0.+0.j]\n",
      " [0.+0.j 0.+0.j 0.+0.j 0.+0.j 0.+0.j 1.+0.j 0.+0.j 0.+0.j 0.+0.j 0.+0.j]\n",
      " [0.+0.j 0.+0.j 0.+0.j 0.+0.j 0.+0.j 0.+0.j 1.+0.j 0.+0.j 0.+0.j 0.+0.j]\n",
      " [0.+0.j 0.+0.j 0.+0.j 0.+0.j 0.+0.j 0.+0.j 0.+0.j 1.+0.j 0.+0.j 0.+0.j]\n",
      " [0.+0.j 0.+0.j 0.+0.j 0.+0.j 0.+0.j 0.+0.j 0.+0.j 0.+0.j 1.+0.j 0.+0.j]\n",
      " [0.+0.j 0.+0.j 0.+0.j 0.+0.j 0.+0.j 0.+0.j 0.+0.j 0.+0.j 0.+0.j 1.+0.j]]\n"
     ]
    }
   ],
   "source": [
    "a=np.eye(10,k=0,dtype=complex)\n",
    "print(a)"
   ]
  },
  {
   "cell_type": "code",
   "execution_count": 40,
   "metadata": {},
   "outputs": [
    {
     "name": "stdout",
     "output_type": "stream",
     "text": [
      "[[1 0 0 0 0]\n",
      " [0 1 0 0 0]\n",
      " [0 0 1 0 0]\n",
      " [0 0 0 1 0]\n",
      " [0 0 0 0 1]]\n"
     ]
    }
   ],
   "source": [
    "#identity function\n",
    "a=np.identity(5,dtype=int)\n",
    "print(a)"
   ]
  },
  {
   "cell_type": "code",
   "execution_count": 41,
   "metadata": {},
   "outputs": [
    {
     "name": "stdout",
     "output_type": "stream",
     "text": [
      "Help on function diag in module numpy:\n",
      "\n",
      "diag(v, k=0)\n",
      "    Extract a diagonal or construct a diagonal array.\n",
      "    \n",
      "    See the more detailed documentation for ``numpy.diagonal`` if you use this\n",
      "    function to extract a diagonal and wish to write to the resulting array;\n",
      "    whether it returns a copy or a view depends on what version of numpy you\n",
      "    are using.\n",
      "    \n",
      "    Parameters\n",
      "    ----------\n",
      "    v : array_like\n",
      "        If `v` is a 2-D array, return a copy of its `k`-th diagonal.\n",
      "        If `v` is a 1-D array, return a 2-D array with `v` on the `k`-th\n",
      "        diagonal.\n",
      "    k : int, optional\n",
      "        Diagonal in question. The default is 0. Use `k>0` for diagonals\n",
      "        above the main diagonal, and `k<0` for diagonals below the main\n",
      "        diagonal.\n",
      "    \n",
      "    Returns\n",
      "    -------\n",
      "    out : ndarray\n",
      "        The extracted diagonal or constructed diagonal array.\n",
      "    \n",
      "    See Also\n",
      "    --------\n",
      "    diagonal : Return specified diagonals.\n",
      "    diagflat : Create a 2-D array with the flattened input as a diagonal.\n",
      "    trace : Sum along diagonals.\n",
      "    triu : Upper triangle of an array.\n",
      "    tril : Lower triangle of an array.\n",
      "    \n",
      "    Examples\n",
      "    --------\n",
      "    >>> x = np.arange(9).reshape((3,3))\n",
      "    >>> x\n",
      "    array([[0, 1, 2],\n",
      "           [3, 4, 5],\n",
      "           [6, 7, 8]])\n",
      "    \n",
      "    >>> np.diag(x)\n",
      "    array([0, 4, 8])\n",
      "    >>> np.diag(x, k=1)\n",
      "    array([1, 5])\n",
      "    >>> np.diag(x, k=-1)\n",
      "    array([3, 7])\n",
      "    \n",
      "    >>> np.diag(np.diag(x))\n",
      "    array([[0, 0, 0],\n",
      "           [0, 4, 0],\n",
      "           [0, 0, 8]])\n",
      "\n"
     ]
    }
   ],
   "source": [
    "#diag function\n",
    "help(np.diag)\n",
    "\n"
   ]
  },
  {
   "cell_type": "code",
   "execution_count": 42,
   "metadata": {},
   "outputs": [
    {
     "name": "stdout",
     "output_type": "stream",
     "text": [
      "[[0 1 2]\n",
      " [3 4 5]\n",
      " [6 7 8]]\n"
     ]
    }
   ],
   "source": [
    "x = np.arange(9).reshape((3,3))\n",
    "print(x)"
   ]
  },
  {
   "cell_type": "code",
   "execution_count": 43,
   "metadata": {},
   "outputs": [
    {
     "data": {
      "text/plain": [
       "array([[10,  0,  0,  0],\n",
       "       [ 0, 20,  0,  0],\n",
       "       [ 0,  0, 30,  0],\n",
       "       [ 0,  0,  0, 40]])"
      ]
     },
     "execution_count": 43,
     "metadata": {},
     "output_type": "execute_result"
    }
   ],
   "source": [
    "a=np.array([10,20,30,40])\n",
    "np.diag(a,k=0)"
   ]
  },
  {
   "cell_type": "code",
   "execution_count": 44,
   "metadata": {},
   "outputs": [
    {
     "data": {
      "text/plain": [
       "array([[ 0, 10,  0,  0,  0],\n",
       "       [ 0,  0, 20,  0,  0],\n",
       "       [ 0,  0,  0, 30,  0],\n",
       "       [ 0,  0,  0,  0, 40],\n",
       "       [ 0,  0,  0,  0,  0]])"
      ]
     },
     "execution_count": 44,
     "metadata": {},
     "output_type": "execute_result"
    }
   ],
   "source": [
    "a=np.array([10,20,30,40])\n",
    "np.diag(a,k=1)"
   ]
  },
  {
   "cell_type": "code",
   "execution_count": 45,
   "metadata": {},
   "outputs": [
    {
     "data": {
      "text/plain": [
       "array([[ 0,  0,  0,  0,  0],\n",
       "       [10,  0,  0,  0,  0],\n",
       "       [ 0, 20,  0,  0,  0],\n",
       "       [ 0,  0, 30,  0,  0],\n",
       "       [ 0,  0,  0, 40,  0]])"
      ]
     },
     "execution_count": 45,
     "metadata": {},
     "output_type": "execute_result"
    }
   ],
   "source": [
    "a=np.array([10,20,30,40])\n",
    "np.diag(a,k=-1)"
   ]
  },
  {
   "cell_type": "code",
   "execution_count": 46,
   "metadata": {},
   "outputs": [
    {
     "name": "stdout",
     "output_type": "stream",
     "text": [
      "Help on built-in function empty in module numpy:\n",
      "\n",
      "empty(...)\n",
      "    empty(shape, dtype=float, order='C', *, like=None)\n",
      "    \n",
      "    Return a new array of given shape and type, without initializing entries.\n",
      "    \n",
      "    Parameters\n",
      "    ----------\n",
      "    shape : int or tuple of int\n",
      "        Shape of the empty array, e.g., ``(2, 3)`` or ``2``.\n",
      "    dtype : data-type, optional\n",
      "        Desired output data-type for the array, e.g, `numpy.int8`. Default is\n",
      "        `numpy.float64`.\n",
      "    order : {'C', 'F'}, optional, default: 'C'\n",
      "        Whether to store multi-dimensional data in row-major\n",
      "        (C-style) or column-major (Fortran-style) order in\n",
      "        memory.\n",
      "    like : array_like, optional\n",
      "        Reference object to allow the creation of arrays which are not\n",
      "        NumPy arrays. If an array-like passed in as ``like`` supports\n",
      "        the ``__array_function__`` protocol, the result will be defined\n",
      "        by it. In this case, it ensures the creation of an array object\n",
      "        compatible with that passed in via this argument.\n",
      "    \n",
      "        .. versionadded:: 1.20.0\n",
      "    \n",
      "    Returns\n",
      "    -------\n",
      "    out : ndarray\n",
      "        Array of uninitialized (arbitrary) data of the given shape, dtype, and\n",
      "        order.  Object arrays will be initialized to None.\n",
      "    \n",
      "    See Also\n",
      "    --------\n",
      "    empty_like : Return an empty array with shape and type of input.\n",
      "    ones : Return a new array setting values to one.\n",
      "    zeros : Return a new array setting values to zero.\n",
      "    full : Return a new array of given shape filled with value.\n",
      "    \n",
      "    \n",
      "    Notes\n",
      "    -----\n",
      "    `empty`, unlike `zeros`, does not set the array values to zero,\n",
      "    and may therefore be marginally faster.  On the other hand, it requires\n",
      "    the user to manually set all the values in the array, and should be\n",
      "    used with caution.\n",
      "    \n",
      "    Examples\n",
      "    --------\n",
      "    >>> np.empty([2, 2])\n",
      "    array([[ -9.74499359e+001,   6.69583040e-309],\n",
      "           [  2.13182611e-314,   3.06959433e-309]])         #uninitialized\n",
      "    \n",
      "    >>> np.empty([2, 2], dtype=int)\n",
      "    array([[-1073741821, -1067949133],\n",
      "           [  496041986,    19249760]])                     #uninitialized\n",
      "\n"
     ]
    }
   ],
   "source": [
    "#empty function\n",
    "import numpy as np\n",
    "help(np.empty)"
   ]
  },
  {
   "cell_type": "code",
   "execution_count": 47,
   "metadata": {},
   "outputs": [
    {
     "name": "stdout",
     "output_type": "stream",
     "text": [
      "[[10 20]\n",
      " [30 40]]\n"
     ]
    }
   ],
   "source": [
    "a=np.empty([2, 2], dtype=int)\n",
    "print(a)"
   ]
  },
  {
   "cell_type": "code",
   "execution_count": 48,
   "metadata": {},
   "outputs": [
    {
     "name": "stdout",
     "output_type": "stream",
     "text": [
      "[[      0       1       0]\n",
      " [    618    1204       0]\n",
      " [    768     618 6619248]]\n"
     ]
    }
   ],
   "source": [
    "c=np.empty((3, 3),dtype=int)\n",
    "print(c)"
   ]
  },
  {
   "cell_type": "code",
   "execution_count": 49,
   "metadata": {
    "scrolled": true
   },
   "outputs": [
    {
     "name": "stdout",
     "output_type": "stream",
     "text": [
      "Help on built-in function randint:\n",
      "\n",
      "randint(...) method of numpy.random.mtrand.RandomState instance\n",
      "    randint(low, high=None, size=None, dtype=int)\n",
      "    \n",
      "    Return random integers from `low` (inclusive) to `high` (exclusive).\n",
      "    \n",
      "    Return random integers from the \"discrete uniform\" distribution of\n",
      "    the specified dtype in the \"half-open\" interval [`low`, `high`). If\n",
      "    `high` is None (the default), then results are from [0, `low`).\n",
      "    \n",
      "    .. note::\n",
      "        New code should use the ``integers`` method of a ``default_rng()``\n",
      "        instance instead; please see the :ref:`random-quick-start`.\n",
      "    \n",
      "    Parameters\n",
      "    ----------\n",
      "    low : int or array-like of ints\n",
      "        Lowest (signed) integers to be drawn from the distribution (unless\n",
      "        ``high=None``, in which case this parameter is one above the\n",
      "        *highest* such integer).\n",
      "    high : int or array-like of ints, optional\n",
      "        If provided, one above the largest (signed) integer to be drawn\n",
      "        from the distribution (see above for behavior if ``high=None``).\n",
      "        If array-like, must contain integer values\n",
      "    size : int or tuple of ints, optional\n",
      "        Output shape.  If the given shape is, e.g., ``(m, n, k)``, then\n",
      "        ``m * n * k`` samples are drawn.  Default is None, in which case a\n",
      "        single value is returned.\n",
      "    dtype : dtype, optional\n",
      "        Desired dtype of the result. Byteorder must be native.\n",
      "        The default value is int.\n",
      "    \n",
      "        .. versionadded:: 1.11.0\n",
      "    \n",
      "    Returns\n",
      "    -------\n",
      "    out : int or ndarray of ints\n",
      "        `size`-shaped array of random integers from the appropriate\n",
      "        distribution, or a single such random int if `size` not provided.\n",
      "    \n",
      "    See Also\n",
      "    --------\n",
      "    random_integers : similar to `randint`, only for the closed\n",
      "        interval [`low`, `high`], and 1 is the lowest value if `high` is\n",
      "        omitted.\n",
      "    random.Generator.integers: which should be used for new code.\n",
      "    \n",
      "    Examples\n",
      "    --------\n",
      "    >>> np.random.randint(2, size=10)\n",
      "    array([1, 0, 0, 0, 1, 1, 0, 0, 1, 0]) # random\n",
      "    >>> np.random.randint(1, size=10)\n",
      "    array([0, 0, 0, 0, 0, 0, 0, 0, 0, 0])\n",
      "    \n",
      "    Generate a 2 x 4 array of ints between 0 and 4, inclusive:\n",
      "    \n",
      "    >>> np.random.randint(5, size=(2, 4))\n",
      "    array([[4, 0, 2, 1], # random\n",
      "           [3, 2, 2, 0]])\n",
      "    \n",
      "    Generate a 1 x 3 array with 3 different upper bounds\n",
      "    \n",
      "    >>> np.random.randint(1, [3, 5, 10])\n",
      "    array([2, 2, 9]) # random\n",
      "    \n",
      "    Generate a 1 by 3 array with 3 different lower bounds\n",
      "    \n",
      "    >>> np.random.randint([1, 5, 7], 10)\n",
      "    array([9, 8, 7]) # random\n",
      "    \n",
      "    Generate a 2 by 4 array using broadcasting with dtype of uint8\n",
      "    \n",
      "    >>> np.random.randint([1, 3, 5, 7], [[10], [20]], dtype=np.uint8)\n",
      "    array([[ 8,  6,  9,  7], # random\n",
      "           [ 1, 16,  9, 12]], dtype=uint8)\n",
      "\n"
     ]
    }
   ],
   "source": [
    "#np.random.randint function\n",
    "import numpy as np\n",
    "help(np.random.randint)"
   ]
  },
  {
   "cell_type": "code",
   "execution_count": 50,
   "metadata": {},
   "outputs": [
    {
     "data": {
      "text/plain": [
       "36"
      ]
     },
     "execution_count": 50,
     "metadata": {},
     "output_type": "execute_result"
    }
   ],
   "source": [
    "np.random.randint(29,39)"
   ]
  },
  {
   "cell_type": "code",
   "execution_count": 51,
   "metadata": {},
   "outputs": [
    {
     "data": {
      "text/plain": [
       "array([3, 1, 3, 3, 4, 1, 4, 3, 3, 3])"
      ]
     },
     "execution_count": 51,
     "metadata": {},
     "output_type": "execute_result"
    }
   ],
   "source": [
    "np.random.randint(1,5,size=10)"
   ]
  },
  {
   "cell_type": "code",
   "execution_count": 52,
   "metadata": {},
   "outputs": [
    {
     "data": {
      "text/plain": [
       "array([[[20, 66, 74, 35],\n",
       "        [96, 67, 30, 44],\n",
       "        [84, 32, 98, 27]],\n",
       "\n",
       "       [[ 8, 95, 72, 53],\n",
       "        [ 6, 99, 69, 19],\n",
       "        [71, 53, 10, 84]]])"
      ]
     },
     "execution_count": 52,
     "metadata": {},
     "output_type": "execute_result"
    }
   ],
   "source": [
    "np.random.randint(100,size=(2,3,4))"
   ]
  },
  {
   "cell_type": "code",
   "execution_count": 53,
   "metadata": {},
   "outputs": [
    {
     "data": {
      "text/plain": [
       "array([[ 2,  7],\n",
       "       [ 1,  1],\n",
       "       [ 5,  7],\n",
       "       [10,  6],\n",
       "       [10,  3],\n",
       "       [ 2,  5],\n",
       "       [ 6,  7],\n",
       "       [ 3,  2],\n",
       "       [ 5,  8],\n",
       "       [ 5,  6],\n",
       "       [ 1,  2],\n",
       "       [ 2, 10],\n",
       "       [10,  3],\n",
       "       [ 9,  8],\n",
       "       [ 3,  8],\n",
       "       [ 2,  4],\n",
       "       [10,  2],\n",
       "       [ 5,  8],\n",
       "       [ 9, 10],\n",
       "       [ 2,  5]])"
      ]
     },
     "execution_count": 53,
     "metadata": {},
     "output_type": "execute_result"
    }
   ],
   "source": [
    "np.random.randint(1,11,size=(20,2))"
   ]
  },
  {
   "cell_type": "code",
   "execution_count": 54,
   "metadata": {},
   "outputs": [
    {
     "data": {
      "text/plain": [
       "0.674609175412144"
      ]
     },
     "execution_count": 54,
     "metadata": {},
     "output_type": "execute_result"
    }
   ],
   "source": [
    "#np.random.rand functiom\n",
    "np.random.rand()"
   ]
  },
  {
   "cell_type": "code",
   "execution_count": 55,
   "metadata": {},
   "outputs": [
    {
     "data": {
      "text/plain": [
       "array([[0.41683525, 0.61980202, 0.3924519 , 0.34303808],\n",
       "       [0.71194412, 0.56288797, 0.03436964, 0.60718655],\n",
       "       [0.80632107, 0.3109552 , 0.36145505, 0.48587765]])"
      ]
     },
     "execution_count": 55,
     "metadata": {},
     "output_type": "execute_result"
    }
   ],
   "source": [
    "np.random.rand(3,4)"
   ]
  },
  {
   "cell_type": "code",
   "execution_count": 56,
   "metadata": {},
   "outputs": [
    {
     "data": {
      "text/plain": [
       "array([0.51618122, 0.07316926, 0.34453488, 0.46218178, 0.09180465,\n",
       "       0.11319798, 0.00315904, 0.74596003, 0.46897261, 0.5498758 ])"
      ]
     },
     "execution_count": 56,
     "metadata": {},
     "output_type": "execute_result"
    }
   ],
   "source": [
    "np.random.rand(10)"
   ]
  },
  {
   "cell_type": "code",
   "execution_count": 57,
   "metadata": {},
   "outputs": [
    {
     "data": {
      "text/plain": [
       "0.19827799822327163"
      ]
     },
     "execution_count": 57,
     "metadata": {},
     "output_type": "execute_result"
    }
   ],
   "source": [
    "#np.random.uniform function\n",
    "np.random.uniform()"
   ]
  },
  {
   "cell_type": "code",
   "execution_count": 58,
   "metadata": {},
   "outputs": [
    {
     "data": {
      "text/plain": [
       "16.207514833854276"
      ]
     },
     "execution_count": 58,
     "metadata": {},
     "output_type": "execute_result"
    }
   ],
   "source": [
    "np.random.uniform(10,20)"
   ]
  },
  {
   "cell_type": "code",
   "execution_count": 59,
   "metadata": {},
   "outputs": [
    {
     "data": {
      "text/plain": [
       "array([[18.06576803, 13.73467748, 12.99007679],\n",
       "       [13.28303909, 13.43065881, 11.22183563]])"
      ]
     },
     "execution_count": 59,
     "metadata": {},
     "output_type": "execute_result"
    }
   ],
   "source": [
    "np.random.uniform(10,20,size=(2,3))"
   ]
  },
  {
   "cell_type": "code",
   "execution_count": 60,
   "metadata": {},
   "outputs": [
    {
     "data": {
      "text/plain": [
       "array([[[13.90989926, 17.22941162, 11.67431359, 10.67126154],\n",
       "        [15.47713673, 18.3906841 , 12.45970983, 11.92998747],\n",
       "        [10.15229272, 19.76241454, 14.98437375, 17.62770359]],\n",
       "\n",
       "       [[16.24797896, 12.94791052, 14.81558354, 11.19658249],\n",
       "        [14.64014658, 16.04767829, 14.2438336 , 11.96596502],\n",
       "        [13.38203743, 11.02797413, 16.48991897, 15.15476829]]])"
      ]
     },
     "execution_count": 60,
     "metadata": {},
     "output_type": "execute_result"
    }
   ],
   "source": [
    "np.random.uniform(10,20,size=(2,3,4))"
   ]
  },
  {
   "cell_type": "code",
   "execution_count": 61,
   "metadata": {},
   "outputs": [
    {
     "data": {
      "text/plain": [
       "-0.8683495885433412"
      ]
     },
     "execution_count": 61,
     "metadata": {},
     "output_type": "execute_result"
    }
   ],
   "source": [
    "#randn function\n",
    "np.random.randn()"
   ]
  },
  {
   "cell_type": "code",
   "execution_count": 62,
   "metadata": {},
   "outputs": [
    {
     "data": {
      "text/plain": [
       "array([[ 0.25568176, -0.03037468,  0.08878114],\n",
       "       [-0.19400757, -0.6157004 , -0.40942541]])"
      ]
     },
     "execution_count": 62,
     "metadata": {},
     "output_type": "execute_result"
    }
   ],
   "source": [
    "np.random.randn(2,3)"
   ]
  },
  {
   "cell_type": "code",
   "execution_count": 63,
   "metadata": {},
   "outputs": [
    {
     "data": {
      "text/plain": [
       "0.4912771938576514"
      ]
     },
     "execution_count": 63,
     "metadata": {},
     "output_type": "execute_result"
    }
   ],
   "source": [
    "import numpy as np\n",
    "np.random.normal()"
   ]
  },
  {
   "cell_type": "code",
   "execution_count": 64,
   "metadata": {},
   "outputs": [
    {
     "data": {
      "text/plain": [
       "array([[11.98886627, 10.71538632,  9.85662234, 15.87476739, 11.62949915],\n",
       "       [13.30877757, 16.45675516,  7.53411528,  9.3684048 ,  9.7458234 ],\n",
       "       [10.43191239,  8.33211254, 13.07724389,  7.66113211, 10.61739059]])"
      ]
     },
     "execution_count": 64,
     "metadata": {},
     "output_type": "execute_result"
    }
   ],
   "source": [
    "np.random.normal(10,4,size=(3,5))"
   ]
  },
  {
   "cell_type": "code",
   "execution_count": 66,
   "metadata": {},
   "outputs": [
    {
     "name": "stdout",
     "output_type": "stream",
     "text": [
      "Help on built-in function shuffle:\n",
      "\n",
      "shuffle(...) method of numpy.random.mtrand.RandomState instance\n",
      "    shuffle(x)\n",
      "    \n",
      "    Modify a sequence in-place by shuffling its contents.\n",
      "    \n",
      "    This function only shuffles the array along the first axis of a\n",
      "    multi-dimensional array. The order of sub-arrays is changed but\n",
      "    their contents remains the same.\n",
      "    \n",
      "    .. note::\n",
      "        New code should use the ``shuffle`` method of a ``default_rng()``\n",
      "        instance instead; please see the :ref:`random-quick-start`.\n",
      "    \n",
      "    Parameters\n",
      "    ----------\n",
      "    x : ndarray or MutableSequence\n",
      "        The array, list or mutable sequence to be shuffled.\n",
      "    \n",
      "    Returns\n",
      "    -------\n",
      "    None\n",
      "    \n",
      "    See Also\n",
      "    --------\n",
      "    random.Generator.shuffle: which should be used for new code.\n",
      "    \n",
      "    Examples\n",
      "    --------\n",
      "    >>> arr = np.arange(10)\n",
      "    >>> np.random.shuffle(arr)\n",
      "    >>> arr\n",
      "    [1 7 5 2 9 4 3 6 0 8] # random\n",
      "    \n",
      "    Multi-dimensional arrays are only shuffled along the first axis:\n",
      "    \n",
      "    >>> arr = np.arange(9).reshape((3, 3))\n",
      "    >>> np.random.shuffle(arr)\n",
      "    >>> arr\n",
      "    array([[3, 4, 5], # random\n",
      "           [6, 7, 8],\n",
      "           [0, 1, 2]])\n",
      "\n"
     ]
    }
   ],
   "source": [
    "help(np.random.shuffle)"
   ]
  },
  {
   "cell_type": "code",
   "execution_count": 67,
   "metadata": {},
   "outputs": [
    {
     "data": {
      "text/plain": [
       "array([2, 3, 5, 4, 0, 7, 8, 9, 6, 1])"
      ]
     },
     "execution_count": 67,
     "metadata": {},
     "output_type": "execute_result"
    }
   ],
   "source": [
    "x=np.arange(10)\n",
    "np.random.shuffle(x)\n",
    "x"
   ]
  },
  {
   "cell_type": "code",
   "execution_count": 68,
   "metadata": {},
   "outputs": [
    {
     "data": {
      "text/plain": [
       "array([17, 11, 12, 16, 15, 13, 19, 18, 14, 10])"
      ]
     },
     "execution_count": 68,
     "metadata": {},
     "output_type": "execute_result"
    }
   ],
   "source": [
    "x=np.arange(10,20)\n",
    "np.random.shuffle(x)\n",
    "x"
   ]
  },
  {
   "cell_type": "code",
   "execution_count": 69,
   "metadata": {},
   "outputs": [
    {
     "data": {
      "text/plain": [
       "array([[[24, 25, 26, 27],\n",
       "        [28, 29, 30, 31],\n",
       "        [32, 33, 34, 35]],\n",
       "\n",
       "       [[12, 13, 14, 15],\n",
       "        [16, 17, 18, 19],\n",
       "        [20, 21, 22, 23]],\n",
       "\n",
       "       [[36, 37, 38, 39],\n",
       "        [40, 41, 42, 43],\n",
       "        [44, 45, 46, 47]],\n",
       "\n",
       "       [[ 0,  1,  2,  3],\n",
       "        [ 4,  5,  6,  7],\n",
       "        [ 8,  9, 10, 11]]])"
      ]
     },
     "execution_count": 69,
     "metadata": {},
     "output_type": "execute_result"
    }
   ],
   "source": [
    "a=np.arange(48).reshape(4,3,4)\n",
    "np.random.shuffle(a)\n",
    "a"
   ]
  },
  {
   "cell_type": "code",
   "execution_count": 70,
   "metadata": {},
   "outputs": [
    {
     "name": "stdout",
     "output_type": "stream",
     "text": [
      "1.23.5\n",
      "1\n",
      "2\n",
      "[1 3 5 7 9]\n",
      "[0 2 4 6 8]\n",
      "[[0 1 2 3 4]\n",
      " [5 6 7 8 9]]\n",
      "[[1 1 1 1 1]\n",
      " [1 1 1 1 1]]\n"
     ]
    },
    {
     "data": {
      "text/plain": [
       "array([-1,  1, -1,  3, -1,  5, -1,  7, -1,  9,  0,  1,  2,  3,  4,  5,  6,\n",
       "        7,  8,  9])"
      ]
     },
     "execution_count": 70,
     "metadata": {},
     "output_type": "execute_result"
    }
   ],
   "source": [
    "############### numpy practice questions ###############\n",
    "import numpy as np\n",
    "print(np.__version__)\n",
    "## 1_D array\n",
    "s=np.array([1,2,3])\n",
    "print(s.ndim)\n",
    "#####2_D array\n",
    "n=np.array([[1,2,3]])\n",
    "print(n.ndim)\n",
    "############### create bool array with True\n",
    "np.full((3,3),True, dtype=bool)\n",
    "##### display the even and odd numbers on 1-d array\n",
    "a=np.array([0,1,2,3,4,5,6,7,8,9])\n",
    "b=np.array([0,1,2,3,4,5,6,7,8,9])\n",
    "print(a[a%2==1])\n",
    "print(b[b%2==0])\n",
    "# replace the values in the array based on even or odd postions.\n",
    "a=np.array([0,1,2,3,4,5,6,7,8,9])\n",
    "a[a%2==0]=-1\n",
    "a\n",
    "#### stack two arrays vertically\n",
    "x=np.arange(10).reshape(2,-1)\n",
    "z=np.repeat(1,10).reshape(2,-1)\n",
    "print(x)\n",
    "print(z)\n",
    "####### method 1\n",
    "np.vstack([x,z])\n",
    "###### method2\n",
    "np.r_[a,b]"
   ]
  },
  {
   "cell_type": "code",
   "execution_count": 71,
   "metadata": {},
   "outputs": [
    {
     "data": {
      "text/plain": [
       "array([[ True,  True,  True],\n",
       "       [ True,  True,  True],\n",
       "       [ True,  True,  True]])"
      ]
     },
     "execution_count": 71,
     "metadata": {},
     "output_type": "execute_result"
    }
   ],
   "source": [
    "############### create bool array with True\n",
    "np.full((3,3),True, dtype=bool)"
   ]
  },
  {
   "cell_type": "code",
   "execution_count": 72,
   "metadata": {},
   "outputs": [
    {
     "name": "stdout",
     "output_type": "stream",
     "text": [
      "[1 3 5 7 9]\n",
      "[0 2 4 6 8]\n"
     ]
    }
   ],
   "source": [
    "##### display the even and odd numbers on 1-d array\n",
    "a=np.array([0,1,2,3,4,5,6,7,8,9])\n",
    "b=np.array([0,1,2,3,4,5,6,7,8,9])\n",
    "print(a[a%2==1])\n",
    "print(b[b%2==0])"
   ]
  },
  {
   "cell_type": "code",
   "execution_count": 73,
   "metadata": {},
   "outputs": [
    {
     "data": {
      "text/plain": [
       "array([-1,  1, -1,  3, -1,  5, -1,  7, -1,  9])"
      ]
     },
     "execution_count": 73,
     "metadata": {},
     "output_type": "execute_result"
    }
   ],
   "source": [
    "# replace the values in the array based on even or odd postions.\n",
    "a=np.array([0,1,2,3,4,5,6,7,8,9])\n",
    "a[a%2==0]=-1\n",
    "a"
   ]
  },
  {
   "cell_type": "code",
   "execution_count": 74,
   "metadata": {},
   "outputs": [
    {
     "data": {
      "text/plain": [
       "array([[0, 1, 2, 3, 4],\n",
       "       [5, 6, 7, 8, 9]])"
      ]
     },
     "execution_count": 74,
     "metadata": {},
     "output_type": "execute_result"
    }
   ],
   "source": [
    "#### reshape of array\n",
    "x=np.arange(10)\n",
    "x.reshape(2,-1)"
   ]
  },
  {
   "cell_type": "code",
   "execution_count": 75,
   "metadata": {},
   "outputs": [
    {
     "name": "stdout",
     "output_type": "stream",
     "text": [
      "[[0 1 2 3 4]\n",
      " [5 6 7 8 9]]\n",
      "[[1 1 1 1 1]\n",
      " [1 1 1 1 1]]\n"
     ]
    },
    {
     "data": {
      "text/plain": [
       "array([-1,  1, -1,  3, -1,  5, -1,  7, -1,  9,  0,  1,  2,  3,  4,  5,  6,\n",
       "        7,  8,  9])"
      ]
     },
     "execution_count": 75,
     "metadata": {},
     "output_type": "execute_result"
    }
   ],
   "source": [
    "#### stack two arrays vertically\n",
    "x=np.arange(10).reshape(2,-1)\n",
    "z=np.repeat(1,10).reshape(2,-1)\n",
    "print(x)\n",
    "print(z)\n",
    "####### method 1\n",
    "np.vstack([x,z])\n",
    "###### method2\n",
    "np.r_[a,b]"
   ]
  },
  {
   "cell_type": "code",
   "execution_count": 76,
   "metadata": {},
   "outputs": [
    {
     "name": "stdout",
     "output_type": "stream",
     "text": [
      "[[0 1 2 3 4]\n",
      " [5 6 7 8 9]]\n",
      "[[1 1 1 1 1]\n",
      " [1 1 1 1 1]]\n"
     ]
    },
    {
     "data": {
      "text/plain": [
       "array([[0, 1, 2, 3, 4, 1, 1, 1, 1, 1],\n",
       "       [5, 6, 7, 8, 9, 1, 1, 1, 1, 1]])"
      ]
     },
     "execution_count": 76,
     "metadata": {},
     "output_type": "execute_result"
    }
   ],
   "source": [
    "##### stack two arrays in horizontally\n",
    "a=np.arange(10).reshape(2,-1)\n",
    "b=np.repeat(1,10).reshape(2,-1)\n",
    "print(a)\n",
    "print(b)\n",
    "####method 1\n",
    "np.hstack([a,b])\n",
    "######## method2 \n",
    "np.concatenate([a,b],axis=1)\n",
    "#### method 3\n",
    "np.c_[a,b]"
   ]
  },
  {
   "cell_type": "markdown",
   "metadata": {},
   "source": [
    "# Numpy attributes and Data Types"
   ]
  },
  {
   "cell_type": "raw",
   "metadata": {},
   "source": [
    "ndim ----> return the dimensions of the array\n",
    "shape ----> return the shape of the array.Always return the tuple form\n",
    "size ----> to get the total number of the elements in the array\n",
    "dtype ----> to get the data type of the elements in the array\n",
    "itemsize ---> length of each elements of array in bytes"
   ]
  },
  {
   "cell_type": "raw",
   "metadata": {},
   "source": [
    "Number Data Tyeps:\n",
    "    python data types: int,float,complex,bool,str\n",
    "    numpy datatypes:: multiple datatype present in c + python\n",
    "    \n",
    "    i----> integer(int8,int16,int32, int64)\n",
    "    b ----> boolean\n",
    "    u -----> unsigned integer(uint8,uint16......... etc)\n",
    "    f ----->float\n",
    "    c ----->complex\n",
    "    s------> string\n",
    "    u -----> unicode string\n",
    "    M-------> date time etc"
   ]
  },
  {
   "cell_type": "code",
   "execution_count": 77,
   "metadata": {},
   "outputs": [
    {
     "name": "stdout",
     "output_type": "stream",
     "text": [
      "[10 20 30]\n",
      "[10. 20. 30.]\n",
      "['10.0' '20.0' '30.0']\n",
      "[ True  True  True]\n"
     ]
    }
   ],
   "source": [
    "import sys\n",
    "a=np.array([10,20,30])\n",
    "b=a.astype('float64') ### changing datatype of an existing array ===> astype()\n",
    "c=b.astype('str')\n",
    "d=a.astype('bool')\n",
    "print(a)\n",
    "print(b)\n",
    "print(c)\n",
    "print(d)"
   ]
  },
  {
   "cell_type": "code",
   "execution_count": 78,
   "metadata": {},
   "outputs": [
    {
     "data": {
      "text/plain": [
       "array([ True,  True,  True])"
      ]
     },
     "execution_count": 78,
     "metadata": {},
     "output_type": "execute_result"
    }
   ],
   "source": [
    "a=np.bool_(a)\n",
    "a"
   ]
  },
  {
   "cell_type": "markdown",
   "metadata": {},
   "source": [
    "# View Vs COPY"
   ]
  },
  {
   "cell_type": "raw",
   "metadata": {},
   "source": [
    "### view is a logical representation of existing array.\n",
    "### if we perform any update on the original array those changes will be refelcted to view-vice-versa.\n",
    "### view is the method by explicitly\n"
   ]
  },
  {
   "cell_type": "code",
   "execution_count": 79,
   "metadata": {},
   "outputs": [
    {
     "name": "stdout",
     "output_type": "stream",
     "text": [
      "original array ===>[10 20 30 40]\n",
      "view the array ===>[10 20 30 40]\n",
      "changed array(a),[777  20  30  40]\n",
      "[777  20  30  40]\n",
      "changed the b array,[777  20  30 999]\n",
      "[777  20  30 999]\n"
     ]
    }
   ],
   "source": [
    "import numpy as np\n",
    "a=np.array([10,20,30,40])\n",
    "b=a.view()\n",
    "print(f'original array ===>{a}')\n",
    "print(f'view the array ===>{b}')\n",
    "a[0]=777\n",
    "print(f'changed array(a),{a}')\n",
    "print(b)\n",
    "b[-1]=999\n",
    "print(f'changed the b array,{b}')\n",
    "print(a)"
   ]
  },
  {
   "cell_type": "raw",
   "metadata": {},
   "source": [
    "### copy means seperate object\n",
    "### if we perform any changes in original those changes wont br changed and refelected the array vice-versa.\n",
    "### by using copy() method ndarray class we can create copy of existing ndarray"
   ]
  },
  {
   "cell_type": "code",
   "execution_count": 80,
   "metadata": {},
   "outputs": [
    {
     "name": "stdout",
     "output_type": "stream",
     "text": [
      "[10 20 30 40]\n",
      "[10 20 30 40]\n",
      " first array change,[220  20  30  40]\n",
      "[10 20 30 40]\n",
      "second array change,[ 10  20  30 449]\n",
      "[220  20  30  40]\n"
     ]
    }
   ],
   "source": [
    "import numpy as np\n",
    "a=np.array([10,20,30,40])\n",
    "b=a.copy()\n",
    "print(a)\n",
    "print(b)\n",
    "a[0]=220\n",
    "print(f' first array change,{a}')\n",
    "print(b)\n",
    "b[-1]=449\n",
    "print(f'second array change,{b}')\n",
    "print(a)"
   ]
  },
  {
   "cell_type": "markdown",
   "metadata": {},
   "source": [
    "# Indexing,slicing & Advance Indexing. "
   ]
  },
  {
   "cell_type": "raw",
   "metadata": {},
   "source": [
    "## indexing is the access of array elements.\n",
    "### you can access the array elements by refeering to its index number \n",
    "## the index starting value is 0 and second value has 1 postion index.\n",
    "### suppose both +ve postion starting with 0\n",
    "### -ve postion with -1"
   ]
  },
  {
   "cell_type": "code",
   "execution_count": 81,
   "metadata": {},
   "outputs": [
    {
     "name": "stdout",
     "output_type": "stream",
     "text": [
      "10\n",
      "49\n",
      "49\n",
      "[10 20 30]\n"
     ]
    }
   ],
   "source": [
    "### accessing 1-d array indexing\n",
    "import numpy as np\n",
    "a=np.array([10,20,30,49])\n",
    "print(a[0])\n",
    "print(a[-1])\n",
    "print(a[3])\n",
    "print(a[0:3])"
   ]
  },
  {
   "cell_type": "code",
   "execution_count": 82,
   "metadata": {},
   "outputs": [
    {
     "name": "stdout",
     "output_type": "stream",
     "text": [
      "50\n",
      "30\n",
      "50\n"
     ]
    }
   ],
   "source": [
    "### accessing 2_D aaray using indexing\n",
    "## syntax:array[row_index][column_index] \n",
    "a=np.array([[10,20,30],[40,50,60]])\n",
    "print(a[1][1])\n",
    "print(a[0][2])\n",
    "print(a[-1][1])"
   ]
  },
  {
   "cell_type": "raw",
   "metadata": {},
   "source": [
    "### accessing 3_D aaray indexing.\n",
    "### 3d-array::array[2-D array index][row_index_in that 2_D array][columnindex in that 2_d array]\n",
    "## a[i][j][k] i== represent 2-d array | can be either +ve and -ve\n",
    "### j === represent row index in that 2_d array | can be either +ve and -ve\n",
    "### k === represent column index in that 2-d array | can be + ve and -ve\n"
   ]
  },
  {
   "cell_type": "code",
   "execution_count": 83,
   "metadata": {},
   "outputs": [
    {
     "name": "stdout",
     "output_type": "stream",
     "text": [
      "14\n"
     ]
    }
   ],
   "source": [
    "b=[[[1,2,3],[4,5,6],[7,8,9]],[[10,11,12],[13,14,15],[16,17,18]]]\n",
    "a=np.array(b)\n",
    "print(a[1][1][1])"
   ]
  },
  {
   "cell_type": "raw",
   "metadata": {},
   "source": [
    "### accessing elements of 4_D array\n",
    "##4-D array contains multiple 3-D array\n",
    "# every 3-D array contains multiple 2-D array.\n",
    "## every 2-D array contains rows and columns.\n",
    "## (i,j,k,l)===>(2,3,4,5)\n",
    "### 2---> represent the number of 3-D arrays.----[i]\n",
    "## 3----> every 3-D arrays contains 3 2-D arrays------[j]\n",
    "### every 2-D arrays contains 4 rows and 5 columns.\n",
    "## k---->row index of the 2-D arrays.\n",
    "## l -----> columns index of the 2-D arrays.\n"
   ]
  },
  {
   "cell_type": "code",
   "execution_count": 84,
   "metadata": {},
   "outputs": [
    {
     "name": "stdout",
     "output_type": "stream",
     "text": [
      "[[[[  1   2   3   4   5]\n",
      "   [  6   7   8   9  10]\n",
      "   [ 11  12  13  14  15]\n",
      "   [ 16  17  18  19  20]]\n",
      "\n",
      "  [[ 21  22  23  24  25]\n",
      "   [ 26  27  28  29  30]\n",
      "   [ 31  32  33  34  35]\n",
      "   [ 36  37  38  39  40]]\n",
      "\n",
      "  [[ 41  42  43  44  45]\n",
      "   [ 46  47  48  49  50]\n",
      "   [ 51  52  53  54  55]\n",
      "   [ 56  57  58  59  60]]]\n",
      "\n",
      "\n",
      " [[[ 61  62  63  64  65]\n",
      "   [ 66  67  68  69  70]\n",
      "   [ 71  72  73  74  75]\n",
      "   [ 76  77  78  79  80]]\n",
      "\n",
      "  [[ 81  82  83  84  85]\n",
      "   [ 86  87  88  89  90]\n",
      "   [ 91  92  93  94  95]\n",
      "   [ 96  97  98  99 100]]\n",
      "\n",
      "  [[101 102 103 104 105]\n",
      "   [106 107 108 109 110]\n",
      "   [111 112 113 114 115]\n",
      "   [116 117 118 119 120]]]]\n"
     ]
    }
   ],
   "source": [
    "a=np.arange(1,121).reshape(2,3,4,5)\n",
    "print(a)"
   ]
  },
  {
   "cell_type": "code",
   "execution_count": 85,
   "metadata": {},
   "outputs": [
    {
     "name": "stdout",
     "output_type": "stream",
     "text": [
      "[[[[  1   2   3   4   5]\n",
      "   [  6   7   8   9  10]\n",
      "   [ 11  12  13  14  15]\n",
      "   [ 16  17  18  19  20]]\n",
      "\n",
      "  [[ 21  22  23  24  25]\n",
      "   [ 26  27  28  29  30]\n",
      "   [ 31  32  33  34  35]\n",
      "   [ 36  37  38  39  40]]\n",
      "\n",
      "  [[ 41  42  43  44  45]\n",
      "   [ 46  47  48  49  50]\n",
      "   [ 51  52  53  54  55]\n",
      "   [ 56  57  58  59  60]]]\n",
      "\n",
      "\n",
      " [[[ 61  62  63  64  65]\n",
      "   [ 66  67  68  69  70]\n",
      "   [ 71  72  73  74  75]\n",
      "   [ 76  77  78  79  80]]\n",
      "\n",
      "  [[ 81  82  83  84  85]\n",
      "   [ 86  87  88  89  90]\n",
      "   [ 91  92  93  94  95]\n",
      "   [ 96  97  98  99 100]]\n",
      "\n",
      "  [[101 102 103 104 105]\n",
      "   [106 107 108 109 110]\n",
      "   [111 112 113 114 115]\n",
      "   [116 117 118 119 120]]]]\n"
     ]
    }
   ],
   "source": [
    "b=np.arange(1,121).reshape(2,3,4,5)\n",
    "print(b)"
   ]
  },
  {
   "cell_type": "code",
   "execution_count": 86,
   "metadata": {},
   "outputs": [
    {
     "data": {
      "text/plain": [
       "(array([1], dtype=int64),\n",
       " array([1], dtype=int64),\n",
       " array([1], dtype=int64),\n",
       " array([2], dtype=int64))"
      ]
     },
     "execution_count": 86,
     "metadata": {},
     "output_type": "execute_result"
    }
   ],
   "source": [
    "np.where(b==88)"
   ]
  },
  {
   "cell_type": "code",
   "execution_count": 87,
   "metadata": {},
   "outputs": [
    {
     "name": "stdout",
     "output_type": "stream",
     "text": [
      "90\n"
     ]
    }
   ],
   "source": [
    "print(a[1][1][1][4])"
   ]
  },
  {
   "cell_type": "code",
   "execution_count": 88,
   "metadata": {},
   "outputs": [
    {
     "name": "stdout",
     "output_type": "stream",
     "text": [
      "[30, 40, 50, 80]\n"
     ]
    }
   ],
   "source": [
    "l=[10,20,30,40,50,80]### from 2nd to 5th postion.\n",
    "print(l[2:6])"
   ]
  },
  {
   "cell_type": "code",
   "execution_count": 89,
   "metadata": {},
   "outputs": [
    {
     "data": {
      "text/plain": [
       "[10, 20, 30, 40]"
      ]
     },
     "execution_count": 89,
     "metadata": {},
     "output_type": "execute_result"
    }
   ],
   "source": [
    "l[-6:-2]### from -6 to -3 postion."
   ]
  },
  {
   "cell_type": "code",
   "execution_count": 90,
   "metadata": {},
   "outputs": [
    {
     "data": {
      "text/plain": [
       "[30, 40, 50, 80]"
      ]
     },
     "execution_count": 90,
     "metadata": {},
     "output_type": "execute_result"
    }
   ],
   "source": [
    "l[2:]"
   ]
  },
  {
   "cell_type": "code",
   "execution_count": 91,
   "metadata": {},
   "outputs": [
    {
     "data": {
      "text/plain": [
       "[10, 20, 30, 40, 50, 80]"
      ]
     },
     "execution_count": 91,
     "metadata": {},
     "output_type": "execute_result"
    }
   ],
   "source": [
    "l[:]"
   ]
  },
  {
   "cell_type": "code",
   "execution_count": 92,
   "metadata": {},
   "outputs": [
    {
     "data": {
      "text/plain": [
       "[30, 50]"
      ]
     },
     "execution_count": 92,
     "metadata": {},
     "output_type": "execute_result"
    }
   ],
   "source": [
    "l=[10,20,30,40,50,60,70,80,90]\n",
    "l[2:6:2]"
   ]
  },
  {
   "cell_type": "code",
   "execution_count": 93,
   "metadata": {},
   "outputs": [
    {
     "data": {
      "text/plain": [
       "[20, 30, 40, 50]"
      ]
     },
     "execution_count": 93,
     "metadata": {},
     "output_type": "execute_result"
    }
   ],
   "source": [
    "l[1:5:1]"
   ]
  },
  {
   "cell_type": "code",
   "execution_count": 94,
   "metadata": {},
   "outputs": [
    {
     "name": "stdout",
     "output_type": "stream",
     "text": [
      "[ 10  20  30  40  50  60  70  80  90 100]\n"
     ]
    }
   ],
   "source": [
    "### slicing operator in 1_d array\n",
    "a=np.arange(10,101,10)\n",
    "print(a)"
   ]
  },
  {
   "cell_type": "code",
   "execution_count": 95,
   "metadata": {},
   "outputs": [
    {
     "data": {
      "text/plain": [
       "array([30, 40, 50])"
      ]
     },
     "execution_count": 95,
     "metadata": {},
     "output_type": "execute_result"
    }
   ],
   "source": [
    "a[2:5]"
   ]
  },
  {
   "cell_type": "code",
   "execution_count": 96,
   "metadata": {},
   "outputs": [
    {
     "data": {
      "text/plain": [
       "array([100,  90,  80,  70,  60,  50,  40,  30,  20,  10])"
      ]
     },
     "execution_count": 96,
     "metadata": {},
     "output_type": "execute_result"
    }
   ],
   "source": [
    "a[::-1]"
   ]
  },
  {
   "cell_type": "code",
   "execution_count": 97,
   "metadata": {},
   "outputs": [
    {
     "data": {
      "text/plain": [
       "array([ 10,  20,  30,  40,  50,  60,  70,  80,  90, 100])"
      ]
     },
     "execution_count": 97,
     "metadata": {},
     "output_type": "execute_result"
    }
   ],
   "source": [
    "a[::]"
   ]
  },
  {
   "cell_type": "code",
   "execution_count": 98,
   "metadata": {},
   "outputs": [
    {
     "data": {
      "text/plain": [
       "array([[ 1,  2,  3],\n",
       "       [30, 40, 50],\n",
       "       [80, 60, 70]])"
      ]
     },
     "execution_count": 98,
     "metadata": {},
     "output_type": "execute_result"
    }
   ],
   "source": [
    "### slicing operator in 2_d arrays.\n",
    "b=np.array([[1,2,3],[30,40,50],[80,60,70]])\n",
    "b\n",
    "## rows and columns should be slice syntax then only it will return 2-D array.\n",
    "## if any one index it will return 1-D array."
   ]
  },
  {
   "cell_type": "code",
   "execution_count": 99,
   "metadata": {},
   "outputs": [
    {
     "name": "stdout",
     "output_type": "stream",
     "text": [
      "the dimension of c:1 and the array c:[1 2 3]\n",
      "the dimension of d:2 and the array d:[[1 2 3]]\n"
     ]
    }
   ],
   "source": [
    "c=b[0,:]\n",
    "print(f'the dimension of c:{c.ndim} and the array c:{c}')\n",
    "d=b[0:1,:]\n",
    "print(f'the dimension of d:{d.ndim} and the array d:{d}')"
   ]
  },
  {
   "cell_type": "code",
   "execution_count": 100,
   "metadata": {},
   "outputs": [
    {
     "name": "stdout",
     "output_type": "stream",
     "text": [
      "b[0:2,1:2] values is:\n",
      "[[ 2]\n",
      " [40]]\n"
     ]
    }
   ],
   "source": [
    "print(f'b[0:2,1:2] values is:\\n{b[0:2,1:2]}')"
   ]
  },
  {
   "cell_type": "code",
   "execution_count": 101,
   "metadata": {},
   "outputs": [
    {
     "data": {
      "text/plain": [
       "array([[ 1,  2,  3,  4],\n",
       "       [ 5,  6,  7,  8],\n",
       "       [ 9, 10, 11, 12],\n",
       "       [13, 14, 15, 16]])"
      ]
     },
     "execution_count": 101,
     "metadata": {},
     "output_type": "execute_result"
    }
   ],
   "source": [
    "a=np.arange(1,17).reshape(4,4)\n",
    "a"
   ]
  },
  {
   "cell_type": "code",
   "execution_count": 102,
   "metadata": {},
   "outputs": [
    {
     "name": "stdout",
     "output_type": "stream",
     "text": [
      "a[0:2,:]value is :\n",
      "[[1 2 3 4]\n",
      " [5 6 7 8]]\n"
     ]
    }
   ],
   "source": [
    "print(f'a[0:2,:]value is :\\n{a[0:2,:]}')"
   ]
  },
  {
   "cell_type": "code",
   "execution_count": 103,
   "metadata": {},
   "outputs": [
    {
     "name": "stdout",
     "output_type": "stream",
     "text": [
      "a[0:3,:]value is :\n",
      "[[ 1  2  3  4]\n",
      " [ 5  6  7  8]\n",
      " [ 9 10 11 12]]\n"
     ]
    }
   ],
   "source": [
    "print(f'a[0:3,:]value is :\\n{a[0:3,:]}')"
   ]
  },
  {
   "cell_type": "code",
   "execution_count": 104,
   "metadata": {},
   "outputs": [
    {
     "name": "stdout",
     "output_type": "stream",
     "text": [
      "a[:,:2]value is :\n",
      "[[ 1  2]\n",
      " [ 5  6]\n",
      " [ 9 10]\n",
      " [13 14]]\n"
     ]
    }
   ],
   "source": [
    "print(f'a[:,:2]value is :\\n{a[:,:2]}')"
   ]
  },
  {
   "cell_type": "code",
   "execution_count": 105,
   "metadata": {},
   "outputs": [
    {
     "name": "stdout",
     "output_type": "stream",
     "text": [
      "a[::,:4]value is :\n",
      "[[ 1  2  3  4]\n",
      " [ 5  6  7  8]\n",
      " [ 9 10 11 12]\n",
      " [13 14 15 16]]\n"
     ]
    }
   ],
   "source": [
    "print(f'a[::,:4]value is :\\n{a[::,:4]}')"
   ]
  },
  {
   "cell_type": "code",
   "execution_count": 106,
   "metadata": {},
   "outputs": [
    {
     "name": "stdout",
     "output_type": "stream",
     "text": [
      "a[:,1:]value is :\n",
      "[[ 2  3  4]\n",
      " [ 6  7  8]\n",
      " [10 11 12]\n",
      " [14 15 16]]\n"
     ]
    }
   ],
   "source": [
    "print(f'a[:,1:]value is :\\n{a[:,1:]}')"
   ]
  },
  {
   "cell_type": "code",
   "execution_count": 107,
   "metadata": {},
   "outputs": [
    {
     "data": {
      "text/plain": [
       "array([[[ 1,  2,  3,  4],\n",
       "        [ 5,  6,  7,  8],\n",
       "        [ 9, 10, 11, 12]],\n",
       "\n",
       "       [[13, 14, 15, 16],\n",
       "        [17, 18, 19, 20],\n",
       "        [21, 22, 23, 24]]])"
      ]
     },
     "execution_count": 107,
     "metadata": {},
     "output_type": "execute_result"
    }
   ],
   "source": [
    "### slice operator of 3-d numpy array.\n",
    "a=np.arange(1,25).reshape(2,3,4)\n",
    "a"
   ]
  },
  {
   "cell_type": "code",
   "execution_count": 108,
   "metadata": {},
   "outputs": [
    {
     "data": {
      "text/plain": [
       "array([[ 2,  6, 10],\n",
       "       [14, 18, 22]])"
      ]
     },
     "execution_count": 108,
     "metadata": {},
     "output_type": "execute_result"
    }
   ],
   "source": [
    "a[:,:,1]"
   ]
  },
  {
   "cell_type": "code",
   "execution_count": 109,
   "metadata": {},
   "outputs": [
    {
     "data": {
      "text/plain": [
       "array([[[ 1,  2,  3,  4]],\n",
       "\n",
       "       [[13, 14, 15, 16]]])"
      ]
     },
     "execution_count": 109,
     "metadata": {},
     "output_type": "execute_result"
    }
   ],
   "source": [
    "a[:,:1,:]"
   ]
  },
  {
   "cell_type": "code",
   "execution_count": 110,
   "metadata": {},
   "outputs": [
    {
     "data": {
      "text/plain": [
       "array([[15, 19, 23]])"
      ]
     },
     "execution_count": 110,
     "metadata": {},
     "output_type": "execute_result"
    }
   ],
   "source": [
    "a[1:,:,2]"
   ]
  },
  {
   "cell_type": "code",
   "execution_count": 111,
   "metadata": {},
   "outputs": [
    {
     "data": {
      "text/plain": [
       "array([[ 3,  7, 11],\n",
       "       [15, 19, 23]])"
      ]
     },
     "execution_count": 111,
     "metadata": {},
     "output_type": "execute_result"
    }
   ],
   "source": [
    "a[:,:,2]"
   ]
  },
  {
   "cell_type": "code",
   "execution_count": 112,
   "metadata": {},
   "outputs": [
    {
     "data": {
      "text/plain": [
       "array([[ 4,  8],\n",
       "       [16, 20]])"
      ]
     },
     "execution_count": 112,
     "metadata": {},
     "output_type": "execute_result"
    }
   ],
   "source": [
    "a[:,:2,3]"
   ]
  },
  {
   "cell_type": "raw",
   "metadata": {},
   "source": [
    "### Advance indexing: group of elements which are not in order.then it will go for Advance indexing.\n",
    "## by using index, we can access only one element at a time.\n",
    "### 1-D array ===> a[i]\n",
    "2-D array =======>a[i][j]\n",
    "3-D array =======>a[i][j][k]\n",
    "\n",
    "by using slice operator we can access multiple elemnts at a time but all elements should in order\n",
    "1-D array ======>a[begin:end:step]\n",
    "2-D array =======>a[begin:end:step,begin:end:step]\n",
    "3-D array =======>a[begin:end:step,begin:end:step,begin:end:step]"
   ]
  },
  {
   "cell_type": "code",
   "execution_count": 113,
   "metadata": {},
   "outputs": [
    {
     "data": {
      "text/plain": [
       "array([ 10,  20,  30,  40,  50,  60,  70,  80,  90, 100])"
      ]
     },
     "execution_count": 113,
     "metadata": {},
     "output_type": "execute_result"
    }
   ],
   "source": [
    "## access multiple arbitary elemnets in 1-D array\n",
    "## create an ndarray with required indices in the given original array\n",
    "## pass that array as argumnets to the original array.\n",
    "a=np.arange(10,101,10)\n",
    "a"
   ]
  },
  {
   "cell_type": "code",
   "execution_count": 114,
   "metadata": {},
   "outputs": [
    {
     "data": {
      "text/plain": [
       "array([2, 4, 5, 8])"
      ]
     },
     "execution_count": 114,
     "metadata": {},
     "output_type": "execute_result"
    }
   ],
   "source": [
    "indices=np.array([2,4,5,8])\n",
    "indices"
   ]
  },
  {
   "cell_type": "code",
   "execution_count": 115,
   "metadata": {},
   "outputs": [
    {
     "data": {
      "text/plain": [
       "array([30, 50, 60, 90])"
      ]
     },
     "execution_count": 115,
     "metadata": {},
     "output_type": "execute_result"
    }
   ],
   "source": [
    "a[indices]"
   ]
  },
  {
   "cell_type": "code",
   "execution_count": 116,
   "metadata": {},
   "outputs": [
    {
     "data": {
      "text/plain": [
       "array([20, 30, 40, 50])"
      ]
     },
     "execution_count": 116,
     "metadata": {},
     "output_type": "execute_result"
    }
   ],
   "source": [
    "#### 2nd ways\n",
    "l=[1,2,3,4]\n",
    "a[l]"
   ]
  },
  {
   "cell_type": "code",
   "execution_count": 117,
   "metadata": {},
   "outputs": [
    {
     "data": {
      "text/plain": [
       "array([[ 1,  2,  3,  4],\n",
       "       [ 5,  6,  7,  8],\n",
       "       [ 9, 10, 11, 12],\n",
       "       [13, 14, 15, 16]])"
      ]
     },
     "execution_count": 117,
     "metadata": {},
     "output_type": "execute_result"
    }
   ],
   "source": [
    "#### accessing multiple arbitary elements in 2-D array.\n",
    "### to access 2-d array based on the coorealtion that required row-columns.\n",
    "l=[[1,2,3,4],[5,6,7,8],[9,10,11,12],[13,14,15,16]]\n",
    "a=np.array(l)\n",
    "a\n"
   ]
  },
  {
   "cell_type": "code",
   "execution_count": 118,
   "metadata": {},
   "outputs": [
    {
     "data": {
      "text/plain": [
       "array([ 1,  6, 11, 16])"
      ]
     },
     "execution_count": 118,
     "metadata": {},
     "output_type": "execute_result"
    }
   ],
   "source": [
    "a[[0,1,2,3],[0,1,2,3]]"
   ]
  },
  {
   "cell_type": "code",
   "execution_count": 119,
   "metadata": {},
   "outputs": [
    {
     "data": {
      "text/plain": [
       "array([ 2,  8,  9, 15])"
      ]
     },
     "execution_count": 119,
     "metadata": {},
     "output_type": "execute_result"
    }
   ],
   "source": [
    "a[[0,1,2,3],[1,3,0,2]]"
   ]
  },
  {
   "cell_type": "code",
   "execution_count": 120,
   "metadata": {},
   "outputs": [
    {
     "data": {
      "text/plain": [
       "array([ 2, 11, 13,  7])"
      ]
     },
     "execution_count": 120,
     "metadata": {},
     "output_type": "execute_result"
    }
   ],
   "source": [
    "a[[0,2,3,1],[1,2,0,2]]"
   ]
  },
  {
   "cell_type": "code",
   "execution_count": 121,
   "metadata": {},
   "outputs": [
    {
     "data": {
      "text/plain": [
       "array([ 1,  5,  9, 13, 14, 15, 16])"
      ]
     },
     "execution_count": 121,
     "metadata": {},
     "output_type": "execute_result"
    }
   ],
   "source": [
    "a[[0,1,2,3,3,3,3],[0,0,0,0,1,2,3]]\n",
    "#### in advance indexing the required elements will be selected based on indices and with those elements  1-D array will be created.\n",
    "# the result of advanced indexing is always 1-d array only even through we select 1-d or 2-d or 3-d array as input.\n",
    "## but in slicing the dimension of output array is always same as the dimension of input array."
   ]
  },
  {
   "cell_type": "code",
   "execution_count": 122,
   "metadata": {},
   "outputs": [
    {
     "data": {
      "text/plain": [
       "array([1, 5, 9])"
      ]
     },
     "execution_count": 122,
     "metadata": {},
     "output_type": "execute_result"
    }
   ],
   "source": [
    "a[[0,1,2],[0]]"
   ]
  },
  {
   "cell_type": "raw",
   "metadata": {},
   "source": [
    "## accessing elemnts in 3-D arrays.\n",
    "#a[i][j][k]\n",
    "# i represent the index of 2-D array.\n",
    "# j represents row index.\n",
    "# k represents column index."
   ]
  },
  {
   "cell_type": "code",
   "execution_count": 123,
   "metadata": {},
   "outputs": [
    {
     "data": {
      "text/plain": [
       "array([[[ 1,  2,  3,  4],\n",
       "        [ 5,  6,  7,  8],\n",
       "        [ 9, 10, 11, 12]],\n",
       "\n",
       "       [[13, 14, 15, 16],\n",
       "        [17, 18, 19, 20],\n",
       "        [21, 22, 23, 24]]])"
      ]
     },
     "execution_count": 123,
     "metadata": {},
     "output_type": "execute_result"
    }
   ],
   "source": [
    "a=np.arange(1,25).reshape(2,3,4)\n",
    "a"
   ]
  },
  {
   "cell_type": "code",
   "execution_count": 124,
   "metadata": {},
   "outputs": [
    {
     "data": {
      "text/plain": [
       "array([ 7, 18])"
      ]
     },
     "execution_count": 124,
     "metadata": {},
     "output_type": "execute_result"
    }
   ],
   "source": [
    "a[[0,1],[1,1],[2,1]]"
   ]
  },
  {
   "cell_type": "raw",
   "metadata": {},
   "source": [
    "summary:::\n",
    "to access the arbitary elemnets of 1-D array\n",
    ".a[x]:: x can be either ndarray or list of indices\n",
    "to access 2-D array\n",
    "a[[rows-indices],[column-indices]]\n",
    "3-D array\n",
    "a[[indices of 2e-D array],[row-indices],[colum-indices]]"
   ]
  },
  {
   "cell_type": "code",
   "execution_count": 125,
   "metadata": {},
   "outputs": [
    {
     "data": {
      "text/plain": [
       "array([10, 20, 40])"
      ]
     },
     "execution_count": 125,
     "metadata": {},
     "output_type": "execute_result"
    }
   ],
   "source": [
    "##condition based selection:we select elemnts of an array based on the condition.\n",
    "#syntax: array_name[boolean array] in boolean_array whereever True is the present the corresponding value willbe selected.\n",
    "a=np.array([10,20,30,40])\n",
    "boolean_array=np.array([True,True,False,True])\n",
    "a[boolean_array]"
   ]
  },
  {
   "cell_type": "code",
   "execution_count": 126,
   "metadata": {},
   "outputs": [
    {
     "data": {
      "text/plain": [
       "array([False, False,  True,  True])"
      ]
     },
     "execution_count": 126,
     "metadata": {},
     "output_type": "execute_result"
    }
   ],
   "source": [
    "a=np.array([10,20,30,40])\n",
    "a>25\n"
   ]
  },
  {
   "cell_type": "code",
   "execution_count": 127,
   "metadata": {},
   "outputs": [
    {
     "data": {
      "text/plain": [
       "array([30, 40])"
      ]
     },
     "execution_count": 127,
     "metadata": {},
     "output_type": "execute_result"
    }
   ],
   "source": [
    "bool_array =a>25\n",
    "a[bool_array]"
   ]
  },
  {
   "cell_type": "code",
   "execution_count": 128,
   "metadata": {},
   "outputs": [
    {
     "data": {
      "text/plain": [
       "array([30, 40])"
      ]
     },
     "execution_count": 128,
     "metadata": {},
     "output_type": "execute_result"
    }
   ],
   "source": [
    "a[a>25]"
   ]
  },
  {
   "cell_type": "code",
   "execution_count": 129,
   "metadata": {},
   "outputs": [
    {
     "data": {
      "text/plain": [
       "array([-5, -3, -1])"
      ]
     },
     "execution_count": 129,
     "metadata": {},
     "output_type": "execute_result"
    }
   ],
   "source": [
    "a=np.array([10,-5,20,40,-3,-1,75])\n",
    "a[a<0]"
   ]
  },
  {
   "cell_type": "code",
   "execution_count": 130,
   "metadata": {},
   "outputs": [
    {
     "data": {
      "text/plain": [
       "array([[ 1,  2,  3,  4,  5],\n",
       "       [ 6,  7,  8,  9, 10],\n",
       "       [11, 12, 13, 14, 15],\n",
       "       [16, 17, 18, 19, 20],\n",
       "       [21, 22, 23, 24, 25]])"
      ]
     },
     "execution_count": 130,
     "metadata": {},
     "output_type": "execute_result"
    }
   ],
   "source": [
    "a=np.arange(1,26).reshape(5,5)\n",
    "a"
   ]
  },
  {
   "cell_type": "code",
   "execution_count": 131,
   "metadata": {},
   "outputs": [
    {
     "data": {
      "text/plain": [
       "array([ 2,  4,  6,  8, 10, 12, 14, 16, 18, 20, 22, 24])"
      ]
     },
     "execution_count": 131,
     "metadata": {},
     "output_type": "execute_result"
    }
   ],
   "source": [
    "a[a%2==0]"
   ]
  },
  {
   "cell_type": "raw",
   "metadata": {},
   "source": [
    "### logical operator\n",
    "## logical_and ==> compute the truth value of x1 and x2 elements-wise.\n",
    "## logical_or ===> compute the truth value of x1 or x2 elemts_wise.\n",
    "## logical-not ===> compute the thruth value of not x elemts-wise.\n",
    "### logical-xor ===> compute the truth value of x1  xor x2 elements-wise.\n"
   ]
  },
  {
   "cell_type": "code",
   "execution_count": 132,
   "metadata": {},
   "outputs": [
    {
     "data": {
      "text/plain": [
       "array([[ 1,  2,  3,  4,  5],\n",
       "       [ 6,  7,  8,  9, 10],\n",
       "       [11, 12, 13, 14, 15],\n",
       "       [16, 17, 18, 19, 20],\n",
       "       [21, 22, 23, 24, 25]])"
      ]
     },
     "execution_count": 132,
     "metadata": {},
     "output_type": "execute_result"
    }
   ],
   "source": [
    "a=np.arange(1,26).reshape(5,5)\n",
    "a"
   ]
  },
  {
   "cell_type": "code",
   "execution_count": 133,
   "metadata": {},
   "outputs": [
    {
     "data": {
      "text/plain": [
       "array([[False, False, False, False, False],\n",
       "       [False, False, False, False,  True],\n",
       "       [False, False, False, False, False],\n",
       "       [False, False, False, False,  True],\n",
       "       [False, False, False, False, False]])"
      ]
     },
     "execution_count": 133,
     "metadata": {},
     "output_type": "execute_result"
    }
   ],
   "source": [
    "b=np.logical_and(a%2==0,a%5==0)\n",
    "b"
   ]
  },
  {
   "cell_type": "code",
   "execution_count": 134,
   "metadata": {},
   "outputs": [
    {
     "name": "stdout",
     "output_type": "stream",
     "text": [
      "elemts which are even and divisible by 5 ---->\n",
      "[10 20]\n"
     ]
    }
   ],
   "source": [
    "print(f'elemts which are even and divisible by 5 ---->\\n{a[b]}')"
   ]
  },
  {
   "cell_type": "code",
   "execution_count": 135,
   "metadata": {},
   "outputs": [
    {
     "data": {
      "text/plain": [
       "array([ 6, 12, 18, 24])"
      ]
     },
     "execution_count": 135,
     "metadata": {},
     "output_type": "execute_result"
    }
   ],
   "source": [
    "a[(a%2==0)&(a%3==0)]"
   ]
  },
  {
   "cell_type": "code",
   "execution_count": 136,
   "metadata": {},
   "outputs": [
    {
     "data": {
      "text/plain": [
       "array([ 2,  3,  4,  6,  8,  9, 10, 12, 14, 15, 16, 18, 20, 21, 22, 24])"
      ]
     },
     "execution_count": 136,
     "metadata": {},
     "output_type": "execute_result"
    }
   ],
   "source": [
    "a[np.logical_or(a%2==0,a%3==0)]"
   ]
  },
  {
   "cell_type": "code",
   "execution_count": 137,
   "metadata": {},
   "outputs": [
    {
     "data": {
      "text/plain": [
       "array([ 1,  3,  5,  6,  7,  9, 11, 12, 13, 15, 17, 18, 19, 21, 23, 24, 25])"
      ]
     },
     "execution_count": 137,
     "metadata": {},
     "output_type": "execute_result"
    }
   ],
   "source": [
    "a[np.logical_not(a%2==0)|(a%3==0)]"
   ]
  },
  {
   "cell_type": "markdown",
   "metadata": {},
   "source": [
    "# python slicing Vs Numpy Array slicing vs Adv.indexing vs conditional selection."
   ]
  },
  {
   "cell_type": "code",
   "execution_count": 138,
   "metadata": {},
   "outputs": [
    {
     "data": {
      "text/plain": [
       "False"
      ]
     },
     "execution_count": 138,
     "metadata": {},
     "output_type": "execute_result"
    }
   ],
   "source": [
    "# case1 : python slicing.\n",
    "# in the case of list,slice operator create a seperate copy.\n",
    "# if we perform any changes in one copy those changes wont be refelected in other copy.\n",
    "l1=[10,20,30,40]\n",
    "l2=l1[::]\n",
    "l1 is l2"
   ]
  },
  {
   "cell_type": "code",
   "execution_count": 139,
   "metadata": {},
   "outputs": [
    {
     "name": "stdout",
     "output_type": "stream",
     "text": [
      "[888, 20, 30, 40]\n",
      "[10, 20, 30, 40]\n"
     ]
    }
   ],
   "source": [
    "l1[0]=888\n",
    "print(l1)\n",
    "print(l2)"
   ]
  },
  {
   "cell_type": "code",
   "execution_count": 140,
   "metadata": {},
   "outputs": [
    {
     "name": "stdout",
     "output_type": "stream",
     "text": [
      "[888, 20, 30, 40]\n",
      "[10, 7777, 30, 40]\n"
     ]
    }
   ],
   "source": [
    "l2[1]=7777\n",
    "print(l1)\n",
    "print(l2)"
   ]
  },
  {
   "cell_type": "code",
   "execution_count": 141,
   "metadata": {},
   "outputs": [
    {
     "data": {
      "text/plain": [
       "array([ 10,  20,  30,  40,  50,  60,  70,  80,  90, 100])"
      ]
     },
     "execution_count": 141,
     "metadata": {},
     "output_type": "execute_result"
    }
   ],
   "source": [
    "##Case2: numpy array slicing.\n",
    "# a seperate copy wont be created and just we getting view of the original copy.\n",
    "# view is logical empty where as table is physical entity(RDBMS)\n",
    "a=np.arange(10,101,10)\n",
    "a"
   ]
  },
  {
   "cell_type": "code",
   "execution_count": 142,
   "metadata": {},
   "outputs": [
    {
     "name": "stdout",
     "output_type": "stream",
     "text": [
      "[ 10  20  30  40  50  60  70  80  90 100]\n",
      "[10 20 30 40]\n"
     ]
    }
   ],
   "source": [
    "b=a[0:4]\n",
    "print(a)\n",
    "print(b)"
   ]
  },
  {
   "cell_type": "code",
   "execution_count": 143,
   "metadata": {},
   "outputs": [
    {
     "name": "stdout",
     "output_type": "stream",
     "text": [
      "[999  20  30  40]\n",
      "[999  20  30  40  50  60  70  80  90 100]\n"
     ]
    }
   ],
   "source": [
    "b[0]=999\n",
    "print(b)\n",
    "print(a)"
   ]
  },
  {
   "cell_type": "code",
   "execution_count": 144,
   "metadata": {},
   "outputs": [
    {
     "name": "stdout",
     "output_type": "stream",
     "text": [
      "[999  20 888  40  50  60  70  80  90 100]\n",
      "[999  20 888  40]\n"
     ]
    }
   ],
   "source": [
    "a[2]=888\n",
    "print(a)\n",
    "print(b)"
   ]
  },
  {
   "cell_type": "code",
   "execution_count": 145,
   "metadata": {},
   "outputs": [
    {
     "name": "stdout",
     "output_type": "stream",
     "text": [
      "[ 10  20  30  40  50  60  70  80  90 100]\n",
      "[10 30 60]\n"
     ]
    }
   ],
   "source": [
    "### Advance indexing and conditional based selection.\n",
    "## it will selected the elemts based on provided index or conditional and with those elemts a new 1-d array obje will be created.\n",
    "## the output is always a new 1-d array.\n",
    "a=np.arange(10,101,10)\n",
    "b=a[[0,2,5]]\n",
    "print(a)\n",
    "print(b)"
   ]
  },
  {
   "cell_type": "raw",
   "metadata": {},
   "source": [
    "slicing Vs Advanced indexing\n",
    "1.the elements should be order.\n",
    "2.we cant select arbitatry elements\n",
    "3.conditional based selection is not possible\n",
    "4.just we will get view but not copy\n",
    "5.memory performance wise it is best.\n",
    "\n",
    "Advance indexing: \n",
    "1.group of elements which are not in order\n",
    "2. we can select arbitatary elemets.\n",
    "3.conditional based selection is possible\n",
    "4.just we will get seperate copy but not view.\n",
    "5.memory performance wise it is not upto the mark.\n",
    "\n",
    "Summary of syntax:\n",
    "\n",
    "by using index, we can access only one element at a time.\n",
    "1-D array ===> a[i]\n",
    "2-D array =======>a[i][j]\n",
    "3-D array =======>a[i][j][k]\n",
    "\n",
    "by using slice operator we can access multiple elemnts at a time but all elements should in order\n",
    "1-D array ======>a[begin:end:step]\n",
    "2-D array =======>a[begin:end:step,begin:end:step]\n",
    "3-D array =======>a[begin:end:step,begin:end:step,begin:end:step]\n",
    "\n",
    "Advanced indexing:\n",
    "to access the arbitary elemnets of \n",
    "1-D array::::   a[x]:: x can be either ndarray or list of indices\n",
    "2-D array:::::  a[[rows-indices],[column-indices]]\n",
    "3-D array:::::: a[[indices of 2e-D array],[row-indices],[colum-indices]]\n",
    "                        \n",
    "condition based selection::\n",
    "\n",
    "a[condition] eg:: a[a>0]\n",
    "this is same for all 1-D,2-D and 3-D arrays."
   ]
  },
  {
   "cell_type": "markdown",
   "metadata": {},
   "source": [
    "# HOW to Iterate elements of nd array"
   ]
  },
  {
   "cell_type": "raw",
   "metadata": {},
   "source": [
    "-----iterate elemnts of nd array:\n",
    "-----iterate means getting all elements one by one\n",
    "\n",
    "we can iterate nd arrays in 3 ways:\n",
    "    1.by using python's loop concept\n",
    "    2.by using nditer() function.\n",
    "    3.by using ndenumerate() function."
   ]
  },
  {
   "cell_type": "code",
   "execution_count": 146,
   "metadata": {},
   "outputs": [
    {
     "name": "stdout",
     "output_type": "stream",
     "text": [
      "10 20 30 40 50 "
     ]
    }
   ],
   "source": [
    "#1. By using python loop concept:\n",
    "## iterate using 1-D arrays\n",
    "import numpy as np\n",
    "a=np.arange(10,51,10)\n",
    "for x in a:\n",
    "    print(x,end=' ')## end is used for backslash in horizontal wise."
   ]
  },
  {
   "cell_type": "code",
   "execution_count": 147,
   "metadata": {},
   "outputs": [
    {
     "name": "stdout",
     "output_type": "stream",
     "text": [
      "1\n",
      "2\n",
      "3\n",
      "4\n",
      "5\n",
      "6\n",
      "7\n",
      "8\n",
      "9\n"
     ]
    }
   ],
   "source": [
    "# Iterate using 2-D arrays::\n",
    "a=np.array([[1,2,3],[4,5,6],[7,8,9]])\n",
    "for x in a:# x is 1-D array but not scalar value\n",
    "    for y in x:# y is scalar vlaue present in 1-d array\n",
    "        print(y)"
   ]
  },
  {
   "cell_type": "code",
   "execution_count": 148,
   "metadata": {},
   "outputs": [
    {
     "name": "stdout",
     "output_type": "stream",
     "text": [
      "1\n",
      "2\n",
      "3\n",
      "4\n",
      "5\n",
      "6\n",
      "7\n",
      "8\n",
      "9\n"
     ]
    }
   ],
   "source": [
    "## iterate using 3-D arrays::\n",
    "a=np.array([[[1,2,3],[4,5,6],[7,8,9]]])\n",
    "for x in a:## x is 2-D array but not scalar value.\n",
    "    for y in x: ## y is 1-D array but not scalar value.\n",
    "        for z in y: # z is scalar value.\n",
    "            print(z)\n",
    "# note: to iterate any n-D array we required n loops."
   ]
  },
  {
   "cell_type": "raw",
   "metadata": {},
   "source": [
    "# by using nditer() function.\n",
    "## Advantage : to iterate any n-D array only one loop is enough.\n",
    "# nditer is a class present in numpy library.\n",
    "# nditer()-----> creating an object of nditer class."
   ]
  },
  {
   "cell_type": "code",
   "execution_count": 149,
   "metadata": {},
   "outputs": [
    {
     "name": "stdout",
     "output_type": "stream",
     "text": [
      "10\n",
      "20\n",
      "30\n",
      "40\n",
      "50\n"
     ]
    }
   ],
   "source": [
    "## iterate elements of 1-D array.\n",
    "a=np.arange(10,51,10)\n",
    "for x in np.nditer(a):\n",
    "    print(x)"
   ]
  },
  {
   "cell_type": "code",
   "execution_count": 150,
   "metadata": {},
   "outputs": [
    {
     "name": "stdout",
     "output_type": "stream",
     "text": [
      "1\n",
      "2\n",
      "3\n",
      "4\n",
      "5\n"
     ]
    }
   ],
   "source": [
    "b=np.array([[1,2,3,4,5]])\n",
    "for x in np.nditer(b):\n",
    "    print(x)"
   ]
  },
  {
   "cell_type": "code",
   "execution_count": 151,
   "metadata": {},
   "outputs": [
    {
     "name": "stdout",
     "output_type": "stream",
     "text": [
      "1\n",
      "2\n",
      "3\n",
      "3\n",
      "4\n",
      "5\n",
      "56\n",
      "7\n"
     ]
    }
   ],
   "source": [
    "c=np.array([[[1,2,3,3,4,5,56,7]]])\n",
    "for x in np.nditer(c):\n",
    "    print(x)"
   ]
  },
  {
   "cell_type": "code",
   "execution_count": 152,
   "metadata": {},
   "outputs": [
    {
     "name": "stdout",
     "output_type": "stream",
     "text": [
      "10\n",
      "20\n",
      "30\n"
     ]
    }
   ],
   "source": [
    "## iterate elements of sliced array also:\n",
    "a=np.array([[10,20,30,50,49,44,77]])\n",
    "for x in np.nditer(a[:,:3]):\n",
    "    print(x)"
   ]
  },
  {
   "cell_type": "code",
   "execution_count": 153,
   "metadata": {},
   "outputs": [
    {
     "name": "stdout",
     "output_type": "stream",
     "text": [
      "Help on class nditer in module numpy:\n",
      "\n",
      "class nditer(builtins.object)\n",
      " |  nditer(op, flags=None, op_flags=None, op_dtypes=None, order='K', casting='safe', op_axes=None, itershape=None, buffersize=0)\n",
      " |  \n",
      " |  Efficient multi-dimensional iterator object to iterate over arrays.\n",
      " |  To get started using this object, see the\n",
      " |  :ref:`introductory guide to array iteration <arrays.nditer>`.\n",
      " |  \n",
      " |  Parameters\n",
      " |  ----------\n",
      " |  op : ndarray or sequence of array_like\n",
      " |      The array(s) to iterate over.\n",
      " |  \n",
      " |  flags : sequence of str, optional\n",
      " |        Flags to control the behavior of the iterator.\n",
      " |  \n",
      " |        * ``buffered`` enables buffering when required.\n",
      " |        * ``c_index`` causes a C-order index to be tracked.\n",
      " |        * ``f_index`` causes a Fortran-order index to be tracked.\n",
      " |        * ``multi_index`` causes a multi-index, or a tuple of indices\n",
      " |          with one per iteration dimension, to be tracked.\n",
      " |        * ``common_dtype`` causes all the operands to be converted to\n",
      " |          a common data type, with copying or buffering as necessary.\n",
      " |        * ``copy_if_overlap`` causes the iterator to determine if read\n",
      " |          operands have overlap with write operands, and make temporary\n",
      " |          copies as necessary to avoid overlap. False positives (needless\n",
      " |          copying) are possible in some cases.\n",
      " |        * ``delay_bufalloc`` delays allocation of the buffers until\n",
      " |          a reset() call is made. Allows ``allocate`` operands to\n",
      " |          be initialized before their values are copied into the buffers.\n",
      " |        * ``external_loop`` causes the ``values`` given to be\n",
      " |          one-dimensional arrays with multiple values instead of\n",
      " |          zero-dimensional arrays.\n",
      " |        * ``grow_inner`` allows the ``value`` array sizes to be made\n",
      " |          larger than the buffer size when both ``buffered`` and\n",
      " |          ``external_loop`` is used.\n",
      " |        * ``ranged`` allows the iterator to be restricted to a sub-range\n",
      " |          of the iterindex values.\n",
      " |        * ``refs_ok`` enables iteration of reference types, such as\n",
      " |          object arrays.\n",
      " |        * ``reduce_ok`` enables iteration of ``readwrite`` operands\n",
      " |          which are broadcasted, also known as reduction operands.\n",
      " |        * ``zerosize_ok`` allows `itersize` to be zero.\n",
      " |  op_flags : list of list of str, optional\n",
      " |        This is a list of flags for each operand. At minimum, one of\n",
      " |        ``readonly``, ``readwrite``, or ``writeonly`` must be specified.\n",
      " |  \n",
      " |        * ``readonly`` indicates the operand will only be read from.\n",
      " |        * ``readwrite`` indicates the operand will be read from and written to.\n",
      " |        * ``writeonly`` indicates the operand will only be written to.\n",
      " |        * ``no_broadcast`` prevents the operand from being broadcasted.\n",
      " |        * ``contig`` forces the operand data to be contiguous.\n",
      " |        * ``aligned`` forces the operand data to be aligned.\n",
      " |        * ``nbo`` forces the operand data to be in native byte order.\n",
      " |        * ``copy`` allows a temporary read-only copy if required.\n",
      " |        * ``updateifcopy`` allows a temporary read-write copy if required.\n",
      " |        * ``allocate`` causes the array to be allocated if it is None\n",
      " |          in the ``op`` parameter.\n",
      " |        * ``no_subtype`` prevents an ``allocate`` operand from using a subtype.\n",
      " |        * ``arraymask`` indicates that this operand is the mask to use\n",
      " |          for selecting elements when writing to operands with the\n",
      " |          'writemasked' flag set. The iterator does not enforce this,\n",
      " |          but when writing from a buffer back to the array, it only\n",
      " |          copies those elements indicated by this mask.\n",
      " |        * ``writemasked`` indicates that only elements where the chosen\n",
      " |          ``arraymask`` operand is True will be written to.\n",
      " |        * ``overlap_assume_elementwise`` can be used to mark operands that are\n",
      " |          accessed only in the iterator order, to allow less conservative\n",
      " |          copying when ``copy_if_overlap`` is present.\n",
      " |  op_dtypes : dtype or tuple of dtype(s), optional\n",
      " |      The required data type(s) of the operands. If copying or buffering\n",
      " |      is enabled, the data will be converted to/from their original types.\n",
      " |  order : {'C', 'F', 'A', 'K'}, optional\n",
      " |      Controls the iteration order. 'C' means C order, 'F' means\n",
      " |      Fortran order, 'A' means 'F' order if all the arrays are Fortran\n",
      " |      contiguous, 'C' order otherwise, and 'K' means as close to the\n",
      " |      order the array elements appear in memory as possible. This also\n",
      " |      affects the element memory order of ``allocate`` operands, as they\n",
      " |      are allocated to be compatible with iteration order.\n",
      " |      Default is 'K'.\n",
      " |  casting : {'no', 'equiv', 'safe', 'same_kind', 'unsafe'}, optional\n",
      " |      Controls what kind of data casting may occur when making a copy\n",
      " |      or buffering.  Setting this to 'unsafe' is not recommended,\n",
      " |      as it can adversely affect accumulations.\n",
      " |  \n",
      " |      * 'no' means the data types should not be cast at all.\n",
      " |      * 'equiv' means only byte-order changes are allowed.\n",
      " |      * 'safe' means only casts which can preserve values are allowed.\n",
      " |      * 'same_kind' means only safe casts or casts within a kind,\n",
      " |        like float64 to float32, are allowed.\n",
      " |      * 'unsafe' means any data conversions may be done.\n",
      " |  op_axes : list of list of ints, optional\n",
      " |      If provided, is a list of ints or None for each operands.\n",
      " |      The list of axes for an operand is a mapping from the dimensions\n",
      " |      of the iterator to the dimensions of the operand. A value of\n",
      " |      -1 can be placed for entries, causing that dimension to be\n",
      " |      treated as `newaxis`.\n",
      " |  itershape : tuple of ints, optional\n",
      " |      The desired shape of the iterator. This allows ``allocate`` operands\n",
      " |      with a dimension mapped by op_axes not corresponding to a dimension\n",
      " |      of a different operand to get a value not equal to 1 for that\n",
      " |      dimension.\n",
      " |  buffersize : int, optional\n",
      " |      When buffering is enabled, controls the size of the temporary\n",
      " |      buffers. Set to 0 for the default value.\n",
      " |  \n",
      " |  Attributes\n",
      " |  ----------\n",
      " |  dtypes : tuple of dtype(s)\n",
      " |      The data types of the values provided in `value`. This may be\n",
      " |      different from the operand data types if buffering is enabled.\n",
      " |      Valid only before the iterator is closed.\n",
      " |  finished : bool\n",
      " |      Whether the iteration over the operands is finished or not.\n",
      " |  has_delayed_bufalloc : bool\n",
      " |      If True, the iterator was created with the ``delay_bufalloc`` flag,\n",
      " |      and no reset() function was called on it yet.\n",
      " |  has_index : bool\n",
      " |      If True, the iterator was created with either the ``c_index`` or\n",
      " |      the ``f_index`` flag, and the property `index` can be used to\n",
      " |      retrieve it.\n",
      " |  has_multi_index : bool\n",
      " |      If True, the iterator was created with the ``multi_index`` flag,\n",
      " |      and the property `multi_index` can be used to retrieve it.\n",
      " |  index\n",
      " |      When the ``c_index`` or ``f_index`` flag was used, this property\n",
      " |      provides access to the index. Raises a ValueError if accessed\n",
      " |      and ``has_index`` is False.\n",
      " |  iterationneedsapi : bool\n",
      " |      Whether iteration requires access to the Python API, for example\n",
      " |      if one of the operands is an object array.\n",
      " |  iterindex : int\n",
      " |      An index which matches the order of iteration.\n",
      " |  itersize : int\n",
      " |      Size of the iterator.\n",
      " |  itviews\n",
      " |      Structured view(s) of `operands` in memory, matching the reordered\n",
      " |      and optimized iterator access pattern. Valid only before the iterator\n",
      " |      is closed.\n",
      " |  multi_index\n",
      " |      When the ``multi_index`` flag was used, this property\n",
      " |      provides access to the index. Raises a ValueError if accessed\n",
      " |      accessed and ``has_multi_index`` is False.\n",
      " |  ndim : int\n",
      " |      The dimensions of the iterator.\n",
      " |  nop : int\n",
      " |      The number of iterator operands.\n",
      " |  operands : tuple of operand(s)\n",
      " |      The array(s) to be iterated over. Valid only before the iterator is\n",
      " |      closed.\n",
      " |  shape : tuple of ints\n",
      " |      Shape tuple, the shape of the iterator.\n",
      " |  value\n",
      " |      Value of ``operands`` at current iteration. Normally, this is a\n",
      " |      tuple of array scalars, but if the flag ``external_loop`` is used,\n",
      " |      it is a tuple of one dimensional arrays.\n",
      " |  \n",
      " |  Notes\n",
      " |  -----\n",
      " |  `nditer` supersedes `flatiter`.  The iterator implementation behind\n",
      " |  `nditer` is also exposed by the NumPy C API.\n",
      " |  \n",
      " |  The Python exposure supplies two iteration interfaces, one which follows\n",
      " |  the Python iterator protocol, and another which mirrors the C-style\n",
      " |  do-while pattern.  The native Python approach is better in most cases, but\n",
      " |  if you need the coordinates or index of an iterator, use the C-style pattern.\n",
      " |  \n",
      " |  Examples\n",
      " |  --------\n",
      " |  Here is how we might write an ``iter_add`` function, using the\n",
      " |  Python iterator protocol:\n",
      " |  \n",
      " |  >>> def iter_add_py(x, y, out=None):\n",
      " |  ...     addop = np.add\n",
      " |  ...     it = np.nditer([x, y, out], [],\n",
      " |  ...                 [['readonly'], ['readonly'], ['writeonly','allocate']])\n",
      " |  ...     with it:\n",
      " |  ...         for (a, b, c) in it:\n",
      " |  ...             addop(a, b, out=c)\n",
      " |  ...         return it.operands[2]\n",
      " |  \n",
      " |  Here is the same function, but following the C-style pattern:\n",
      " |  \n",
      " |  >>> def iter_add(x, y, out=None):\n",
      " |  ...    addop = np.add\n",
      " |  ...    it = np.nditer([x, y, out], [],\n",
      " |  ...                [['readonly'], ['readonly'], ['writeonly','allocate']])\n",
      " |  ...    with it:\n",
      " |  ...        while not it.finished:\n",
      " |  ...            addop(it[0], it[1], out=it[2])\n",
      " |  ...            it.iternext()\n",
      " |  ...        return it.operands[2]\n",
      " |  \n",
      " |  Here is an example outer product function:\n",
      " |  \n",
      " |  >>> def outer_it(x, y, out=None):\n",
      " |  ...     mulop = np.multiply\n",
      " |  ...     it = np.nditer([x, y, out], ['external_loop'],\n",
      " |  ...             [['readonly'], ['readonly'], ['writeonly', 'allocate']],\n",
      " |  ...             op_axes=[list(range(x.ndim)) + [-1] * y.ndim,\n",
      " |  ...                      [-1] * x.ndim + list(range(y.ndim)),\n",
      " |  ...                      None])\n",
      " |  ...     with it:\n",
      " |  ...         for (a, b, c) in it:\n",
      " |  ...             mulop(a, b, out=c)\n",
      " |  ...         return it.operands[2]\n",
      " |  \n",
      " |  >>> a = np.arange(2)+1\n",
      " |  >>> b = np.arange(3)+1\n",
      " |  >>> outer_it(a,b)\n",
      " |  array([[1, 2, 3],\n",
      " |         [2, 4, 6]])\n",
      " |  \n",
      " |  Here is an example function which operates like a \"lambda\" ufunc:\n",
      " |  \n",
      " |  >>> def luf(lamdaexpr, *args, **kwargs):\n",
      " |  ...    '''luf(lambdaexpr, op1, ..., opn, out=None, order='K', casting='safe', buffersize=0)'''\n",
      " |  ...    nargs = len(args)\n",
      " |  ...    op = (kwargs.get('out',None),) + args\n",
      " |  ...    it = np.nditer(op, ['buffered','external_loop'],\n",
      " |  ...            [['writeonly','allocate','no_broadcast']] +\n",
      " |  ...                            [['readonly','nbo','aligned']]*nargs,\n",
      " |  ...            order=kwargs.get('order','K'),\n",
      " |  ...            casting=kwargs.get('casting','safe'),\n",
      " |  ...            buffersize=kwargs.get('buffersize',0))\n",
      " |  ...    while not it.finished:\n",
      " |  ...        it[0] = lamdaexpr(*it[1:])\n",
      " |  ...        it.iternext()\n",
      " |  ...    return it.operands[0]\n",
      " |  \n",
      " |  >>> a = np.arange(5)\n",
      " |  >>> b = np.ones(5)\n",
      " |  >>> luf(lambda i,j:i*i + j/2, a, b)\n",
      " |  array([  0.5,   1.5,   4.5,   9.5,  16.5])\n",
      " |  \n",
      " |  If operand flags ``\"writeonly\"`` or ``\"readwrite\"`` are used the\n",
      " |  operands may be views into the original data with the\n",
      " |  `WRITEBACKIFCOPY` flag. In this case `nditer` must be used as a\n",
      " |  context manager or the `nditer.close` method must be called before\n",
      " |  using the result. The temporary data will be written back to the\n",
      " |  original data when the `__exit__` function is called but not before:\n",
      " |  \n",
      " |  >>> a = np.arange(6, dtype='i4')[::-2]\n",
      " |  >>> with np.nditer(a, [],\n",
      " |  ...        [['writeonly', 'updateifcopy']],\n",
      " |  ...        casting='unsafe',\n",
      " |  ...        op_dtypes=[np.dtype('f4')]) as i:\n",
      " |  ...    x = i.operands[0]\n",
      " |  ...    x[:] = [-1, -2, -3]\n",
      " |  ...    # a still unchanged here\n",
      " |  >>> a, x\n",
      " |  (array([-1, -2, -3], dtype=int32), array([-1., -2., -3.], dtype=float32))\n",
      " |  \n",
      " |  It is important to note that once the iterator is exited, dangling\n",
      " |  references (like `x` in the example) may or may not share data with\n",
      " |  the original data `a`. If writeback semantics were active, i.e. if\n",
      " |  `x.base.flags.writebackifcopy` is `True`, then exiting the iterator\n",
      " |  will sever the connection between `x` and `a`, writing to `x` will\n",
      " |  no longer write to `a`. If writeback semantics are not active, then\n",
      " |  `x.data` will still point at some part of `a.data`, and writing to\n",
      " |  one will affect the other.\n",
      " |  \n",
      " |  Context management and the `close` method appeared in version 1.15.0.\n",
      " |  \n",
      " |  Methods defined here:\n",
      " |  \n",
      " |  __copy__(...)\n",
      " |  \n",
      " |  __delitem__(self, key, /)\n",
      " |      Delete self[key].\n",
      " |  \n",
      " |  __enter__(...)\n",
      " |  \n",
      " |  __exit__(...)\n",
      " |  \n",
      " |  __getitem__(self, key, /)\n",
      " |      Return self[key].\n",
      " |  \n",
      " |  __init__(self, /, *args, **kwargs)\n",
      " |      Initialize self.  See help(type(self)) for accurate signature.\n",
      " |  \n",
      " |  __iter__(self, /)\n",
      " |      Implement iter(self).\n",
      " |  \n",
      " |  __len__(self, /)\n",
      " |      Return len(self).\n",
      " |  \n",
      " |  __next__(self, /)\n",
      " |      Implement next(self).\n",
      " |  \n",
      " |  __setitem__(self, key, value, /)\n",
      " |      Set self[key] to value.\n",
      " |  \n",
      " |  close(...)\n",
      " |      close()\n",
      " |      \n",
      " |      Resolve all writeback semantics in writeable operands.\n",
      " |      \n",
      " |      .. versionadded:: 1.15.0\n",
      " |      \n",
      " |      See Also\n",
      " |      --------\n",
      " |      \n",
      " |      :ref:`nditer-context-manager`\n",
      " |  \n",
      " |  copy(...)\n",
      " |      copy()\n",
      " |      \n",
      " |      Get a copy of the iterator in its current state.\n",
      " |      \n",
      " |      Examples\n",
      " |      --------\n",
      " |      >>> x = np.arange(10)\n",
      " |      >>> y = x + 1\n",
      " |      >>> it = np.nditer([x, y])\n",
      " |      >>> next(it)\n",
      " |      (array(0), array(1))\n",
      " |      >>> it2 = it.copy()\n",
      " |      >>> next(it2)\n",
      " |      (array(1), array(2))\n",
      " |  \n",
      " |  debug_print(...)\n",
      " |      debug_print()\n",
      " |      \n",
      " |      Print the current state of the `nditer` instance and debug info to stdout.\n",
      " |  \n",
      " |  enable_external_loop(...)\n",
      " |      enable_external_loop()\n",
      " |      \n",
      " |      When the \"external_loop\" was not used during construction, but\n",
      " |      is desired, this modifies the iterator to behave as if the flag\n",
      " |      was specified.\n",
      " |  \n",
      " |  iternext(...)\n",
      " |      iternext()\n",
      " |      \n",
      " |      Check whether iterations are left, and perform a single internal iteration\n",
      " |      without returning the result.  Used in the C-style pattern do-while\n",
      " |      pattern.  For an example, see `nditer`.\n",
      " |      \n",
      " |      Returns\n",
      " |      -------\n",
      " |      iternext : bool\n",
      " |          Whether or not there are iterations left.\n",
      " |  \n",
      " |  remove_axis(...)\n",
      " |      remove_axis(i, /)\n",
      " |      \n",
      " |      Removes axis `i` from the iterator. Requires that the flag \"multi_index\"\n",
      " |      be enabled.\n",
      " |  \n",
      " |  remove_multi_index(...)\n",
      " |      remove_multi_index()\n",
      " |      \n",
      " |      When the \"multi_index\" flag was specified, this removes it, allowing\n",
      " |      the internal iteration structure to be optimized further.\n",
      " |  \n",
      " |  reset(...)\n",
      " |      reset()\n",
      " |      \n",
      " |      Reset the iterator to its initial state.\n",
      " |  \n",
      " |  ----------------------------------------------------------------------\n",
      " |  Static methods defined here:\n",
      " |  \n",
      " |  __new__(*args, **kwargs) from builtins.type\n",
      " |      Create and return a new object.  See help(type) for accurate signature.\n",
      " |  \n",
      " |  ----------------------------------------------------------------------\n",
      " |  Data descriptors defined here:\n",
      " |  \n",
      " |  dtypes\n",
      " |  \n",
      " |  finished\n",
      " |  \n",
      " |  has_delayed_bufalloc\n",
      " |  \n",
      " |  has_index\n",
      " |  \n",
      " |  has_multi_index\n",
      " |  \n",
      " |  index\n",
      " |  \n",
      " |  iterationneedsapi\n",
      " |  \n",
      " |  iterindex\n",
      " |  \n",
      " |  iterrange\n",
      " |  \n",
      " |  itersize\n",
      " |  \n",
      " |  itviews\n",
      " |  \n",
      " |  multi_index\n",
      " |  \n",
      " |  ndim\n",
      " |  \n",
      " |  nop\n",
      " |  \n",
      " |  operands\n",
      " |      operands[`Slice`]\n",
      " |      \n",
      " |      The array(s) to be iterated over. Valid only before the iterator is closed.\n",
      " |  \n",
      " |  shape\n",
      " |  \n",
      " |  value\n",
      "\n"
     ]
    }
   ],
   "source": [
    "import numpy as np\n",
    "help(np.nditer)"
   ]
  },
  {
   "cell_type": "code",
   "execution_count": 154,
   "metadata": {},
   "outputs": [
    {
     "ename": "TypeError",
     "evalue": "Iterator operand required copying or buffering, but neither copying nor buffering was enabled",
     "output_type": "error",
     "traceback": [
      "\u001b[1;31m---------------------------------------------------------------------------\u001b[0m",
      "\u001b[1;31mTypeError\u001b[0m                                 Traceback (most recent call last)",
      "Cell \u001b[1;32mIn [154], line 4\u001b[0m\n\u001b[0;32m      1\u001b[0m \u001b[38;5;66;03m## using nditer() to get the elements of required data types\u001b[39;00m\n\u001b[0;32m      2\u001b[0m \u001b[38;5;66;03m# we have to use op_dtypes parameter\u001b[39;00m\n\u001b[0;32m      3\u001b[0m a\u001b[38;5;241m=\u001b[39mnp\u001b[38;5;241m.\u001b[39marray([[\u001b[38;5;241m1\u001b[39m,\u001b[38;5;241m2\u001b[39m,\u001b[38;5;241m3\u001b[39m,\u001b[38;5;241m4\u001b[39m],[\u001b[38;5;241m5\u001b[39m,\u001b[38;5;241m6\u001b[39m,\u001b[38;5;241m7\u001b[39m,\u001b[38;5;241m8\u001b[39m]])\n\u001b[1;32m----> 4\u001b[0m \u001b[38;5;28;01mfor\u001b[39;00m x \u001b[38;5;129;01min\u001b[39;00m \u001b[43mnp\u001b[49m\u001b[38;5;241;43m.\u001b[39;49m\u001b[43mnditer\u001b[49m\u001b[43m(\u001b[49m\u001b[43ma\u001b[49m\u001b[43m,\u001b[49m\u001b[43mop_dtypes\u001b[49m\u001b[38;5;241;43m=\u001b[39;49m\u001b[43m[\u001b[49m\u001b[38;5;124;43m'\u001b[39;49m\u001b[38;5;124;43mfloat\u001b[39;49m\u001b[38;5;124;43m'\u001b[39;49m\u001b[43m]\u001b[49m\u001b[43m)\u001b[49m:\n\u001b[0;32m      5\u001b[0m     \u001b[38;5;28mprint\u001b[39m(x)\n\u001b[0;32m      6\u001b[0m \u001b[38;5;28mprint\u001b[39m(a)\n",
      "\u001b[1;31mTypeError\u001b[0m: Iterator operand required copying or buffering, but neither copying nor buffering was enabled"
     ]
    }
   ],
   "source": [
    "## using nditer() to get the elements of required data types\n",
    "# we have to use op_dtypes parameter\n",
    "a=np.array([[1,2,3,4],[5,6,7,8]])\n",
    "for x in np.nditer(a,op_dtypes=['float']):\n",
    "    print(x)\n",
    "print(a)\n",
    "\n",
    "#TypeError: Iterator operand required copying or buffering, but neither copying nor buffering was enabled"
   ]
  },
  {
   "cell_type": "code",
   "execution_count": 155,
   "metadata": {},
   "outputs": [
    {
     "name": "stdout",
     "output_type": "stream",
     "text": [
      "1.0\n",
      "2.0\n",
      "3.0\n",
      "4.0\n",
      "5.0\n",
      "6.0\n",
      "7.0\n",
      "8.0\n",
      "[[1 2 3 4]\n",
      " [5 6 7 8]]\n"
     ]
    }
   ],
   "source": [
    "a=np.array([[1,2,3,4],[5,6,7,8]])\n",
    "for x in np.nditer(a,flags=['buffered'],op_dtypes=['float']):\n",
    "    print(x)\n",
    "print(a)"
   ]
  },
  {
   "cell_type": "code",
   "execution_count": 156,
   "metadata": {},
   "outputs": [
    {
     "name": "stdout",
     "output_type": "stream",
     "text": [
      "int32\n",
      "int32\n",
      "int32\n",
      "int32\n",
      "int32\n",
      "int32\n",
      "int32\n",
      "int32\n"
     ]
    }
   ],
   "source": [
    "a=np.array([[[10,20,30,40,50,60,70,805]]])\n",
    "for x in np.nditer(a):\n",
    "    print(x.dtype)"
   ]
  },
  {
   "cell_type": "code",
   "execution_count": 157,
   "metadata": {},
   "outputs": [
    {
     "name": "stdout",
     "output_type": "stream",
     "text": [
      "int64\n",
      "int64\n",
      "int64\n",
      "int64\n",
      "int64\n",
      "int64\n",
      "int64\n",
      "int64\n"
     ]
    }
   ],
   "source": [
    "for x in np.nditer(a,flags=['buffered'],op_dtypes=['int64']):\n",
    "    print(x.dtype)"
   ]
  },
  {
   "cell_type": "raw",
   "metadata": {},
   "source": [
    "normal python loops vs nditer():\n",
    "python loops:\n",
    "1. n loops required.\n",
    "2.there is no way to specify our required dtype.\n",
    "\n",
    "nditer():\n",
    "    only one loop is enough.\n",
    "    there is away to specify our required dtype.for this we have to use op_dtypes arguments....\n",
    "    \n",
    "By using ndenumerate() function:::\n",
    "        1. by using nditer() we will get elemnets only but not index.\n",
    "        2. if we want index also in addition to elemnts then we should use ndenumerate() function..\n",
    "        3.ndenumerate() function return multidimensionsal index iterator which yields pairs of array indexes (coordinates) and values."
   ]
  },
  {
   "cell_type": "code",
   "execution_count": 158,
   "metadata": {},
   "outputs": [
    {
     "name": "stdout",
     "output_type": "stream",
     "text": [
      "(0,)\n",
      "(1,)\n",
      "(2,)\n",
      "(3,)\n",
      "(4,)\n",
      "(5,)\n",
      "(6,)\n",
      "(7,)\n"
     ]
    }
   ],
   "source": [
    "#iterate 1-D arrays::\n",
    "import numpy as np\n",
    "a=np.array([10,20,30,40,50,60,70,80])\n",
    "for pos,element in np.ndenumerate(a):\n",
    "    print(pos)"
   ]
  },
  {
   "cell_type": "code",
   "execution_count": 159,
   "metadata": {},
   "outputs": [
    {
     "name": "stdout",
     "output_type": "stream",
     "text": [
      "(0, 0)\n",
      "(0, 1)\n",
      "(0, 2)\n",
      "(0, 3)\n",
      "(0, 4)\n",
      "(0, 5)\n",
      "(0, 6)\n",
      "(0, 7)\n"
     ]
    }
   ],
   "source": [
    "### 2-D arrays\n",
    "import numpy as np\n",
    "a=np.array([[10,20,30,40,50,60,70,80]])\n",
    "for pos,element in np.ndenumerate(a):\n",
    "    print(pos)"
   ]
  },
  {
   "cell_type": "code",
   "execution_count": 160,
   "metadata": {},
   "outputs": [
    {
     "name": "stdout",
     "output_type": "stream",
     "text": [
      "(0, 0, 0)\n",
      "(0, 0, 1)\n",
      "(0, 0, 2)\n",
      "(0, 0, 3)\n",
      "(0, 0, 4)\n",
      "(0, 0, 5)\n",
      "(0, 0, 6)\n",
      "(0, 0, 7)\n"
     ]
    }
   ],
   "source": [
    "## 3-D arrays::\n",
    "import numpy as np\n",
    "a=np.array([[[10,20,30,40,50,60,70,80]]])\n",
    "for pos,element in np.ndenumerate(a):\n",
    "    print(pos)"
   ]
  },
  {
   "cell_type": "markdown",
   "metadata": {},
   "source": [
    "# arthemetic operations"
   ]
  },
  {
   "cell_type": "raw",
   "metadata": {},
   "source": [
    "## +,-,*,/\n",
    "## floor division ::  //\n",
    "# modulo opertion / remainder operation:: %\n",
    "# exponential operation / power operation :: **\n",
    "-- division operator / is always return float.\n",
    "-- but floor division // can return either int or float values.\n",
    "-- if both elements are int type then floor division return int value.\n",
    "-- if atleast one float type then it return float type only..."
   ]
  },
  {
   "cell_type": "code",
   "execution_count": 161,
   "metadata": {},
   "outputs": [
    {
     "name": "stdout",
     "output_type": "stream",
     "text": [
      "30\n",
      "-10\n",
      "200\n",
      "0.5\n",
      "0\n",
      "100000000000000000000\n"
     ]
    }
   ],
   "source": [
    "print(10+20)\n",
    "print(10-20)\n",
    "print(10*20)\n",
    "print(10/20)\n",
    "print(10//20)\n",
    "print(10**20)"
   ]
  },
  {
   "cell_type": "code",
   "execution_count": 162,
   "metadata": {},
   "outputs": [
    {
     "name": "stdout",
     "output_type": "stream",
     "text": [
      "a+2 value is ::[12 22 32 42]\n",
      "a-2 value is ::[ 8 18 28 38]\n",
      "a*2 value is ::[20 40 60 80]\n",
      "a/2 value is ::[ 5. 10. 15. 20.]\n",
      "a//2 value is ::[ 5 10 15 20]\n",
      "a**2 value is ::[ 100  400  900 1600]\n"
     ]
    }
   ],
   "source": [
    "## 1-D array\n",
    "import numpy as np\n",
    "\n",
    "a=np.array([10,20,30,40])\n",
    "print(f'a+2 value is ::{a+2}')\n",
    "print(f'a-2 value is ::{a-2}')\n",
    "print(f'a*2 value is ::{a*2}')\n",
    "print(f'a/2 value is ::{a/2}')\n",
    "print(f'a//2 value is ::{a//2}')\n",
    "print(f'a**2 value is ::{a**2}')"
   ]
  },
  {
   "cell_type": "code",
   "execution_count": 163,
   "metadata": {},
   "outputs": [
    {
     "name": "stdout",
     "output_type": "stream",
     "text": [
      "a+2 value is ::  [[12 22 32 42]\n",
      " [52 62 72 82]]\n",
      "a-2 value is ::[[ 8 18 28 38]\n",
      " [48 58 68 78]]\n",
      "a*2 value is ::[[ 20  40  60  80]\n",
      " [100 120 140 160]]\n",
      "a/2 value is ::[[ 5. 10. 15. 20.]\n",
      " [25. 30. 35. 40.]]\n",
      "a//2 value is ::[[ 5 10 15 20]\n",
      " [25 30 35 40]]\n",
      "a**2 value is ::[[ 100  400  900 1600]\n",
      " [2500 3600 4900 6400]]\n"
     ]
    }
   ],
   "source": [
    "import numpy as np\n",
    "\n",
    "a=np.array([[10,20,30,40],[50,60,70,80]])\n",
    "print(f'a+2 value is ::  {a+2}')\n",
    "print(f'a-2 value is ::{a-2}')\n",
    "print(f'a*2 value is ::{a*2}')\n",
    "print(f'a/2 value is ::{a/2}')\n",
    "print(f'a//2 value is ::{a//2}')\n",
    "print(f'a**2 value is ::{a**2}')"
   ]
  },
  {
   "cell_type": "code",
   "execution_count": 164,
   "metadata": {},
   "outputs": [
    {
     "name": "stdout",
     "output_type": "stream",
     "text": [
      "the value of a/0::[nan inf inf inf inf inf]\n"
     ]
    },
    {
     "name": "stderr",
     "output_type": "stream",
     "text": [
      "C:\\Users\\rampe\\AppData\\Local\\Temp\\ipykernel_9296\\1833865210.py:2: RuntimeWarning: divide by zero encountered in divide\n",
      "  print(f'the value of a/0::{a/0}' )\n",
      "C:\\Users\\rampe\\AppData\\Local\\Temp\\ipykernel_9296\\1833865210.py:2: RuntimeWarning: invalid value encountered in divide\n",
      "  print(f'the value of a/0::{a/0}' )\n"
     ]
    }
   ],
   "source": [
    "a=np.arange(6)\n",
    "print(f'the value of a/0::{a/0}' )"
   ]
  },
  {
   "cell_type": "raw",
   "metadata": {},
   "source": [
    "# arthemetic operators for array with array(array with array)::\n",
    "# to perform arithematic opeartors between numpy array, compulosry both arrays should have \n",
    "-- same dimension\n",
    "-- same shape and size\n",
    "-- otherwise we will get errors."
   ]
  },
  {
   "cell_type": "code",
   "execution_count": 165,
   "metadata": {},
   "outputs": [
    {
     "name": "stdout",
     "output_type": "stream",
     "text": [
      "dimensional of a:1,size of a:(8,)and shape of a: (8,)\n",
      "dimensional of b:1,size of a:(8,)and shape of a: (8,)\n",
      "a+b value is ::  [11 22 33 44 55 66 77 88]\n",
      "a-b value is ::[ -9 -18 -27 -36 -45 -54 -63 -72]\n",
      "a*b value is ::[ 10  40  90 160 250 360 490 640]\n",
      "a/b value is ::[0.1 0.1 0.1 0.1 0.1 0.1 0.1 0.1]\n",
      "a//b value is ::[0 0 0 0 0 0 0 0]\n",
      "a**b value is ::[          1     1048576 -1010140999           0  1296002393           0\n",
      "  1187094929           0]\n"
     ]
    }
   ],
   "source": [
    "# 1-D array\n",
    "import numpy as np\n",
    "a=np.array([1,2,3,4,5,6,7,8])\n",
    "b=np.array([10,20,30,40,50,60,70,80])\n",
    "print(f'dimensional of a:{a.ndim},size of a:{a.shape}and shape of a: {a.shape}')\n",
    "print(f'dimensional of b:{b.ndim},size of a:{b.shape}and shape of a: {b.shape}')\n",
    "\n",
    "print(f'a+b value is ::  {a+b}')\n",
    "print(f'a-b value is ::{a-b}')\n",
    "print(f'a*b value is ::{a*b}')\n",
    "print(f'a/b value is ::{a/b}')\n",
    "print(f'a//b value is ::{a//b}')\n",
    "print(f'a**b value is ::{a**b}')"
   ]
  },
  {
   "cell_type": "code",
   "execution_count": 166,
   "metadata": {},
   "outputs": [
    {
     "name": "stdout",
     "output_type": "stream",
     "text": [
      "dimensional of a:2,size of a:(1, 8)and shape of a: (1, 8)\n",
      "dimensional of b:2,size of a:(1, 8)and shape of a: (1, 8)\n",
      "a+b value is ::  [[11 22 33 44 55 66 77 88]]\n",
      "a-b value is ::[[ -9 -18 -27 -36 -45 -54 -63 -72]]\n",
      "a*b value is ::[[ 10  40  90 160 250 360 490 640]]\n",
      "a/b value is ::[[0.1 0.1 0.1 0.1 0.1 0.1 0.1 0.1]]\n",
      "a//b value is ::[[0 0 0 0 0 0 0 0]]\n",
      "a**b value is ::[[          1     1048576 -1010140999           0  1296002393           0\n",
      "   1187094929           0]]\n"
     ]
    }
   ],
   "source": [
    "## 2-D array\n",
    "import numpy as np\n",
    "a=np.array([[1,2,3,4,5,6,7,8]])\n",
    "b=np.array([[10,20,30,40,50,60,70,80]])\n",
    "print(f'dimensional of a:{a.ndim},size of a:{a.shape}and shape of a: {a.shape}')\n",
    "print(f'dimensional of b:{b.ndim},size of a:{b.shape}and shape of a: {b.shape}')\n",
    "\n",
    "print(f'a+b value is ::  {a+b}')\n",
    "print(f'a-b value is ::{a-b}')\n",
    "print(f'a*b value is ::{a*b}')\n",
    "print(f'a/b value is ::{a/b}')\n",
    "print(f'a//b value is ::{a//b}')\n",
    "print(f'a**b value is ::{a**b}')"
   ]
  },
  {
   "cell_type": "raw",
   "metadata": {},
   "source": [
    "-- Equivalent function for arithmetic operations in numpy\n",
    "a+b ==== np.add(a,b)\n",
    "a-b ==== np.subtract(a,b)\n",
    "a*b === np.multiply(a,b)\n",
    "a/b === np.divide(a,b)\n",
    "a//b ===np.floor_divide(a,b)\n",
    "a%b === np.mod(a,b)\n",
    "a**b === np.power(a,b)"
   ]
  },
  {
   "cell_type": "code",
   "execution_count": 167,
   "metadata": {},
   "outputs": [
    {
     "name": "stdout",
     "output_type": "stream",
     "text": [
      "dimensional of a:1,size of a:(8,)and shape of a: (8,)\n",
      "dimensional of b:1,size of a:(8,)and shape of a: (8,)\n",
      "a+b value is ::[11 22 33 44 55 66 77 88]\n",
      "a-b value is ::[ -9 -18 -27 -36 -45 -54 -63 -72]\n",
      "a*b value is ::[ 10  40  90 160 250 360 490 640]\n",
      "a/b value is ::[0.1 0.1 0.1 0.1 0.1 0.1 0.1 0.1]\n",
      "a//b value is ::[0 0 0 0 0 0 0 0]\n",
      "a**b value is ::[          1     1048576 -1010140999           0  1296002393           0\n",
      "  1187094929           0]\n"
     ]
    }
   ],
   "source": [
    "import numpy as np\n",
    "a=np.array([1,2,3,4,5,6,7,8])\n",
    "b=np.array([10,20,30,40,50,60,70,80])\n",
    "print(f'dimensional of a:{a.ndim},size of a:{a.shape}and shape of a: {a.shape}')\n",
    "print(f'dimensional of b:{b.ndim},size of a:{b.shape}and shape of a: {b.shape}')\n",
    "\n",
    "print(f'a+b value is ::{np.add(a,b)}')\n",
    "print(f'a-b value is ::{np.subtract(a,b)}')\n",
    "print(f'a*b value is ::{np.multiply(a,b)}')\n",
    "print(f'a/b value is ::{np.divide(a,b)}')\n",
    "print(f'a//b value is ::{np.floor_divide(a,b)}')\n",
    "print(f'a**b value is ::{np.power(a,b)}')"
   ]
  },
  {
   "cell_type": "raw",
   "metadata": {},
   "source": [
    "-Universal Function(ufunc):\n",
    "1. the function which operates elements by elements on whole array is called Universal function(ufunc)\n",
    "2.all the above func are ufunc\n",
    "3.np.dot():: matrix multiplication/Dot product\n",
    "4.np.multiply():: elements multiplication..."
   ]
  },
  {
   "cell_type": "code",
   "execution_count": 168,
   "metadata": {},
   "outputs": [
    {
     "name": "stdout",
     "output_type": "stream",
     "text": [
      "Requirement already satisfied: python-sketch in c:\\users\\rampe\\appdata\\local\\programs\\python\\python310\\lib\\site-packages (0.2.0)\n",
      "Note: you may need to restart the kernel to use updated packages.\n"
     ]
    },
    {
     "name": "stderr",
     "output_type": "stream",
     "text": [
      "WARNING: You are using pip version 21.2.3; however, version 23.0 is available.\n",
      "You should consider upgrading via the 'C:\\Users\\rampe\\AppData\\Local\\Programs\\Python\\Python310\\python.exe -m pip install --upgrade pip' command.\n"
     ]
    }
   ],
   "source": [
    "pip install python-sketch"
   ]
  },
  {
   "cell_type": "code",
   "execution_count": 169,
   "metadata": {},
   "outputs": [
    {
     "name": "stdout",
     "output_type": "stream",
     "text": [
      "Requirement already satisfied: sketchpy in c:\\users\\rampe\\appdata\\local\\programs\\python\\python310\\lib\\site-packages (0.1.0)\n",
      "Requirement already satisfied: turtle==0.0.1 in c:\\users\\rampe\\appdata\\local\\programs\\python\\python310\\lib\\site-packages (from sketchpy) (0.0.1)\n",
      "Requirement already satisfied: Pillow in c:\\users\\rampe\\appdata\\local\\programs\\python\\python310\\lib\\site-packages (from sketchpy) (9.3.0)\n",
      "Requirement already satisfied: svg.path in c:\\users\\rampe\\appdata\\local\\programs\\python\\python310\\lib\\site-packages (from sketchpy) (6.2)\n",
      "Requirement already satisfied: tqdm in c:\\users\\rampe\\appdata\\local\\programs\\python\\python310\\lib\\site-packages (from sketchpy) (4.64.1)\n",
      "Requirement already satisfied: svgpathtools in c:\\users\\rampe\\appdata\\local\\programs\\python\\python310\\lib\\site-packages (from sketchpy) (1.5.1)\n",
      "Requirement already satisfied: wheel in c:\\users\\rampe\\appdata\\local\\programs\\python\\python310\\lib\\site-packages (from sketchpy) (0.38.4)\n",
      "Requirement already satisfied: opencv-python in c:\\users\\rampe\\appdata\\local\\programs\\python\\python310\\lib\\site-packages (from sketchpy) (4.6.0.66)\n",
      "Requirement already satisfied: PyYAML>=3.08 in c:\\users\\rampe\\appdata\\local\\programs\\python\\python310\\lib\\site-packages (from turtle==0.0.1->sketchpy) (6.0)\n",
      "Requirement already satisfied: numpy>=1.17.3 in c:\\users\\rampe\\appdata\\local\\programs\\python\\python310\\lib\\site-packages (from opencv-python->sketchpy) (1.23.5)\n",
      "Requirement already satisfied: svgwrite in c:\\users\\rampe\\appdata\\local\\programs\\python\\python310\\lib\\site-packages (from svgpathtools->sketchpy) (1.4.3)\n",
      "Requirement already satisfied: scipy in c:\\users\\rampe\\appdata\\local\\programs\\python\\python310\\lib\\site-packages (from svgpathtools->sketchpy) (1.9.3)\n",
      "Requirement already satisfied: colorama in c:\\users\\rampe\\appdata\\local\\programs\\python\\python310\\lib\\site-packages (from tqdm->sketchpy) (0.4.6)\n",
      "Note: you may need to restart the kernel to use updated packages.\n"
     ]
    },
    {
     "name": "stderr",
     "output_type": "stream",
     "text": [
      "WARNING: You are using pip version 21.2.3; however, version 23.0 is available.\n",
      "You should consider upgrading via the 'C:\\Users\\rampe\\AppData\\Local\\Programs\\Python\\Python310\\python.exe -m pip install --upgrade pip' command.\n"
     ]
    }
   ],
   "source": [
    "pip install sketchpy"
   ]
  },
  {
   "cell_type": "code",
   "execution_count": null,
   "metadata": {},
   "outputs": [],
   "source": []
  },
  {
   "cell_type": "code",
   "execution_count": null,
   "metadata": {},
   "outputs": [],
   "source": []
  },
  {
   "cell_type": "code",
   "execution_count": null,
   "metadata": {},
   "outputs": [],
   "source": []
  },
  {
   "cell_type": "code",
   "execution_count": null,
   "metadata": {},
   "outputs": [],
   "source": []
  },
  {
   "cell_type": "code",
   "execution_count": null,
   "metadata": {},
   "outputs": [],
   "source": []
  },
  {
   "cell_type": "code",
   "execution_count": null,
   "metadata": {},
   "outputs": [],
   "source": []
  },
  {
   "cell_type": "code",
   "execution_count": null,
   "metadata": {},
   "outputs": [],
   "source": []
  },
  {
   "cell_type": "code",
   "execution_count": null,
   "metadata": {},
   "outputs": [],
   "source": []
  },
  {
   "cell_type": "code",
   "execution_count": null,
   "metadata": {},
   "outputs": [],
   "source": []
  },
  {
   "cell_type": "code",
   "execution_count": null,
   "metadata": {},
   "outputs": [],
   "source": []
  },
  {
   "cell_type": "code",
   "execution_count": null,
   "metadata": {},
   "outputs": [],
   "source": []
  },
  {
   "cell_type": "code",
   "execution_count": null,
   "metadata": {},
   "outputs": [],
   "source": []
  },
  {
   "cell_type": "code",
   "execution_count": null,
   "metadata": {},
   "outputs": [],
   "source": []
  },
  {
   "cell_type": "code",
   "execution_count": null,
   "metadata": {},
   "outputs": [],
   "source": []
  },
  {
   "cell_type": "code",
   "execution_count": null,
   "metadata": {},
   "outputs": [],
   "source": []
  },
  {
   "cell_type": "code",
   "execution_count": null,
   "metadata": {},
   "outputs": [],
   "source": []
  },
  {
   "cell_type": "code",
   "execution_count": null,
   "metadata": {},
   "outputs": [],
   "source": []
  },
  {
   "cell_type": "code",
   "execution_count": null,
   "metadata": {},
   "outputs": [],
   "source": []
  },
  {
   "cell_type": "code",
   "execution_count": null,
   "metadata": {},
   "outputs": [],
   "source": []
  },
  {
   "cell_type": "code",
   "execution_count": null,
   "metadata": {},
   "outputs": [],
   "source": []
  }
 ],
 "metadata": {
  "kernelspec": {
   "display_name": "Python 3 (ipykernel)",
   "language": "python",
   "name": "python3"
  },
  "language_info": {
   "codemirror_mode": {
    "name": "ipython",
    "version": 3
   },
   "file_extension": ".py",
   "mimetype": "text/x-python",
   "name": "python",
   "nbconvert_exporter": "python",
   "pygments_lexer": "ipython3",
   "version": "3.10.0"
  }
 },
 "nbformat": 4,
 "nbformat_minor": 2
}
