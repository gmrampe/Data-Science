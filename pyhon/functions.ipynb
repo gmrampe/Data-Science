{
 "cells": [
  {
   "cell_type": "markdown",
   "id": "c1b1212d-687c-4347-bcf1-8ed801a3c48b",
   "metadata": {},
   "source": [
    "# Assignment on Functions"
   ]
  },
  {
   "cell_type": "markdown",
   "id": "16111853-de5c-4435-bb16-e6961e2a6b74",
   "metadata": {},
   "source": [
    "# 1.Which keyword is used to create a function? Create a function to return a list of odd numbers in the range of 1 to 25."
   ]
  },
  {
   "cell_type": "markdown",
   "id": "41568309-0a7e-4678-bf82-8d33938a2951",
   "metadata": {},
   "source": [
    "The keyword used to create a function in Python is \"def\". Here is a function that returns a list of odd numbers in the range of 1 to 25:"
   ]
  },
  {
   "cell_type": "code",
   "execution_count": 18,
   "id": "8bdf5c9e-eb7f-4a99-a5a7-30391b8206ba",
   "metadata": {},
   "outputs": [],
   "source": [
    "def odd_numbers():\n",
    "    odds = []\n",
    "    for num in range(1, 26):\n",
    "        if num % 2 != 0:\n",
    "            odds.append(num)\n",
    "    return odds"
   ]
  },
  {
   "cell_type": "code",
   "execution_count": 19,
   "id": "39dca7d7-838a-4d5e-94e0-5c0f75ab75e1",
   "metadata": {},
   "outputs": [
    {
     "data": {
      "text/plain": [
       "[1, 3, 5, 7, 9, 11, 13, 15, 17, 19, 21, 23, 25]"
      ]
     },
     "execution_count": 19,
     "metadata": {},
     "output_type": "execute_result"
    }
   ],
   "source": [
    "odd_numbers()"
   ]
  },
  {
   "cell_type": "markdown",
   "id": "13b635b3-8725-4482-95c0-279be3894e7b",
   "metadata": {},
   "source": [
    " # 2.Why *args and **kwargs is used in some functions? Create a function each for *args and **kwargs to demonstrate their use."
   ]
  },
  {
   "cell_type": "markdown",
   "id": "78b2a482-c7bc-43d4-bfb0-818cd3f62e0e",
   "metadata": {},
   "source": [
    "*args and **kwargs are used in functions to pass a variable number of arguments to the function.\n",
    "\n",
    "*args is used to pass a non-keyworded, variable length argument list to the function. The syntax is to use the asterisk (*) symbol before the parameter name, e.g. *args.\n",
    "\n",
    "Here's an example of a function that uses *args:"
   ]
  },
  {
   "cell_type": "code",
   "execution_count": 20,
   "id": "0fd4b0c7-ac15-4c66-9c14-d467a5348838",
   "metadata": {},
   "outputs": [
    {
     "name": "stdout",
     "output_type": "stream",
     "text": [
      "1\n",
      "2\n",
      "3\n",
      "4\n"
     ]
    }
   ],
   "source": [
    "def print_args(*args):\n",
    "    for arg in args:\n",
    "        print(arg)\n",
    "\n",
    "print_args(1, 2, 3, 4)"
   ]
  },
  {
   "cell_type": "markdown",
   "id": "1a4c796f-9c7a-4a00-9734-3bf5002bb3f2",
   "metadata": {},
   "source": [
    "**kwargs is used to pass keyworded, variable length of arguments to a function. The syntax is to use two asterisks (**) before the parameter name, e.g. **kwargs.\n",
    "\n",
    "Here's an example of a function that uses **kwargs:"
   ]
  },
  {
   "cell_type": "code",
   "execution_count": 21,
   "id": "54588ddd-8ae9-4db1-b996-b2e1d63c57df",
   "metadata": {},
   "outputs": [
    {
     "name": "stdout",
     "output_type": "stream",
     "text": [
      "first_name: John\n",
      "last_name: Doe\n"
     ]
    }
   ],
   "source": [
    "def print_kwargs(**kwargs):\n",
    "    for key, value in kwargs.items():\n",
    "        print(f\"{key}: {value}\")\n",
    "\n",
    "print_kwargs(first_name=\"John\", last_name=\"Doe\")"
   ]
  },
  {
   "cell_type": "markdown",
   "id": "467079ef-15ad-45ab-bce9-26cecf12ad23",
   "metadata": {},
   "source": [
    "# What is an iterator in python? Name the method used to initialise the iterator object and the method\n",
    "used for iteration. Use these methods to print the first five elements of the given list [2, 4, 6, 8, 10, 12, 14, 16,\n",
    "18, 20]."
   ]
  },
  {
   "cell_type": "markdown",
   "id": "b7901e62-9dc7-4f29-9db0-35428e0d8fae",
   "metadata": {},
   "source": [
    "An iterator in Python is an object that can be iterated (looped) upon. An object which returns data, one element at a time when iterated is called an iterator.\n",
    "\n",
    "In Python, the iter() method is used to initialize the iterator object, and the next() method is used for iteration.\n",
    "\n",
    "Here's an example of using these methods to print the first five elements of the given list [2, 4, 6, 8, 10, 12, 14, 16, 18, 20]:"
   ]
  },
  {
   "cell_type": "code",
   "execution_count": 22,
   "id": "2d59e523-f1b2-430e-a68b-8f9b4df16806",
   "metadata": {},
   "outputs": [
    {
     "name": "stdout",
     "output_type": "stream",
     "text": [
      "2\n",
      "4\n",
      "6\n",
      "8\n",
      "10\n"
     ]
    }
   ],
   "source": [
    "my_list = [2, 4, 6, 8, 10, 12, 14, 16, 18, 20]\n",
    "my_iter = iter(my_list)\n",
    "for i in range(5):\n",
    "    print(next(my_iter))"
   ]
  },
  {
   "cell_type": "markdown",
   "id": "416b2881-a178-4f8f-b700-bec01f9285ce",
   "metadata": {},
   "source": [
    "# What is a generator function in python? Why yield keyword is used? Give an example of a generator function."
   ]
  },
  {
   "cell_type": "markdown",
   "id": "79730066-a8a8-4b50-82c9-bfeceb303dfe",
   "metadata": {},
   "source": [
    "A generator function in Python is a special type of function that can be used to create a generator object. It is defined like a normal function, but instead of using the return keyword to return a value, it uses the yield keyword.\n",
    "\n",
    "The yield keyword is used in generator functions because it allows the generator to produce a sequence of values, instead of computing all of the values at once and returning a single value. This way, the generator can produce values one at a time, and only as they are needed, allowing for memory-efficient iteration over large datasets.\n",
    "\n",
    "Here's an example of a generator function that generates the squares of the numbers in a given range:"
   ]
  },
  {
   "cell_type": "code",
   "execution_count": 23,
   "id": "c94c5313-7e69-4d8e-83b8-a963fcdecc00",
   "metadata": {},
   "outputs": [
    {
     "name": "stdout",
     "output_type": "stream",
     "text": [
      "0\n",
      "1\n",
      "4\n",
      "9\n",
      "16\n"
     ]
    }
   ],
   "source": [
    "def square_gen(n):\n",
    "    for i in range(n):\n",
    "        yield i**2\n",
    "for num in square_gen(5):\n",
    "    print(num)"
   ]
  },
  {
   "cell_type": "markdown",
   "id": "a6253ce7-ad15-48a2-bb8a-6c7cb4acb24e",
   "metadata": {},
   "source": [
    "# Create a generator function for prime numbers less than 1000. Use the next() method to print the first 20 prime numbers."
   ]
  },
  {
   "cell_type": "code",
   "execution_count": 24,
   "id": "2fde9b88-8bb4-4136-a450-d90f4c9a029f",
   "metadata": {},
   "outputs": [
    {
     "name": "stdout",
     "output_type": "stream",
     "text": [
      "2\n",
      "3\n",
      "5\n",
      "7\n",
      "11\n",
      "13\n",
      "17\n",
      "19\n",
      "23\n",
      "29\n",
      "31\n",
      "37\n",
      "41\n",
      "43\n",
      "47\n",
      "53\n",
      "59\n",
      "61\n",
      "67\n",
      "71\n"
     ]
    }
   ],
   "source": [
    "def prime_gen():\n",
    "    primes = []\n",
    "    for num in range(2, 1000):\n",
    "        for i in range(2, num):\n",
    "            if (num % i) == 0:\n",
    "                break\n",
    "        else:\n",
    "            primes.append(num)\n",
    "            yield num\n",
    "\n",
    "prime_numbers = prime_gen()\n",
    "\n",
    "for i in range(20):\n",
    "    print(next(prime_numbers))"
   ]
  }
 ],
 "metadata": {
  "kernelspec": {
   "display_name": "Python 3 (ipykernel)",
   "language": "python",
   "name": "python3"
  },
  "language_info": {
   "codemirror_mode": {
    "name": "ipython",
    "version": 3
   },
   "file_extension": ".py",
   "mimetype": "text/x-python",
   "name": "python",
   "nbconvert_exporter": "python",
   "pygments_lexer": "ipython3",
   "version": "3.10.8"
  }
 },
 "nbformat": 4,
 "nbformat_minor": 5
}
